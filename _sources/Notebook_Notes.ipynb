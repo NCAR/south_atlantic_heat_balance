{
 "cells": [
  {
   "cell_type": "markdown",
   "id": "e4b48005-8288-40f8-a2b2-5572266f740a",
   "metadata": {},
   "source": [
    "## CESM2 - LARGE ENSEMBLE (LENS2)\n",
    "\n",
    "#### by Mauricio Rocha and Dr. Gustavo Marques"
   ]
  },
  {
   "cell_type": "markdown",
   "id": "9fd72b5d-79be-4453-aabd-04d5610710c2",
   "metadata": {},
   "source": [
    "#### Before we begin, here are some valuable notes about LENS2:"
   ]
  },
  {
   "cell_type": "markdown",
   "id": "707d4571-2e86-4a9a-8169-bb950bd5e991",
   "metadata": {},
   "source": [
    "##### * ssp370: refers to the Shared Socioeconomic Pathway (SSP) and represents the forced scenario until the year of 2100. The choice of the SSP3-7.0 scenario forcing follows CMIP6 recommendations (O’Neill et al., 2016) that precisely emphasize the value of this relatively high forcing level so as to quantify changes in natural variability (Rodgers et al. 2021). SSP3–7.0 lies between RCP6.0 and RCP8.5 and represents the medium to the high end of the range of future forcing pathways. \n",
    "##### P.S.: RCP8.5 means Representative Concentration Pathways for 8.5 W/m² (3.2-5.4oC)"
   ]
  },
  {
   "cell_type": "markdown",
   "id": "b9f86ab8-a424-4ac4-abea-b1fbb5e89511",
   "metadata": {},
   "source": [
    "##### * historical (1850 - 2014): not projected period, so ideal for doing validation of LENS2 with reanalysis or in situ data. Because of its spatial resolution and temporal extent, ERA5 can be used to do this validation. Considering the AMOC strength at 26.5N as an example {Fig. S2 in Rodgers et al. (2021)}, the ensemble mean AMOC strength for each of the micro-perturbation clusters initialized for years 1231 (strength), 1251 (decreasing), 1281 (increasing), and 1301 (weak) of the preindustrial control run (averaged across 20 members for each case) converge only after several decades, indicative of the timescale over which the initial condition memory persists for AMOC. For this reason, their analysis of internal variability focuses on the period after 1960, more than an entire century after initialization. How to know what is forced variability and natural variability? One way to check this is to differentiate between members of the same experiment."
   ]
  },
  {
   "cell_type": "markdown",
   "id": "22462f65-9878-44fc-af13-29272d2d42a7",
   "metadata": {},
   "source": [
    "##### * cmip: The first 50 members of the large ensemble follow CMIP6 protocols (Van Marle et al., 2017), with biomass burning following the description in the CESM2 overview paper (Danabasoglu et al., 2020), and this forcing is referred to as CMIP6 (Rodgers et al. (2021)). The control experiment are the members who have the year 1181."
   ]
  },
  {
   "cell_type": "markdown",
   "id": "25de2083-da38-4349-a19c-1af88ba2b40d",
   "metadata": {},
   "source": [
    " ##### * smbb: For the second set of 50 members, which we refer to as SMBB (for smoothed biomass burning fluxes), the CMIP6 biomass burning emissions of all relevant species for Community Atmosphere Model version 6 (CAM6) were smoothed in time with an 11-year running mean filter. The control experiment are the members who have the year 1191."
   ]
  },
  {
   "cell_type": "markdown",
   "id": "e596c04a-7498-4c06-9496-1cb331e93a5a",
   "metadata": {},
   "source": [
    "##### References: \n",
    "##### * Rodgers et al. (2021): https://esd.copernicus.org/articles/12/1393/2021/\n",
    "##### * Fasullo et al. (2021): https://agupubs.onlinelibrary.wiley.com/doi/full/10.1029/2021GL093841\n",
    "##### * DeRepentigny et al. (2020): https://agupubs.onlinelibrary.wiley.com/doi/full/10.1029/2020JC016133\n",
    "##### * Danabasoglu et al. (2020): https://agupubs.onlinelibrary.wiley.com/doi/10.1029/2019MS001916\n",
    "##### * van Marle et al. (2017): https://gmd.copernicus.org/articles/10/3329/2017/\n",
    "##### * O’Neill et al. (2016): https://gmd.copernicus.org/articles/9/3461/2016/"
   ]
  }
 ],
 "metadata": {
  "kernelspec": {
   "display_name": "Python [conda env:conda-npl]",
   "language": "python",
   "name": "conda-env-conda-npl-py"
  },
  "language_info": {
   "codemirror_mode": {
    "name": "ipython",
    "version": 3
   },
   "file_extension": ".py",
   "mimetype": "text/x-python",
   "name": "python",
   "nbconvert_exporter": "python",
   "pygments_lexer": "ipython3",
   "version": "3.7.12"
  }
 },
 "nbformat": 4,
 "nbformat_minor": 5
}
