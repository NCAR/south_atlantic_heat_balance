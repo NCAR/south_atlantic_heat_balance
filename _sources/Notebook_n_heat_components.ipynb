{
 "cells": [
  {
   "cell_type": "markdown",
   "id": "f528634b-bc5d-4ce9-86ed-32707a2b8f3c",
   "metadata": {},
   "source": [
    "## CESM2 - LARGE ENSEMBLE (LENS2)\n",
    "- In this Notebook we split the temperature flux into velocity and temperature. In addition, we compute the advective terms and the eddies. "
   ]
  },
  {
   "cell_type": "markdown",
   "id": "ef5205d6-0d21-42d9-8cae-989582973398",
   "metadata": {},
   "source": [
    "### Imports"
   ]
  },
  {
   "cell_type": "code",
   "execution_count": null,
   "id": "dbfb6356-08ac-4111-b8bf-58bdccfe4e81",
   "metadata": {},
   "outputs": [],
   "source": [
    "# modules I am using in this example\n",
    "import xarray as xr\n",
    "import xgcm\n",
    "import numpy as np\n",
    "from xgcm import Grid\n",
    "import pop_tools\n",
    "from dask.distributed import Client, wait\n",
    "from ncar_jobqueue import NCARCluster\n",
    "import dask\n",
    "import cartopy.crs as ccrs\n",
    "import intake\n",
    "import matplotlib.pyplot as plt\n",
    "import intake_esm\n",
    "import warnings, getpass, os"
   ]
  },
  {
   "cell_type": "markdown",
   "id": "75257b34-40de-4cf9-992c-8ca1e3bfc1f1",
   "metadata": {},
   "source": [
    "### Dask"
   ]
  },
  {
   "cell_type": "code",
   "execution_count": null,
   "id": "574aa21b-3351-4c2f-833e-c32502fa7e6f",
   "metadata": {},
   "outputs": [],
   "source": [
    "mem_per_worker = 30 # memory per worker in GB \n",
    "num_workers = 30 # number of workers\n",
    "cluster = NCARCluster(cores=1, \n",
    "                      processes=1,\n",
    "                      memory=f'{mem_per_worker} GB',\n",
    "                      resource_spec=f'select=1:ncpus=1:mem={mem_per_worker}GB',\n",
    "                      walltime='4:00:00')\n",
    "cluster.scale(num_workers)\n",
    "client = Client(cluster)\n",
    "print(client)\n",
    "client"
   ]
  },
  {
   "cell_type": "markdown",
   "id": "33a1694a-0d53-43c8-916b-02eba35a7122",
   "metadata": {},
   "source": [
    "### Load data: using mfdataset\n",
    "- We need to open a single member in this way to get the attributes. There is an issue when we open the data from the catalog, because it does not keep all the attributes. We need the attributes for xgcm."
   ]
  },
  {
   "cell_type": "code",
   "execution_count": null,
   "id": "35873445-81d6-4cea-92d2-0a555ac4c43c",
   "metadata": {},
   "outputs": [],
   "source": [
    "path = '/glade/campaign/cgd/cesm/CESM2-LE/timeseries/ocn/proc/tseries/month_1/UET/b.e21.BSSP370smbb.f09_g17.LE2-1301.019.pop.h.UET.205501-206412.nc'\n",
    "ds_UET = xr.open_mfdataset(path,parallel=True)\n",
    "path = '/glade/campaign/cgd/cesm/CESM2-LE/timeseries/ocn/proc/tseries/month_1/VNT/b.e21.BSSP370smbb.f09_g17.LE2-1301.019.pop.h.VNT.205501-206412.nc'\n",
    "ds_VNT = xr.open_mfdataset(path,parallel=True)\n",
    "path = '/glade/campaign/cgd/cesm/CESM2-LE/timeseries/ocn/proc/tseries/month_1/VVEL/b.e21.BSSP370smbb.f09_g17.LE2-1301.019.pop.h.VVEL.205501-206412.nc'\n",
    "ds_VVEL = xr.open_mfdataset(path,parallel=True)\n",
    "path = '/glade/campaign/cgd/cesm/CESM2-LE/timeseries/ocn/proc/tseries/month_1/UVEL/b.e21.BSSP370smbb.f09_g17.LE2-1301.019.pop.h.UVEL.205501-206412.nc'\n",
    "ds_UVEL = xr.open_mfdataset(path,parallel=True)\n",
    "path = '/glade/campaign/cgd/cesm/CESM2-LE/timeseries/ocn/proc/tseries/month_1/TEMP/b.e21.BSSP370smbb.f09_g17.LE2-1301.019.pop.h.TEMP.205501-206412.nc'\n",
    "ds_TEMP = xr.open_mfdataset(path,parallel=True)\n",
    "del path\n",
    "dsa = xr.merge([ds_VNT,ds_VVEL,ds_TEMP,ds_UET,ds_UVEL],compat='override')\n",
    "del ds_VNT,ds_VVEL,ds_TEMP, ds_UET, ds_UVEL"
   ]
  },
  {
   "cell_type": "markdown",
   "id": "2b020e2b-2e7a-41fa-9d83-0a8354985d89",
   "metadata": {},
   "source": [
    "### Load data: using the catalog"
   ]
  },
  {
   "cell_type": "code",
   "execution_count": null,
   "id": "b17c9217-1148-4d7d-9977-7c9117285bf9",
   "metadata": {},
   "outputs": [],
   "source": [
    "%%time\n",
    "catalog = intake.open_esm_datastore(\n",
    "    '/glade/collections/cmip/catalog/intake-esm-datastore/catalogs/glade-cesm2-le.json'\n",
    ")\n",
    "cat_subset = catalog.search(component='ocn',variable=['VNT','UET','UVEL','VVEL','TEMP'],frequency='month_1')\n",
    "# Load catalog entries for subset into a dictionary of xarray datasets\n",
    "dset_dict_raw  = cat_subset.to_dataset_dict(zarr_kwargs={'consolidated': True},\n",
    "                                            storage_options={'anon': True},\n",
    "                                            cdf_kwargs={'chunks': {'nlon': 18}})\n",
    "print(f'\\nDataset dictionary keys:\\n {dset_dict_raw.keys()}')"
   ]
  },
  {
   "cell_type": "markdown",
   "id": "d24edc1f-c0fa-4a5e-88b3-4c5ada939237",
   "metadata": {},
   "source": [
    "### Concatenation of variables\n",
    "- You can use lists or dictionaries."
   ]
  },
  {
   "cell_type": "code",
   "execution_count": null,
   "id": "57d2ec84-69a9-46c7-9458-e70080ade389",
   "metadata": {},
   "outputs": [],
   "source": [
    "ff=('cmip6','smbb') # Forcings\n",
    "fb=(['VNT','UET','UVEL','VVEL','TEMP']) \n",
    "#Notes: \n",
    "# VNT: Flux of Heat in grid-y direction (degC/s)\n",
    "# UET: Flux of Heat in grid-x direction (degC/s)\n",
    "# VVEL: Velocity in grid-y direction (centimeter/s)\n",
    "# UVEL: Velocity in grid-x direction (centimeter/s)\n",
    "# TEMP: Potential Temperature (degC)\n",
    "#dsi = dict()\n",
    "dsi = []\n",
    "for var in fb:\n",
    "    # 1- combine historical and ssp370 (concatenate in time)\n",
    "#   ds_dict_tmp = dict()\n",
    "    ds_dict_tmp = []\n",
    "    for scenario in ff:\n",
    "#       ds_dict_tmp[scenario] = xr.combine_nested([dset_dict_raw[f'ocn.historical.pop.h.{scenario}.{var}'], \n",
    "#       dset_dict_raw[f'ocn.ssp370.pop.h.{scenario}.{var}']],concat_dim=['time'])\n",
    "        ds_dict_tmp.append(xr.combine_nested([dset_dict_raw[f'ocn.historical.pop.h.{scenario}.{var}'], \n",
    "                                              dset_dict_raw[f'ocn.ssp370.pop.h.{scenario}.{var}']],concat_dim=['time'],\n",
    "                                             data_vars='minimal',coords='minimal'))    \n",
    "        # 2- combine cmip6 and smbb (concatenate in member_id)\n",
    "#   dsi[var] = xr.combine_nested([ds_dict_tmp['cmip6'], ds_dict_tmp['smbb']], concat_dim=['member_id'])\n",
    "    dsi.append(xr.combine_nested([ds_dict_tmp[0], ds_dict_tmp[1]], concat_dim=['member_id'],data_vars='minimal',coords='minimal'))\n",
    "ds = xr.merge([dsi[0],dsi[1],dsi[2],dsi[3],dsi[4]],compat='override')\n",
    "\n",
    "# Add attributes from last scenario / variable to ds\n",
    "#for key in ['Conventions', 'calendar']:\n",
    "#    ds.attrs[key] = dset_dict_raw[f'ocn.historical.pop.h.{scenario}.{var}'].attrs[key]\n",
    "#ds['TLONG'].attrs['axis']='X'\n",
    "#ds['TLAT'].attrs['axis']='Y'\n",
    "#list(dset_dict_raw[f'ocn.historical.pop.h.{scenario}.{var}'].attrs.keys())"
   ]
  },
  {
   "cell_type": "raw",
   "id": "15fe0bb5-1b09-4b74-9151-deb1712cffa6",
   "metadata": {},
   "source": [
    "#### South Atlantic"
   ]
  },
  {
   "cell_type": "raw",
   "id": "df67e095-9fc1-4d68-adba-5b627652bbc6",
   "metadata": {},
   "source": [
    "#xr.set_options(keep_attrs=True)\n",
    "# Cutting out and centering the variables in the South Atlantic\n",
    "dask.config.set({\"array.slicing.split_large_chunks\": True})\n",
    "ilon1, flon1, ilon2, flon2 = 307, 320, 0, 54 # longitude (initial (i), final (f)) \n",
    "ilan = 0   # Northernmost latitude\n",
    "ilas = -34 # Southernmost latitude\n",
    "\n",
    "vars_to_subset = [var for var in ds.variables if 'nlat' in ds[var].dims and 'nlon' in ds[var].dims]\n",
    "ds_subset = ds[vars_to_subset].where((ds[vars_to_subset].TLAT >= ilas) & (ds[vars_to_subset].TLAT <= ilan), drop=True)\n",
    "ds_sa=xr.combine_nested([[ds_subset.isel(nlon = slice(ilon1,flon1)),\n",
    "                          ds_subset.isel(nlon = slice(ilon2,flon2))]],\n",
    "                        concat_dim=['nlat','nlon'],data_vars='minimal',coords='minimal')   \n",
    "ds_sa.coords['nlon'] = (ds_sa.coords['nlon'] + 180) % 360 - 180 \n",
    "ds_sa = ds_sa.sortby(ds_sa.nlon)\n",
    "\n",
    "vars_not_to_subset = [var for var in ds.variables if var not in vars_to_subset]\n",
    "for varname in vars_not_to_subset:\n",
    "    ds_sa[varname] = ds[varname]"
   ]
  },
  {
   "cell_type": "raw",
   "id": "7657bc9a-7319-4812-a496-54e9d48a5608",
   "metadata": {},
   "source": [
    "ds_sa_attrs = dict()\n",
    "ds_sa_attrs['global'] = ds_sa.attrs\n",
    "for i in ds_sa.variables:\n",
    "    ds_sa_attrs[i] = ds_sa[i].attrs"
   ]
  },
  {
   "cell_type": "raw",
   "id": "ad24c856-ba1a-45e1-a777-56457b97d7af",
   "metadata": {},
   "source": [
    "# Copy the clipped data for the South Atlantic\n",
    "ds1=ds_sa.copy() # Data set for the South Atlantic with the attributes\n",
    "#ds1=ds"
   ]
  },
  {
   "cell_type": "raw",
   "id": "67bd0b3b-e581-4ee4-9f42-0b5fa4b768a1",
   "metadata": {},
   "source": [
    "# Copy the attributes for each variable we open via mfdataset\n",
    "for i in dsa.variables:\n",
    "    ds_sa[i].attrs=dsa[i].attrs"
   ]
  },
  {
   "cell_type": "markdown",
   "id": "c49351ae-3966-4fa3-af4a-ada807555ca7",
   "metadata": {},
   "source": [
    "### Copy the attributes for each variable we open via mfdataset"
   ]
  },
  {
   "cell_type": "code",
   "execution_count": null,
   "id": "8d602cf1-0d41-4197-95fd-9c76c09629ed",
   "metadata": {},
   "outputs": [],
   "source": [
    "for i in dsa.variables:\n",
    "    ds[i].attrs=dsa[i].attrs"
   ]
  },
  {
   "cell_type": "raw",
   "id": "6db4807d-5a57-4bb9-a74a-6e7f4d2bacff",
   "metadata": {},
   "source": [
    "# Copy the global attributes\n",
    "ds_sa.attrs=dsa.attrs\n",
    "ds_sa"
   ]
  },
  {
   "cell_type": "markdown",
   "id": "4be7c152-81e3-40cf-b034-fd908682973c",
   "metadata": {},
   "source": [
    "### Copy the global attributes"
   ]
  },
  {
   "cell_type": "code",
   "execution_count": null,
   "id": "b091dcc8-4839-4783-bdfa-ced277740a3f",
   "metadata": {},
   "outputs": [],
   "source": [
    "ds.attrs=dsa.attrs\n",
    "ds"
   ]
  },
  {
   "cell_type": "raw",
   "id": "582bcbd1-aaa7-47c4-981b-450aff19f22d",
   "metadata": {},
   "source": [
    "ds_subset"
   ]
  },
  {
   "cell_type": "raw",
   "id": "8d91c41f-119e-41c9-9385-ccf229802974",
   "metadata": {},
   "source": [
    "ds_sa['UET'] = ds_sa['UET'].persist()\n",
    "wait(ds_sa['UET'])"
   ]
  },
  {
   "cell_type": "markdown",
   "id": "a404d900-ffc6-44b4-b464-2e1b16b24b76",
   "metadata": {},
   "source": [
    "### Help functions"
   ]
  },
  {
   "cell_type": "code",
   "execution_count": null,
   "id": "a0bc3470-8e41-48e7-882b-f1d495fe65ff",
   "metadata": {},
   "outputs": [],
   "source": [
    "def to_index(dsf):\n",
    "    dsf = dsf.copy()\n",
    "    for dim in ds_sa.dims:\n",
    "        if dim in [\"nlon_t\", \"nlat_t\", \"nlon_u\", \"nlat_u\"]:\n",
    "            dsf = dsf.drop(dim).rename({dim: dim[:-2]})\n",
    "    return dsf\n",
    "def to_coord(dsf, lon, lat):\n",
    "    return dsf.rename({\"nlon\": \"nlon_\" + lon,\n",
    "                      \"nlat\": \"nlat_\" + lat})"
   ]
  },
  {
   "cell_type": "raw",
   "id": "54e3713f-7826-4689-bf40-390c81ef26ca",
   "metadata": {},
   "source": [
    "%%time\n",
    "for varname in ['UET']:\n",
    "    print(f'persisting {varname} in memory...')\n",
    "    ds1[varname] = ds1[varname].persist()\n",
    "    wait(ds1[varname])"
   ]
  },
  {
   "cell_type": "markdown",
   "id": "3e4ae070-d6dc-4693-8286-ac3b75b927aa",
   "metadata": {},
   "source": [
    "### Calculate the volume of the cell and use xgcm to determine the coordinates T and U"
   ]
  },
  {
   "cell_type": "code",
   "execution_count": null,
   "id": "258acfde-9d4f-4b7c-bb04-6dbeef69f09c",
   "metadata": {},
   "outputs": [],
   "source": [
    "# Get the cell volume and the grid from pop_tools. This should be easier for LENS low res, as your DZT is just your dz because you are not dealing with partial bottom cells (right Gustavo?) \n",
    "ds['cell_volume'] = ds.dz * ds.DXT * ds.DYT # Volume (check out later the unit) -> cm3\n",
    "# DXT: x-spacing centered at T points (cm)\n",
    "# DXT: y-spacing centered at T points (cm)\n",
    "# DZ: thickness of layer k (cm)\n",
    "\n",
    "#metrics = {\n",
    "#    (\"X\",): [\"DXU\", \"DXT\"],     # X distances\n",
    "#    (\"Y\",): [\"DYU\", \"DYT\"],     # Y distances\n",
    "#    (\"Z\",): [\"DZU\", \"DZT\"],     # Z distances\n",
    "#    (\"X\", \"Y\"): [\"DAU\", \"DAT\"], # Areas\n",
    "#    (\"X\",\"Y\",\"Z\"): [\"DVT\"]      # Volumes\n",
    "#}\n",
    "\n",
    "metrics = {\n",
    "    (\"X\",): [\"DXU\", \"DXT\"],     # X distances\n",
    "    (\"Y\",): [\"DYU\", \"DYT\"],     # Y distances\n",
    "    (\"Z\",): [\"dz\", \"dz\"],       # Z distances\n",
    "}\n",
    "\n",
    "ds.cell_volume.attrs={'long_name': 'cell volume', 'units': 'cm3', 'grid_loc': '3111', 'cell_methods':'time: mean'} # Adding attributes to the new variable \n",
    "grid, ds_ren = pop_tools.to_xgcm_grid_dataset(ds, # We gotta confirm if we may use just one variable to compute the grid and ds_ren\n",
    "                                            metrics=metrics,\n",
    "                                            periodic=['X'],\n",
    "                                            boundary={\"Y\":\"extend\",\n",
    "                                            \"Z\":\"fill\"},\n",
    "                                            fill_value={\"Z\":0.}) \n",
    "#ds_ren['cell_volume'] = ds_ren.dz * ds_ren.DXT * ds_ren.DYT # Volume (check out later the unit)"
   ]
  },
  {
   "cell_type": "raw",
   "id": "0e1d962a-57e1-42ff-8ac4-d627cd9d280b",
   "metadata": {},
   "source": [
    "%%time\n",
    "ds1['UET'] = ds1['UET'].persist()\n",
    "wait(ds1['UET'])"
   ]
  },
  {
   "cell_type": "raw",
   "id": "bb52b323-4051-4cae-a799-72baaee4023a",
   "metadata": {},
   "source": [
    "print(f'ds1 is {ds1.nbytes / 1024**4:.2f} TB of data')\n",
    "print(f'ds1.UET is {ds1.UET.nbytes / 1024**3:.2f} GB of data')"
   ]
  },
  {
   "cell_type": "raw",
   "id": "e20e97e7-7912-41d7-a82e-7a6641cd613f",
   "metadata": {},
   "source": [
    "print(f'ds_ren is {ds_ren.nbytes / 1024**4:.2f} TB of data')\n",
    "print(f'ds_ren.UET is {ds_ren.UET.nbytes / 1024**3:.2f} GB of data')"
   ]
  },
  {
   "cell_type": "raw",
   "id": "e4e52580-12f9-49ed-a4e9-147def4f7108",
   "metadata": {},
   "source": [
    "%%time\n",
    "# persist variables across workers ahead of computing h_adv\n",
    "for varname in ['UET','VNT']:\n",
    "    print(f'persisting {varname} in memory...')\n",
    "    ds_ren[varname] = ds_ren[varname].persist()\n",
    "    wait(ds_ren[varname])"
   ]
  },
  {
   "cell_type": "code",
   "execution_count": null,
   "id": "5a629fe3-5eaf-4de1-908c-9416f05311d7",
   "metadata": {},
   "outputs": [],
   "source": [
    "%%time\n",
    "warnings.simplefilter(\"ignore\")\n",
    "# Get the total advection as saved by the model \n",
    "# Total advection saved by model --> the difference betweem this and the mean is the eddy component\n",
    "# Horizontal components\n",
    "print('Getting total advection term.')\n",
    "#st = time.time()\n",
    "# for member_id in range(len(ds1.UET.coords['member_id'])-99): # per member\n",
    "#if True:\n",
    "# member_id=0\n",
    "# Zonal component\n",
    "#uadv = -( grid.diff(ds1.UET*ds1.cell_volume.values, # degC/s\n",
    "#                    axis=\"X\",\n",
    "#                    boundary=\"extend\")\n",
    "#         /ds_ren.cell_volume)\n",
    "uadv = -( grid.diff(to_coord((ds.cell_volume*ds.UET),'u','t'), # degC/s\n",
    "                    axis=\"X\",\n",
    "                    boundary=\"extend\")\n",
    "         /ds_ren.cell_volume)\n",
    "\n",
    "# Meridional component\n",
    "vadv = -( grid.diff(to_coord((ds.cell_volume*ds.VNT),'t','u'), # degC/s \n",
    "                    axis=\"Y\", \n",
    "                    boundary=\"extend\")\n",
    "         /ds_ren.cell_volume)\n",
    "\n",
    "# Total horizontal \n",
    "h_adv = uadv + vadv # degC/s"
   ]
  },
  {
   "cell_type": "markdown",
   "id": "71e13284-f0c2-4b00-ac6e-e45f3c8ce606",
   "metadata": {},
   "source": [
    "### Some tests"
   ]
  },
  {
   "cell_type": "code",
   "execution_count": null,
   "id": "41850980-feed-41bc-8c55-d8bfe91747f9",
   "metadata": {},
   "outputs": [],
   "source": [
    "ds_ren.cell_volume.coords"
   ]
  },
  {
   "cell_type": "code",
   "execution_count": null,
   "id": "e994b43b-1096-4180-9d6c-f97e76bafcca",
   "metadata": {},
   "outputs": [],
   "source": [
    "ds_ren.TEMP.coords"
   ]
  },
  {
   "cell_type": "raw",
   "id": "15748f45-f5a2-47c4-ac1c-67886644c77d",
   "metadata": {},
   "source": [
    "# UET and VNT are no longer needed, can we reclaim memory?\n",
    "for varname in ['UET', 'VNT']:\n",
    "    del[varname]"
   ]
  },
  {
   "cell_type": "markdown",
   "id": "de742109-9427-415b-874a-78ff643234c2",
   "metadata": {},
   "source": [
    "### Get the advection from the mean flow "
   ]
  },
  {
   "cell_type": "raw",
   "id": "3e734af2-c232-4ae8-89ef-b6c510224765",
   "metadata": {},
   "source": [
    "%%time\n",
    "# persist variables across workers ahead of computing U_interp and V_interp\n",
    "#if True:\n",
    "#    member_id = 0\n",
    "# DXU: x-spacing centered at U points\n",
    "for varname in ['TEMP', 'VVEL', 'dz', 'DXU', 'DYU']:\n",
    "    print(f'persisting {varname} in memory...')\n",
    "    ds_ren[varname] = ds_ren[varname].persist()\n",
    "    wait(ds_ren[varname])\n",
    "#ds_ren.TEMP"
   ]
  },
  {
   "cell_type": "code",
   "execution_count": null,
   "id": "edff461c-d823-46d8-bbbd-b8f0c0615579",
   "metadata": {},
   "outputs": [],
   "source": [
    "%%time\n",
    "# Horizontal advection from mean flow -- you need this because the difference between this and the term above is the eddy term \n",
    "print('Getting horizontal advection from mean flow')\n",
    "#st = time.time()\n",
    "# for member_id in range(len(ds1.UET.coords['member_id'])): # per member\n",
    "#if True:\n",
    "#    member_id = 0\n",
    "# u term\n",
    "U_interp = grid.interp((ds_ren.UVEL*ds_ren.dz*ds_ren.DYU), # cm3/s\n",
    "                       axis=\"Y\",\n",
    "                       boundary=\"extend\")\n",
    "\n",
    "T_interp_X = grid.interp(ds_ren.TEMP, # degC\n",
    "                            axis=\"X\",\n",
    "                            boundary=\"extend\")\n",
    "\n",
    "uT = U_interp * T_interp_X # degC*cm3/s\n",
    "\n",
    "H_ADV_mean = (-(grid.diff(uT, axis=\"X\", boundary=\"extend\") # degC/s\n",
    "                /ds_ren.cell_volume))\n",
    "\n",
    "# v term\n",
    "V_interp = grid.interp((ds_ren.VVEL*ds_ren.dz*ds_ren.DXU), # cm3/s\n",
    "                       axis=\"X\",\n",
    "                       boundary=\"extend\")\n",
    "\n",
    "T_interp_Y = grid.interp(ds_ren.TEMP, # degC\n",
    "                            axis=\"Y\",\n",
    "                            boundary=\"extend\")\n",
    "\n",
    "vT = V_interp * T_interp_Y # degC*cm3/s\n",
    "\n",
    "# Total term\n",
    "H_ADV_mean = H_ADV_mean - (grid.diff(vT,  # degC/s\n",
    "                                     axis=\"Y\",\n",
    "                                     boundary=\"extend\")\n",
    "                           /ds_ren.cell_volume)\n",
    "\n",
    "# Calculate difference for eddy part  \n",
    "T_h_ADV_eddy = h_adv - H_ADV_mean    # degC/s"
   ]
  },
  {
   "cell_type": "markdown",
   "id": "30cb9586-666f-49a0-bfb6-6e0467b22de6",
   "metadata": {},
   "source": [
    "#### Check the coordinates"
   ]
  },
  {
   "cell_type": "code",
   "execution_count": null,
   "id": "407afa28-2fd8-43b9-8bc7-972292a724ac",
   "metadata": {},
   "outputs": [],
   "source": [
    "T_interp_Y.coords"
   ]
  },
  {
   "cell_type": "code",
   "execution_count": null,
   "id": "980abeaa-e7a0-44d3-b074-a97dfd273adc",
   "metadata": {},
   "outputs": [],
   "source": [
    "V_interp.coords"
   ]
  },
  {
   "cell_type": "code",
   "execution_count": null,
   "id": "936f42c9-1ccb-4378-8652-bd5beb4237c9",
   "metadata": {},
   "outputs": [],
   "source": [
    "T_interp_X.coords"
   ]
  },
  {
   "cell_type": "code",
   "execution_count": null,
   "id": "e4049e84-255e-4835-88c0-2c963ca9b1e3",
   "metadata": {},
   "outputs": [],
   "source": [
    "U_interp.coords"
   ]
  },
  {
   "cell_type": "markdown",
   "id": "fd3156c2-1d61-4b53-a3a5-9185deb367c0",
   "metadata": {},
   "source": [
    "### ---------------------------------------------------------------------------------------------------------------------------------------------------------\n",
    "### Meridional Heat transport decomposition "
   ]
  },
  {
   "cell_type": "markdown",
   "id": "30278eda-34cf-42c5-a514-ef3660f25a7d",
   "metadata": {},
   "source": [
    "#### Get the mean value from the long term average for the entire series\n",
    "- We selected the period between 2015 and 2100."
   ]
  },
  {
   "cell_type": "code",
   "execution_count": null,
   "id": "943967a1-211a-46ce-a193-6d9ec30a0d4b",
   "metadata": {},
   "outputs": [],
   "source": [
    "# Mean\n",
    "V_interp_mean = V_interp.sel(time=slice('2015-01-01','2100-12-31')).mean(dim=['time']) # (cm3/s)\n",
    "T_interp_Y_mean = T_interp_Y.sel(time=slice('2015-01-01','2100-12-31')).mean(dim=['time']) # (degC)\n",
    "\n",
    "# Anomaly \n",
    "V_interp_anom = V_interp.sel(time=slice('2015-01-01','2100-12-31'))-V_interp_mean # (cm3/s)\n",
    "T_interp_Y_anom = T_interp_Y.sel(time=slice('2015-01-01','2100-12-31'))-T_interp_Y_mean # (degC)"
   ]
  },
  {
   "cell_type": "markdown",
   "id": "454f655c-bc84-4165-81b7-270a5b83b4d8",
   "metadata": {},
   "source": [
    "#### Expanding the average"
   ]
  },
  {
   "cell_type": "code",
   "execution_count": null,
   "id": "e772841f-ce79-41db-b1e0-852f303e57cc",
   "metadata": {},
   "outputs": [],
   "source": [
    "V_interp_mean=V_interp_mean.expand_dims(dim={\"time\": V_interp_anom.coords['time']})\n",
    "T_interp_Y_mean=T_interp_Y_mean.expand_dims(dim={\"time\": T_interp_Y_anom.coords['time']})"
   ]
  },
  {
   "cell_type": "markdown",
   "id": "d8fa6026-8f93-440f-9643-688ff316ecf0",
   "metadata": {},
   "source": [
    "#### Group the data in a single dataset"
   ]
  },
  {
   "cell_type": "code",
   "execution_count": null,
   "id": "dda47115-8bf0-45d2-9da2-903cabd85e09",
   "metadata": {},
   "outputs": [],
   "source": [
    "ds_out = xr.merge([V_interp_mean.rename('V_mean'),\n",
    "                   T_interp_Y_mean.rename('T_mean'),\n",
    "                   V_interp_anom.rename('V_anom'),\n",
    "                   T_interp_Y_anom.rename('T_anom'),\n",
    "                  ])\n",
    "del V_interp_mean, T_interp_Y_mean, V_interp_anom, T_interp_Y_anom\n",
    "ds_out.attrs['description'] = 'Mean (2015-2100) and anomaly from the mean for meridional volume transport, temperature, and temperature flux.'\n",
    "ds_out.attrs['units'] = 'cm3/s, degC'\n",
    "ds_out.attrs['author'] = 'Mauricio Rocha'\n",
    "ds_out.attrs['email'] = 'mauricio.rocha@usp.br'"
   ]
  },
  {
   "cell_type": "markdown",
   "id": "4bf05924-7e0d-4368-b3e5-8835eaf55616",
   "metadata": {},
   "source": [
    "#### Subset\n",
    "- Get the South Atlantic region.\n",
    "- P.S.: It is important to subset after using the xgcm function."
   ]
  },
  {
   "cell_type": "code",
   "execution_count": null,
   "id": "65675e40-dc53-4aaf-9807-2dfad0fcc853",
   "metadata": {},
   "outputs": [],
   "source": [
    "# We will use variables TLONG and TLAT\n",
    "pop_grid = pop_tools.get_grid('POP_gx1v7')\n",
    "pop_grid\n",
    "atl = pop_grid.REGION_MASK.where(pop_grid.REGION_MASK==6)/pop_grid.REGION_MASK.where(pop_grid.REGION_MASK==6)\n",
    "atl['TLAT'] = pop_grid['TLAT']\n",
    "atl['TLONG'] = pop_grid['TLONG']\n",
    "atl['ULAT'] = pop_grid['ULAT']\n",
    "atl['ULONG'] = pop_grid['ULONG']\n",
    "atl = atl.fillna(0)\n",
    "south_atl = atl * atl.where(atl.TLAT<=0.)\n",
    "south_atl = south_atl.fillna(0)\n",
    "south_atl = south_atl * south_atl.where(south_atl.TLAT>=-34.)\n",
    "south_atl = south_atl.fillna(0)\n",
    "plt.figure(figsize=(10,6));\n",
    "ax = plt.axes(projection=ccrs.Robinson());\n",
    "pc = south_atl.plot.pcolormesh(ax=ax,\n",
    "                              transform=ccrs.PlateCarree(),\n",
    "                              x='TLONG',\n",
    "                              y='TLAT')                                    \n",
    "ax.gridlines(draw_labels=True);\n",
    "ax.coastlines()\n",
    "ax.gridlines()"
   ]
  },
  {
   "cell_type": "code",
   "execution_count": null,
   "id": "1fe028d1-eee9-4195-866a-f4fcaec40c16",
   "metadata": {},
   "outputs": [],
   "source": [
    "mask = xr.Dataset({\"REGION_MASK\": south_atl},coords={'nlat': south_atl.coords['nlat'], 'nlon':south_atl.coords['nlon']})\n",
    "mask.attrs=pop_grid.attrs\n",
    "mask['REGION_MASK'].attrs=pop_grid['REGION_MASK'].attrs\n",
    "grid_mask, ds_ren_mask = pop_tools.to_xgcm_grid_dataset(mask) \n",
    "ds_ren_mask = ds_ren_mask.drop('nlat_u', dim=None)\n",
    "ds_ren_mask = ds_ren_mask.rename({'nlat_t': 'nlat_u'})\n",
    "ds_ren_mask.REGION_MASK.plot()"
   ]
  },
  {
   "cell_type": "markdown",
   "id": "d9ab381a-ff49-4962-b14f-c3d4c3d95cc5",
   "metadata": {},
   "source": [
    "<div class=\"alert alert-block alert-info\">\n",
    "<b>Note:</b> As you can see above, the mask contains no U-coordinates. We will rename it to U coordinate, and what we lose of coordinate is irrelevant to the final result. \n",
    "</div>"
   ]
  },
  {
   "cell_type": "code",
   "execution_count": null,
   "id": "b7ca3d4e-ef54-4ad8-8a0a-a82345116bf8",
   "metadata": {},
   "outputs": [],
   "source": [
    "ds_ren_mask['nlat_u']=ds_out['nlat_u']\n",
    "ds_out_subset=ds_out.where(ds_ren_mask.REGION_MASK != 0.)"
   ]
  },
  {
   "cell_type": "markdown",
   "id": "e5324a38-502f-4fee-9195-a7aab5af83d7",
   "metadata": {},
   "source": [
    "##### Let's split heat transport into velocity $(\\rm{V})$ and temperature $(\\rm{T})$ components as follows:\n",
    "##### $$\\rm{VT} = (\\rm{\\bar{V}+V^{'})(\\bar{T}+T^{'})},$$\n",
    "##### $$\\rm{VT} = \\rm{\\bar{V}\\bar{T}+\\bar{V}T^{'}+V^{'}\\bar{T}+V^{'}T^{'}}.$$"
   ]
  },
  {
   "cell_type": "raw",
   "id": "aa358361-71e9-4a11-9d55-a18f9a3a1ad8",
   "metadata": {},
   "source": [
    "# Mean x Mean\n",
    "VbarTbar=(ds_out_subset.V_mean*ds_out_subset.T_mean*10**-12).sum(dim=['z_t','nlon_t'])\n",
    "#P.S.: We multiply the values by 10-12 to transform the volume transport from cm3/s to SV.\n",
    "\n",
    "# Mean x anomaly\n",
    "VbarTprime=(ds_out_subset.V_mean*ds_out_subset.T_anom*10**-12).sum(dim=['z_t','nlon_t'])\n",
    "\n",
    "# Mean x anomaly\n",
    "TbarVprime=(ds_out_subset.T_mean*ds_out_subset.V_anom*10**-12).sum(dim=['z_t','nlon_t'])\n",
    "\n",
    "# Anomaly x anomaly\n",
    "TprimeVprime=(ds_out_subset.T_anom*ds_out_subset.V_anom*10**-12).sum(dim=['z_t','nlon_t'])"
   ]
  },
  {
   "cell_type": "raw",
   "id": "5a6699e0-cd5a-4097-a81d-66c15a0026f7",
   "metadata": {},
   "source": [
    "%%time\n",
    "# Mean x Mean\n",
    "var_array = list() # Build a list\n",
    "for member_id in range(len(VbarTbar.coords['member_id'])): \n",
    "    var_small=VbarTbar.isel(member_id=member_id).compute()\n",
    "    var_array.append(var_small) \n",
    "    print(f'Done with member: {member_id}')\n",
    "var_merged_VbarTbar = xr.concat(var_array, dim='member_id', compat='override', join='override', coords='minimal')\n",
    "del var_array, var_small\n",
    "ds_out_var = xr.merge([var_merged_VbarTbar.rename('VbarTbar')])\n",
    "ds_out_var.attrs['description'] = 'Temperature transport component: V mean, T mean'\n",
    "ds_out_var.attrs['units'] = 'Sv.oC'\n",
    "ds_out_var.attrs['author'] = 'Mauricio Rocha'\n",
    "ds_out_var.attrs['email'] = 'mauricio.rocha@usp.br'\n",
    "path = '/glade/scratch/mauricio/Data/LENS2/N_Heat_Decomposition/'.format(getpass.getuser())\n",
    "os.system('mkdir -p '+path)\n",
    "ds_out_var.to_netcdf(path+'VbarTbar.nc')\n",
    "var_merged_VbarTbar.isel(member_id=0).plot()\n",
    "del var_merged_VbarTbar"
   ]
  },
  {
   "cell_type": "raw",
   "id": "4e56b416-7118-4ea1-8b4b-4094b014eff7",
   "metadata": {},
   "source": [
    "%%time\n",
    "# Mean x anomaly\n",
    "var_array = list() # Build a list\n",
    "for member_id in range(len(VbarTprime.coords['member_id'])): \n",
    "    var_small=VbarTprime.isel(member_id=member_id).compute()\n",
    "    var_array.append(var_small) \n",
    "    print(f'Done with member: {member_id}')\n",
    "var_merged_VbarTprime = xr.concat(var_array, dim='member_id', compat='override', join='override', coords='minimal')\n",
    "del var_array, var_small\n",
    "ds_out_var = xr.merge([var_merged_VbarTprime.rename('VbarTprime')])\n",
    "ds_out_var.attrs['description'] = 'Temperature transport component: V mean, T anomaly'\n",
    "ds_out_var.attrs['units'] = 'Sv.oC'\n",
    "ds_out_var.attrs['author'] = 'Mauricio Rocha'\n",
    "ds_out_var.attrs['email'] = 'mauricio.rocha@usp.br'\n",
    "path = '/glade/scratch/mauricio/Data/LENS2/N_Heat_Decomposition/'.format(getpass.getuser())\n",
    "os.system('mkdir -p '+path)\n",
    "ds_out_var.to_netcdf(path+'VbarTprime.nc')\n",
    "var_merged_VbarTprime.isel(member_id=0).plot()\n",
    "del var_merged_VbarTprime"
   ]
  },
  {
   "cell_type": "raw",
   "id": "64014b4e-ed7c-429e-915b-9211bf694027",
   "metadata": {},
   "source": [
    "%%time\n",
    "# Mean x anomaly\n",
    "var_array = list() # Build a list\n",
    "for member_id in range(len(TbarVprime.coords['member_id'])): \n",
    "    var_small=TbarVprime.isel(member_id=member_id).compute()\n",
    "    var_array.append(var_small) \n",
    "    print(f'Done with member: {member_id}')\n",
    "var_merged_TbarVprime = xr.concat(var_array, dim='member_id', compat='override', join='override', coords='minimal')\n",
    "del var_array, var_small\n",
    "ds_out_var = xr.merge([var_merged_TbarVprime.rename('TbarVprime')])\n",
    "ds_out_var.attrs['description'] = 'Temperature transport component: T mean, V anomaly'\n",
    "ds_out_var.attrs['units'] = 'Sv.oC'\n",
    "ds_out_var.attrs['author'] = 'Mauricio Rocha'\n",
    "ds_out_var.attrs['email'] = 'mauricio.rocha@usp.br'\n",
    "path = '/glade/scratch/mauricio/Data/LENS2/N_Heat_Decomposition/'.format(getpass.getuser())\n",
    "os.system('mkdir -p '+path)\n",
    "ds_out_var.to_netcdf(path+'TbarVprime.nc')\n",
    "var_merged_TbarVprime.isel(member_id=0).plot()\n",
    "del var_merged_TbarVprime"
   ]
  },
  {
   "cell_type": "raw",
   "id": "3fbbaa06-c9ce-4e61-b948-f0e2564a282c",
   "metadata": {},
   "source": [
    "%%time\n",
    "# Anomaly x anomaly\n",
    "var_array = list() # Build a list\n",
    "for member_id in range(len(TprimeVprime.coords['member_id'])): \n",
    "    var_small=TprimeVprime.isel(member_id=member_id).compute()\n",
    "    var_array.append(var_small) \n",
    "    print(f'Done with member: {member_id}')\n",
    "var_merged_TprimeVprime = xr.concat(var_array, dim='member_id', compat='override', join='override', coords='minimal')\n",
    "del var_array, var_small\n",
    "ds_out_var = xr.merge([var_merged_TprimeVprime.rename('TprimeVprime')])\n",
    "ds_out_var.attrs['description'] = 'Temperature transport component: T anomaly, V anomaly'\n",
    "ds_out_var.attrs['units'] = 'Sv.oC'\n",
    "ds_out_var.attrs['author'] = 'Mauricio Rocha'\n",
    "ds_out_var.attrs['email'] = 'mauricio.rocha@usp.br'\n",
    "path = '/glade/scratch/mauricio/Data/LENS2/N_Heat_Decomposition/'.format(getpass.getuser())\n",
    "os.system('mkdir -p '+path)\n",
    "ds_out_var.to_netcdf(path+'TprimeVprime.nc')\n",
    "var_merged_TprimeVprime.isel(member_id=0).plot()\n",
    "del var_merged_TprimeVprime"
   ]
  },
  {
   "cell_type": "code",
   "execution_count": null,
   "id": "04bc11af-4ab4-4e21-8d85-685905290adb",
   "metadata": {},
   "outputs": [],
   "source": [
    "TprimeVprime = xr.open_dataset('/glade/scratch/mauricio/Data/LENS2/N_Heat_Decomposition/TprimeVprime.nc')\n",
    "TbarVprime = xr.open_dataset('/glade/scratch/mauricio/Data/LENS2/N_Heat_Decomposition/TbarVprime.nc')\n",
    "VbarTprime = xr.open_dataset('/glade/scratch/mauricio/Data/LENS2/N_Heat_Decomposition/VbarTprime.nc')\n",
    "VbarTbar = xr.open_dataset('/glade/scratch/mauricio/Data/LENS2/N_Heat_Decomposition/VbarTbar.nc')"
   ]
  },
  {
   "cell_type": "code",
   "execution_count": null,
   "id": "78c6a16f-a6ed-4c9b-b6dd-5fedf141f851",
   "metadata": {},
   "outputs": [],
   "source": [
    "%%time\n",
    "VbarTbar.VbarTbar.isel(nlat_u=85).mean('member_id').resample(time='1Y', closed='left').mean('time').plot(x=\"time\",color='purple',linewidth=1,label=r'$\\rm{\\bar{T}\\bar{V}}: 34^oS$')                                                                           \n",
    "VbarTbar.VbarTbar.isel(nlat_u=186).mean('member_id').resample(time='1Y', closed='left').mean('time').plot(x=\"time\",color='plum',linewidth=1,label=r'$\\rm{\\bar{T}\\bar{V}}: 0^o$')\n",
    "\n",
    "TbarVprime.TbarVprime.isel(nlat_u=85).mean('member_id').resample(time='1Y', closed='left').mean('time').plot(x=\"time\",color='blue',linewidth=1,label=r'$\\rm{\\bar{T}V{^\\prime}}: 34^oS$')\n",
    "TbarVprime.TbarVprime.isel(nlat_u=186).mean('member_id').resample(time='1Y', closed='left').mean('time').plot(x=\"time\",color='green',linewidth=1,label=r'$\\rm{\\bar{T}V{^\\prime}}: 0^o$')\n",
    "\n",
    "VbarTprime.VbarTprime.isel(nlat_u=85).mean('member_id').resample(time='1Y', closed='left').mean('time').plot(x=\"time\",color='orange',linewidth=1,label=r'$\\rm{\\bar{V}T{^\\prime}}: 34^oS$')\n",
    "VbarTprime.VbarTprime.isel(nlat_u=186).mean('member_id').resample(time='1Y', closed='left').mean('time').plot(x=\"time\",color='red',linewidth=1,label=r'$\\rm{\\bar{V}T{^\\prime}}: 0^o$')\n",
    "\n",
    "TprimeVprime.TprimeVprime.isel(nlat_u=85).mean('member_id').resample(time='1Y', closed='left').mean('time').plot(x=\"time\",color='aquamarine',linewidth=1,label=r'$\\rm{T{^\\prime}V{^\\prime}}: 34^oS$')\n",
    "TprimeVprime.TprimeVprime.isel(nlat_u=186).mean('member_id').resample(time='1Y', closed='left').mean('time').plot(x=\"time\",color='lime',linewidth=1,label=r'$\\rm{T{^\\prime}V{^\\prime}}: 0^o$')                                                                           \n",
    "\n",
    "(TprimeVprime.TprimeVprime.isel(nlat_u=85).mean('member_id')+VbarTprime.VbarTprime.isel(nlat_u=85).mean('member_id')+TbarVprime.TbarVprime.isel(nlat_u=85).mean('member_id')+VbarTbar.VbarTbar.isel(nlat_u=85).mean('member_id')).resample(time='1Y', closed='left').mean('time').plot(x=\"time\",color='black',linewidth=1,label=r'$\\rm{VT}: 34^oS$')\n",
    "(TprimeVprime.TprimeVprime.isel(nlat_u=186).mean('member_id')+VbarTprime.VbarTprime.isel(nlat_u=186).mean('member_id')+TbarVprime.TbarVprime.isel(nlat_u=186).mean('member_id')+VbarTbar.VbarTbar.isel(nlat_u=186).mean('member_id')).resample(time='1Y', closed='left').mean('time').plot(x=\"time\",color='gray',linewidth=1,label=r'$\\rm{VT}: 0^o$')                                                                           \n",
    "                                                                                                                      \n",
    "plt.tight_layout()\n",
    "plt.legend(bbox_to_anchor=(1.05, 1.0), loc='upper left')\n",
    "plt.ylabel(r'Temperature transport [$\\rm{Sv.^oC}$]')\n",
    "plt.grid(color='gray', linestyle='-', linewidth=0.7)\n",
    "plt.title(None)\n",
    "plt.xlabel('Time [Years]')\n",
    "plt.savefig('MHT_components.png',dpi=300,bbox_inches='tight')\n",
    "plt.show()"
   ]
  },
  {
   "cell_type": "code",
   "execution_count": null,
   "id": "e9fbe5e6-92ec-4971-a422-ee4db20663fe",
   "metadata": {},
   "outputs": [],
   "source": [
    "Total_34S=(TprimeVprime.TprimeVprime.isel(nlat_u=85).mean('member_id')+VbarTprime.VbarTprime.isel(nlat_u=85).mean('member_id')+TbarVprime.TbarVprime.isel(nlat_u=85).mean('member_id')+VbarTbar.VbarTbar.isel(nlat_u=85).mean('member_id')).resample(time='1Y', closed='left').mean('time')\n",
    "Total_equator=(TprimeVprime.TprimeVprime.isel(nlat_u=186).mean('member_id')+VbarTprime.VbarTprime.isel(nlat_u=186).mean('member_id')+TbarVprime.TbarVprime.isel(nlat_u=186).mean('member_id')+VbarTbar.VbarTbar.isel(nlat_u=186).mean('member_id')).resample(time='1Y', closed='left').mean('time')\n",
    "\n",
    "((Total_equator-Total_34S)*1026*3996).plot(x=\"time\",color='gray',linewidth=1,label=r'$\\rm{VT}: 0^o$')    \n",
    "plt.show()"
   ]
  }
 ],
 "metadata": {
  "kernelspec": {
   "display_name": "NPL 2022b",
   "language": "python",
   "name": "npl-2022b"
  },
  "language_info": {
   "codemirror_mode": {
    "name": "ipython",
    "version": 3
   },
   "file_extension": ".py",
   "mimetype": "text/x-python",
   "name": "python",
   "nbconvert_exporter": "python",
   "pygments_lexer": "ipython3",
   "version": "3.8.13"
  }
 },
 "nbformat": 4,
 "nbformat_minor": 5
}
