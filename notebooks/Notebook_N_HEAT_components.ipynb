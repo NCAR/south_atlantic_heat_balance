{
 "cells": [
  {
   "cell_type": "markdown",
   "id": "f528634b-bc5d-4ce9-86ed-32707a2b8f3c",
   "metadata": {},
   "source": [
    "## CESM2 - LARGE ENSEMBLE (LENS2)\n",
    "- In this Notebook we want to control the temperature flow: speed and temperature. For velocity, we will compute the advective terms and the eddies. "
   ]
  },
  {
   "cell_type": "markdown",
   "id": "ef5205d6-0d21-42d9-8cae-989582973398",
   "metadata": {},
   "source": [
    "### Imports"
   ]
  },
  {
   "cell_type": "code",
   "execution_count": 1,
   "id": "dbfb6356-08ac-4111-b8bf-58bdccfe4e81",
   "metadata": {},
   "outputs": [],
   "source": [
    "# modules I am using in this example\n",
    "import xarray as xr\n",
    "import xgcm\n",
    "from xgcm import Grid\n",
    "import pop_tools\n",
    "from dask.distributed import Client, wait\n",
    "from ncar_jobqueue import NCARCluster\n",
    "import dask\n",
    "import intake\n",
    "import intake_esm"
   ]
  },
  {
   "cell_type": "markdown",
   "id": "75257b34-40de-4cf9-992c-8ca1e3bfc1f1",
   "metadata": {},
   "source": [
    "### Dask"
   ]
  },
  {
   "cell_type": "code",
   "execution_count": 2,
   "id": "574aa21b-3351-4c2f-833e-c32502fa7e6f",
   "metadata": {},
   "outputs": [
    {
     "name": "stderr",
     "output_type": "stream",
     "text": [
      "/glade/u/apps/opt/conda/envs/npl-2022b/lib/python3.8/site-packages/distributed/node.py:179: UserWarning: Port 8787 is already in use.\n",
      "Perhaps you already have a cluster running?\n",
      "Hosting the HTTP server on port 41827 instead\n",
      "  warnings.warn(\n"
     ]
    },
    {
     "name": "stdout",
     "output_type": "stream",
     "text": [
      "<Client: 'tcp://10.12.206.60:35370' processes=0 threads=0, memory=0 B>\n"
     ]
    },
    {
     "data": {
      "text/html": [
       "<div>\n",
       "    <div style=\"width: 24px; height: 24px; background-color: #e1e1e1; border: 3px solid #9D9D9D; border-radius: 5px; position: absolute;\"> </div>\n",
       "    <div style=\"margin-left: 48px;\">\n",
       "        <h3 style=\"margin-bottom: 0px;\">Client</h3>\n",
       "        <p style=\"color: #9D9D9D; margin-bottom: 0px;\">Client-87e4db7a-9842-11ed-9e47-3cecef1b12e0</p>\n",
       "        <table style=\"width: 100%; text-align: left;\">\n",
       "\n",
       "        <tr>\n",
       "        \n",
       "            <td style=\"text-align: left;\"><strong>Connection method:</strong> Cluster object</td>\n",
       "            <td style=\"text-align: left;\"><strong>Cluster type:</strong> dask_jobqueue.PBSCluster</td>\n",
       "        \n",
       "        </tr>\n",
       "\n",
       "        \n",
       "            <tr>\n",
       "                <td style=\"text-align: left;\">\n",
       "                    <strong>Dashboard: </strong> <a href=\"https://jupyterhub.hpc.ucar.edu/stable/user/mauricio/mrocha/proxy/41827/status\" target=\"_blank\">https://jupyterhub.hpc.ucar.edu/stable/user/mauricio/mrocha/proxy/41827/status</a>\n",
       "                </td>\n",
       "                <td style=\"text-align: left;\"></td>\n",
       "            </tr>\n",
       "        \n",
       "\n",
       "        </table>\n",
       "\n",
       "        \n",
       "            <details>\n",
       "            <summary style=\"margin-bottom: 20px;\"><h3 style=\"display: inline;\">Cluster Info</h3></summary>\n",
       "            <div class=\"jp-RenderedHTMLCommon jp-RenderedHTML jp-mod-trusted jp-OutputArea-output\">\n",
       "    <div style=\"width: 24px; height: 24px; background-color: #e1e1e1; border: 3px solid #9D9D9D; border-radius: 5px; position: absolute;\">\n",
       "    </div>\n",
       "    <div style=\"margin-left: 48px;\">\n",
       "        <h3 style=\"margin-bottom: 0px; margin-top: 0px;\">PBSCluster</h3>\n",
       "        <p style=\"color: #9D9D9D; margin-bottom: 0px;\">077c6b0e</p>\n",
       "        <table style=\"width: 100%; text-align: left;\">\n",
       "            <tr>\n",
       "                <td style=\"text-align: left;\">\n",
       "                    <strong>Dashboard:</strong> <a href=\"https://jupyterhub.hpc.ucar.edu/stable/user/mauricio/mrocha/proxy/41827/status\" target=\"_blank\">https://jupyterhub.hpc.ucar.edu/stable/user/mauricio/mrocha/proxy/41827/status</a>\n",
       "                </td>\n",
       "                <td style=\"text-align: left;\">\n",
       "                    <strong>Workers:</strong> 0\n",
       "                </td>\n",
       "            </tr>\n",
       "            <tr>\n",
       "                <td style=\"text-align: left;\">\n",
       "                    <strong>Total threads:</strong> 0\n",
       "                </td>\n",
       "                <td style=\"text-align: left;\">\n",
       "                    <strong>Total memory:</strong> 0 B\n",
       "                </td>\n",
       "            </tr>\n",
       "            \n",
       "        </table>\n",
       "\n",
       "        <details>\n",
       "            <summary style=\"margin-bottom: 20px;\">\n",
       "                <h3 style=\"display: inline;\">Scheduler Info</h3>\n",
       "            </summary>\n",
       "\n",
       "            <div style=\"\">\n",
       "    <div>\n",
       "        <div style=\"width: 24px; height: 24px; background-color: #FFF7E5; border: 3px solid #FF6132; border-radius: 5px; position: absolute;\"> </div>\n",
       "        <div style=\"margin-left: 48px;\">\n",
       "            <h3 style=\"margin-bottom: 0px;\">Scheduler</h3>\n",
       "            <p style=\"color: #9D9D9D; margin-bottom: 0px;\">Scheduler-cfd2edfb-d026-4ede-b7f3-dee2957fc715</p>\n",
       "            <table style=\"width: 100%; text-align: left;\">\n",
       "                <tr>\n",
       "                    <td style=\"text-align: left;\">\n",
       "                        <strong>Comm:</strong> tcp://10.12.206.60:35370\n",
       "                    </td>\n",
       "                    <td style=\"text-align: left;\">\n",
       "                        <strong>Workers:</strong> 0\n",
       "                    </td>\n",
       "                </tr>\n",
       "                <tr>\n",
       "                    <td style=\"text-align: left;\">\n",
       "                        <strong>Dashboard:</strong> <a href=\"https://jupyterhub.hpc.ucar.edu/stable/user/mauricio/mrocha/proxy/41827/status\" target=\"_blank\">https://jupyterhub.hpc.ucar.edu/stable/user/mauricio/mrocha/proxy/41827/status</a>\n",
       "                    </td>\n",
       "                    <td style=\"text-align: left;\">\n",
       "                        <strong>Total threads:</strong> 0\n",
       "                    </td>\n",
       "                </tr>\n",
       "                <tr>\n",
       "                    <td style=\"text-align: left;\">\n",
       "                        <strong>Started:</strong> Just now\n",
       "                    </td>\n",
       "                    <td style=\"text-align: left;\">\n",
       "                        <strong>Total memory:</strong> 0 B\n",
       "                    </td>\n",
       "                </tr>\n",
       "            </table>\n",
       "        </div>\n",
       "    </div>\n",
       "\n",
       "    <details style=\"margin-left: 48px;\">\n",
       "        <summary style=\"margin-bottom: 20px;\">\n",
       "            <h3 style=\"display: inline;\">Workers</h3>\n",
       "        </summary>\n",
       "\n",
       "        \n",
       "\n",
       "    </details>\n",
       "</div>\n",
       "\n",
       "        </details>\n",
       "    </div>\n",
       "</div>\n",
       "            </details>\n",
       "        \n",
       "\n",
       "    </div>\n",
       "</div>"
      ],
      "text/plain": [
       "<Client: 'tcp://10.12.206.60:35370' processes=0 threads=0, memory=0 B>"
      ]
     },
     "execution_count": 2,
     "metadata": {},
     "output_type": "execute_result"
    }
   ],
   "source": [
    "mem_per_worker = 40 # memory per worker in GB \n",
    "num_workers = 40 # number of workers\n",
    "cluster = NCARCluster(cores=1, processes=1, memory=f'{mem_per_worker} GB',resource_spec=f'select=1:ncpus=1:mem={mem_per_worker}GB', walltime='2:00:00')\n",
    "cluster.scale(num_workers)\n",
    "client = Client(cluster)\n",
    "print(client)\n",
    "client"
   ]
  },
  {
   "cell_type": "markdown",
   "id": "33a1694a-0d53-43c8-916b-02eba35a7122",
   "metadata": {},
   "source": [
    "### Load data"
   ]
  },
  {
   "cell_type": "code",
   "execution_count": 3,
   "id": "35873445-81d6-4cea-92d2-0a555ac4c43c",
   "metadata": {},
   "outputs": [
    {
     "name": "stdout",
     "output_type": "stream",
     "text": [
      "CPU times: user 438 ms, sys: 113 ms, total: 551 ms\n",
      "Wall time: 6.12 s\n"
     ]
    }
   ],
   "source": [
    "%%time\n",
    "path = '/glade/campaign/cgd/cesm/CESM2-LE/timeseries/ocn/proc/tseries/month_1/UET/b.e21.BSSP370smbb.f09_g17.LE2-1301.019.pop.h.UET.205501-206412.nc'\n",
    "ds_UET = xr.open_mfdataset(path,parallel=True)\n",
    "path = '/glade/campaign/cgd/cesm/CESM2-LE/timeseries/ocn/proc/tseries/month_1/VNT/b.e21.BSSP370smbb.f09_g17.LE2-1301.019.pop.h.VNT.205501-206412.nc'\n",
    "ds_VNT = xr.open_mfdataset(path,parallel=True)\n",
    "path = '/glade/campaign/cgd/cesm/CESM2-LE/timeseries/ocn/proc/tseries/month_1/VVEL/b.e21.BSSP370smbb.f09_g17.LE2-1301.019.pop.h.VVEL.205501-206412.nc'\n",
    "ds_VVEL = xr.open_mfdataset(path,parallel=True)\n",
    "path = '/glade/campaign/cgd/cesm/CESM2-LE/timeseries/ocn/proc/tseries/month_1/UVEL/b.e21.BSSP370smbb.f09_g17.LE2-1301.019.pop.h.UVEL.205501-206412.nc'\n",
    "ds_UVEL = xr.open_mfdataset(path,parallel=True)\n",
    "path = '/glade/campaign/cgd/cesm/CESM2-LE/timeseries/ocn/proc/tseries/month_1/TEMP/b.e21.BSSP370smbb.f09_g17.LE2-1301.019.pop.h.TEMP.205501-206412.nc'\n",
    "ds_TEMP = xr.open_mfdataset(path,parallel=True)\n",
    "del path\n",
    "dsa = xr.merge([ds_UET,ds_VNT,ds_VVEL,ds_UVEL,ds_TEMP],compat='override')\n",
    "del ds_UET,ds_VNT,ds_VVEL,ds_UVEL,ds_TEMP"
   ]
  },
  {
   "cell_type": "code",
   "execution_count": 5,
   "id": "b17c9217-1148-4d7d-9977-7c9117285bf9",
   "metadata": {},
   "outputs": [
    {
     "name": "stderr",
     "output_type": "stream",
     "text": [
      "/glade/u/home/mauricio/.local/lib/python3.8/site-packages/intake_esm/utils.py:96: DtypeWarning: Columns (5,6,9) have mixed types. Specify dtype option on import or set low_memory=False.\n",
      "  return pd.read_csv(catalog_path, **csv_kwargs), catalog_path\n"
     ]
    },
    {
     "name": "stdout",
     "output_type": "stream",
     "text": [
      "\n",
      "--> The keys in the returned dictionary of datasets are constructed as follows:\n",
      "\t'component.experiment.stream.forcing_variant.variable'\n"
     ]
    },
    {
     "data": {
      "text/html": [
       "\n",
       "<style>\n",
       "    /* Turns off some styling */\n",
       "    progress {\n",
       "        /* gets rid of default border in Firefox and Opera. */\n",
       "        border: none;\n",
       "        /* Needs to be in here for Safari polyfill so background images work as expected. */\n",
       "        background-size: auto;\n",
       "    }\n",
       "    progress:not([value]), progress:not([value])::-webkit-progress-bar {\n",
       "        background: repeating-linear-gradient(45deg, #7e7e7e, #7e7e7e 10px, #5c5c5c 10px, #5c5c5c 20px);\n",
       "    }\n",
       "    .progress-bar-interrupted, .progress-bar-interrupted::-webkit-progress-bar {\n",
       "        background: #F44336;\n",
       "    }\n",
       "</style>\n"
      ],
      "text/plain": [
       "<IPython.core.display.HTML object>"
      ]
     },
     "metadata": {},
     "output_type": "display_data"
    },
    {
     "data": {
      "text/html": [
       "\n",
       "    <div>\n",
       "      <progress value='20' class='' max='20' style='width:300px; height:20px; vertical-align: middle;'></progress>\n",
       "      100.00% [20/20 03:28&lt;00:00]\n",
       "    </div>\n",
       "    "
      ],
      "text/plain": [
       "<IPython.core.display.HTML object>"
      ]
     },
     "metadata": {},
     "output_type": "display_data"
    },
    {
     "name": "stdout",
     "output_type": "stream",
     "text": [
      "\n",
      "Dataset dictionary keys:\n",
      " dict_keys(['ocn.ssp370.pop.h.smbb.UVEL', 'ocn.ssp370.pop.h.smbb.VNT', 'ocn.ssp370.pop.h.smbb.VVEL', 'ocn.historical.pop.h.cmip6.TEMP', 'ocn.historical.pop.h.smbb.VNT', 'ocn.historical.pop.h.cmip6.VVEL', 'ocn.historical.pop.h.cmip6.UVEL', 'ocn.historical.pop.h.smbb.UET', 'ocn.ssp370.pop.h.cmip6.UET', 'ocn.ssp370.pop.h.cmip6.VVEL', 'ocn.historical.pop.h.smbb.UVEL', 'ocn.ssp370.pop.h.cmip6.TEMP', 'ocn.ssp370.pop.h.cmip6.VNT', 'ocn.ssp370.pop.h.smbb.UET', 'ocn.historical.pop.h.smbb.TEMP', 'ocn.ssp370.pop.h.smbb.TEMP', 'ocn.historical.pop.h.cmip6.VNT', 'ocn.historical.pop.h.cmip6.UET', 'ocn.ssp370.pop.h.cmip6.UVEL', 'ocn.historical.pop.h.smbb.VVEL'])\n"
     ]
    }
   ],
   "source": [
    "catalog = intake.open_esm_datastore(\n",
    "    '/glade/collections/cmip/catalog/intake-esm-datastore/catalogs/glade-cesm2-le.json'\n",
    ")\n",
    "cat_subset = catalog.search(component='ocn',variable=['UET','VNT','VVEL','UVEL','TEMP'],frequency='month_1')\n",
    "# Load catalog entries for subset into a dictionary of xarray datasets\n",
    "dset_dict_raw  = cat_subset.to_dataset_dict(zarr_kwargs={'consolidated': True}, storage_options={'anon': True})\n",
    "print(f'\\nDataset dictionary keys:\\n {dset_dict_raw.keys()}')"
   ]
  },
  {
   "cell_type": "raw",
   "id": "b6d55772-ccab-4be2-aabe-1a73892a4e20",
   "metadata": {},
   "source": [
    "### Concatenation of variables"
   ]
  },
  {
   "cell_type": "code",
   "execution_count": 6,
   "id": "57d2ec84-69a9-46c7-9458-e70080ade389",
   "metadata": {},
   "outputs": [
    {
     "data": {
      "text/plain": [
       "['intake_esm_varname',\n",
       " 'revision',\n",
       " 'cell_methods',\n",
       " 'source',\n",
       " 'calendar',\n",
       " 'contents',\n",
       " 'history',\n",
       " 'Conventions',\n",
       " 'model_doi_url',\n",
       " 'time_period_freq',\n",
       " 'intake_esm_dataset_key']"
      ]
     },
     "execution_count": 6,
     "metadata": {},
     "output_type": "execute_result"
    }
   ],
   "source": [
    "ff=('cmip6','smbb') # Forcings\n",
    "fb=(['UET','VNT','VVEL','UVEL','TEMP']) # Flux of Heat in grid-x direction, Flux of Heat in grid-y direction, \n",
    "#Velocity in grid-y direction, Velocity in grid-y direction, Potential Temperature\n",
    "#dsi = dict()\n",
    "dsi = []\n",
    "for var in fb:\n",
    "    # 1- combine historical and ssp370 (concatenate in time)\n",
    "#   ds_dict_tmp = dict()\n",
    "    ds_dict_tmp = []\n",
    "    for scenario in ff:\n",
    "#       ds_dict_tmp[scenario] = xr.combine_nested([dset_dict_raw[f'ocn.historical.pop.h.{scenario}.{var}'], \n",
    "#       dset_dict_raw[f'ocn.ssp370.pop.h.{scenario}.{var}']],concat_dim=['time'])\n",
    "        ds_dict_tmp.append(xr.combine_nested([dset_dict_raw[f'ocn.historical.pop.h.{scenario}.{var}'], \n",
    "                                              dset_dict_raw[f'ocn.ssp370.pop.h.{scenario}.{var}']],concat_dim=['time']))    \n",
    "        # 2- combine cmip6 and smbb (concatenate in member_id)\n",
    "#   dsi[var] = xr.combine_nested([ds_dict_tmp['cmip6'], ds_dict_tmp['smbb']], concat_dim=['member_id'])\n",
    "    dsi.append(xr.combine_nested([ds_dict_tmp[0], ds_dict_tmp[1]], concat_dim=['member_id']))\n",
    "ds = xr.merge([dsi[0],dsi[1],dsi[2],dsi[3],dsi[4]],compat='override')\n",
    "\n",
    "# Add attributes from last scenario / variable to ds\n",
    "for key in ['Conventions', 'calendar']:\n",
    "    ds.attrs[key] = dset_dict_raw[f'ocn.historical.pop.h.{scenario}.{var}'].attrs[key]\n",
    "ds['TLONG'].attrs['axis']='X'\n",
    "ds['TLAT'].attrs['axis']='Y'\n",
    "list(dset_dict_raw[f'ocn.historical.pop.h.{scenario}.{var}'].attrs.keys())"
   ]
  },
  {
   "cell_type": "raw",
   "id": "68445d52-0fdc-41b8-83a1-0cb20bb7df1c",
   "metadata": {},
   "source": [
    "### For the South Atlantic"
   ]
  },
  {
   "cell_type": "raw",
   "id": "b77afdc5-2b5e-4bfb-a511-9eb4f264b920",
   "metadata": {},
   "source": [
    "%%time\n",
    "#xr.set_options(keep_attrs=True)\n",
    "# Cutting out and centering the variables in the South Atlantic\n",
    "dask.config.set({\"array.slicing.split_large_chunks\": True})\n",
    "ilon1, flon1, ilon2, flon2 = 307, 320, 0, 54 # longitude (initial (i), final (f)) \n",
    "ilan = 0 # northernmost latitude\n",
    "ilas = -34 # southernmost latitude\n",
    "\n",
    "ds_sa=xr.combine_nested([[\n",
    "    ds.where((ds.TLAT >= ilas) & (ds.TLAT <= ilan), drop=True).isel(\n",
    "        nlon = slice(ilon1,flon1)),\n",
    "    ds.where((ds.TLAT >= ilas) & (ds.TLAT <= ilan), drop=True).isel(\n",
    "        nlon = slice(ilon2,flon2))]],\n",
    "    concat_dim=['nlat','nlon'])   \n",
    "ds_sa.coords['nlon'] = (ds_sa.coords['nlon'] + 180) % 360 - 180 \n",
    "ds_sa = ds_sa.sortby(ds_sa.nlon)"
   ]
  },
  {
   "cell_type": "code",
   "execution_count": null,
   "id": "4b33666f-5931-469e-a23d-a07a24611dcd",
   "metadata": {},
   "outputs": [],
   "source": [
    "ds1=ds.copy()"
   ]
  },
  {
   "cell_type": "code",
   "execution_count": null,
   "id": "083d546c-9687-4399-becb-c5e265b3b06f",
   "metadata": {},
   "outputs": [],
   "source": [
    "for i in dsa.variables:\n",
    "    ds1[i].attrs=dsa[i].attrs"
   ]
  },
  {
   "cell_type": "code",
   "execution_count": null,
   "id": "86dbb5dc-521f-4aea-9e36-90be66ce4ef8",
   "metadata": {},
   "outputs": [],
   "source": [
    "ds1.attrs=dsa.attrs"
   ]
  },
  {
   "cell_type": "code",
   "execution_count": null,
   "id": "8818dbc4-0566-4bbf-87d1-b520f7b4b155",
   "metadata": {},
   "outputs": [],
   "source": [
    "ds1"
   ]
  },
  {
   "cell_type": "markdown",
   "id": "a404d900-ffc6-44b4-b464-2e1b16b24b76",
   "metadata": {},
   "source": [
    "### Help functions"
   ]
  },
  {
   "cell_type": "code",
   "execution_count": null,
   "id": "a0bc3470-8e41-48e7-882b-f1d495fe65ff",
   "metadata": {},
   "outputs": [],
   "source": [
    "def to_index(dsf):\n",
    "    dsf = dsf.copy()\n",
    "    for dim in ds_sa.dims:\n",
    "        if dim in [\"nlon_t\", \"nlat_t\", \"nlon_u\", \"nlat_u\"]:\n",
    "            dsf = dsf.drop(dim).rename({dim: dim[:-2]})\n",
    "    return dsf\n",
    "def to_coord(dsf, lon, lat):\n",
    "    return dsf.rename({\"nlon\": \"nlon_\" + lon,\n",
    "                      \"nlat\": \"nlat_\" + lat})"
   ]
  },
  {
   "cell_type": "markdown",
   "id": "3e4ae070-d6dc-4693-8286-ac3b75b927aa",
   "metadata": {},
   "source": [
    "### Get the POP_grid"
   ]
  },
  {
   "cell_type": "code",
   "execution_count": null,
   "id": "258acfde-9d4f-4b7c-bb04-6dbeef69f09c",
   "metadata": {},
   "outputs": [],
   "source": [
    "# get the cell volume and the grid from pop_tools. this should be easier for LENS low res, as your DZT is just your dz because you are not dealing with partial bottom cells (right Gustavo?) \n",
    "ds['cell_volume'] = ds.dz * ds.DXT * ds.DYT # Volume (check out later the unit)\n",
    "grid, ds_ren = pop_tools.to_xgcm_grid_dataset(ds1) # We gotta confirm if we may use just one variable to compute the grid and ds_ren\n",
    "ds_ren['cell_volume'] = ds_ren.dz * ds_ren.DXT * ds_ren.DYT # Volume (check out later the unit)"
   ]
  },
  {
   "cell_type": "markdown",
   "id": "01edb080-ffd8-4d2b-80d7-267b145ba9f6",
   "metadata": {},
   "source": [
    "### Advection"
   ]
  },
  {
   "cell_type": "code",
   "execution_count": null,
   "id": "421153c9-4eb6-4fbe-a1c1-ef0fc03117af",
   "metadata": {},
   "outputs": [],
   "source": [
    "ds_ren"
   ]
  },
  {
   "cell_type": "code",
   "execution_count": null,
   "id": "de188ac7-f6bc-487e-9839-503ad9701c11",
   "metadata": {},
   "outputs": [],
   "source": [
    "ds_ren"
   ]
  },
  {
   "cell_type": "code",
   "execution_count": null,
   "id": "5a629fe3-5eaf-4de1-908c-9416f05311d7",
   "metadata": {},
   "outputs": [],
   "source": [
    "%%time\n",
    "# get the total advection as saved by the model \n",
    "# total advection saved by model --> the difference betweem this and the mean is the eddy component\n",
    "# horizontal components\n",
    "print('Getting total advection term.')\n",
    "#st = time.time()\n",
    "uadv = -( grid.diff(to_coord((ds.cell_volume * ds.UET), 'u', 't'), \n",
    "                   axis=\"X\", boundary=\"extend\")\n",
    "        / ds_ren.cell_volume )\n",
    "vadv = -( grid.diff(to_coord((ds.cell_volume * ds.VNT), 't', 'u'),\n",
    "                   axis=\"Y\", boundary=\"extend\")\n",
    "        / ds_ren.cell_volume )"
   ]
  },
  {
   "cell_type": "code",
   "execution_count": null,
   "id": "d16bc061-538f-4ee3-aabd-65a1a9d61778",
   "metadata": {},
   "outputs": [],
   "source": [
    "# total horizontal\n",
    "h_adv = uadv + vadv # I think you only want vnt? just copying everything here for completeness "
   ]
  },
  {
   "cell_type": "code",
   "execution_count": null,
   "id": "e14c631a-044d-4171-8877-e6ff2e89ff1c",
   "metadata": {},
   "outputs": [],
   "source": [
    "h_adv"
   ]
  },
  {
   "cell_type": "code",
   "execution_count": null,
   "id": "edff461c-d823-46d8-bbbd-b8f0c0615579",
   "metadata": {},
   "outputs": [],
   "source": [
    "# get the advection from the mean flow \n",
    "# horizontal advection from mean flow -- you need this because the difference between this and the term above is the eddy term \n",
    "print('Getting horizontal advection from mean flow.')\n",
    "#st = time.time()\n",
    "# u term\n",
    "U_interp = grid.interp((ds_ren.UVEL * ds_ren.dz * ds_ren.DYU),\n",
    "                      axis=\"Y\",\n",
    "                      boundary=\"extend\")\n",
    "uT = U_interp * grid.interp(ds_ren.TEMP,\n",
    "                            axis=\"X\",\n",
    "                            boundary=\"extend\")\n",
    "H_ADV_mean = (-(grid.diff(uT, axis=\"X\", boundary=\"extend\")\n",
    "               / ds_ren.cell_volume))\n",
    "# v term\n",
    "V_interp = grid.interp((ds_ren.VVEL * ds_ren.dz * ds_ren.DXU),\n",
    "                       axis=\"X\", boundary=\"extend\")\n",
    "vT = V_interp * grid.interp(ds_ren.TEMP,\n",
    "                            axis=\"Y\", boundary=\"extend\")\n",
    "# total term, again you don't need this, you just need the V term I think, and you do want to do the operation grid.diff(...) / cell_volume\n",
    "H_ADV_mean = H_ADV_mean - (grid.diff(vT, axis=\"Y\", boundary=\"extend\")\n",
    "                           / ds_ren.cell_volume)"
   ]
  },
  {
   "cell_type": "code",
   "execution_count": null,
   "id": "510f5a21-4825-4eaf-a465-077d9997860c",
   "metadata": {},
   "outputs": [],
   "source": [
    "#then calculate difference for eddy part  \n",
    "T_h_ADV_eddy = h_adv - H_ADV_mean"
   ]
  },
  {
   "cell_type": "code",
   "execution_count": null,
   "id": "ce02848b-78de-4649-97b0-24086e11120e",
   "metadata": {},
   "outputs": [],
   "source": [
    "T_h_ADV_eddy=(T_h_ADV_eddy.isel(nlon=0,nlat=0)).compute()"
   ]
  },
  {
   "cell_type": "code",
   "execution_count": null,
   "id": "295200b9-b04a-40b7-88b6-47ec2e4342e6",
   "metadata": {},
   "outputs": [],
   "source": [
    "h_adv=h_adv.isel(nlon=0,nlat=0).compute()"
   ]
  },
  {
   "cell_type": "code",
   "execution_count": null,
   "id": "e3412fe8-69f5-4ae0-8088-086d53a3aa90",
   "metadata": {},
   "outputs": [],
   "source": [
    "H_ADV_mean=H_ADV_mean.isel(nlon=0,nlat=0).compute()"
   ]
  }
 ],
 "metadata": {
  "kernelspec": {
   "display_name": "NPL 2022b",
   "language": "python",
   "name": "npl-2022b"
  },
  "language_info": {
   "codemirror_mode": {
    "name": "ipython",
    "version": 3
   },
   "file_extension": ".py",
   "mimetype": "text/x-python",
   "name": "python",
   "nbconvert_exporter": "python",
   "pygments_lexer": "ipython3",
   "version": "3.8.13"
  }
 },
 "nbformat": 4,
 "nbformat_minor": 5
}
