{
 "cells": [
  {
   "cell_type": "markdown",
   "id": "f528634b-bc5d-4ce9-86ed-32707a2b8f3c",
   "metadata": {},
   "source": [
    "## CESM2 - LARGE ENSEMBLE (LENS2)\n",
    "- In this Notebook we want to control the temperature flow: speed and temperature. For velocity, we will compute the advective terms and the eddies. "
   ]
  },
  {
   "cell_type": "markdown",
   "id": "ef5205d6-0d21-42d9-8cae-989582973398",
   "metadata": {},
   "source": [
    "### Imports"
   ]
  },
  {
   "cell_type": "code",
   "execution_count": null,
   "id": "dbfb6356-08ac-4111-b8bf-58bdccfe4e81",
   "metadata": {},
   "outputs": [],
   "source": [
    "# modules I am using in this example\n",
    "import xarray as xr\n",
    "import xgcm\n",
    "from xgcm import Grid\n",
    "import pop_tools\n",
    "from dask.distributed import Client, wait\n",
    "from ncar_jobqueue import NCARCluster\n",
    "import dask\n",
    "import intake\n",
    "import intake_esm"
   ]
  },
  {
   "cell_type": "markdown",
   "id": "75257b34-40de-4cf9-992c-8ca1e3bfc1f1",
   "metadata": {},
   "source": [
    "### Dask"
   ]
  },
  {
   "cell_type": "code",
   "execution_count": null,
   "id": "574aa21b-3351-4c2f-833e-c32502fa7e6f",
   "metadata": {},
   "outputs": [],
   "source": [
    "mem_per_worker = 40 # memory per worker in GB \n",
    "num_workers = 40 # number of workers\n",
    "cluster = NCARCluster(cores=1, processes=1, memory=f'{mem_per_worker} GB',resource_spec=f'select=1:ncpus=1:mem={mem_per_worker}GB', walltime='2:00:00')\n",
    "cluster.scale(num_workers)\n",
    "client = Client(cluster)\n",
    "print(client)\n",
    "client"
   ]
  },
  {
   "cell_type": "markdown",
   "id": "33a1694a-0d53-43c8-916b-02eba35a7122",
   "metadata": {},
   "source": [
    "### Load data"
   ]
  },
  {
   "cell_type": "code",
   "execution_count": null,
   "id": "35873445-81d6-4cea-92d2-0a555ac4c43c",
   "metadata": {},
   "outputs": [],
   "source": [
    "%%time\n",
    "path = '/glade/campaign/cgd/cesm/CESM2-LE/timeseries/ocn/proc/tseries/month_1/UET/b.e21.BSSP370smbb.f09_g17.LE2-1301.019.pop.h.UET.205501-206412.nc'\n",
    "ds_UET = xr.open_mfdataset(path,parallel=True)\n",
    "path = '/glade/campaign/cgd/cesm/CESM2-LE/timeseries/ocn/proc/tseries/month_1/VNT/b.e21.BSSP370smbb.f09_g17.LE2-1301.019.pop.h.VNT.205501-206412.nc'\n",
    "ds_VNT = xr.open_mfdataset(path,parallel=True)\n",
    "path = '/glade/campaign/cgd/cesm/CESM2-LE/timeseries/ocn/proc/tseries/month_1/VVEL/b.e21.BSSP370smbb.f09_g17.LE2-1301.019.pop.h.VVEL.205501-206412.nc'\n",
    "ds_VVEL = xr.open_mfdataset(path,parallel=True)\n",
    "path = '/glade/campaign/cgd/cesm/CESM2-LE/timeseries/ocn/proc/tseries/month_1/UVEL/b.e21.BSSP370smbb.f09_g17.LE2-1301.019.pop.h.UVEL.205501-206412.nc'\n",
    "ds_UVEL = xr.open_mfdataset(path,parallel=True)\n",
    "path = '/glade/campaign/cgd/cesm/CESM2-LE/timeseries/ocn/proc/tseries/month_1/TEMP/b.e21.BSSP370smbb.f09_g17.LE2-1301.019.pop.h.TEMP.205501-206412.nc'\n",
    "ds_TEMP = xr.open_mfdataset(path,parallel=True)\n",
    "del path\n",
    "ds = xr.merge([ds_UET,ds_VNT,ds_VVEL,ds_UVEL,ds_TEMP],compat='override')\n",
    "del ds_UET,ds_VNT,ds_VVEL,ds_UVEL,ds_TEMP"
   ]
  },
  {
   "cell_type": "raw",
   "id": "ab2ba912-b8f5-4326-b181-42d2f76874fe",
   "metadata": {},
   "source": [
    "catalog = intake.open_esm_datastore(\n",
    "    '/glade/collections/cmip/catalog/intake-esm-datastore/catalogs/glade-cesm2-le.json'\n",
    ")\n",
    "cat_subset = catalog.search(component='ocn',variable=['UET','VNT','VVEL','UVEL','TEMP'],frequency='month_1')\n",
    "# Load catalog entries for subset into a dictionary of xarray datasets\n",
    "dset_dict_raw  = cat_subset.to_dataset_dict(zarr_kwargs={'consolidated': True}, storage_options={'anon': True})\n",
    "print(f'\\nDataset dictionary keys:\\n {dset_dict_raw.keys()}')"
   ]
  },
  {
   "cell_type": "markdown",
   "id": "9ec9de98-74dd-4596-b07a-e74ed3cd0c43",
   "metadata": {},
   "source": [
    "### Concatenation of variables"
   ]
  },
  {
   "cell_type": "raw",
   "id": "a3d88e7c-d9d2-484d-b7ed-4436fa1d1422",
   "metadata": {},
   "source": [
    "ff=('cmip6','smbb') # Forcings\n",
    "fb=(['UET','VNT','VVEL','UVEL','TEMP']) # Flux of Heat in grid-x direction, Flux of Heat in grid-y direction, \n",
    "#Velocity in grid-y direction, Velocity in grid-y direction, Potential Temperature\n",
    "#dsi = dict()\n",
    "dsi = []\n",
    "for var in fb:\n",
    "    # 1- combine historical and ssp370 (concatenate in time)\n",
    "#   ds_dict_tmp = dict()\n",
    "    ds_dict_tmp = []\n",
    "    for scenario in ff:\n",
    "#       ds_dict_tmp[scenario] = xr.combine_nested([dset_dict_raw[f'ocn.historical.pop.h.{scenario}.{var}'], \n",
    "#       dset_dict_raw[f'ocn.ssp370.pop.h.{scenario}.{var}']],concat_dim=['time'])\n",
    "        ds_dict_tmp.append(xr.combine_nested([dset_dict_raw[f'ocn.historical.pop.h.{scenario}.{var}'], \n",
    "                                              dset_dict_raw[f'ocn.ssp370.pop.h.{scenario}.{var}']],concat_dim=['time']))    \n",
    "        # 2- combine cmip6 and smbb (concatenate in member_id)\n",
    "#   dsi[var] = xr.combine_nested([ds_dict_tmp['cmip6'], ds_dict_tmp['smbb']], concat_dim=['member_id'])\n",
    "    dsi.append(xr.combine_nested([ds_dict_tmp[0], ds_dict_tmp[1]], concat_dim=['member_id']))\n",
    "ds = xr.merge([dsi[0],dsi[1],dsi[2],dsi[3],dsi[4]],compat='override')\n",
    "\n",
    "# Add attributes from last scenario / variable to ds\n",
    "for key in ['Conventions', 'calendar']:\n",
    "    ds.attrs[key] = dset_dict_raw[f'ocn.historical.pop.h.{scenario}.{var}'].attrs[key]\n",
    "ds['TLONG'].attrs['axis']='X'\n",
    "ds['TLAT'].attrs['axis']='Y'\n",
    "list(dset_dict_raw[f'ocn.historical.pop.h.{scenario}.{var}'].attrs.keys())"
   ]
  },
  {
   "cell_type": "raw",
   "id": "68445d52-0fdc-41b8-83a1-0cb20bb7df1c",
   "metadata": {},
   "source": [
    "### For the South Atlantic"
   ]
  },
  {
   "cell_type": "code",
   "execution_count": null,
   "id": "bd6cda49-21e8-4c6c-aa70-c1b70199c2d3",
   "metadata": {},
   "outputs": [],
   "source": [
    "%%time\n",
    "# Cutting out and centering the variables in the South Atlantic\n",
    "dask.config.set({\"array.slicing.split_large_chunks\": True})\n",
    "ilon1, flon1, ilon2, flon2 = 307, 320, 0, 54 # longitude (initial (i), final (f)) \n",
    "ilan = 0 # northernmost latitude\n",
    "ilas = -34 # southernmost latitude\n",
    "\n",
    "ds=xr.combine_nested([[\n",
    "    ds.where((ds.TLAT >= ilas) & (ds.TLAT <= ilan), drop=True).isel(\n",
    "        nlon = slice(ilon1,flon1)),\n",
    "    ds.where((ds.TLAT >= ilas) & (ds[f'{var}'].TLAT <= ilan), drop=True).isel(\n",
    "        nlon = slice(ilon2,flon2))]],\n",
    "    concat_dim=['nlat','nlon'])   \n",
    "ds.coords['nlon'] = (ds.coords['nlon'] + 180) % 360 - 180 \n",
    "ds = ds.sortby(ds.nlon)"
   ]
  },
  {
   "cell_type": "code",
   "execution_count": null,
   "id": "433d9e11-40b8-4664-b71c-6347097c8b68",
   "metadata": {},
   "outputs": [],
   "source": [
    "ds.dz"
   ]
  },
  {
   "cell_type": "markdown",
   "id": "a404d900-ffc6-44b4-b464-2e1b16b24b76",
   "metadata": {},
   "source": [
    "### Help functions"
   ]
  },
  {
   "cell_type": "code",
   "execution_count": null,
   "id": "a0bc3470-8e41-48e7-882b-f1d495fe65ff",
   "metadata": {},
   "outputs": [],
   "source": [
    "def to_index(ds):\n",
    "    ds = ds.copy()\n",
    "    for dim in ds.dims:\n",
    "        if dim in [\"nlon_t\", \"nlat_t\", \"nlon_u\", \"nlat_u\"]:\n",
    "            ds = ds.drop(dim).rename({dim: dim[:-2]})\n",
    "    return ds\n",
    "def to_coord(ds, lon, lat):\n",
    "    return ds.rename({\"nlon\": \"nlon_\" + lon,\n",
    "                      \"nlat\": \"nlat_\" + lat})"
   ]
  },
  {
   "cell_type": "markdown",
   "id": "3e4ae070-d6dc-4693-8286-ac3b75b927aa",
   "metadata": {},
   "source": [
    "### Get the POP_grid"
   ]
  },
  {
   "cell_type": "code",
   "execution_count": null,
   "id": "258acfde-9d4f-4b7c-bb04-6dbeef69f09c",
   "metadata": {},
   "outputs": [],
   "source": [
    "# get the cell volume and the grid from pop_tools. this should be easier for LENS low res, as your DZT is just your dz because you are not dealing with partial bottom cells (right Gustavo?) \n",
    "\n",
    "ds['cell_volume'] = ds.dz * ds.DXT * ds.DYT # Volume (check out later the unit)\n",
    "grid, ds_ren = pop_tools.to_xgcm_grid_dataset(ds) # We gotta confirm if we may use just one variable to compute the grid and ds_ren"
   ]
  },
  {
   "cell_type": "markdown",
   "id": "01edb080-ffd8-4d2b-80d7-267b145ba9f6",
   "metadata": {},
   "source": [
    "### Advection"
   ]
  },
  {
   "cell_type": "code",
   "execution_count": null,
   "id": "62b81477-2e9f-41ab-bf6c-052a7271cd89",
   "metadata": {},
   "outputs": [],
   "source": [
    "ds_ren"
   ]
  },
  {
   "cell_type": "code",
   "execution_count": null,
   "id": "5a629fe3-5eaf-4de1-908c-9416f05311d7",
   "metadata": {},
   "outputs": [],
   "source": [
    "%%time\n",
    "# get the total advection as saved by the model \n",
    "# total advection saved by model --> the difference betweem this and the mean is the eddy component\n",
    "# horizontal components\n",
    "print('Getting total advection term.')\n",
    "#st = time.time()\n",
    "uadv = -( grid.diff(to_coord((ds_ren.cell_volume * ds.UET), 'u', 't'), \n",
    "                   axis=\"X\", boundary=\"extend\")\n",
    "        / ds_ren.cell_volume )\n",
    "vadv = -( grid.diff(to_coord((ds_ren.cell_volume * ds.VNT), 't', 'u'),\n",
    "                   axis=\"Y\", boundary=\"extend\")\n",
    "        / ds_ren.cell_volume )"
   ]
  },
  {
   "cell_type": "code",
   "execution_count": null,
   "id": "0990846e-e26c-4ce1-ba6c-e2d00155ed43",
   "metadata": {},
   "outputs": [],
   "source": [
    "uadv"
   ]
  },
  {
   "cell_type": "code",
   "execution_count": null,
   "id": "d16bc061-538f-4ee3-aabd-65a1a9d61778",
   "metadata": {},
   "outputs": [],
   "source": [
    "# total horizontal\n",
    "h_adv = uadv + vadv # I think you only want vnt? just copying everything here for completeness "
   ]
  },
  {
   "cell_type": "code",
   "execution_count": null,
   "id": "edff461c-d823-46d8-bbbd-b8f0c0615579",
   "metadata": {},
   "outputs": [],
   "source": [
    "# get the advection from the mean flow \n",
    "# horizontal advection from mean flow -- you need this because the difference between this and the term above is the eddy term \n",
    "print('Getting horizontal advection from mean flow.')\n",
    "#st = time.time()\n",
    "# u term\n",
    "U_interp = grid.interp((ds_ren.UVEL * ds_ren.dz * ds_ren.DYU),\n",
    "                      axis=\"Y\",\n",
    "                      boundary=\"extend\")\n",
    "uT = U_interp * grid.interp(ds_ren.TEMP,\n",
    "                            axis=\"X\",\n",
    "                            boundary=\"extend\")\n",
    "H_ADV_mean = (-(grid.diff(uT, axis=\"X\", boundary=\"extend\")\n",
    "               / ds_ren.cell_volume)).load()\n",
    "# v term\n",
    "V_interp = grid.interp((ds_ren.VVEL * ds_ren.dz * ds_ren.DXU),\n",
    "                       axis=\"X\", boundary=\"extend\")\n",
    "vT = V_interp * grid.interp(ds_ren.TEMP,\n",
    "                            axis=\"Y\", boundary=\"extend\")\n",
    "# total term, again you don't need this, you just need the V term I think, and you do want to do the operation grid.diff(...) / cell_volume\n",
    "H_ADV_mean = H_ADV_mean - (grid.diff(vT, axis=\"Y\", boundary=\"extend\")\n",
    "                           / ds_ren.cell_volume)"
   ]
  },
  {
   "cell_type": "code",
   "execution_count": null,
   "id": "510f5a21-4825-4eaf-a465-077d9997860c",
   "metadata": {},
   "outputs": [],
   "source": [
    "#then calculate difference for eddy part  \n",
    "T_h_ADV_eddy = h_adv - H_ADV_mean"
   ]
  }
 ],
 "metadata": {
  "kernelspec": {
   "display_name": "NPL 2022b",
   "language": "python",
   "name": "npl-2022b"
  },
  "language_info": {
   "codemirror_mode": {
    "name": "ipython",
    "version": 3
   },
   "file_extension": ".py",
   "mimetype": "text/x-python",
   "name": "python",
   "nbconvert_exporter": "python",
   "pygments_lexer": "ipython3",
   "version": "3.8.13"
  }
 },
 "nbformat": 4,
 "nbformat_minor": 5
}
