{
 "cells": [
  {
   "cell_type": "markdown",
   "id": "f528634b-bc5d-4ce9-86ed-32707a2b8f3c",
   "metadata": {},
   "source": [
    "## CESM2 - LARGE ENSEMBLE (LENS2)\n",
    "- In this Notebook we want to control the temperature flow: speed and temperature. For velocity, we will compute the advective terms and the eddies. "
   ]
  },
  {
   "cell_type": "markdown",
   "id": "ef5205d6-0d21-42d9-8cae-989582973398",
   "metadata": {},
   "source": [
    "### Imports"
   ]
  },
  {
   "cell_type": "code",
   "execution_count": 1,
   "id": "dbfb6356-08ac-4111-b8bf-58bdccfe4e81",
   "metadata": {},
   "outputs": [],
   "source": [
    "# modules I am using in this example\n",
    "import xarray as xr\n",
    "import xgcm\n",
    "from xgcm import Grid\n",
    "import pop_tools\n",
    "from dask.distributed import Client, wait\n",
    "from ncar_jobqueue import NCARCluster\n",
    "import dask\n",
    "import intake\n",
    "import intake_esm"
   ]
  },
  {
   "cell_type": "markdown",
   "id": "75257b34-40de-4cf9-992c-8ca1e3bfc1f1",
   "metadata": {},
   "source": [
    "### Dask"
   ]
  },
  {
   "cell_type": "code",
   "execution_count": 2,
   "id": "574aa21b-3351-4c2f-833e-c32502fa7e6f",
   "metadata": {},
   "outputs": [
    {
     "name": "stdout",
     "output_type": "stream",
     "text": [
      "<Client: 'tcp://10.12.206.54:36633' processes=0 threads=0, memory=0 B>\n"
     ]
    },
    {
     "data": {
      "text/html": [
       "<div>\n",
       "    <div style=\"width: 24px; height: 24px; background-color: #e1e1e1; border: 3px solid #9D9D9D; border-radius: 5px; position: absolute;\"> </div>\n",
       "    <div style=\"margin-left: 48px;\">\n",
       "        <h3 style=\"margin-bottom: 0px;\">Client</h3>\n",
       "        <p style=\"color: #9D9D9D; margin-bottom: 0px;\">Client-660ad819-9362-11ed-881e-3cecef1b11fa</p>\n",
       "        <table style=\"width: 100%; text-align: left;\">\n",
       "\n",
       "        <tr>\n",
       "        \n",
       "            <td style=\"text-align: left;\"><strong>Connection method:</strong> Cluster object</td>\n",
       "            <td style=\"text-align: left;\"><strong>Cluster type:</strong> dask_jobqueue.PBSCluster</td>\n",
       "        \n",
       "        </tr>\n",
       "\n",
       "        \n",
       "            <tr>\n",
       "                <td style=\"text-align: left;\">\n",
       "                    <strong>Dashboard: </strong> <a href=\"https://jupyterhub.hpc.ucar.edu/stable/user/mauricio/mrocha/proxy/8787/status\" target=\"_blank\">https://jupyterhub.hpc.ucar.edu/stable/user/mauricio/mrocha/proxy/8787/status</a>\n",
       "                </td>\n",
       "                <td style=\"text-align: left;\"></td>\n",
       "            </tr>\n",
       "        \n",
       "\n",
       "        </table>\n",
       "\n",
       "        \n",
       "            <details>\n",
       "            <summary style=\"margin-bottom: 20px;\"><h3 style=\"display: inline;\">Cluster Info</h3></summary>\n",
       "            <div class=\"jp-RenderedHTMLCommon jp-RenderedHTML jp-mod-trusted jp-OutputArea-output\">\n",
       "    <div style=\"width: 24px; height: 24px; background-color: #e1e1e1; border: 3px solid #9D9D9D; border-radius: 5px; position: absolute;\">\n",
       "    </div>\n",
       "    <div style=\"margin-left: 48px;\">\n",
       "        <h3 style=\"margin-bottom: 0px; margin-top: 0px;\">PBSCluster</h3>\n",
       "        <p style=\"color: #9D9D9D; margin-bottom: 0px;\">3888e146</p>\n",
       "        <table style=\"width: 100%; text-align: left;\">\n",
       "            <tr>\n",
       "                <td style=\"text-align: left;\">\n",
       "                    <strong>Dashboard:</strong> <a href=\"https://jupyterhub.hpc.ucar.edu/stable/user/mauricio/mrocha/proxy/8787/status\" target=\"_blank\">https://jupyterhub.hpc.ucar.edu/stable/user/mauricio/mrocha/proxy/8787/status</a>\n",
       "                </td>\n",
       "                <td style=\"text-align: left;\">\n",
       "                    <strong>Workers:</strong> 0\n",
       "                </td>\n",
       "            </tr>\n",
       "            <tr>\n",
       "                <td style=\"text-align: left;\">\n",
       "                    <strong>Total threads:</strong> 0\n",
       "                </td>\n",
       "                <td style=\"text-align: left;\">\n",
       "                    <strong>Total memory:</strong> 0 B\n",
       "                </td>\n",
       "            </tr>\n",
       "            \n",
       "        </table>\n",
       "\n",
       "        <details>\n",
       "            <summary style=\"margin-bottom: 20px;\">\n",
       "                <h3 style=\"display: inline;\">Scheduler Info</h3>\n",
       "            </summary>\n",
       "\n",
       "            <div style=\"\">\n",
       "    <div>\n",
       "        <div style=\"width: 24px; height: 24px; background-color: #FFF7E5; border: 3px solid #FF6132; border-radius: 5px; position: absolute;\"> </div>\n",
       "        <div style=\"margin-left: 48px;\">\n",
       "            <h3 style=\"margin-bottom: 0px;\">Scheduler</h3>\n",
       "            <p style=\"color: #9D9D9D; margin-bottom: 0px;\">Scheduler-4d8ada19-fb8a-429b-b0c9-8517aec4ee46</p>\n",
       "            <table style=\"width: 100%; text-align: left;\">\n",
       "                <tr>\n",
       "                    <td style=\"text-align: left;\">\n",
       "                        <strong>Comm:</strong> tcp://10.12.206.54:36633\n",
       "                    </td>\n",
       "                    <td style=\"text-align: left;\">\n",
       "                        <strong>Workers:</strong> 0\n",
       "                    </td>\n",
       "                </tr>\n",
       "                <tr>\n",
       "                    <td style=\"text-align: left;\">\n",
       "                        <strong>Dashboard:</strong> <a href=\"https://jupyterhub.hpc.ucar.edu/stable/user/mauricio/mrocha/proxy/8787/status\" target=\"_blank\">https://jupyterhub.hpc.ucar.edu/stable/user/mauricio/mrocha/proxy/8787/status</a>\n",
       "                    </td>\n",
       "                    <td style=\"text-align: left;\">\n",
       "                        <strong>Total threads:</strong> 0\n",
       "                    </td>\n",
       "                </tr>\n",
       "                <tr>\n",
       "                    <td style=\"text-align: left;\">\n",
       "                        <strong>Started:</strong> Just now\n",
       "                    </td>\n",
       "                    <td style=\"text-align: left;\">\n",
       "                        <strong>Total memory:</strong> 0 B\n",
       "                    </td>\n",
       "                </tr>\n",
       "            </table>\n",
       "        </div>\n",
       "    </div>\n",
       "\n",
       "    <details style=\"margin-left: 48px;\">\n",
       "        <summary style=\"margin-bottom: 20px;\">\n",
       "            <h3 style=\"display: inline;\">Workers</h3>\n",
       "        </summary>\n",
       "\n",
       "        \n",
       "\n",
       "    </details>\n",
       "</div>\n",
       "\n",
       "        </details>\n",
       "    </div>\n",
       "</div>\n",
       "            </details>\n",
       "        \n",
       "\n",
       "    </div>\n",
       "</div>"
      ],
      "text/plain": [
       "<Client: 'tcp://10.12.206.54:36633' processes=0 threads=0, memory=0 B>"
      ]
     },
     "execution_count": 2,
     "metadata": {},
     "output_type": "execute_result"
    }
   ],
   "source": [
    "mem_per_worker = 40 # memory per worker in GB \n",
    "num_workers = 40 # number of workers\n",
    "cluster = NCARCluster(cores=1, processes=1, memory=f'{mem_per_worker} GB',resource_spec=f'select=1:ncpus=1:mem={mem_per_worker}GB', walltime='2:00:00')\n",
    "cluster.scale(num_workers)\n",
    "client = Client(cluster)\n",
    "print(client)\n",
    "client"
   ]
  },
  {
   "cell_type": "markdown",
   "id": "33a1694a-0d53-43c8-916b-02eba35a7122",
   "metadata": {},
   "source": [
    "### Load data"
   ]
  },
  {
   "cell_type": "code",
   "execution_count": 3,
   "id": "b8f77c8c-e2cc-4891-a435-4ebc7a2e8057",
   "metadata": {},
   "outputs": [
    {
     "name": "stderr",
     "output_type": "stream",
     "text": [
      "/glade/u/home/mauricio/.local/lib/python3.8/site-packages/intake_esm/utils.py:96: DtypeWarning: Columns (5,6,9) have mixed types. Specify dtype option on import or set low_memory=False.\n",
      "  return pd.read_csv(catalog_path, **csv_kwargs), catalog_path\n"
     ]
    },
    {
     "name": "stdout",
     "output_type": "stream",
     "text": [
      "\n",
      "--> The keys in the returned dictionary of datasets are constructed as follows:\n",
      "\t'component.experiment.stream.forcing_variant.variable'\n"
     ]
    },
    {
     "data": {
      "text/html": [
       "\n",
       "<style>\n",
       "    /* Turns off some styling */\n",
       "    progress {\n",
       "        /* gets rid of default border in Firefox and Opera. */\n",
       "        border: none;\n",
       "        /* Needs to be in here for Safari polyfill so background images work as expected. */\n",
       "        background-size: auto;\n",
       "    }\n",
       "    progress:not([value]), progress:not([value])::-webkit-progress-bar {\n",
       "        background: repeating-linear-gradient(45deg, #7e7e7e, #7e7e7e 10px, #5c5c5c 10px, #5c5c5c 20px);\n",
       "    }\n",
       "    .progress-bar-interrupted, .progress-bar-interrupted::-webkit-progress-bar {\n",
       "        background: #F44336;\n",
       "    }\n",
       "</style>\n"
      ],
      "text/plain": [
       "<IPython.core.display.HTML object>"
      ]
     },
     "metadata": {},
     "output_type": "display_data"
    },
    {
     "data": {
      "text/html": [
       "\n",
       "    <div>\n",
       "      <progress value='24' class='' max='24' style='width:300px; height:20px; vertical-align: middle;'></progress>\n",
       "      100.00% [24/24 04:45&lt;00:00]\n",
       "    </div>\n",
       "    "
      ],
      "text/plain": [
       "<IPython.core.display.HTML object>"
      ]
     },
     "metadata": {},
     "output_type": "display_data"
    },
    {
     "name": "stdout",
     "output_type": "stream",
     "text": [
      "\n",
      "Dataset dictionary keys:\n",
      " dict_keys(['ocn.ssp370.pop.h.smbb.VVEL', 'ocn.historical.pop.h.smbb.N_HEAT', 'ocn.historical.pop.h.smbb.VNT', 'ocn.ssp370.pop.h.cmip6.VNT', 'ocn.historical.pop.h.cmip6.UET', 'ocn.historical.pop.h.cmip6.TEMP', 'ocn.historical.pop.h.cmip6.N_HEAT', 'ocn.ssp370.pop.h.smbb.UVEL', 'ocn.ssp370.pop.h.cmip6.TEMP', 'ocn.ssp370.pop.h.cmip6.UET', 'ocn.historical.pop.h.smbb.TEMP', 'ocn.ssp370.pop.h.smbb.VNT', 'ocn.historical.pop.h.cmip6.VVEL', 'ocn.ssp370.pop.h.cmip6.VVEL', 'ocn.historical.pop.h.smbb.UVEL', 'ocn.historical.pop.h.smbb.VVEL', 'ocn.historical.pop.h.cmip6.VNT', 'ocn.ssp370.pop.h.smbb.UET', 'ocn.ssp370.pop.h.cmip6.UVEL', 'ocn.ssp370.pop.h.smbb.N_HEAT', 'ocn.ssp370.pop.h.smbb.TEMP', 'ocn.ssp370.pop.h.cmip6.N_HEAT', 'ocn.historical.pop.h.smbb.UET', 'ocn.historical.pop.h.cmip6.UVEL'])\n"
     ]
    }
   ],
   "source": [
    "catalog = intake.open_esm_datastore(\n",
    "    '/glade/collections/cmip/catalog/intake-esm-datastore/catalogs/glade-cesm2-le.json'\n",
    ")\n",
    "cat_subset = catalog.search(component='ocn',variable=['UET','UVEL','VVEL','VNT','TEMP','N_HEAT'],frequency='month_1')\n",
    "# Load catalog entries for subset into a dictionary of xarray datasets\n",
    "dset_dict_raw  = cat_subset.to_dataset_dict(zarr_kwargs={'consolidated': True}, storage_options={'anon': True})\n",
    "print(f'\\nDataset dictionary keys:\\n {dset_dict_raw.keys()}')"
   ]
  },
  {
   "cell_type": "markdown",
   "id": "9ec9de98-74dd-4596-b07a-e74ed3cd0c43",
   "metadata": {},
   "source": [
    "### Concatenation of variables"
   ]
  },
  {
   "cell_type": "code",
   "execution_count": null,
   "id": "93878b34-582d-4fb9-b1ba-2ce09bdd22cd",
   "metadata": {},
   "outputs": [],
   "source": [
    "ff=('cmip6','smbb') # Forcings\n",
    "fb=(['UET','UVEL','VVEL','VNT','TEMP','N_HEAT']) \n",
    "# Variables:\n",
    "# Flux of Heat in grid-x direction\n",
    "# Flux of Heat in grid-y direction\n",
    "# Velocity in grid-x direction \n",
    "# Velocity in grid-y direction\n",
    "# Potential Temperature\n",
    "\n",
    "dsi = dict()\n",
    "for var in fb:\n",
    "    # 1- combine historical and ssp370 (concatenate in time)\n",
    "    ds_dict_tmp = dict()\n",
    "    for scenario in ff:\n",
    "        ds_dict_tmp[scenario] = xr.combine_nested([dset_dict_raw[f'ocn.historical.pop.h.{scenario}.{var}'], dset_dict_raw[f'ocn.ssp370.pop.h.{scenario}.{var}']],concat_dim=['time'])\n",
    "        \n",
    "        # 2- combine cmip6 and smbb (concatenate in member_id)\n",
    "    dsi[var] = xr.combine_nested([ds_dict_tmp['cmip6'], ds_dict_tmp['smbb']], concat_dim=['member_id'])\n",
    "    del ds_dict_tmp"
   ]
  },
  {
   "cell_type": "markdown",
   "id": "8768aaea-49c7-4716-af6a-97b27b121859",
   "metadata": {},
   "source": [
    "### For the South Atlantic"
   ]
  },
  {
   "cell_type": "code",
   "execution_count": null,
   "id": "148ea068-fd3a-462f-a5ef-c7e3318397ac",
   "metadata": {},
   "outputs": [],
   "source": [
    "%%time\n",
    "# Cutting out and centering the variables in the South Atlantic\n",
    "dask.config.set({\"array.slicing.split_large_chunks\": True})\n",
    "ilon1, flon1, ilon2, flon2 = 307, 320, 0, 54 # longitude (initial (i), final (f)) \n",
    "ilan = 0 # northernmost latitude\n",
    "ilas = -34 # southernmost latitude\n",
    "\n",
    "fb=(['UET','UVEL','VVEL','VNT','TEMP'])\n",
    "\n",
    "for var in fb:\n",
    "    dsi[f'{var}']=xr.combine_nested([[\n",
    "        dsi[f'{var}'].where((dsi[f'{var}'].TLAT >= ilas) & (dsi[f'{var}'].TLAT <= ilan), drop=True).isel(\n",
    "            nlon = slice(ilon1,flon1)),\n",
    "        dsi[f'{var}'].where((dsi[f'{var}'].TLAT >= ilas) & (dsi[f'{var}'].TLAT <= ilan), drop=True).isel(\n",
    "            nlon = slice(ilon2,flon2))]],\n",
    "        concat_dim=['nlat','nlon'])   \n",
    "    dsi[f'{var}'].coords['nlon'] = (dsi[f'{var}'].coords['nlon'] + 180) % 360 - 180 \n",
    "    dsi[f'{var}'] = dsi[f'{var}'].sortby(dsi[f'{var}'].nlon)\n",
    "del ilan, ilas, ilon1, flon1, ilon2, flon2 "
   ]
  },
  {
   "cell_type": "markdown",
   "id": "a404d900-ffc6-44b4-b464-2e1b16b24b76",
   "metadata": {},
   "source": [
    "### Help functions"
   ]
  },
  {
   "cell_type": "code",
   "execution_count": null,
   "id": "a0bc3470-8e41-48e7-882b-f1d495fe65ff",
   "metadata": {},
   "outputs": [],
   "source": [
    "def to_index(ds):\n",
    "    ds = ds.copy()\n",
    "    for dim in ds.dims:\n",
    "        if dim in [\"nlon_t\", \"nlat_t\", \"nlon_u\", \"nlat_u\"]:\n",
    "            ds = ds.drop(dim).rename({dim: dim[:-2]})\n",
    "    return ds\n",
    "def to_coord(ds, lon, lat):\n",
    "    return ds.rename({\"nlon\": \"nlon_\" + lon,\n",
    "                      \"nlat\": \"nlat_\" + lat})"
   ]
  },
  {
   "cell_type": "markdown",
   "id": "3e4ae070-d6dc-4693-8286-ac3b75b927aa",
   "metadata": {},
   "source": [
    "### Get the POP_grid"
   ]
  },
  {
   "cell_type": "code",
   "execution_count": null,
   "id": "2b3d7682-3ef3-40c1-80eb-d125c4788f2e",
   "metadata": {},
   "outputs": [],
   "source": [
    "help(pop_tools.to_xgcm_grid_dataset)"
   ]
  },
  {
   "cell_type": "code",
   "execution_count": null,
   "id": "258acfde-9d4f-4b7c-bb04-6dbeef69f09c",
   "metadata": {},
   "outputs": [],
   "source": [
    "# get the cell volume and the grid from pop_tools. this should be easier for LENS low res, as your DZT is just your dz because you are not dealing with partial bottom cells (right Gustavo?) \n",
    "\n",
    "grid, ds_ren = pop_tools.to_xgcm_grid_dataset(dsi['UET']['UET']) # We gotta confirm if we may use just one variable to compute the grid and ds_ren\n",
    "ds_ren['cell_volume'] = ds_ren.dz * ds_ren.DXT * ds_ren.DYT # Volume (check out later the unit)"
   ]
  },
  {
   "cell_type": "markdown",
   "id": "01edb080-ffd8-4d2b-80d7-267b145ba9f6",
   "metadata": {},
   "source": [
    "### Advection"
   ]
  },
  {
   "cell_type": "code",
   "execution_count": null,
   "id": "5a629fe3-5eaf-4de1-908c-9416f05311d7",
   "metadata": {},
   "outputs": [],
   "source": [
    "%%time\n",
    "# get the total advection as saved by the model \n",
    "# total advection saved by model --> the difference betweem this and the mean is the eddy component\n",
    "# horizontal components\n",
    "print('Getting total advection term.')\n",
    "#st = time.time()\n",
    "uadv = -( grid.diff(to_coord((ds_ren.cell_volume * ds_ren['UET']['UET']), 'u', 't'), \n",
    "                   axis=\"X\", boundary=\"extend\")\n",
    "        / ds_ren.cell_volume )\n",
    "vadv = -( grid.diff(to_coord((ds_ren.cell_volume * ds_ren['VNT']['VNT']), 't', 'u'),\n",
    "                   axis=\"Y\", boundary=\"extend\")\n",
    "        / ds_ren.cell_volume )"
   ]
  },
  {
   "cell_type": "code",
   "execution_count": null,
   "id": "d16bc061-538f-4ee3-aabd-65a1a9d61778",
   "metadata": {},
   "outputs": [],
   "source": [
    "# total horizontal\n",
    "h_adv = uadv + vadv # I think you only want vnt? just copying everything here for completeness "
   ]
  },
  {
   "cell_type": "code",
   "execution_count": null,
   "id": "edff461c-d823-46d8-bbbd-b8f0c0615579",
   "metadata": {},
   "outputs": [],
   "source": [
    "# get the advection from the mean flow \n",
    "# horizontal advection from mean flow -- you need this because the difference between this and the term above is the eddy term \n",
    "print('Getting horizontal advection from mean flow.')\n",
    "st = time.time()\n",
    "# u term\n",
    "U_interp = grid.interp((ds_ren.UVEL * ds_ren.DZU * ds_ren.DYU),\n",
    "                      axis=\"Y\",\n",
    "                      boundary=\"extend\")\n",
    "uT = U_interp * grid.interp(ds_ren.TEMP,\n",
    "                            axis=\"X\",\n",
    "                            boundary=\"extend\")\n",
    "H_ADV_mean = -(grid.diff(uT, axis=\"X\", boundary=\"extend\")\n",
    "               / ds_ren.cell_volume)\n",
    "# v term\n",
    "V_interp = grid.interp((ds_ren.VVEL * ds_ren.DZU * ds_ren.DXU),\n",
    "                       axis=\"X\", boundary=\"extend\")\n",
    "vT = V_interp * grid.interp(ds_ren.TEMP,\n",
    "                            axis=\"Y\", boundary=\"extend\")\n",
    "# total term, again you don't need this, you just need the V term I think, and you do want to do the operation grid.diff(...) / cell_volume\n",
    "H_ADV_mean = H_ADV_mean - (grid.diff(vT, axis=\"Y\", boundary=\"extend\")\n",
    "                           / ds_ren.cell_volume)"
   ]
  },
  {
   "cell_type": "code",
   "execution_count": null,
   "id": "510f5a21-4825-4eaf-a465-077d9997860c",
   "metadata": {},
   "outputs": [],
   "source": [
    "#then calculate difference for eddy part  \n",
    "T_h_ADV_eddy = (h_adv - H_ADV_mean)"
   ]
  }
 ],
 "metadata": {
  "kernelspec": {
   "display_name": "NPL 2022b",
   "language": "python",
   "name": "npl-2022b"
  },
  "language_info": {
   "codemirror_mode": {
    "name": "ipython",
    "version": 3
   },
   "file_extension": ".py",
   "mimetype": "text/x-python",
   "name": "python",
   "nbconvert_exporter": "python",
   "pygments_lexer": "ipython3",
   "version": "3.8.13"
  }
 },
 "nbformat": 4,
 "nbformat_minor": 5
}
