{
 "cells": [
  {
   "cell_type": "markdown",
   "id": "80b35905-7510-4a8c-a558-978aa1e07b3c",
   "metadata": {},
   "source": [
    "## CESM2 - LARGE ENSEMBLE (LENS2)\n",
    "\n",
    "#### by Mauricio Rocha and Dr. Gustavo Marques\n",
    "\n",
    "- In this Notebook we analyze the variation of the maximum depth of the mixed layer using Hovmoller diagrams. \n",
    "- P.S.: The notebook is under development. "
   ]
  },
  {
   "cell_type": "markdown",
   "id": "24be9cde-8f0a-4c83-988e-89528a758f21",
   "metadata": {},
   "source": [
    "### Imports"
   ]
  },
  {
   "cell_type": "code",
   "execution_count": null,
   "id": "1b0b0093-f110-4cb3-b270-b51f894b3ca2",
   "metadata": {},
   "outputs": [],
   "source": [
    "import intake\n",
    "import intake_esm\n",
    "import xarray as xr\n",
    "import matplotlib.pyplot as plt\n",
    "import cartopy.crs as ccrs\n",
    "import numpy as np\n",
    "import fsspec\n",
    "import cmocean\n",
    "import cartopy\n",
    "import cartopy.feature as cfeature\n",
    "from cartopy.mpl.ticker import LongitudeFormatter, LatitudeFormatter\n",
    "import pop_tools\n",
    "import sys\n",
    "from distributed import Client\n",
    "from ncar_jobqueue import NCARCluster\n",
    "sys.path.append('../functions')\n",
    "import util\n",
    "from cartopy.util import add_cyclic_point\n",
    "from misc import get_ij\n",
    "import warnings, getpass, os"
   ]
  },
  {
   "cell_type": "markdown",
   "id": "29691e0e-56ba-43da-bb20-941c1061f931",
   "metadata": {},
   "source": [
    "<div class=\"alert alert-block alert-info\">\n",
    "<b>Note:</b> comment the following line when debugging\n",
    "</div>"
   ]
  },
  {
   "cell_type": "code",
   "execution_count": null,
   "id": "828694db-f99e-466d-a578-20a8e0bf8690",
   "metadata": {},
   "outputs": [],
   "source": [
    "warnings.filterwarnings(\"ignore\")"
   ]
  },
  {
   "cell_type": "markdown",
   "id": "cc1cffc6-da9c-4783-b699-f658314a7d33",
   "metadata": {},
   "source": [
    "### Local functions"
   ]
  },
  {
   "cell_type": "markdown",
   "id": "c2eb5cc4-cb2a-4a93-835e-1b50945fcee8",
   "metadata": {},
   "source": [
    "### Dask workers"
   ]
  },
  {
   "cell_type": "code",
   "execution_count": null,
   "id": "30764d6a-8b79-4df8-bef7-c29af81b4d44",
   "metadata": {},
   "outputs": [],
   "source": [
    "mem_per_worker = 30 # in GB \n",
    "num_workers = 30 \n",
    "cluster = NCARCluster(cores=4, processes=3, memory=f'{mem_per_worker} GB',resource_spec=f'select=1:ncpus=6:mem={mem_per_worker}GB')\n",
    "cluster.scale(num_workers)\n",
    "client = Client(cluster)\n",
    "print(client)\n",
    "client"
   ]
  },
  {
   "cell_type": "markdown",
   "id": "d22c9abb-b88c-4b6a-9d34-1a12aceacd56",
   "metadata": {},
   "source": [
    "### Data Ingest"
   ]
  },
  {
   "cell_type": "code",
   "execution_count": null,
   "id": "12b4bdae-8fde-4156-b32e-76d318bbabb1",
   "metadata": {},
   "outputs": [],
   "source": [
    "%%time\n",
    "catalog = intake.open_esm_datastore(\n",
    "    '/glade/collections/cmip/catalog/intake-esm-datastore/catalogs/glade-cesm2-le.json'\n",
    ")"
   ]
  },
  {
   "cell_type": "code",
   "execution_count": null,
   "id": "594b6f10-82b1-4280-8076-5bfbc77b992b",
   "metadata": {},
   "outputs": [],
   "source": [
    "catalog.search(component='ocn').unique('frequency')"
   ]
  },
  {
   "cell_type": "raw",
   "id": "f7424dc9-668f-47e9-a14b-22475950468d",
   "metadata": {},
   "source": [
    "# this prints all ocean variables that have montly frequency\n",
    "catalog.search(component='ocn', frequency='month_1').unique('variable')"
   ]
  },
  {
   "cell_type": "markdown",
   "id": "35bf8b98-519f-49df-be0d-4f2d07146834",
   "metadata": {},
   "source": [
    "### Let's search for variables with montly frequency"
   ]
  },
  {
   "cell_type": "code",
   "execution_count": null,
   "id": "705e20b0-44b4-4618-a90b-a28bb91cfdfb",
   "metadata": {},
   "outputs": [],
   "source": [
    "cat_subset = catalog.search(component='ocn',\n",
    "                            frequency='month_1',\n",
    "                            variable=['XMXL']) # Maximum Mixed Layer Depth"
   ]
  },
  {
   "cell_type": "code",
   "execution_count": null,
   "id": "d97198ae-ac37-4fb9-95fc-9e11bfdd081f",
   "metadata": {},
   "outputs": [],
   "source": [
    "%%time\n",
    "dset_dict_raw = cat_subset.to_dataset_dict()"
   ]
  },
  {
   "cell_type": "code",
   "execution_count": null,
   "id": "ca42d246-2d1a-4270-9212-93baaf1b9938",
   "metadata": {},
   "outputs": [],
   "source": [
    "# Variables\n",
    "fb=(['XMXL'])\n",
    "for ifb in range(0,len(fb)):\n",
    "    print(f'Variable: {fb[ifb]}')\n",
    "    str=f'ds_hist_cmip6_{fb[ifb]} = dset_dict_raw[\\'ocn.historical.pop.h.cmip6.{fb[ifb]}\\']'\n",
    "    exec(str)\n",
    "    str=f'ds_hist_smbb_{fb[ifb]} = dset_dict_raw[\\'ocn.historical.pop.h.smbb.{fb[ifb]}\\']'\n",
    "    exec(str)\n",
    "    str=f'ds_hist_{fb[ifb]} = xr.concat([ds_hist_cmip6_{fb[ifb]},ds_hist_smbb_{fb[ifb]}], dim=\\'member_id\\',data_vars=\\'minimal\\',coords=\\'minimal\\',compat=\\'override\\')'\n",
    "    exec(str)\n",
    "    str=f'mem=ds_hist_{fb[ifb]}.{fb[ifb]}.nbytes*1e-12 # in TB'\n",
    "    exec(str)\n",
    "    print(f'Memory: {mem} TB')\n",
    "    str=f'del ds_hist_cmip6_{fb[ifb]}; del ds_hist_smbb_{fb[ifb]}'; exec(str) \n",
    "print(f'Done!')"
   ]
  },
  {
   "cell_type": "markdown",
   "id": "0f042e83-dec5-4572-a76d-796c76f4e898",
   "metadata": {},
   "source": [
    "### Import the POP grid"
   ]
  },
  {
   "cell_type": "markdown",
   "id": "fb103bae-6155-4d67-a126-4ffd1de683e4",
   "metadata": {},
   "source": [
    "If you choose the ocean component of LENS2, you will need to import the POP grid. For the other components, you can use the emsemble's own grid. \n",
    "\n",
    "In ds, TLONG and TLAT have missing values (NaNs), so we need to override them with the values from pop_grid, which does not have missing values."
   ]
  },
  {
   "cell_type": "code",
   "execution_count": null,
   "id": "cb0ff314-430b-42bd-b222-f26a8d40cc20",
   "metadata": {},
   "outputs": [],
   "source": [
    "# Read the pop 1 deg grid from pop_tools\n",
    "# We will use variables TLONG and TLAT\n",
    "pop_grid = pop_tools.get_grid('POP_gx1v7')\n",
    "for ifb in range(0,len(fb)):\n",
    "    print(f'Variable: {fb[ifb]}')\n",
    "    str=f'ds_hist_{fb[ifb]}[\\'TLONG\\'] = pop_grid.TLONG'     # Longitud\n",
    "    exec(str)\n",
    "    str=f'ds_hist_{fb[ifb]}[\\'TLAT\\'] = pop_grid.TLAT'       # Latitudes\n",
    "    exec(str)\n",
    "    str=f'ds_hist_{fb[ifb]}[\\'TLONG\\'] = pop_grid.TLONG'     # Longitud\n",
    "    exec(str)\n",
    "    str=f'ds_hist_{fb[ifb]}[\\'TLAT\\'] = pop_grid.TLAT'       # Latitudes\n",
    "    exec(str)"
   ]
  },
  {
   "cell_type": "code",
   "execution_count": null,
   "id": "de97b8b1-73da-478e-bc40-43d8f7425c55",
   "metadata": {},
   "outputs": [],
   "source": [
    "ds_var_1231 = ds_hist_XMXL.XMXL.sel(member_id=['r1i1231p1f1','r2i1231p1f1','r3i1231p1f1','r4i1231p1f1','r5i1231p1f1','r6i1231p1f1','r7i1231p1f1','r8i1231p1f1','r9i1231p1f1','r10i1231p1f1']).mean(dim='time')#.plot()\n",
    "ds_var_1231 = ds_var_1231*-0.01 # cm to -m\n",
    "plt.figure(figsize=(10,6));\n",
    "ax = plt.axes(projection=ccrs.Robinson());\n",
    "pc = ds_var_1231.mean(dim='member_id').plot.pcolormesh(ax=ax,\n",
    "                    transform=ccrs.PlateCarree(),\n",
    "                    cmap=cmocean.cm.thermal,\n",
    "                    x='TLONG',\n",
    "                    y='TLAT',\n",
    "                    vmin=-700,\n",
    "                    vmax=0,\n",
    "                    cbar_kwargs={'orientation': 'horizontal'})                                    \n",
    "ax.gridlines(draw_labels=True);\n",
    "ax.coastlines()\n",
    "ax.gridlines();\n",
    "plt.title('i1231p1f1')\n",
    "del ds_var_1231"
   ]
  },
  {
   "cell_type": "markdown",
   "id": "b1a421b9-80de-4516-8a29-8638a12f2869",
   "metadata": {},
   "source": [
    "### Centralize the South Atlantic \n",
    "Need to combine the domain in the east/west direction to centralize the South Atlantic"
   ]
  },
  {
   "cell_type": "code",
   "execution_count": null,
   "id": "7916f00e-c46e-4798-9e54-efcd2dd758a9",
   "metadata": {},
   "outputs": [],
   "source": [
    "ds_hist_XMXL=ds_hist_XMXL.XMXL\n",
    "ds_hist_XMXL=ds_hist_XMXL*-0.01 # cm to -m"
   ]
  },
  {
   "cell_type": "code",
   "execution_count": null,
   "id": "24096435-e13e-4244-be96-c8a931d60a84",
   "metadata": {},
   "outputs": [],
   "source": [
    "ilat, flat = 280, 384\n",
    "ilon1, flon1, ilon2, flon2 = 280, 320, 0, 57\n",
    "na_ds_XMXL=xr.combine_nested([[ds_hist_XMXL.isel(nlat = slice(ilat,flat),nlon = slice(ilon1,flon1)),ds_hist_XMXL.isel(nlat = slice(ilat,flat),nlon = slice(ilon2,flon2))]],concat_dim=['nlat','nlon'])\n",
    "na_ds_XMXL.coords['TLONG'] = (na_ds_XMXL.coords['TLONG'] + 180) % 360 - 180 # change the longitudes: -180 0 180"
   ]
  },
  {
   "cell_type": "code",
   "execution_count": null,
   "id": "ae1c596b-e357-4f01-b46a-772c3fc94d7f",
   "metadata": {},
   "outputs": [],
   "source": [
    "# simple check\n",
    "na_ds_XMXL.isel(time=2, member_id=0).plot()"
   ]
  },
  {
   "cell_type": "code",
   "execution_count": null,
   "id": "eb5b711f-c0e5-4a84-ac89-85f3b3b6ba5d",
   "metadata": {},
   "outputs": [],
   "source": [
    "%%time\n",
    "plt.figure(figsize=(10,6));\n",
    "ax = plt.axes(projection=ccrs.Robinson());\n",
    "pc = na_ds_XMXL.isel(member_id=0).mean(dim='time').plot.pcolormesh(ax=ax,\n",
    "                    transform=ccrs.PlateCarree(),\n",
    "                    cmap=cmocean.cm.balance,\n",
    "                    x='TLONG',\n",
    "                    y='TLAT',\n",
    "                    #vmin=10,\n",
    "                    #vmax=30,\n",
    "                    cbar_kwargs={\"orientation\": \"horizontal\"})                                    \n",
    "ax.gridlines(draw_labels=True);\n",
    "ax.coastlines()\n",
    "ax.gridlines();"
   ]
  },
  {
   "cell_type": "code",
   "execution_count": null,
   "id": "a934daee-671f-47ef-89df-bbee728abe22",
   "metadata": {},
   "outputs": [],
   "source": [
    "na_ds_XMXL.isel(member_id=0).mean(dim='time').sel(nlat=50,method='nearest')"
   ]
  },
  {
   "cell_type": "code",
   "execution_count": null,
   "id": "05d05ae6-77e2-4f07-a2d4-f95e4b87aca6",
   "metadata": {},
   "outputs": [],
   "source": [
    "%%time\n",
    "# Compute a value to define a region of maximum in each section. \n",
    "Z1 = na_ds_XMXL.mean(dim='member_id').isel(nlat=67)\n",
    "Z1_max=np.sort(np.max(Z1, axis=1).values)[-4] # I chose a region of maximum, selecting the fourth maximum value of all the years\n",
    "print(round(Z1_max,1))\n",
    "\n",
    "Z2 = na_ds_XMXL.mean(dim='member_id').isel(nlon=29)\n",
    "Z2_max=np.sort(np.max(Z2, axis=1).values)[-4]\n",
    "print(round(Z2_max,1))\n",
    "\n",
    "Z3 = na_ds_XMXL.mean(dim='member_id').isel(nlat=95)\n",
    "Z3_max=np.sort(np.max(Z3, axis=1).values)[-4]\n",
    "print(round(Z3_max,1))\n",
    "\n",
    "Z4 = na_ds_XMXL.mean(dim='member_id').isel(nlon=85)\n",
    "Z4_max=np.sort(np.max(Z4, axis=1).values)[-4]\n",
    "print(round(Z4_max,1))\n",
    "\n",
    "X = np.meshgrid(na_ds_XMXL['TLONG'],na_ds_XMXL['time'])\n",
    "Y = np.meshgrid(na_ds_XMXL['TLAT'],na_ds_XMXL['time'])"
   ]
  },
  {
   "cell_type": "code",
   "execution_count": null,
   "id": "502dbe74-8085-4972-8953-032336ab4647",
   "metadata": {},
   "outputs": [],
   "source": [
    "np.max(na_ds_XMXL.isel(nlat=67,nlon=30).mean(dim='member_id'),axis=0).plot()"
   ]
  },
  {
   "cell_type": "code",
   "execution_count": null,
   "id": "4fdacd6d-3e56-47df-b019-40a4b985def7",
   "metadata": {},
   "outputs": [],
   "source": [
    "mn=-100\n",
    "mx=0"
   ]
  },
  {
   "cell_type": "code",
   "execution_count": null,
   "id": "cc6de3f5-6ed0-4f44-aaa3-50281c60e4e8",
   "metadata": {},
   "outputs": [],
   "source": [
    "%%time\n",
    "# Plot\n",
    "fig, (ax1, ax2, ax3, ax4) = plt.subplots(1, 4, figsize=[17, 5])\n",
    "ax1.contourf(X, Y, Z1, 20, vmin=mn, vmax=mx, cmap=\"RdBu_r\")\n",
    "ax2.contourf(X, Y, Z2, 20, vmin=mn, vmax=mx, cmap=\"RdBu_r\")\n",
    "ax3.contourf(X, Y, Z3, 20, vmin=mn, vmax=mx, cmap=\"RdBu_r\")\n",
    "\n",
    "im = ax4.contourf(X, Y, Z4, 20, vmin=mn, vmax=mx, cmap=\"RdBu_r\")\n",
    "axins = inset_axes(ax4, width='5%', height='100%', loc='lower left', bbox_to_anchor=(1.05, 0., 1, 1), bbox_transform=ax4.transAxes, borderpad=0)\n",
    "fig.colorbar(im, cax=axins, ticks=range(mn, mx, 2),label='Sv')\n",
    "\n",
    "# Subplots\n",
    "fmax=10\n",
    "ax1.contour(X, Y, Z1, levels = [0], colors=('k',), linestyles=('--',), linewidths=(1,)); CS=ax1.contour(X, Y, Z1, levels = [-7.7], colors=('k',), linestyles=('-',), linewidths=(2,))\n",
    "ax1.clabel(CS, inline=True, fontsize=fmax); del CS\n",
    "\n",
    "ax2.contour(X, Y, Z2, levels = [0], colors=('k',), linestyles=('--',), linewidths=(1,)); CS=ax2.contour(X, Y, Z2, levels = [-21.4], colors=('k',), linestyles=('-',), linewidths=(2,))\n",
    "ax2.clabel(CS, inline=True, fontsize=fmax); del CS\n",
    "\n",
    "ax3.contour(X, Y, Z3, levels = [0], colors=('k',), linestyles=('--',), linewidths=(1,)); CS=ax3.contour(X, Y, Z3, levels = [-9.1], colors=('k',), linestyles=('-',), linewidths=(2,))\n",
    "ax3.clabel(CS, inline=True, fontsize=fmax); del CS\n",
    "\n",
    "ax4.contour(X, Y, Z4, levels = [0], colors=('k',), linestyles=('--',), linewidths=(1,)); CS=ax4.contour(X, Y, Z4, levels = [-8.7], colors=('k',), linestyles=('-',), linewidths=(2,))\n",
    "ax4.clabel(CS, inline=True, fontsize=fmax); del CS\n",
    "\n",
    "#Labels\n",
    "ax1.set_title('-33.008255S (SAMOC-34.5S)'); ax2.set_title('-10.9519205S (11S)'); ax3.set_title('26.273556N (RAPID)'); ax4.set_title('39.953373N (AMOC Maxima)')\n",
    "ax1.set_xlabel('Depth [m]'); ax2.set_xlabel('Depth [m]'); ax3.set_xlabel('Depth [m]'); ax4.set_xlabel('Depth [m]')\n",
    "ax1.set_ylabel('Time [Years]')\n",
    "ax1.grid(color='k', linestyle='-', linewidth=0.7); ax2.grid(color='k', linestyle='-', linewidth=0.7); ax3.grid(color='k', linestyle='-', linewidth=0.7); ax4.grid(color='k', linestyle='-', linewidth=0.7)\n",
    "plt.show()"
   ]
  }
 ],
 "metadata": {
  "kernelspec": {
   "display_name": "NPL 2022b",
   "language": "python",
   "name": "npl-2022b"
  },
  "language_info": {
   "codemirror_mode": {
    "name": "ipython",
    "version": 3
   },
   "file_extension": ".py",
   "mimetype": "text/x-python",
   "name": "python",
   "nbconvert_exporter": "python",
   "pygments_lexer": "ipython3",
   "version": "3.8.13"
  }
 },
 "nbformat": 4,
 "nbformat_minor": 5
}
