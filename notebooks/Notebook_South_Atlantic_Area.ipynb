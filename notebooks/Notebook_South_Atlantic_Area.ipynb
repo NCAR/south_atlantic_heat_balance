{
 "cells": [
  {
   "cell_type": "markdown",
   "id": "80b35905-7510-4a8c-a558-978aa1e07b3c",
   "metadata": {},
   "source": [
    "## CESM2 - LARGE ENSEMBLE (LENS2)\n",
    "\n",
    "#### by Mauricio Rocha and Dr. Gustavo Marques\n",
    "\n",
    "#### The objective of this notebook is to cut out the South Atlantic region, but keeping a part of the Tropical Atlantic so that the Intertropical Convergence Zone (ITCZ) region is contemplated."
   ]
  },
  {
   "cell_type": "markdown",
   "id": "24be9cde-8f0a-4c83-988e-89528a758f21",
   "metadata": {},
   "source": [
    "## Imports"
   ]
  },
  {
   "cell_type": "code",
   "execution_count": null,
   "id": "1b0b0093-f110-4cb3-b270-b51f894b3ca2",
   "metadata": {},
   "outputs": [],
   "source": [
    "import intake\n",
    "import intake_esm\n",
    "import xarray as xr\n",
    "import matplotlib.pyplot as plt\n",
    "import cartopy.crs as ccrs\n",
    "import numpy as np\n",
    "import fsspec\n",
    "import cmocean\n",
    "import cartopy\n",
    "import cartopy.feature as cfeature\n",
    "from cartopy.mpl.ticker import LongitudeFormatter, LatitudeFormatter\n",
    "import pop_tools\n",
    "import sys\n",
    "from distributed import Client\n",
    "from ncar_jobqueue import NCARCluster\n",
    "sys.path.append('/glade/u/home/mauricio/south_atlantic_heat_balance/functions')\n",
    "import util\n",
    "from cartopy.util import add_cyclic_point\n",
    "from misc import get_ij"
   ]
  },
  {
   "cell_type": "markdown",
   "id": "1dd7e2b9-b9f6-4c4f-a105-4c2579ab51cc",
   "metadata": {},
   "source": [
    "## Improve the workflow using clusters \n",
    "\n",
    "### We tested different numbers of workers and memory so as to decide which one had better computational performance evaluated by the following: How much time does it require to process the average of 11 members and 10000 days of SST? \n",
    "##### code line used to that test: sst_mean = ds.SST.isel(member_id=slice(0, 10)).isel(time=slice(0,10000)).mean(dim=[\"member_id\",\"time\"]).plot()\n",
    "#### Results:\n",
    "###### * 40 workers and 20 Gb of memory took 14 sec. \n",
    "###### * 70 workers and 5 Gb of memeory took 15.2 sec.\n",
    "###### * 10 workers and 35 Gb of memory took 35 sec. \n",
    "###### * 40 workers and 3 Gb of memory did not work due to the too low memory. \n",
    "###### * 40 workers and 6 Gb of memory took 14.4 sec.\n",
    "###### * 50 workers and 0.5 Gb of memory did not work due to the too low memory.\n",
    "###### * 50 workers and 1 Gb of memory took did not work due to the too low memory.\n",
    "###### * 60 workers and 6 Gb of memory took 13.7 sec and was the WINNER!"
   ]
  },
  {
   "cell_type": "code",
   "execution_count": null,
   "id": "a0b1055d-fa4a-476d-855a-a763be57282f",
   "metadata": {},
   "outputs": [],
   "source": [
    "cluster = NCARCluster(cores=2, # The number of cores you want\n",
    "                      processes=1, # How many processes\n",
    "                      resource_spec='select=1:ncpus=1:mem=6GB') # Specify resources\n",
    "cluster.scale(60) # Workers\n",
    "client = Client(cluster)\n",
    "client"
   ]
  },
  {
   "cell_type": "markdown",
   "id": "d22c9abb-b88c-4b6a-9d34-1a12aceacd56",
   "metadata": {},
   "source": [
    "## Data Ingest"
   ]
  },
  {
   "cell_type": "markdown",
   "id": "6b87ebfd-a5e8-4d36-8277-6b682a0c891b",
   "metadata": {
    "tags": []
   },
   "source": [
    "### Path"
   ]
  },
  {
   "cell_type": "code",
   "execution_count": null,
   "id": "12b4bdae-8fde-4156-b32e-76d318bbabb1",
   "metadata": {},
   "outputs": [],
   "source": [
    "%%time\n",
    "catalog = intake.open_esm_datastore(\n",
    "    '/glade/collections/cmip/catalog/intake-esm-datastore/catalogs/glade-cesm2-le.json'\n",
    ")"
   ]
  },
  {
   "cell_type": "code",
   "execution_count": null,
   "id": "d80f771c-7247-4de4-bf34-88449f49f27f",
   "metadata": {},
   "outputs": [],
   "source": [
    "catalog.df"
   ]
  },
  {
   "cell_type": "markdown",
   "id": "35bf8b98-519f-49df-be0d-4f2d07146834",
   "metadata": {},
   "source": [
    "### How does the variable look like? "
   ]
  },
  {
   "cell_type": "code",
   "execution_count": null,
   "id": "705e20b0-44b4-4618-a90b-a28bb91cfdfb",
   "metadata": {},
   "outputs": [],
   "source": [
    "cat_subset = catalog.search(component='ocn',\n",
    "                            variable='SST',\n",
    "                            frequency='day_1')\n",
    "#                           frequency='day_1').df.variable.unique() # Here, you can see all the variables available for the frequency and for the component specified. "
   ]
  },
  {
   "cell_type": "code",
   "execution_count": null,
   "id": "d97198ae-ac37-4fb9-95fc-9e11bfdd081f",
   "metadata": {},
   "outputs": [],
   "source": [
    "%%time\n",
    "dset_dict_raw = cat_subset.to_dataset_dict()"
   ]
  },
  {
   "cell_type": "code",
   "execution_count": null,
   "id": "8aa41912-02e1-47c7-a267-3e680f7f6be8",
   "metadata": {},
   "outputs": [],
   "source": [
    "ds = dset_dict_raw['ocn.historical.pop.h.nday1.cmip6.SST']   # daily"
   ]
  },
  {
   "cell_type": "code",
   "execution_count": null,
   "id": "6cd255e0-8870-41fc-a8fc-8b34fa1c1af9",
   "metadata": {},
   "outputs": [],
   "source": [
    "ds"
   ]
  },
  {
   "cell_type": "markdown",
   "id": "9cd6d3ae-ea68-4d3e-82bc-23e30d948a40",
   "metadata": {},
   "source": [
    "##### Here we know that the structure used 850 chunks and each chunk has 1.67 GB. The total data memory is 1.35 TB. Each member has 27 GB."
   ]
  },
  {
   "cell_type": "markdown",
   "id": "0f042e83-dec5-4572-a76d-796c76f4e898",
   "metadata": {},
   "source": [
    "## Import the POP grid"
   ]
  },
  {
   "cell_type": "markdown",
   "id": "fb103bae-6155-4d67-a126-4ffd1de683e4",
   "metadata": {},
   "source": [
    "##### If you choose the ocean component of LENS2, you will need to import the POP grid. For the other components, you can use the emsemble's own grid. \n",
    "\n",
    "##### In ds, TLONG and TLAT have missing values (NaNs), so we need to override them with the values from pop_grid, which does not have missing values."
   ]
  },
  {
   "cell_type": "code",
   "execution_count": null,
   "id": "cb0ff314-430b-42bd-b222-f26a8d40cc20",
   "metadata": {},
   "outputs": [],
   "source": [
    "# Read the pop 1 deg grid from pop_tools\n",
    "# We will use variables TLONG and TLAT\n",
    "pop_grid = pop_tools.get_grid('POP_gx1v7')\n",
    "ds['TLONG'] = pop_grid.TLONG   # Longitud\n",
    "ds['TLAT'] = pop_grid.TLAT     # Latitudes"
   ]
  },
  {
   "cell_type": "markdown",
   "id": "3b10e51f-5152-417e-9be0-0d5da75387ee",
   "metadata": {},
   "source": [
    "## Test"
   ]
  },
  {
   "cell_type": "markdown",
   "id": "a3d70e85-a10e-4c09-b0a2-a0f392c2f1c2",
   "metadata": {},
   "source": [
    "#### Here we made a test to evaluate the amount of workers and memory. We plotted the average SST from the first to the eleventh member and from the first to 10000 time. "
   ]
  },
  {
   "cell_type": "code",
   "execution_count": null,
   "id": "de97b8b1-73da-478e-bc40-43d8f7425c55",
   "metadata": {},
   "outputs": [],
   "source": [
    "%%time\n",
    "#SST_mean=ds.SST.isel(time=slice(0,10000)).mean(dim=\"time\")[1,:,:].compute()\n",
    "#SST_mean.plot()\n",
    "sst_mean = ds.SST.isel(member_id=slice(0, 10)).isel(time=slice(0,10000)).mean(dim=[\"member_id\",\"time\"]).plot()"
   ]
  },
  {
   "cell_type": "code",
   "execution_count": null,
   "id": "5e5477f2-8c0c-491f-9d0d-0fe0d4b4660a",
   "metadata": {},
   "outputs": [],
   "source": [
    "sst_mean = ds.SST.isel(member_id=slice(0, 10)).isel(time=slice(0,10000)).mean(dim=['member_id','time'])\n",
    "sst_mean"
   ]
  },
  {
   "cell_type": "code",
   "execution_count": null,
   "id": "c6fa7148-6664-49e1-96de-0d2267d84147",
   "metadata": {},
   "outputs": [],
   "source": [
    "sst_mean"
   ]
  },
  {
   "cell_type": "markdown",
   "id": "aad6df90-e4f4-4f7b-9756-ebc2f4755f21",
   "metadata": {},
   "source": [
    "## Map "
   ]
  },
  {
   "cell_type": "code",
   "execution_count": null,
   "id": "f668aba2-bc8a-497a-aef2-b500d892425f",
   "metadata": {},
   "outputs": [],
   "source": [
    "%%time\n",
    "plt.figure(figsize=(10,6));\n",
    "ax = plt.axes(projection=ccrs.Robinson());\n",
    "#pc = ds.SST.isel(time=0, member_id=0).plot.pcolormesh(ax=ax,\n",
    "pc = sst_mean.plot.pcolormesh(ax=ax,\n",
    "                              transform=ccrs.PlateCarree(),\n",
    "                              cmap=cmocean.cm.balance,\n",
    "                              x='TLONG',\n",
    "                              y='TLAT',\n",
    "                              vmin=-3,\n",
    "                              vmax=30,\n",
    "                              cbar_kwargs={\"orientation\": \"horizontal\"})                                    \n",
    "ax.gridlines(draw_labels=True);\n",
    "ax.coastlines()\n",
    "ax.gridlines()"
   ]
  },
  {
   "cell_type": "code",
   "execution_count": null,
   "id": "ffd6b5fd-0eda-4bac-a4b3-ce7492e74c71",
   "metadata": {},
   "outputs": [],
   "source": [
    "#dsp = util.pop_add_cyclic(ds)\n",
    "#dsp"
   ]
  },
  {
   "cell_type": "markdown",
   "id": "b1a421b9-80de-4516-8a29-8638a12f2869",
   "metadata": {},
   "source": [
    "## Centralize the South Atlantic "
   ]
  },
  {
   "cell_type": "markdown",
   "id": "498d7fd1-626c-4539-b56d-5f7b8a1a46d4",
   "metadata": {},
   "source": [
    "### Concatenation "
   ]
  },
  {
   "cell_type": "code",
   "execution_count": null,
   "id": "50ca7300-80bf-4237-a142-262575dc7a6d",
   "metadata": {},
   "outputs": [],
   "source": [
    "#sw_lo, sw_la = get_ij(-80, -60, dsp)   # southwest (lon, lat)\n",
    "#se_lo, se_la = get_ij(30, -60, dsp)  # southeast (lon, lat)\n",
    "#nw_lo, nw_la = get_ij(-80, 30, dsp)   # northwest (lon, lat)\n",
    "#ne_lo, ne_la = get_ij(30, 30, dsp)  # northeast (lon, lat)\n",
    "#print('Southwest Edge (indices): sw_lo = {}, sw_la = {}'.format(sw_lo,sw_la))\n",
    "#print('Southeast Edge (indices): se_lo = {}, se_la = {}'.format(se_lo,se_la))\n",
    "#print('Northwest Edge (indices): nw_lo = {}, nw_la = {}'.format(nw_lo,nw_la))\n",
    "#print('Northeast Edge (indices): ne_lo = {}, ne_la = {}'.format(ne_lo,ne_la))"
   ]
  },
  {
   "cell_type": "code",
   "execution_count": null,
   "id": "31fc6cd0-794c-4939-8721-e23397ce2393",
   "metadata": {},
   "outputs": [],
   "source": [
    "#area = dsp.TAREA.isel(nlon = slice(sw_lo,se_lo),nlat = slice(sw_la,ne_la))\n",
    "#start = \"1960-01-01\" # first time\n",
    "#end   = \"2015-01-01\" # last time\n",
    "#area"
   ]
  },
  {
   "cell_type": "code",
   "execution_count": null,
   "id": "a53fe6a3-932a-4bbf-b3b7-192ee672591c",
   "metadata": {},
   "outputs": [],
   "source": [
    "#%%time\n",
    "#ds_remapped = ds.SST.isel(nlon = slice(sw_lo,se_lo), nlat = slice(sw_la,ne_la),\n",
    "#                            ).sel(time = slice(start,end)).weighted(area).mean(dim=['time']).load()"
   ]
  },
  {
   "cell_type": "code",
   "execution_count": null,
   "id": "7ba439a1-f6b1-4119-b9ea-104a52f9bd79",
   "metadata": {},
   "outputs": [],
   "source": [
    "#xr.concat([ds.SST[:,:,20:250,290:320], ds.SST[:,:,20:250,0:60]], dim='nlon')"
   ]
  },
  {
   "cell_type": "code",
   "execution_count": null,
   "id": "24096435-e13e-4244-be96-c8a931d60a84",
   "metadata": {},
   "outputs": [],
   "source": [
    "sa_ds=xr.combine_nested([\n",
    "     [ds.isel(nlat = slice(20,280),nlon = slice(290,320)),\n",
    "      ds.isel(nlat = slice(20,280),nlon = slice(0,60))]],\n",
    "    concat_dim=['nlat','nlon']\n",
    ")"
   ]
  },
  {
   "cell_type": "code",
   "execution_count": null,
   "id": "eb5b711f-c0e5-4a84-ac89-85f3b3b6ba5d",
   "metadata": {},
   "outputs": [],
   "source": [
    "%%time\n",
    "plt.figure(figsize=(10,6));\n",
    "ax = plt.axes(projection=ccrs.Robinson());\n",
    "pc = sa_ds.SST.isel(time=0, member_id=0).plot.pcolormesh(ax=ax,\n",
    "                              transform=ccrs.PlateCarree(),\n",
    "                              cmap=cmocean.cm.balance,\n",
    "                              x='TLONG',\n",
    "                              y='TLAT',\n",
    "                              vmin=-3,\n",
    "                              vmax=30,\n",
    "                              cbar_kwargs={\"orientation\": \"horizontal\"})                                    \n",
    "ax.gridlines(draw_labels=True);\n",
    "ax.coastlines()\n",
    "ax.gridlines()"
   ]
  }
 ],
 "metadata": {
  "kernelspec": {
   "display_name": "NPL (conda)",
   "language": "python",
   "name": "npl-conda"
  },
  "language_info": {
   "codemirror_mode": {
    "name": "ipython",
    "version": 3
   },
   "file_extension": ".py",
   "mimetype": "text/x-python",
   "name": "python",
   "nbconvert_exporter": "python",
   "pygments_lexer": "ipython3",
   "version": "3.7.12"
  }
 },
 "nbformat": 4,
 "nbformat_minor": 5
}
