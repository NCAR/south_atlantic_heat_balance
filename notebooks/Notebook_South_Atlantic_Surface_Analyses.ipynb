{
 "cells": [
  {
   "cell_type": "markdown",
   "id": "80b35905-7510-4a8c-a558-978aa1e07b3c",
   "metadata": {},
   "source": [
    "## CESM2 - LARGE ENSEMBLE (LENS2)\n",
    "\n",
    "#### by Mauricio Rocha and Dr. Gustavo Marques\n",
    "\n",
    "- This notebooks servers as an example on how to extract surface (or any other 2D spatial field) properties from a selected spacial region accross all LENS2 members"
   ]
  },
  {
   "cell_type": "markdown",
   "id": "24be9cde-8f0a-4c83-988e-89528a758f21",
   "metadata": {},
   "source": [
    "## Imports"
   ]
  },
  {
   "cell_type": "code",
   "execution_count": null,
   "id": "1b0b0093-f110-4cb3-b270-b51f894b3ca2",
   "metadata": {},
   "outputs": [],
   "source": [
    "import intake\n",
    "import intake_esm\n",
    "import xarray as xr\n",
    "import matplotlib.pyplot as plt\n",
    "import cartopy.crs as ccrs\n",
    "import numpy as np\n",
    "import fsspec\n",
    "import cmocean\n",
    "import cartopy\n",
    "import cartopy.feature as cfeature\n",
    "from cartopy.mpl.ticker import LongitudeFormatter, LatitudeFormatter\n",
    "import pop_tools\n",
    "import sys\n",
    "from distributed import Client\n",
    "from ncar_jobqueue import NCARCluster\n",
    "sys.path.append('../functions')\n",
    "import util\n",
    "from cartopy.util import add_cyclic_point\n",
    "from misc import get_ij\n",
    "import warnings, getpass, os"
   ]
  },
  {
   "cell_type": "markdown",
   "id": "29691e0e-56ba-43da-bb20-941c1061f931",
   "metadata": {},
   "source": [
    "<div class=\"alert alert-block alert-info\">\n",
    "<b>Note:</b> comment the following line when debugging\n",
    "</div>"
   ]
  },
  {
   "cell_type": "code",
   "execution_count": null,
   "id": "828694db-f99e-466d-a578-20a8e0bf8690",
   "metadata": {},
   "outputs": [],
   "source": [
    "warnings.filterwarnings(\"ignore\")"
   ]
  },
  {
   "cell_type": "markdown",
   "id": "cc1cffc6-da9c-4783-b699-f658314a7d33",
   "metadata": {},
   "source": [
    "### Local functions"
   ]
  },
  {
   "cell_type": "code",
   "execution_count": null,
   "id": "7ce1ad65-0be7-40b3-8436-c52dcbc2e5b0",
   "metadata": {},
   "outputs": [],
   "source": [
    "def rms_da(da, dims=('nlat', 'nlon'), weights=None,  weights_sum=None):\n",
    "  \"\"\"\n",
    "  Calculates the rms in DataArray da (optional weighted rms).\n",
    "\n",
    "  ----------\n",
    "  da : xarray.DataArray\n",
    "        DataArray for which to compute (weighted) rms.\n",
    "\n",
    "  dims : tuple, str\n",
    "    Dimension(s) over which to apply reduction. Default is ('yh', 'xh').\n",
    "\n",
    "  weights : xarray.DataArray, optional\n",
    "    weights to apply. It can be a masked array.\n",
    "\n",
    "  weights_sum : xarray.DataArray, optional\n",
    "    Total weight (i.e., weights.sum()). Only computed if not provided.\n",
    "\n",
    "  Returns\n",
    "  -------\n",
    "  reduction : DataSet\n",
    "      xarray.Dataset with (optionally weighted) rms for da.\n",
    "  \"\"\"\n",
    "\n",
    "  if weights is not None:\n",
    "    if weights_sum is None: weights_sum = weights.sum(dim=dims)\n",
    "    out = np.sqrt((da**2 * weights).sum(dim=dims)/weights_sum)\n",
    "    # copy attrs\n",
    "    out.attrs = da.attrs\n",
    "    return out\n",
    "  else:\n",
    "    return np.sqrt((da**2).mean(dim=dims, keep_attrs=True))"
   ]
  },
  {
   "cell_type": "markdown",
   "id": "c2eb5cc4-cb2a-4a93-835e-1b50945fcee8",
   "metadata": {},
   "source": [
    "### Dask workers"
   ]
  },
  {
   "cell_type": "code",
   "execution_count": null,
   "id": "30764d6a-8b79-4df8-bef7-c29af81b4d44",
   "metadata": {},
   "outputs": [],
   "source": [
    "mem_per_worker = 60 # in GB \n",
    "num_workers = 80 \n",
    "cluster = NCARCluster(cores=4, processes=3, memory=f'{mem_per_worker} GB',resource_spec=f'select=1:ncpus=6:mem={mem_per_worker}GB')\n",
    "cluster.scale(num_workers)\n",
    "client = Client(cluster)\n",
    "print(client)\n",
    "client"
   ]
  },
  {
   "cell_type": "markdown",
   "id": "d22c9abb-b88c-4b6a-9d34-1a12aceacd56",
   "metadata": {},
   "source": [
    "### Data Ingest"
   ]
  },
  {
   "cell_type": "code",
   "execution_count": null,
   "id": "12b4bdae-8fde-4156-b32e-76d318bbabb1",
   "metadata": {},
   "outputs": [],
   "source": [
    "%%time\n",
    "catalog = intake.open_esm_datastore(\n",
    "    '/glade/collections/cmip/catalog/intake-esm-datastore/catalogs/glade-cesm2-le.json'\n",
    ")"
   ]
  },
  {
   "cell_type": "code",
   "execution_count": null,
   "id": "594b6f10-82b1-4280-8076-5bfbc77b992b",
   "metadata": {},
   "outputs": [],
   "source": [
    "catalog.search(component='ocn').unique('frequency')"
   ]
  },
  {
   "cell_type": "code",
   "execution_count": null,
   "id": "fba13d7a-3ea3-41c2-97e6-ebfa6ef1fe85",
   "metadata": {},
   "outputs": [],
   "source": [
    "# this prints all ocean variables that have montly frequency\n",
    "#catalog.search(component='ocn', frequency='month_1').unique('variable')"
   ]
  },
  {
   "cell_type": "markdown",
   "id": "35bf8b98-519f-49df-be0d-4f2d07146834",
   "metadata": {},
   "source": [
    "### Let's search for TEMP with montly frequency"
   ]
  },
  {
   "cell_type": "code",
   "execution_count": null,
   "id": "705e20b0-44b4-4618-a90b-a28bb91cfdfb",
   "metadata": {},
   "outputs": [],
   "source": [
    "cat_subset = catalog.search(component='ocn',\n",
    "                            frequency='month_1',\n",
    "                            variable='TEMP')"
   ]
  },
  {
   "cell_type": "code",
   "execution_count": null,
   "id": "d97198ae-ac37-4fb9-95fc-9e11bfdd081f",
   "metadata": {},
   "outputs": [],
   "source": [
    "%%time\n",
    "dset_dict_raw = cat_subset.to_dataset_dict()"
   ]
  },
  {
   "cell_type": "code",
   "execution_count": null,
   "id": "8aa41912-02e1-47c7-a267-3e680f7f6be8",
   "metadata": {},
   "outputs": [],
   "source": [
    "# print keys\n",
    "[key for key in dset_dict_raw.keys()]"
   ]
  },
  {
   "cell_type": "code",
   "execution_count": null,
   "id": "6cd255e0-8870-41fc-a8fc-8b34fa1c1af9",
   "metadata": {},
   "outputs": [],
   "source": [
    "ds_hist_cmip6 = dset_dict_raw['ocn.historical.pop.h.cmip6.TEMP'] "
   ]
  },
  {
   "cell_type": "code",
   "execution_count": null,
   "id": "2b32fd24-55fc-4cf0-965b-5c834e5b43cd",
   "metadata": {},
   "outputs": [],
   "source": [
    "ds_hist_smbb = dset_dict_raw['ocn.historical.pop.h.smbb.TEMP'] "
   ]
  },
  {
   "cell_type": "code",
   "execution_count": null,
   "id": "ca42d246-2d1a-4270-9212-93baaf1b9938",
   "metadata": {},
   "outputs": [],
   "source": [
    "ds_all = xr.concat([ds_hist_cmip6,ds_hist_smbb], dim='member_id', \n",
    "                     data_vars='minimal',coords=\"minimal\",\n",
    "                     compat=\"override\")\n",
    "ds_all.TEMP.nbytes*1e-12 # in TB"
   ]
  },
  {
   "cell_type": "code",
   "execution_count": null,
   "id": "4accdd2b-46e5-451b-b3b6-1468d5c298cb",
   "metadata": {},
   "outputs": [],
   "source": [
    "ds_all.TEMP"
   ]
  },
  {
   "cell_type": "markdown",
   "id": "0f042e83-dec5-4572-a76d-796c76f4e898",
   "metadata": {},
   "source": [
    "### Import the POP grid"
   ]
  },
  {
   "cell_type": "markdown",
   "id": "fb103bae-6155-4d67-a126-4ffd1de683e4",
   "metadata": {},
   "source": [
    "If you choose the ocean component of LENS2, you will need to import the POP grid. For the other components, you can use the emsemble's own grid. \n",
    "\n",
    "In ds, TLONG and TLAT have missing values (NaNs), so we need to override them with the values from pop_grid, which does not have missing values."
   ]
  },
  {
   "cell_type": "code",
   "execution_count": null,
   "id": "cb0ff314-430b-42bd-b222-f26a8d40cc20",
   "metadata": {},
   "outputs": [],
   "source": [
    "# Read the pop 1 deg grid from pop_tools\n",
    "# We will use variables TLONG and TLAT\n",
    "pop_grid = pop_tools.get_grid('POP_gx1v7')\n",
    "ds_all['TLONG'] = pop_grid.TLONG   # Longitud\n",
    "ds_all['TLAT'] = pop_grid.TLAT     # Latitudes"
   ]
  },
  {
   "cell_type": "markdown",
   "id": "3b10e51f-5152-417e-9be0-0d5da75387ee",
   "metadata": {},
   "source": [
    "### Plot SST"
   ]
  },
  {
   "cell_type": "code",
   "execution_count": null,
   "id": "de97b8b1-73da-478e-bc40-43d8f7425c55",
   "metadata": {},
   "outputs": [],
   "source": [
    "%%time\n",
    "temp_tmp = ds_all.TEMP.isel(member_id=0, time=0, z_t=0)#.plot()"
   ]
  },
  {
   "cell_type": "code",
   "execution_count": null,
   "id": "7ec39a0e-5e31-4805-b11d-77f8856bf6cc",
   "metadata": {},
   "outputs": [],
   "source": [
    "%%time\n",
    "plt.figure(figsize=(10,6));\n",
    "ax = plt.axes(projection=ccrs.Robinson());\n",
    "pc = temp_tmp.plot.pcolormesh(ax=ax,\n",
    "                    transform=ccrs.PlateCarree(),\n",
    "                    cmap=cmocean.cm.balance,\n",
    "                    x='TLONG',\n",
    "                    y='TLAT',\n",
    "                    vmin=-3,\n",
    "                    vmax=30,\n",
    "                    cbar_kwargs={\"orientation\": \"horizontal\"})                                    \n",
    "ax.gridlines(draw_labels=True);\n",
    "ax.coastlines()\n",
    "ax.gridlines();"
   ]
  },
  {
   "cell_type": "markdown",
   "id": "b1a421b9-80de-4516-8a29-8638a12f2869",
   "metadata": {},
   "source": [
    "### Centralize the South Atlantic \n",
    "Need to combine the domain in the east/west direction to centralize the South Atlantic"
   ]
  },
  {
   "cell_type": "code",
   "execution_count": null,
   "id": "24096435-e13e-4244-be96-c8a931d60a84",
   "metadata": {},
   "outputs": [],
   "source": [
    "sa_ds=xr.combine_nested([\n",
    "     [ds_all.isel(nlat = slice(115,190),nlon = slice(300,320)),\n",
    "      ds_all.isel(nlat = slice(115,190),nlon = slice(0,60))]],\n",
    "    concat_dim=['nlat','nlon']\n",
    ")"
   ]
  },
  {
   "cell_type": "code",
   "execution_count": null,
   "id": "ae1c596b-e357-4f01-b46a-772c3fc94d7f",
   "metadata": {},
   "outputs": [],
   "source": [
    "# simple check\n",
    "sa_ds.TEMP.isel(time=2, member_id=0, z_t=0).plot()"
   ]
  },
  {
   "cell_type": "code",
   "execution_count": null,
   "id": "eb5b711f-c0e5-4a84-ac89-85f3b3b6ba5d",
   "metadata": {},
   "outputs": [],
   "source": [
    "%%time\n",
    "plt.figure(figsize=(10,6));\n",
    "ax = plt.axes(projection=ccrs.Robinson());\n",
    "pc = sa_ds.TEMP.isel(time=2, member_id=0, z_t=0).plot.pcolormesh(ax=ax,\n",
    "                    transform=ccrs.PlateCarree(),\n",
    "                    cmap=cmocean.cm.balance,\n",
    "                    x='TLONG',\n",
    "                    y='TLAT',\n",
    "                    vmin=20,\n",
    "                    vmax=35,\n",
    "                    cbar_kwargs={\"orientation\": \"horizontal\"})                                    \n",
    "ax.gridlines(draw_labels=True);\n",
    "ax.coastlines()\n",
    "ax.gridlines();"
   ]
  },
  {
   "cell_type": "markdown",
   "id": "91f1dd80-6da7-45f6-93b8-efc725b2f252",
   "metadata": {},
   "source": [
    "### Extract correponding area "
   ]
  },
  {
   "cell_type": "code",
   "execution_count": null,
   "id": "a8739226-e910-46a2-9d51-798d43d21ede",
   "metadata": {},
   "outputs": [],
   "source": [
    "area_sa = xr.combine_nested([\n",
    "    \n",
    "    [pop_grid.TAREA.isel(nlat = slice(115,190),nlon = slice(300,320)),\n",
    "     pop_grid.TAREA.isel(nlat = slice(115,190),nlon = slice(0,60))]],\n",
    "    concat_dim=['nlat','nlon']\n",
    ")"
   ]
  },
  {
   "cell_type": "code",
   "execution_count": null,
   "id": "486dca62-a4a4-4533-a578-1148fbb9319f",
   "metadata": {},
   "outputs": [],
   "source": [
    "# simple check\n",
    "area_sa.plot();"
   ]
  },
  {
   "cell_type": "markdown",
   "id": "73ec5151-55eb-42e9-9b47-ff47fa44c5ad",
   "metadata": {},
   "source": [
    "### Select time window \n",
    "<div class=\"alert alert-block alert-info\">\n",
    "<b>Note:</b> We should process the entire dataset once we fix the issue with Dask.\n",
    "</div>"
   ]
  },
  {
   "cell_type": "code",
   "execution_count": null,
   "id": "4c1e3cb5-c47c-4e7e-b04b-9f9a183204ff",
   "metadata": {},
   "outputs": [],
   "source": [
    "start=\"2000-01-01\"\n",
    "end=\"2009-12-31\"\n",
    "sst = sa_ds.TEMP.isel(z_t=0).sel(time=slice(start,end))"
   ]
  },
  {
   "cell_type": "markdown",
   "id": "965c502b-553e-4baa-90eb-abe3c8a741cd",
   "metadata": {},
   "source": [
    "### Perfom computations\n",
    "Calculate area mean, min, max, and rms for the surface temperature of the selected region"
   ]
  },
  {
   "cell_type": "code",
   "execution_count": null,
   "id": "a578d572-a8f5-49f8-8457-6b57b30e0dc3",
   "metadata": {},
   "outputs": [],
   "source": [
    "# area weighted sst\n",
    "sst_mean = sst.weighted(area_sa).mean(dim=(\"nlon\", \"nlat\")).load()"
   ]
  },
  {
   "cell_type": "code",
   "execution_count": null,
   "id": "c20e9524-0d4f-4782-a2cf-428c38d1aedb",
   "metadata": {},
   "outputs": [],
   "source": [
    "# max sst\n",
    "sst_max = sst.max(dim=(\"nlon\", \"nlat\")).load()"
   ]
  },
  {
   "cell_type": "code",
   "execution_count": null,
   "id": "46fcc8a5-7bca-4604-94cb-337e43c265a3",
   "metadata": {},
   "outputs": [],
   "source": [
    "# min sst\n",
    "sst_min = sst.min(dim=(\"nlon\", \"nlat\")).load()"
   ]
  },
  {
   "cell_type": "code",
   "execution_count": null,
   "id": "bac25837-6fe0-4845-8714-3620d7728a61",
   "metadata": {},
   "outputs": [],
   "source": [
    "# sst rms\n",
    "sst_rms = rms_da(sst, weights=area_sa,  weights_sum=area_sa.sum()).load()"
   ]
  },
  {
   "cell_type": "markdown",
   "id": "66e03bda-270b-4c10-be7b-e4e05b4bd5f9",
   "metadata": {},
   "source": [
    "### TODO\n",
    "plot some time series to check calculations"
   ]
  },
  {
   "cell_type": "markdown",
   "id": "f79bf420-c092-4cfd-9edb-3f695a7d8e97",
   "metadata": {},
   "source": [
    "### Merge data and save on disk"
   ]
  },
  {
   "cell_type": "code",
   "execution_count": null,
   "id": "219f242e-b228-4363-b705-fe469d924463",
   "metadata": {},
   "outputs": [],
   "source": [
    "ds_out.sst_min.isel(member_id=0).plot()\n",
    "ds_out.sst_max.isel(member_id=0).plot()\n",
    "ds_out.sst_mea.isel(member_id=0).plot()"
   ]
  },
  {
   "cell_type": "code",
   "execution_count": null,
   "id": "3a6b8fde-f23a-455a-be04-ed0347cda3de",
   "metadata": {},
   "outputs": [],
   "source": [
    "ds_out = xr.merge([sst_rms.rename('sst_rms'),\n",
    "                    sst_mean.rename('sst_mean'),\n",
    "                    sst_max.rename('sst_max'),\n",
    "                    sst_min.rename('sst_min')])\n",
    "\n",
    "# TODO: add more attrs e.g., date it was create, by who (name, email), \n",
    "## improve description, add lat/lon region etc\n",
    "ds_out.attrs['description'] = 'sst statistics for the South Atlantic'"
   ]
  },
  {
   "cell_type": "code",
   "execution_count": null,
   "id": "52e4dc6e-70b1-438e-987b-940920526ba5",
   "metadata": {},
   "outputs": [],
   "source": [
    "# create a directory on scratch to save the output\n",
    "#path = '/glade/scratch/{}/LENS2_south_atlantic/SST/'.format(getpass.getuser())\n",
    "path = '/glade/scratch/mauricio/LENS2_south_atlantic/SST/'.format(getpass.getuser())\n",
    "#os.system('mkdir -p '+path)"
   ]
  },
  {
   "cell_type": "code",
   "execution_count": null,
   "id": "1bf57a98-a5f4-46c9-9ddf-80725039a547",
   "metadata": {},
   "outputs": [],
   "source": [
    "ds_out.to_netcdf(path+'sst_stats.nc')"
   ]
  },
  {
   "cell_type": "code",
   "execution_count": null,
   "id": "b6a33d5d-a284-4779-89f8-84a9f2d7c600",
   "metadata": {},
   "outputs": [],
   "source": [
    "cluster.close()\n",
    "client.close()"
   ]
  }
 ],
 "metadata": {
  "kernelspec": {
   "display_name": "NPL 2022b",
   "language": "python",
   "name": "npl-2022b"
  },
  "language_info": {
   "codemirror_mode": {
    "name": "ipython",
    "version": 3
   },
   "file_extension": ".py",
   "mimetype": "text/x-python",
   "name": "python",
   "nbconvert_exporter": "python",
   "pygments_lexer": "ipython3",
   "version": "3.8.13"
  }
 },
 "nbformat": 4,
 "nbformat_minor": 5
}
