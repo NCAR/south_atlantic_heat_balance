{
 "cells": [
  {
   "cell_type": "markdown",
   "id": "80b35905-7510-4a8c-a558-978aa1e07b3c",
   "metadata": {},
   "source": [
    "## CESM2 - LARGE ENSEMBLE (LENS2)\n",
    "\n",
    "- This notebooks serves as an example on how to extract surface (or any other 2D spatial field) properties from a selected spacial region accross all LENS2 members for the atmosphere component. "
   ]
  },
  {
   "cell_type": "markdown",
   "id": "24be9cde-8f0a-4c83-988e-89528a758f21",
   "metadata": {},
   "source": [
    "## Imports"
   ]
  },
  {
   "cell_type": "code",
   "execution_count": 1,
   "id": "1b0b0093-f110-4cb3-b270-b51f894b3ca2",
   "metadata": {},
   "outputs": [],
   "source": [
    "import intake\n",
    "import intake_esm\n",
    "import xarray as xr\n",
    "import matplotlib.pyplot as plt\n",
    "import cartopy.crs as ccrs\n",
    "import numpy as np\n",
    "import fsspec\n",
    "import cmocean\n",
    "import cartopy\n",
    "import cartopy.feature as cfeature\n",
    "from cartopy.mpl.ticker import LongitudeFormatter, LatitudeFormatter\n",
    "import pop_tools\n",
    "import sys\n",
    "from distributed import Client\n",
    "from ncar_jobqueue import NCARCluster\n",
    "sys.path.append('../functions')\n",
    "import util\n",
    "from cartopy.util import add_cyclic_point\n",
    "from misc import get_ij\n",
    "import warnings, getpass, os"
   ]
  },
  {
   "cell_type": "markdown",
   "id": "29691e0e-56ba-43da-bb20-941c1061f931",
   "metadata": {},
   "source": [
    "<div class=\"alert alert-block alert-info\">\n",
    "<b>Note:</b> comment the following line when debugging\n",
    "</div>"
   ]
  },
  {
   "cell_type": "code",
   "execution_count": 2,
   "id": "828694db-f99e-466d-a578-20a8e0bf8690",
   "metadata": {},
   "outputs": [],
   "source": [
    "warnings.filterwarnings(\"ignore\")"
   ]
  },
  {
   "cell_type": "markdown",
   "id": "c2eb5cc4-cb2a-4a93-835e-1b50945fcee8",
   "metadata": {},
   "source": [
    "### Dask workers"
   ]
  },
  {
   "cell_type": "code",
   "execution_count": 3,
   "id": "30764d6a-8b79-4df8-bef7-c29af81b4d44",
   "metadata": {},
   "outputs": [
    {
     "name": "stdout",
     "output_type": "stream",
     "text": [
      "<Client: 'tcp://10.12.206.54:44173' processes=0 threads=0, memory=0 B>\n"
     ]
    },
    {
     "data": {
      "text/html": [
       "<div>\n",
       "    <div style=\"width: 24px; height: 24px; background-color: #e1e1e1; border: 3px solid #9D9D9D; border-radius: 5px; position: absolute;\"> </div>\n",
       "    <div style=\"margin-left: 48px;\">\n",
       "        <h3 style=\"margin-bottom: 0px;\">Client</h3>\n",
       "        <p style=\"color: #9D9D9D; margin-bottom: 0px;\">Client-342418a9-9381-11ed-a4af-3cecef1b11fa</p>\n",
       "        <table style=\"width: 100%; text-align: left;\">\n",
       "\n",
       "        <tr>\n",
       "        \n",
       "            <td style=\"text-align: left;\"><strong>Connection method:</strong> Cluster object</td>\n",
       "            <td style=\"text-align: left;\"><strong>Cluster type:</strong> dask_jobqueue.PBSCluster</td>\n",
       "        \n",
       "        </tr>\n",
       "\n",
       "        \n",
       "            <tr>\n",
       "                <td style=\"text-align: left;\">\n",
       "                    <strong>Dashboard: </strong> <a href=\"https://jupyterhub.hpc.ucar.edu/stable/user/mauricio/mrocha/proxy/42492/status\" target=\"_blank\">https://jupyterhub.hpc.ucar.edu/stable/user/mauricio/mrocha/proxy/42492/status</a>\n",
       "                </td>\n",
       "                <td style=\"text-align: left;\"></td>\n",
       "            </tr>\n",
       "        \n",
       "\n",
       "        </table>\n",
       "\n",
       "        \n",
       "            <details>\n",
       "            <summary style=\"margin-bottom: 20px;\"><h3 style=\"display: inline;\">Cluster Info</h3></summary>\n",
       "            <div class=\"jp-RenderedHTMLCommon jp-RenderedHTML jp-mod-trusted jp-OutputArea-output\">\n",
       "    <div style=\"width: 24px; height: 24px; background-color: #e1e1e1; border: 3px solid #9D9D9D; border-radius: 5px; position: absolute;\">\n",
       "    </div>\n",
       "    <div style=\"margin-left: 48px;\">\n",
       "        <h3 style=\"margin-bottom: 0px; margin-top: 0px;\">PBSCluster</h3>\n",
       "        <p style=\"color: #9D9D9D; margin-bottom: 0px;\">63c860c3</p>\n",
       "        <table style=\"width: 100%; text-align: left;\">\n",
       "            <tr>\n",
       "                <td style=\"text-align: left;\">\n",
       "                    <strong>Dashboard:</strong> <a href=\"https://jupyterhub.hpc.ucar.edu/stable/user/mauricio/mrocha/proxy/42492/status\" target=\"_blank\">https://jupyterhub.hpc.ucar.edu/stable/user/mauricio/mrocha/proxy/42492/status</a>\n",
       "                </td>\n",
       "                <td style=\"text-align: left;\">\n",
       "                    <strong>Workers:</strong> 0\n",
       "                </td>\n",
       "            </tr>\n",
       "            <tr>\n",
       "                <td style=\"text-align: left;\">\n",
       "                    <strong>Total threads:</strong> 0\n",
       "                </td>\n",
       "                <td style=\"text-align: left;\">\n",
       "                    <strong>Total memory:</strong> 0 B\n",
       "                </td>\n",
       "            </tr>\n",
       "            \n",
       "        </table>\n",
       "\n",
       "        <details>\n",
       "            <summary style=\"margin-bottom: 20px;\">\n",
       "                <h3 style=\"display: inline;\">Scheduler Info</h3>\n",
       "            </summary>\n",
       "\n",
       "            <div style=\"\">\n",
       "    <div>\n",
       "        <div style=\"width: 24px; height: 24px; background-color: #FFF7E5; border: 3px solid #FF6132; border-radius: 5px; position: absolute;\"> </div>\n",
       "        <div style=\"margin-left: 48px;\">\n",
       "            <h3 style=\"margin-bottom: 0px;\">Scheduler</h3>\n",
       "            <p style=\"color: #9D9D9D; margin-bottom: 0px;\">Scheduler-6a1c6586-f946-4810-8bbe-c1f49cff1323</p>\n",
       "            <table style=\"width: 100%; text-align: left;\">\n",
       "                <tr>\n",
       "                    <td style=\"text-align: left;\">\n",
       "                        <strong>Comm:</strong> tcp://10.12.206.54:44173\n",
       "                    </td>\n",
       "                    <td style=\"text-align: left;\">\n",
       "                        <strong>Workers:</strong> 0\n",
       "                    </td>\n",
       "                </tr>\n",
       "                <tr>\n",
       "                    <td style=\"text-align: left;\">\n",
       "                        <strong>Dashboard:</strong> <a href=\"https://jupyterhub.hpc.ucar.edu/stable/user/mauricio/mrocha/proxy/42492/status\" target=\"_blank\">https://jupyterhub.hpc.ucar.edu/stable/user/mauricio/mrocha/proxy/42492/status</a>\n",
       "                    </td>\n",
       "                    <td style=\"text-align: left;\">\n",
       "                        <strong>Total threads:</strong> 0\n",
       "                    </td>\n",
       "                </tr>\n",
       "                <tr>\n",
       "                    <td style=\"text-align: left;\">\n",
       "                        <strong>Started:</strong> Just now\n",
       "                    </td>\n",
       "                    <td style=\"text-align: left;\">\n",
       "                        <strong>Total memory:</strong> 0 B\n",
       "                    </td>\n",
       "                </tr>\n",
       "            </table>\n",
       "        </div>\n",
       "    </div>\n",
       "\n",
       "    <details style=\"margin-left: 48px;\">\n",
       "        <summary style=\"margin-bottom: 20px;\">\n",
       "            <h3 style=\"display: inline;\">Workers</h3>\n",
       "        </summary>\n",
       "\n",
       "        \n",
       "\n",
       "    </details>\n",
       "</div>\n",
       "\n",
       "        </details>\n",
       "    </div>\n",
       "</div>\n",
       "            </details>\n",
       "        \n",
       "\n",
       "    </div>\n",
       "</div>"
      ],
      "text/plain": [
       "<Client: 'tcp://10.12.206.54:44173' processes=0 threads=0, memory=0 B>"
      ]
     },
     "execution_count": 3,
     "metadata": {},
     "output_type": "execute_result"
    }
   ],
   "source": [
    "mem_per_worker = 100 # in GB \n",
    "num_workers = 80 \n",
    "cluster = NCARCluster(cores=4, processes=3, memory=f'{mem_per_worker} GB',resource_spec=f'select=1:ncpus=6:mem={mem_per_worker}GB')\n",
    "cluster.scale(num_workers)\n",
    "client = Client(cluster)\n",
    "print(client)\n",
    "client"
   ]
  },
  {
   "cell_type": "markdown",
   "id": "d22c9abb-b88c-4b6a-9d34-1a12aceacd56",
   "metadata": {},
   "source": [
    "### Data Ingest"
   ]
  },
  {
   "cell_type": "code",
   "execution_count": 4,
   "id": "12b4bdae-8fde-4156-b32e-76d318bbabb1",
   "metadata": {},
   "outputs": [
    {
     "name": "stdout",
     "output_type": "stream",
     "text": [
      "CPU times: user 28.2 s, sys: 1.96 s, total: 30.2 s\n",
      "Wall time: 31.8 s\n"
     ]
    }
   ],
   "source": [
    "%%time\n",
    "catalog = intake.open_esm_datastore(\n",
    "    '/glade/collections/cmip/catalog/intake-esm-datastore/catalogs/glade-cesm2-le.json'\n",
    ")"
   ]
  },
  {
   "cell_type": "code",
   "execution_count": 5,
   "id": "594b6f10-82b1-4280-8076-5bfbc77b992b",
   "metadata": {},
   "outputs": [
    {
     "data": {
      "text/plain": [
       "{'frequency': {'count': 5,\n",
       "  'values': ['day_1', 'month_1', 'hour_6', 'hour_3', 'hour_1']}}"
      ]
     },
     "execution_count": 5,
     "metadata": {},
     "output_type": "execute_result"
    }
   ],
   "source": [
    "catalog.search(component='atm').unique('frequency')"
   ]
  },
  {
   "cell_type": "raw",
   "id": "9cd242c5-072d-4a57-8764-c6bcc26db475",
   "metadata": {},
   "source": [
    "# this prints all ocean variables that have montly frequency\n",
    "catalog.search(component='atm', frequency='month_1').unique('variable')"
   ]
  },
  {
   "cell_type": "markdown",
   "id": "35bf8b98-519f-49df-be0d-4f2d07146834",
   "metadata": {},
   "source": [
    "### Let's search for variables with montly frequency"
   ]
  },
  {
   "cell_type": "code",
   "execution_count": 6,
   "id": "705e20b0-44b4-4618-a90b-a28bb91cfdfb",
   "metadata": {},
   "outputs": [],
   "source": [
    "cat_subset = catalog.search(component='atm',\n",
    "                            frequency='month_1',\n",
    "                            variable=['SHFLX','LHFLX','SST','PRECT','OCNFRAC','T']) # Sensible Heat Flux, Latent Heat Flux, Sea Surface Temperature, Total (Convective and large-scale) precipitation rate, Temperature"
   ]
  },
  {
   "cell_type": "code",
   "execution_count": null,
   "id": "d97198ae-ac37-4fb9-95fc-9e11bfdd081f",
   "metadata": {},
   "outputs": [
    {
     "name": "stdout",
     "output_type": "stream",
     "text": [
      "\n",
      "--> The keys in the returned dictionary of datasets are constructed as follows:\n",
      "\t'component.experiment.stream.forcing_variant.variable'\n"
     ]
    },
    {
     "data": {
      "text/html": [
       "\n",
       "<style>\n",
       "    /* Turns off some styling */\n",
       "    progress {\n",
       "        /* gets rid of default border in Firefox and Opera. */\n",
       "        border: none;\n",
       "        /* Needs to be in here for Safari polyfill so background images work as expected. */\n",
       "        background-size: auto;\n",
       "    }\n",
       "    progress:not([value]), progress:not([value])::-webkit-progress-bar {\n",
       "        background: repeating-linear-gradient(45deg, #7e7e7e, #7e7e7e 10px, #5c5c5c 10px, #5c5c5c 20px);\n",
       "    }\n",
       "    .progress-bar-interrupted, .progress-bar-interrupted::-webkit-progress-bar {\n",
       "        background: #F44336;\n",
       "    }\n",
       "</style>\n"
      ],
      "text/plain": [
       "<IPython.core.display.HTML object>"
      ]
     },
     "metadata": {},
     "output_type": "display_data"
    },
    {
     "data": {
      "text/html": [
       "\n",
       "    <div>\n",
       "      <progress value='17' class='' max='24' style='width:300px; height:20px; vertical-align: middle;'></progress>\n",
       "      70.83% [17/24 02:27&lt;01:00]\n",
       "    </div>\n",
       "    "
      ],
      "text/plain": [
       "<IPython.core.display.HTML object>"
      ]
     },
     "metadata": {},
     "output_type": "display_data"
    }
   ],
   "source": [
    "%%time\n",
    "dset_dict_raw = cat_subset.to_dataset_dict()"
   ]
  },
  {
   "cell_type": "code",
   "execution_count": null,
   "id": "8aa41912-02e1-47c7-a267-3e680f7f6be8",
   "metadata": {},
   "outputs": [],
   "source": [
    "# print keys\n",
    "[key for key in dset_dict_raw.keys()]"
   ]
  },
  {
   "cell_type": "code",
   "execution_count": null,
   "id": "ca42d246-2d1a-4270-9212-93baaf1b9938",
   "metadata": {},
   "outputs": [],
   "source": [
    "fb=('T','LHFLX','SHFLX','SST','PRECT','OCNFRAC')\n",
    "pd=('historical','ssp370')\n",
    "ff=('cmip6','smbb')\n",
    "for ifb in range(0,len(fb)):\n",
    "    print(f'Variable: {fb[ifb]}')\n",
    "    for iff in range(0,len(ff)):\n",
    "        for ipd in range(0,len(pd)):\n",
    "            str=f'ds_{pd[ipd]}_{ff[iff]}_{fb[ifb]} = dset_dict_raw[\\'atm.{pd[ipd]}.cam.h0.{ff[iff]}.{fb[ifb]}\\']'; exec(str)\n",
    "        str=f'ds_{ff[iff]}_{fb[ifb]}=xr.combine_nested([ds_{pd[0]}_{ff[iff]}_{fb[ifb]},ds_{pd[1]}_{ff[iff]}_{fb[ifb]}],concat_dim=[\\'time\\'])'; exec(str)\n",
    "        str=f'del ds_{pd[0]}_{ff[iff]}_{fb[ifb]},ds_{pd[1]}_{ff[iff]}_{fb[ifb]}'; exec(str) \n",
    "    str=f'ds_{fb[ifb]}=xr.combine_nested([ds_{ff[0]}_{fb[ifb]},ds_{ff[1]}_{fb[ifb]}],concat_dim=[\\'member_id\\'])'; exec(str)\n",
    "    str=f'del ds_{ff[0]}_{fb[ifb]}, ds_{ff[1]}_{fb[ifb]}'; exec(str)\n",
    "print(f'Done!')"
   ]
  },
  {
   "cell_type": "markdown",
   "id": "2d79866d-60cb-4ff5-9b89-c600440b3506",
   "metadata": {},
   "source": [
    "### Mask"
   ]
  },
  {
   "cell_type": "markdown",
   "id": "06e07dcf-c1f1-432b-98ca-ee1de232c905",
   "metadata": {},
   "source": [
    "#### 1. Replace the SST data equal to 0 (continents) by NaN"
   ]
  },
  {
   "cell_type": "code",
   "execution_count": null,
   "id": "40833432-a750-472a-bf2f-87832b012db1",
   "metadata": {},
   "outputs": [],
   "source": [
    "ds_SST.SST.isel(time=0,member_id=0).plot()"
   ]
  },
  {
   "cell_type": "code",
   "execution_count": null,
   "id": "e7f1aa1d-76dc-46d2-8f76-96d73257ca73",
   "metadata": {},
   "outputs": [],
   "source": [
    "ds_SST=ds_SST.where(ds_SST['SST'] != 0.)\n",
    "ds_SST.SST.isel(time=0,member_id=0).plot()"
   ]
  },
  {
   "cell_type": "markdown",
   "id": "11ddf398-cefc-45b1-8265-e06593cf1eef",
   "metadata": {},
   "source": [
    "#### 2. Building the mask. The ocean model and the atmospheric model feed data into the coastal region, so we need to take data that is 100% on the ocean model grid to ensure that we are not looking at data over the continent.  "
   ]
  },
  {
   "cell_type": "code",
   "execution_count": null,
   "id": "0503a263-928c-4858-9441-d3bad28dbed8",
   "metadata": {},
   "outputs": [],
   "source": [
    "ds_OCNFRAC.OCNFRAC.isel(time=0,member_id=0).plot()"
   ]
  },
  {
   "cell_type": "markdown",
   "id": "dc17cc27-6737-4004-9238-f00b3c1e341d",
   "metadata": {},
   "source": [
    "##### 2.2 Since we are not working with polar regions, we will put NAN on all data that is different from 1 to build the mask"
   ]
  },
  {
   "cell_type": "code",
   "execution_count": null,
   "id": "8a540e06-8525-4708-a4d0-2e2045eb74fe",
   "metadata": {},
   "outputs": [],
   "source": [
    "ds_OCNFRAC=ds_OCNFRAC.where(ds_OCNFRAC['OCNFRAC'] ==1.)\n",
    "ds_OCNFRAC.OCNFRAC.isel(time=0,member_id=0).plot()"
   ]
  },
  {
   "cell_type": "code",
   "execution_count": null,
   "id": "2abb5032-5d35-4d04-bded-e5d2dffde95a",
   "metadata": {},
   "outputs": [],
   "source": [
    "mask_ocean = 2 * np.ones((ds_OCNFRAC.dims['lat'], ds_OCNFRAC.dims['lon'])) * np.isfinite(ds_OCNFRAC.OCNFRAC.isel(time=0,member_id=0))  \n",
    "mask_land = 1 * np.ones((ds_OCNFRAC.dims['lat'], ds_OCNFRAC.dims['lon'])) * np.isnan(ds_OCNFRAC.OCNFRAC.isel(time=0,member_id=0))  \n",
    "mask_array = mask_ocean + mask_land\n",
    "mask_array.plot()"
   ]
  },
  {
   "cell_type": "markdown",
   "id": "a84d050e-ef67-48d1-b389-405341a896bc",
   "metadata": {},
   "source": [
    "#### 3. Applying the mask for the other variables"
   ]
  },
  {
   "cell_type": "code",
   "execution_count": null,
   "id": "714da6ae-d903-4ef4-b26b-9ae683e19eeb",
   "metadata": {},
   "outputs": [],
   "source": [
    "ds_PRECT =ds_PRECT.where(mask_array == 2.) # Precipitation \n",
    "ds_LHFLX =ds_LHFLX.where(mask_array == 2.) # Latent Heat Flux\n",
    "ds_SHFLX =ds_SHFLX.where(mask_array == 2.) # Sensible Heat Flux\n",
    "ds_T =ds_T.where(mask_array == 2.)         # Atmosphere Temperature\n",
    "ds_SST =ds_SST.where(mask_array == 2.)     # Sea Surface Temperature"
   ]
  },
  {
   "cell_type": "markdown",
   "id": "bacf6f6d-6fa3-49e4-a508-3f85e29d0426",
   "metadata": {},
   "source": [
    "### Just to make sure that the mask was applied"
   ]
  },
  {
   "cell_type": "code",
   "execution_count": null,
   "id": "157b5ad4-0c5d-4bf1-ab62-ff0b3eca7c69",
   "metadata": {},
   "outputs": [],
   "source": [
    "ds_PRECT.PRECT.isel(time=1,member_id=10).plot() # Precipitation (m/s)"
   ]
  },
  {
   "cell_type": "code",
   "execution_count": null,
   "id": "ce7cec7e-8eb6-4060-a7ad-c1d314d23118",
   "metadata": {},
   "outputs": [],
   "source": [
    "ds_LHFLX.LHFLX.isel(time=1,member_id=10).plot() # Latent Heat Flux (W/m2)"
   ]
  },
  {
   "cell_type": "code",
   "execution_count": null,
   "id": "6d83c8ac-da66-4bcb-b215-35005be5033a",
   "metadata": {},
   "outputs": [],
   "source": [
    "ds_SHFLX.SHFLX.isel(time=1,member_id=10).plot() # Sensible Heat Flux (W/m2)"
   ]
  },
  {
   "cell_type": "code",
   "execution_count": null,
   "id": "2741652d-b134-4d5b-8365-3c2833bedbec",
   "metadata": {},
   "outputs": [],
   "source": [
    "ds_SST.SST.isel(time=1,member_id=10).plot()    # Sea Surface Temperature (K)"
   ]
  },
  {
   "cell_type": "code",
   "execution_count": null,
   "id": "d1530955-a0ff-42e2-9df9-2f7e6549f5a8",
   "metadata": {},
   "outputs": [],
   "source": [
    "ds_T.T.isel(time=1,member_id=10,lev=-1).plot() # Atmosphere Temperature (K)"
   ]
  },
  {
   "cell_type": "markdown",
   "id": "08d3c613-a853-4f85-a53c-af8924015d22",
   "metadata": {},
   "source": [
    "### One more example..."
   ]
  },
  {
   "cell_type": "code",
   "execution_count": null,
   "id": "de97b8b1-73da-478e-bc40-43d8f7425c55",
   "metadata": {},
   "outputs": [],
   "source": [
    "ds_var_1231 = ds_SHFLX.SHFLX.sel(member_id=['r1i1231p1f1','r2i1231p1f1','r3i1231p1f1','r4i1231p1f1','r5i1231p1f1','r6i1231p1f1','r7i1231p1f1','r8i1231p1f1','r9i1231p1f1','r10i1231p1f1']).mean(dim='time')#.plot()\n",
    "plt.figure(figsize=(10,6));\n",
    "ax = plt.axes(projection=ccrs.Robinson());\n",
    "pc = ds_var_1231.mean(dim='member_id').plot.pcolormesh(ax=ax,\n",
    "                    transform=ccrs.PlateCarree(),\n",
    "                    cmap=cmocean.cm.balance,\n",
    "                    x='lon',\n",
    "                    y='lat',\n",
    "                    #vmin=-3,\n",
    "                    #vmax=30,\n",
    "                    cbar_kwargs={\"orientation\": \"horizontal\"})                                    \n",
    "ax.gridlines(draw_labels=True);\n",
    "ax.coastlines()\n",
    "ax.gridlines();\n",
    "plt.title(\"i1231p1f1\")"
   ]
  },
  {
   "cell_type": "markdown",
   "id": "b1a421b9-80de-4516-8a29-8638a12f2869",
   "metadata": {},
   "source": [
    "### Centralize the South Atlantic \n",
    "Need to combine the domain in the east/west direction to centralize the South Atlantic"
   ]
  },
  {
   "cell_type": "code",
   "execution_count": null,
   "id": "24096435-e13e-4244-be96-c8a931d60a84",
   "metadata": {},
   "outputs": [],
   "source": [
    "ilat, flat = 60, 96\n",
    "ilon1, flon1, ilon2, flon2 = 245, 288, 0, 17\n",
    "for ifb in range(0,len(fb)):\n",
    "    print(f'Variable: {fb[ifb]}')\n",
    "    str=f'sa_ds_{fb[ifb]}=xr.combine_nested([[ds_{fb[ifb]}.isel(lat = slice(ilat,flat),lon = slice(ilon1,flon1)),ds_{fb[ifb]}.isel(lat = slice(ilat,flat),lon = slice(ilon2,flon2))]],concat_dim=[\\'lat\\',\\'lon\\'])'\n",
    "    exec(str)\n",
    "    str=f'sa_ds_{fb[ifb]}.coords[\\'lon\\'] = (sa_ds_{fb[ifb]}.coords[\\'lon\\'] + 180) % 360 - 180' # change the longitudes: -180 0 180\n",
    "    exec(str)\n",
    "    str=f'sa_ds_{fb[ifb]} = sa_ds_{fb[ifb]}.sortby(sa_ds_{fb[ifb]}.lon)'\n",
    "    exec(str)"
   ]
  },
  {
   "cell_type": "markdown",
   "id": "bfc6de09-de7a-4a5b-9632-293f3420ca2c",
   "metadata": {},
   "source": [
    "### Let's test"
   ]
  },
  {
   "cell_type": "code",
   "execution_count": null,
   "id": "eb5b711f-c0e5-4a84-ac89-85f3b3b6ba5d",
   "metadata": {},
   "outputs": [],
   "source": [
    "%%time\n",
    "plt.figure(figsize=(10,6));\n",
    "ax = plt.axes(projection=ccrs.Robinson());\n",
    "pc = sa_ds_LHFLX.LHFLX.isel(member_id=0).mean(dim='time').plot.pcolormesh(ax=ax,\n",
    "                    transform=ccrs.PlateCarree(),\n",
    "                    cmap=cmocean.cm.balance,\n",
    "                    x='lon',\n",
    "                    y='lat',\n",
    "                    #vmin=290,\n",
    "                    #vmax=302,\n",
    "                    cbar_kwargs={\"orientation\": \"horizontal\"})                                    \n",
    "ax.gridlines(draw_labels=True);\n",
    "ax.coastlines()\n",
    "ax.gridlines();"
   ]
  },
  {
   "cell_type": "code",
   "execution_count": null,
   "id": "6e2b63fd-624e-4645-bc6b-4c236e078c15",
   "metadata": {},
   "outputs": [],
   "source": [
    "%%time\n",
    "# Annual Mean\n",
    "sa_ds_SHFLX=sa_ds_SHFLX.resample(time='1Y', closed='left').mean('time')\n",
    "print('SHFLX')\n",
    "sa_ds_LHFLX=sa_ds_LHFLX.resample(time='1Y', closed='left').mean('time')\n",
    "print('LHFLX')\n",
    "sa_ds_SST=sa_ds_SST.resample(time='1Y', closed='left').mean('time')\n",
    "print('SST')\n",
    "sa_ds_T=sa_ds_T.resample(time='1Y', closed='left').mean('time')\n",
    "print('T')\n",
    "sa_ds_PRECT=sa_ds_PRECT.resample(time='1Y', closed='left').mean('time')\n",
    "print('PRECT')"
   ]
  },
  {
   "cell_type": "markdown",
   "id": "b35f6926-19b2-4c69-87ec-db2560cb8aeb",
   "metadata": {},
   "source": [
    "### Perfom computations\n",
    "Calculate area mean, min, max, and rms for the variables of the selected region"
   ]
  },
  {
   "cell_type": "code",
   "execution_count": null,
   "id": "4c1e3cb5-c47c-4e7e-b04b-9f9a183204ff",
   "metadata": {},
   "outputs": [],
   "source": [
    "%%time\n",
    "for ifb in range(0,len(fb)):\n",
    "    print(f'Variable: {fb[ifb]}')\n",
    "    # Mean\n",
    "    str=f'var_mean_{fb[ifb]} = sa_ds_{fb[ifb]}.{fb[ifb]}.mean(dim=(\\'lon\\',\\'lat\\')).load()'              # Mean\n",
    "    exec(str)\n",
    "    print(f'var_mean_{fb[ifb]}')\n",
    "    # Maximum\n",
    "    str=f'var_max_{fb[ifb]} = sa_ds_{fb[ifb]}.{fb[ifb]}.max(dim=(\\'lon\\',\\'lat\\')).load()'                # Maximum\n",
    "    exec(str)\n",
    "    print(f'var_max_{fb[ifb]}')\n",
    "    # Minimum\n",
    "    str=f'var_min_{fb[ifb]} = sa_ds_{fb[ifb]}.{fb[ifb]}.min(dim=(\\'lon\\',\\'lat\\')).load()'                # Minimum\n",
    "    exec(str)\n",
    "    print(f'var_min_{fb[ifb]}')\n",
    "    # RMS\n",
    "    str=f'var_rms_{fb[ifb]} = np.sqrt((sa_ds_{fb[ifb]}.{fb[ifb]}**2).mean(dim=[\\'lat\\',\\'lon\\'])).load()' # Root Mean Square\n",
    "    exec(str)\n",
    "    print(f'var_rms_{fb[ifb]}')\n",
    "print(f'Done!')"
   ]
  },
  {
   "cell_type": "markdown",
   "id": "66e03bda-270b-4c10-be7b-e4e05b4bd5f9",
   "metadata": {},
   "source": [
    "### TODO\n",
    "Plot some time series to check calculations"
   ]
  },
  {
   "cell_type": "markdown",
   "id": "f79bf420-c092-4cfd-9edb-3f695a7d8e97",
   "metadata": {},
   "source": [
    "### Merge data and save on disk"
   ]
  },
  {
   "cell_type": "code",
   "execution_count": null,
   "id": "27a4fa3d-42ae-40a0-a011-cd2d27846a1b",
   "metadata": {},
   "outputs": [],
   "source": [
    "units=('K','W/m2','W/m2','K','m/s')\n",
    "long_name=('Air Temperature','Latent Heat Flux','Sensible Heat Flux','Sea Surface Temperature','Total (Convective and Large-Scale) Precipitation Rate (liq + ice)')\n",
    "for ifb in range(0,len(fb)):\n",
    "    print(f'Variable: {fb[ifb]}')\n",
    "    str=f'ds_out_{fb[ifb]} = xr.merge([var_rms_{fb[ifb]}.rename(\\'{fb[ifb]}_rms\\'),var_mean_{fb[ifb]}.rename(\\'{fb[ifb]}_mean\\'),var_max_{fb[ifb]}.rename(\\'{fb[ifb]}_max\\'),var_min_{fb[ifb]}.rename(\\'{fb[ifb]}_min\\')])'\n",
    "    exec(str)\n",
    "    str=f'del var_rms_{fb[ifb]}, var_mean_{fb[ifb]}, var_max_{fb[ifb]}, var_min_{fb[ifb]}'\n",
    "    exec(str)\n",
    "    str=f'ds_out_{fb[ifb]}.attrs[\\'description\\'] = \\'{long_name[ifb]} ({fb[ifb]}) statistics for the South Atlantic (53.75W-20E and 33.455497S-0.471204S)\\''\n",
    "    exec(str)\n",
    "    str=f'ds_out_{fb[ifb]}.attrs[\\'units\\'] = \\'{units[ifb]}\\''\n",
    "    exec(str)\n",
    "    str=f'ds_out_{fb[ifb]}.attrs[\\'author\\'] = \\'Mauricio Rocha\\''\n",
    "    exec(str)\n",
    "    str=f'ds_out_{fb[ifb]}.attrs[\\'email\\'] = \\'mauricio.rocha@usp.br\\''\n",
    "    exec(str)"
   ]
  },
  {
   "cell_type": "code",
   "execution_count": null,
   "id": "dba95ee5-43fc-43d7-8817-a318a9f3ee9c",
   "metadata": {},
   "outputs": [],
   "source": [
    "# PRECIPITATION\n",
    "fig, axes = plt.subplots(1, 4, figsize=(20, 8))\n",
    "# Maximum\n",
    "(ds_out_PRECT.PRECT_max.resample(time='1Y', closed='left').mean('time')*86400000).plot.line(ax=axes[0],x=\"time\",color='orange',alpha=0.01,linewidth=1,add_legend=False)\n",
    "(ds_out_PRECT.PRECT_max.resample(time='1Y', closed='left').mean('time').mean('member_id')*86400000).plot.line(ax=axes[0],x=\"time\",alpha=0.3,color='r',linewidth=1,label='Member Mean 1Y')\n",
    "(ds_out_PRECT.PRECT_max.resample(time='5Y', closed='left').mean('time').mean('member_id')*86400000).plot.line(ax=axes[0],x=\"time\",color='r',linewidth=2,label='Member Mean 5Y')\n",
    "axes[0].set_xlabel('Time [Years]')\n",
    "axes[0].set_ylabel('PRECT Mean [mm/day]')\n",
    "axes[0].set_title('Area Max')\n",
    "axes[0].grid(color='k', linestyle='-', linewidth=0.7)\n",
    "axes[0].legend()\n",
    "fig.tight_layout(pad=3)\n",
    "\n",
    "# Mean\n",
    "(ds_out_PRECT.PRECT_mean.resample(time='1Y', closed='left').mean('time')*86400000).plot.line(ax=axes[1],x=\"time\",color='gray',alpha=0.01,linewidth=1,add_legend=False)\n",
    "(ds_out_PRECT.PRECT_mean.resample(time='1Y', closed='left').mean('time').mean('member_id')*86400000).plot.line(ax=axes[1],x=\"time\",alpha=0.3,color='k',linewidth=1,label='Member Mean 1Y')\n",
    "(ds_out_PRECT.PRECT_mean.resample(time='5Y', closed='left').mean('time').mean('member_id')*86400000).plot.line(ax=axes[1],x=\"time\",color='k',linewidth=2,label='Member Mean 5Y')\n",
    "axes[1].set_xlabel('Time [Years]')\n",
    "axes[1].set_ylabel('PRECT Mean [mm/day]')\n",
    "axes[1].set_title('Area Mean')\n",
    "axes[1].grid(color='k', linestyle='-', linewidth=0.7)\n",
    "axes[1].legend()\n",
    "\n",
    "# Minimum\n",
    "(ds_out_PRECT.PRECT_min.resample(time='1Y', closed='left').mean('time')*86400000).plot.line(ax=axes[2],x=\"time\",color='c',alpha=0.01,linewidth=1,add_legend=False)\n",
    "(ds_out_PRECT.PRECT_min.resample(time='1Y', closed='left').mean('time').mean('member_id')*86400000).plot.line(ax=axes[2],x=\"time\",alpha=0.3,color='b',linewidth=1,label='Member Mean 1Y')\n",
    "(ds_out_PRECT.PRECT_min.resample(time='5Y', closed='left').mean('time').mean('member_id')*86400000).plot.line(ax=axes[2],x=\"time\",color='b',linewidth=2,label='Member Mean 5Y')\n",
    "axes[2].set_xlabel('Time [Years]')\n",
    "axes[2].set_ylabel('PRECT Min [mm/day]')\n",
    "axes[2].set_title('Area Min')\n",
    "axes[2].grid(color='k', linestyle='-', linewidth=0.7)\n",
    "axes[2].legend()\n",
    "\n",
    "# root mean square\n",
    "(ds_out_PRECT.PRECT_rms.resample(time='1Y', closed='left').mean('time')*86400000).plot.line(ax=axes[3],x=\"time\",color='y',alpha=0.01,linewidth=1,add_legend=False)\n",
    "(ds_out_PRECT.PRECT_rms.resample(time='1Y', closed='left').mean('time').mean('member_id')*86400000).plot.line(ax=axes[3],x=\"time\",alpha=0.3,color='g',linewidth=1,label='Member Mean 1Y')\n",
    "(ds_out_PRECT.PRECT_rms.resample(time='5Y', closed='left').mean('time').mean('member_id')*86400000).plot.line(ax=axes[3],x=\"time\",color='g',linewidth=2,label='Member Mean 5Y')\n",
    "axes[3].set_xlabel('Time [Years]')\n",
    "axes[3].set_ylabel('PRECT Error [mm/day]')\n",
    "axes[3].set_title('Area Error')\n",
    "axes[3].grid(color='k', linestyle='-', linewidth=0.7)\n",
    "axes[3].legend()\n",
    "\n",
    "plt.show()"
   ]
  },
  {
   "cell_type": "code",
   "execution_count": null,
   "id": "17b64175-0a12-4ec3-a960-0272836e4da3",
   "metadata": {},
   "outputs": [],
   "source": [
    "#### SEA SURFACE TEMPERATURE\n",
    "fig, axes = plt.subplots(1, 4, figsize=(20, 8))\n",
    "# Maximum\n",
    "(ds_out_SST.SST_max.resample(time='1Y', closed='left').mean('time')-273.15).plot.line(ax=axes[0],x=\"time\",color='orange',alpha=0.01,linewidth=1,add_legend=False)\n",
    "(ds_out_SST.SST_max.resample(time='1Y', closed='left').mean('time').mean('member_id')-273.15).plot.line(ax=axes[0],x=\"time\",alpha=0.3,color='r',linewidth=1,label='Member Mean 1Y')\n",
    "(ds_out_SST.SST_max.resample(time='5Y', closed='left').mean('time').mean('member_id')-273.15).plot.line(ax=axes[0],x=\"time\",color='r',linewidth=2,label='Member Mean 5Y')\n",
    "axes[0].set_xlabel('Time [Years]')\n",
    "axes[0].set_ylabel('SST Max [oC]')\n",
    "axes[0].set_title('Area Max')\n",
    "axes[0].grid(color='k', linestyle='-', linewidth=0.7)\n",
    "axes[0].legend()\n",
    "fig.tight_layout(pad=3)\n",
    "\n",
    "# Mean\n",
    "(ds_out_SST.SST_mean.resample(time='1Y', closed='left').mean('time')-273.15).plot.line(ax=axes[1],x=\"time\",color='gray',alpha=0.01,linewidth=1,add_legend=False)\n",
    "(ds_out_SST.SST_mean.resample(time='1Y', closed='left').mean('time').mean('member_id')-273.15).plot.line(ax=axes[1],x=\"time\",alpha=0.3,color='k',linewidth=1,label='Member Mean 1Y')\n",
    "(ds_out_SST.SST_mean.resample(time='5Y', closed='left').mean('time').mean('member_id')-273.15).plot.line(ax=axes[1],x=\"time\",color='k',linewidth=2,label='Member Mean 5Y')\n",
    "axes[1].set_xlabel('Time [Years]')\n",
    "axes[1].set_ylabel('SST Mean [oC]')\n",
    "axes[1].set_title('Area Mean')\n",
    "axes[1].grid(color='k', linestyle='-', linewidth=0.7)\n",
    "axes[1].legend()\n",
    "\n",
    "# Minimum\n",
    "(ds_out_SST.SST_min.resample(time='1Y', closed='left').mean('time')-273.15).plot.line(ax=axes[2],x=\"time\",color='c',alpha=0.01,linewidth=1,add_legend=False)\n",
    "(ds_out_SST.SST_min.resample(time='1Y', closed='left').mean('time').mean('member_id')-273.15).plot.line(ax=axes[2],x=\"time\",alpha=0.3,color='b',linewidth=1,label='Member Mean 1Y')\n",
    "(ds_out_SST.SST_min.resample(time='5Y', closed='left').mean('time').mean('member_id')-273.15).plot.line(ax=axes[2],x=\"time\",color='b',linewidth=2,label='Member Mean 5Y')\n",
    "axes[2].set_xlabel('Time [Years]')\n",
    "axes[2].set_ylabel('SST Min [oC]')\n",
    "axes[2].set_title('Area Min')\n",
    "axes[2].grid(color='k', linestyle='-', linewidth=0.7)\n",
    "axes[2].legend()\n",
    "\n",
    "# root mean square\n",
    "(ds_out_SST.SST_rms.resample(time='1Y', closed='left').mean('time')-273.15).plot.line(ax=axes[3],x=\"time\",color='y',alpha=0.01,linewidth=1,add_legend=False)\n",
    "(ds_out_SST.SST_rms.resample(time='1Y', closed='left').mean('time').mean('member_id')-273.15).plot.line(ax=axes[3],x=\"time\",alpha=0.3,color='g',linewidth=1,label='Member Mean 1Y')\n",
    "(ds_out_SST.SST_rms.resample(time='5Y', closed='left').mean('time').mean('member_id')-273.15).plot.line(ax=axes[3],x=\"time\",color='g',linewidth=2,label='Member Mean 5Y')\n",
    "axes[3].set_xlabel('Time [Years]')\n",
    "axes[3].set_ylabel('SST Error [oC]')\n",
    "axes[3].set_title('Area Error')\n",
    "axes[3].grid(color='k', linestyle='-', linewidth=0.7)\n",
    "axes[3].legend()\n",
    "\n",
    "plt.show()"
   ]
  },
  {
   "cell_type": "code",
   "execution_count": null,
   "id": "b8139469-9d53-4658-bae5-d217586f6c11",
   "metadata": {},
   "outputs": [],
   "source": [
    "#### LATENT HEAT FLUX\n",
    "fig, axes = plt.subplots(1, 4, figsize=(20, 8))\n",
    "# Maximum\n",
    "ds_out_LHFLX.LHFLX_max.resample(time='1Y', closed='left').mean('time').plot.line(ax=axes[0],x=\"time\",color='orange',alpha=0.01,linewidth=1,add_legend=False)\n",
    "(ds_out_LHFLX.LHFLX_max.resample(time='1Y', closed='left').mean('time').mean('member_id')).plot.line(ax=axes[0],x=\"time\",alpha=0.3,color='r',linewidth=1,label='Member Mean 1Y')\n",
    "(ds_out_LHFLX.LHFLX_max.resample(time='5Y', closed='left').mean('time').mean('member_id')).plot.line(ax=axes[0],x=\"time\",color='r',linewidth=2,label='Member Mean 5Y')\n",
    "axes[0].set_xlabel('Time [Years]')\n",
    "axes[0].set_ylabel('LHFLX Max [W/m2]')\n",
    "axes[0].set_title('Area Max')\n",
    "axes[0].grid(color='k', linestyle='-', linewidth=0.7)\n",
    "axes[0].legend()\n",
    "fig.tight_layout(pad=3)\n",
    "\n",
    "# Mean\n",
    "ds_out_LHFLX.LHFLX_mean.resample(time='1Y', closed='left').mean('time').plot.line(ax=axes[1],x=\"time\",color='gray',alpha=0.01,linewidth=1,add_legend=False)\n",
    "(ds_out_LHFLX.LHFLX_mean.resample(time='1Y', closed='left').mean('time').mean('member_id')).plot.line(ax=axes[1],x=\"time\",alpha=0.3,color='k',linewidth=1,label='Member Mean 1Y')\n",
    "(ds_out_LHFLX.LHFLX_mean.resample(time='5Y', closed='left').mean('time').mean('member_id')).plot.line(ax=axes[1],x=\"time\",color='k',linewidth=2,label='Member Mean 5Y')\n",
    "axes[1].set_xlabel('Time [Years]')\n",
    "axes[1].set_ylabel('LHFLX Mean [W/m2]')\n",
    "axes[1].set_title('Area Mean')\n",
    "axes[1].grid(color='k', linestyle='-', linewidth=0.7)\n",
    "axes[1].legend()\n",
    "\n",
    "# Minimum\n",
    "ds_out_LHFLX.LHFLX_min.resample(time='1Y', closed='left').mean('time').plot.line(ax=axes[2],x=\"time\",color='c',alpha=0.01,linewidth=1,add_legend=False)\n",
    "(ds_out_LHFLX.LHFLX_min.resample(time='1Y', closed='left').mean('time').mean('member_id')).plot.line(ax=axes[2],x=\"time\",alpha=0.3,color='b',linewidth=1,label='Member Mean 1Y')\n",
    "(ds_out_LHFLX.LHFLX_min.resample(time='5Y', closed='left').mean('time').mean('member_id')).plot.line(ax=axes[2],x=\"time\",color='b',linewidth=2,label='Member Mean 5Y')\n",
    "axes[2].set_xlabel('Time [Years]')\n",
    "axes[2].set_ylabel('LHFLX Min [W/m2]')\n",
    "axes[2].set_title('Area Min')\n",
    "axes[2].grid(color='k', linestyle='-', linewidth=0.7)\n",
    "axes[2].legend()\n",
    "\n",
    "# root mean square\n",
    "ds_out_LHFLX.LHFLX_rms.resample(time='1Y', closed='left').mean('time').plot.line(ax=axes[3],x=\"time\",color='y',alpha=0.01,linewidth=1,add_legend=False)\n",
    "(ds_out_LHFLX.LHFLX_rms.resample(time='1Y', closed='left').mean('time').mean('member_id')).plot.line(ax=axes[3],x=\"time\",alpha=0.3,color='g',linewidth=1,label='Member Mean 1Y')\n",
    "(ds_out_LHFLX.LHFLX_rms.resample(time='5Y', closed='left').mean('time').mean('member_id')).plot.line(ax=axes[3],x=\"time\",color='g',linewidth=2,label='Member Mean 5Y')\n",
    "axes[3].set_xlabel('Time [Years]')\n",
    "axes[3].set_ylabel('LHFLX Error [W/m2]')\n",
    "axes[3].set_title('Area Error')\n",
    "axes[3].grid(color='k', linestyle='-', linewidth=0.7)\n",
    "axes[3].legend()\n",
    "\n",
    "plt.show()"
   ]
  },
  {
   "cell_type": "code",
   "execution_count": null,
   "id": "402f2af2-b62d-40fb-b9a1-0105943ad540",
   "metadata": {},
   "outputs": [],
   "source": [
    "#### SENSIBLE HEAT FLUX\n",
    "\n",
    "fig, axes = plt.subplots(1, 4, figsize=(20, 8))\n",
    "# Maximum\n",
    "ds_out_SHFLX.SHFLX_max.resample(time='1Y', closed='left').mean('time').plot.line(ax=axes[0],x=\"time\",color='orange',alpha=0.01,linewidth=1,add_legend=False)\n",
    "(ds_out_SHFLX.SHFLX_max.resample(time='1Y', closed='left').mean('time').mean('member_id')).plot.line(ax=axes[0],x=\"time\",alpha=0.3,color='r',linewidth=1,label='Member Mean 1Y')\n",
    "(ds_out_SHFLX.SHFLX_max.resample(time='5Y', closed='left').mean('time').mean('member_id')).plot.line(ax=axes[0],x=\"time\",color='r',linewidth=2,label='Member Mean 5Y')\n",
    "axes[0].set_xlabel('Time [Years]')\n",
    "axes[0].set_ylabel('SHFLX Max [oC]')\n",
    "axes[0].set_title('Area Max')\n",
    "axes[0].grid(color='k', linestyle='-', linewidth=0.7)\n",
    "axes[0].legend()\n",
    "fig.tight_layout(pad=3)\n",
    "\n",
    "# Mean\n",
    "ds_out_SHFLX.SHFLX_mean.resample(time='1Y', closed='left').mean('time').plot.line(ax=axes[1],x=\"time\",color='gray',alpha=0.01,linewidth=1,add_legend=False)\n",
    "(ds_out_SHFLX.SHFLX_mean.resample(time='1Y', closed='left').mean('time').mean('member_id')).plot.line(ax=axes[1],x=\"time\",alpha=0.3,color='k',linewidth=1,label='Member Mean 1Y')\n",
    "(ds_out_SHFLX.SHFLX_mean.resample(time='5Y', closed='left').mean('time').mean('member_id')).plot.line(ax=axes[1],x=\"time\",color='k',linewidth=2,label='Member Mean 5Y')\n",
    "axes[1].set_xlabel('Time [Years]')\n",
    "axes[1].set_ylabel('SHFLX Mean [oC]')\n",
    "axes[1].set_title('Area Mean')\n",
    "axes[1].grid(color='k', linestyle='-', linewidth=0.7)\n",
    "axes[1].legend()\n",
    "\n",
    "# Minimum\n",
    "ds_out_SHFLX.SHFLX_min.resample(time='1Y', closed='left').mean('time').plot.line(ax=axes[2],x=\"time\",color='c',alpha=0.01,linewidth=1,add_legend=False)\n",
    "(ds_out_SHFLX.SHFLX_min.resample(time='1Y', closed='left').mean('time').mean('member_id')).plot.line(ax=axes[2],x=\"time\",alpha=0.3,color='b',linewidth=1,label='Member Mean 1Y')\n",
    "(ds_out_SHFLX.SHFLX_min.resample(time='5Y', closed='left').mean('time').mean('member_id')).plot.line(ax=axes[2],x=\"time\",color='b',linewidth=2,label='Member Mean 5Y')\n",
    "axes[2].set_xlabel('Time [Years]')\n",
    "axes[2].set_ylabel('SHFLX Min [W/m2]')\n",
    "axes[2].set_title('Area Min')\n",
    "axes[2].grid(color='k', linestyle='-', linewidth=0.7)\n",
    "axes[2].legend()\n",
    "\n",
    "# root mean square\n",
    "ds_out_SHFLX.SHFLX_rms.resample(time='1Y', closed='left').mean('time').plot.line(ax=axes[3],x=\"time\",color='y',alpha=0.01,linewidth=1,add_legend=False)\n",
    "(ds_out_SHFLX.SHFLX_rms.resample(time='1Y', closed='left').mean('time').mean('member_id')).plot.line(ax=axes[3],x=\"time\",alpha=0.3,color='g',linewidth=1,label='Member Mean 1Y')\n",
    "(ds_out_SHFLX.SHFLX_rms.resample(time='5Y', closed='left').mean('time').mean('member_id')).plot.line(ax=axes[3],x=\"time\",color='g',linewidth=2,label='Member Mean 5Y')\n",
    "axes[3].set_xlabel('Time [Years]')\n",
    "axes[3].set_ylabel('SHFLX Error [W/m2]')\n",
    "axes[3].set_title('Area Error')\n",
    "axes[3].grid(color='k', linestyle='-', linewidth=0.7)\n",
    "axes[3].legend()\n",
    "\n",
    "plt.show()"
   ]
  },
  {
   "cell_type": "code",
   "execution_count": null,
   "id": "e5a92ad7-cf43-40fa-ac61-4eb9ef9a6474",
   "metadata": {},
   "outputs": [],
   "source": [
    "#### AIR TEMPERATURE\n",
    "\n",
    "fig, axes = plt.subplots(1, 4, figsize=(20, 8))\n",
    "# Maximum\n",
    "ds_out_T.T_max.isel(lev=-1).resample(time='1Y', closed='left').mean('time').plot.line(ax=axes[0],x=\"time\",color='orange',alpha=0.01,linewidth=1,add_legend=False)\n",
    "(ds_out_T.T_max.isel(lev=-1).resample(time='1Y', closed='left').mean('time').mean('member_id')).plot.line(ax=axes[0],x=\"time\",alpha=0.3,color='r',linewidth=1,label='Member Mean 1Y')\n",
    "(ds_out_T.T_max.isel(lev=-1).resample(time='5Y', closed='left').mean('time').mean('member_id')).plot.line(ax=axes[0],x=\"time\",color='r',linewidth=2,label='Member Mean 5Y')\n",
    "axes[0].set_xlabel('Time [Years]')\n",
    "axes[0].set_ylabel('SHFLX Max [W/m2]')\n",
    "axes[0].set_title('Area Max')\n",
    "axes[0].grid(color='k', linestyle='-', linewidth=0.7)\n",
    "axes[0].legend()\n",
    "fig.tight_layout(pad=3)\n",
    "\n",
    "# Mean\n",
    "ds_out_T.T_mean.isel(lev=-1).resample(time='1Y', closed='left').mean('time').plot.line(ax=axes[1],x=\"time\",color='gray',alpha=0.01,linewidth=1,add_legend=False)\n",
    "(ds_out_T.T_mean.isel(lev=-1).resample(time='1Y', closed='left').mean('time').mean('member_id')).plot.line(ax=axes[1],x=\"time\",alpha=0.3,color='k',linewidth=1,label='Member Mean 1Y')\n",
    "(ds_out_T.T_mean.isel(lev=-1).resample(time='5Y', closed='left').mean('time').mean('member_id')).plot.line(ax=axes[1],x=\"time\",color='k',linewidth=2,label='Member Mean 5Y')\n",
    "axes[1].set_xlabel('Time [Years]')\n",
    "axes[1].set_ylabel('SHFLX Mean [W/m2]')\n",
    "axes[1].set_title('Area Mean')\n",
    "axes[1].grid(color='k', linestyle='-', linewidth=0.7)\n",
    "axes[1].legend()\n",
    "\n",
    "# Minimum\n",
    "ds_out_T.T_min.isel(lev=-1).resample(time='1Y', closed='left').mean('time').plot.line(ax=axes[2],x=\"time\",color='c',alpha=0.01,linewidth=1,add_legend=False)\n",
    "(ds_out_T.T_min.isel(lev=-1).resample(time='1Y', closed='left').mean('time').mean('member_id')).plot.line(ax=axes[2],x=\"time\",alpha=0.3,color='b',linewidth=1,label='Member Mean 1Y')\n",
    "(ds_out_T.T_min.isel(lev=-1).resample(time='5Y', closed='left').mean('time').mean('member_id')).plot.line(ax=axes[2],x=\"time\",color='b',linewidth=2,label='Member Mean 5Y')\n",
    "axes[2].set_xlabel('Time [Years]')\n",
    "axes[2].set_ylabel('SHFLX Min [W/m2]')\n",
    "axes[2].set_title('Area Min')\n",
    "axes[2].grid(color='k', linestyle='-', linewidth=0.7)\n",
    "axes[2].legend()\n",
    "\n",
    "# root mean square\n",
    "ds_out_T.T_rms.isel(lev=-1).resample(time='1Y', closed='left').mean('time').plot.line(ax=axes[3],x=\"time\",color='y',alpha=0.01,linewidth=1,add_legend=False)\n",
    "(ds_out_T.T_rms.isel(lev=-1).resample(time='1Y', closed='left').mean('time').mean('member_id')).plot.line(ax=axes[3],x=\"time\",alpha=0.3,color='g',linewidth=1,label='Member Mean 1Y')\n",
    "(ds_out_T.T_rms.isel(lev=-1).resample(time='5Y', closed='left').mean('time').mean('member_id')).plot.line(ax=axes[3],x=\"time\",color='g',linewidth=2,label='Member Mean 5Y')\n",
    "axes[3].set_xlabel('Time [Years]')\n",
    "axes[3].set_ylabel('SHFLX Error [W/m2]')\n",
    "axes[3].set_title('Area Error')\n",
    "axes[3].grid(color='k', linestyle='-', linewidth=0.7)\n",
    "axes[3].legend()\n",
    "\n",
    "plt.show()"
   ]
  },
  {
   "cell_type": "markdown",
   "id": "3d798f75-8822-4cad-9d9e-3dfacd03b803",
   "metadata": {},
   "source": [
    "### Let's save the data in netcdf format"
   ]
  },
  {
   "cell_type": "code",
   "execution_count": null,
   "id": "36ad46ad-d080-4c04-8be8-eb5cb42f826c",
   "metadata": {},
   "outputs": [],
   "source": [
    "# create a directory on scratch to save the output\n",
    "for ifb in range(0,len(fb)):\n",
    "    print(f'Variable: {fb[ifb]}')\n",
    "    str=f'path = \\'/glade/scratch/mauricio/Data/LENS2/{fb[ifb]}/\\'.format(getpass.getuser())'\n",
    "    exec(str)\n",
    "    str=f'os.system(\\'mkdir -p \\'+path)'\n",
    "    exec(str)\n",
    "    str=f'ds_out_{fb[ifb]}.to_netcdf(path+\\'{fb[ifb]}_stats.nc\\')'\n",
    "    exec(str)"
   ]
  },
  {
   "cell_type": "code",
   "execution_count": null,
   "id": "f33ad8bd-5e72-496c-95be-d4098f91b759",
   "metadata": {},
   "outputs": [],
   "source": [
    "cluster.close()\n",
    "client.close()"
   ]
  }
 ],
 "metadata": {
  "kernelspec": {
   "display_name": "NPL 2022b",
   "language": "python",
   "name": "npl-2022b"
  },
  "language_info": {
   "codemirror_mode": {
    "name": "ipython",
    "version": 3
   },
   "file_extension": ".py",
   "mimetype": "text/x-python",
   "name": "python",
   "nbconvert_exporter": "python",
   "pygments_lexer": "ipython3",
   "version": "3.8.13"
  }
 },
 "nbformat": 4,
 "nbformat_minor": 5
}
