{
 "cells": [
  {
   "cell_type": "markdown",
   "id": "80b35905-7510-4a8c-a558-978aa1e07b3c",
   "metadata": {},
   "source": [
    "## CESM2 - LARGE ENSEMBLE (LENS2)\n",
    "\n",
    "#### by Mauricio Rocha and Dr. Gustavo Marques\n",
    "\n",
    "- This notebooks servers as an example on how to extract surface (or any other 2D spatial field) properties from a selected spacial region accross all LENS2 members for the atmosphere component for the SSP370. "
   ]
  },
  {
   "cell_type": "markdown",
   "id": "24be9cde-8f0a-4c83-988e-89528a758f21",
   "metadata": {},
   "source": [
    "## Imports"
   ]
  },
  {
   "cell_type": "code",
   "execution_count": null,
   "id": "1b0b0093-f110-4cb3-b270-b51f894b3ca2",
   "metadata": {},
   "outputs": [],
   "source": [
    "import intake\n",
    "import intake_esm\n",
    "import xarray as xr\n",
    "import matplotlib.pyplot as plt\n",
    "import cartopy.crs as ccrs\n",
    "import numpy as np\n",
    "import fsspec\n",
    "import cmocean\n",
    "import cartopy\n",
    "import cartopy.feature as cfeature\n",
    "from cartopy.mpl.ticker import LongitudeFormatter, LatitudeFormatter\n",
    "import pop_tools\n",
    "import sys\n",
    "from distributed import Client\n",
    "from ncar_jobqueue import NCARCluster\n",
    "sys.path.append('../functions')\n",
    "import util\n",
    "from cartopy.util import add_cyclic_point\n",
    "from misc import get_ij\n",
    "import warnings, getpass, os"
   ]
  },
  {
   "cell_type": "markdown",
   "id": "29691e0e-56ba-43da-bb20-941c1061f931",
   "metadata": {},
   "source": [
    "<div class=\"alert alert-block alert-info\">\n",
    "<b>Note:</b> comment the following line when debugging\n",
    "</div>"
   ]
  },
  {
   "cell_type": "code",
   "execution_count": null,
   "id": "828694db-f99e-466d-a578-20a8e0bf8690",
   "metadata": {},
   "outputs": [],
   "source": [
    "warnings.filterwarnings(\"ignore\")"
   ]
  },
  {
   "cell_type": "markdown",
   "id": "cc1cffc6-da9c-4783-b699-f658314a7d33",
   "metadata": {},
   "source": [
    "### Local functions"
   ]
  },
  {
   "cell_type": "markdown",
   "id": "c2eb5cc4-cb2a-4a93-835e-1b50945fcee8",
   "metadata": {},
   "source": [
    "### Dask workers"
   ]
  },
  {
   "cell_type": "code",
   "execution_count": null,
   "id": "30764d6a-8b79-4df8-bef7-c29af81b4d44",
   "metadata": {},
   "outputs": [],
   "source": [
    "mem_per_worker = 140 # in GB \n",
    "num_workers = 80\n",
    "cluster = NCARCluster(cores=4, processes=3, memory=f'{mem_per_worker} GB',resource_spec=f'select=1:ncpus=6:mem={mem_per_worker}GB')\n",
    "cluster.scale(num_workers)\n",
    "client = Client(cluster)\n",
    "print(client)\n",
    "client"
   ]
  },
  {
   "cell_type": "markdown",
   "id": "d22c9abb-b88c-4b6a-9d34-1a12aceacd56",
   "metadata": {},
   "source": [
    "### Data Ingest"
   ]
  },
  {
   "cell_type": "code",
   "execution_count": null,
   "id": "12b4bdae-8fde-4156-b32e-76d318bbabb1",
   "metadata": {},
   "outputs": [],
   "source": [
    "%%time\n",
    "catalog = intake.open_esm_datastore(\n",
    "    '/glade/collections/cmip/catalog/intake-esm-datastore/catalogs/glade-cesm2-le.json'\n",
    ")"
   ]
  },
  {
   "cell_type": "code",
   "execution_count": null,
   "id": "594b6f10-82b1-4280-8076-5bfbc77b992b",
   "metadata": {},
   "outputs": [],
   "source": [
    "catalog.search(component='atm').unique('frequency')"
   ]
  },
  {
   "cell_type": "raw",
   "id": "9cd242c5-072d-4a57-8764-c6bcc26db475",
   "metadata": {},
   "source": [
    "# this prints all ocean variables that have montly frequency\n",
    "catalog.search(component='atm', frequency='month_1').unique('variable')"
   ]
  },
  {
   "cell_type": "markdown",
   "id": "35bf8b98-519f-49df-be0d-4f2d07146834",
   "metadata": {},
   "source": [
    "### Let's search for variables with montly frequency"
   ]
  },
  {
   "cell_type": "code",
   "execution_count": null,
   "id": "705e20b0-44b4-4618-a90b-a28bb91cfdfb",
   "metadata": {},
   "outputs": [],
   "source": [
    "cat_subset = catalog.search(component='atm',\n",
    "                            frequency='month_1',\n",
    "                            variable=['SHFLX','LHFLX','SST','PRECT','OCNFRAC','T']) # Sensible Heat Flux, Latent Heat Flux, Sea Surface Temperature, Total (Convective and large-scale) precipitation rate, Temperature"
   ]
  },
  {
   "cell_type": "code",
   "execution_count": null,
   "id": "d97198ae-ac37-4fb9-95fc-9e11bfdd081f",
   "metadata": {},
   "outputs": [],
   "source": [
    "%%time\n",
    "dset_dict_raw = cat_subset.to_dataset_dict()"
   ]
  },
  {
   "cell_type": "code",
   "execution_count": null,
   "id": "8aa41912-02e1-47c7-a267-3e680f7f6be8",
   "metadata": {},
   "outputs": [],
   "source": [
    "# print keys\n",
    "[key for key in dset_dict_raw.keys()]"
   ]
  },
  {
   "cell_type": "code",
   "execution_count": null,
   "id": "ca42d246-2d1a-4270-9212-93baaf1b9938",
   "metadata": {},
   "outputs": [],
   "source": [
    "fb=('LHFLX','SHFLX','SST','PRECT','OCNFRAC','T')\n",
    "for ifb in range(0,len(fb)):\n",
    "    print(f'Variable: {fb[ifb]}')\n",
    "    str=f'ds_ssp370_cmip6_{fb[ifb]} = dset_dict_raw[\\'atm.ssp370.cam.h0.cmip6.{fb[ifb]}\\']'\n",
    "    exec(str)\n",
    "    str=f'ds_ssp370_smbb_{fb[ifb]} = dset_dict_raw[\\'atm.ssp370.cam.h0.smbb.{fb[ifb]}\\']'\n",
    "    exec(str)\n",
    "    str=f'ds_ssp370_{fb[ifb]} = xr.concat([ds_ssp370_cmip6_{fb[ifb]},ds_ssp370_smbb_{fb[ifb]}], dim=\\'member_id\\',data_vars=\\'minimal\\',coords=\\'minimal\\',compat=\\'override\\')'\n",
    "    exec(str)\n",
    "    str=f'mem=ds_ssp370_{fb[ifb]}.{fb[ifb]}.nbytes*1e-12 # in TB'\n",
    "    exec(str)\n",
    "    print(f'Memory: {mem} TB')\n",
    "    str=f'del ds_ssp370_cmip6_{fb[ifb]}; del ds_ssp370_smbb_{fb[ifb]}'; exec(str) \n",
    "print(f'Done!')"
   ]
  },
  {
   "cell_type": "markdown",
   "id": "2d79866d-60cb-4ff5-9b89-c600440b3506",
   "metadata": {},
   "source": [
    "### Mask"
   ]
  },
  {
   "cell_type": "markdown",
   "id": "06e07dcf-c1f1-432b-98ca-ee1de232c905",
   "metadata": {},
   "source": [
    "#### 1. Replace the TSS data equal to 0 (continents) by NaN"
   ]
  },
  {
   "cell_type": "code",
   "execution_count": null,
   "id": "40833432-a750-472a-bf2f-87832b012db1",
   "metadata": {},
   "outputs": [],
   "source": [
    "ds_ssp370_SST.SST.isel(time=0,member_id=0).plot()"
   ]
  },
  {
   "cell_type": "code",
   "execution_count": null,
   "id": "e7f1aa1d-76dc-46d2-8f76-96d73257ca73",
   "metadata": {},
   "outputs": [],
   "source": [
    "ds_ssp370_SST=ds_ssp370_SST.where(ds_ssp370_SST['SST'] != 0.)\n",
    "ds_ssp370_SST.SST.isel(time=0,member_id=0).plot()"
   ]
  },
  {
   "cell_type": "markdown",
   "id": "11ddf398-cefc-45b1-8265-e06593cf1eef",
   "metadata": {},
   "source": [
    "#### 2. Building the mask. The ocean model and the atmospheric model feed data into the coastal region, so we need to take data that is 100% on the ocean model grid to ensure that we are not looking at data over the continent.  "
   ]
  },
  {
   "cell_type": "code",
   "execution_count": null,
   "id": "0503a263-928c-4858-9441-d3bad28dbed8",
   "metadata": {},
   "outputs": [],
   "source": [
    "ds_ssp370_OCNFRAC.OCNFRAC.isel(time=0,member_id=0).plot()"
   ]
  },
  {
   "cell_type": "markdown",
   "id": "dc17cc27-6737-4004-9238-f00b3c1e341d",
   "metadata": {},
   "source": [
    "##### 2.2 Since we are not working with polar regions, we will put NAN on all data that is different from 1 to build the mask"
   ]
  },
  {
   "cell_type": "code",
   "execution_count": null,
   "id": "8a540e06-8525-4708-a4d0-2e2045eb74fe",
   "metadata": {},
   "outputs": [],
   "source": [
    "ds_ssp370_OCNFRAC=ds_ssp370_OCNFRAC.where(ds_ssp370_OCNFRAC['OCNFRAC'] ==1.)\n",
    "ds_ssp370_OCNFRAC.OCNFRAC.isel(time=0,member_id=0).plot()"
   ]
  },
  {
   "cell_type": "code",
   "execution_count": null,
   "id": "2abb5032-5d35-4d04-bded-e5d2dffde95a",
   "metadata": {},
   "outputs": [],
   "source": [
    "mask_ocean = 2 * np.ones((ds_ssp370_OCNFRAC.dims['lat'], ds_ssp370_OCNFRAC.dims['lon'])) * np.isfinite(ds_ssp370_OCNFRAC.OCNFRAC.isel(time=0,member_id=0))  \n",
    "mask_land = 1 * np.ones((ds_ssp370_OCNFRAC.dims['lat'], ds_ssp370_OCNFRAC.dims['lon'])) * np.isnan(ds_ssp370_OCNFRAC.OCNFRAC.isel(time=0,member_id=0))  \n",
    "mask_array = mask_ocean + mask_land\n",
    "mask_array.plot()"
   ]
  },
  {
   "cell_type": "markdown",
   "id": "a84d050e-ef67-48d1-b389-405341a896bc",
   "metadata": {},
   "source": [
    "#### 3. Applying the mask for the other variables"
   ]
  },
  {
   "cell_type": "code",
   "execution_count": null,
   "id": "714da6ae-d903-4ef4-b26b-9ae683e19eeb",
   "metadata": {},
   "outputs": [],
   "source": [
    "ds_ssp370_PRECT =ds_ssp370_PRECT.where(mask_array == 2.) # Precipitation \n",
    "ds_ssp370_LHFLX =ds_ssp370_LHFLX.where(mask_array == 2.) # Latent Heat Flux\n",
    "ds_ssp370_SHFLX =ds_ssp370_SHFLX.where(mask_array == 2.) # Sensible Heat Flux\n",
    "ds_ssp370_T =ds_ssp370_T.where(mask_array == 2.) # Atmosphere Temperature\n",
    "ds_ssp370_SST =ds_ssp370_SST.where(mask_array == 2.)     # Sea Surface Temperature"
   ]
  },
  {
   "cell_type": "markdown",
   "id": "bacf6f6d-6fa3-49e4-a508-3f85e29d0426",
   "metadata": {},
   "source": [
    "### Just to make sure that the mask was applied"
   ]
  },
  {
   "cell_type": "code",
   "execution_count": null,
   "id": "157b5ad4-0c5d-4bf1-ab62-ff0b3eca7c69",
   "metadata": {},
   "outputs": [],
   "source": [
    "ds_ssp370_PRECT.PRECT.isel(time=1,member_id=10).plot() # Precipitation "
   ]
  },
  {
   "cell_type": "code",
   "execution_count": null,
   "id": "ce7cec7e-8eb6-4060-a7ad-c1d314d23118",
   "metadata": {},
   "outputs": [],
   "source": [
    "ds_ssp370_LHFLX.LHFLX.isel(time=1,member_id=10).plot() # Latent Heat Flux "
   ]
  },
  {
   "cell_type": "code",
   "execution_count": null,
   "id": "6d83c8ac-da66-4bcb-b215-35005be5033a",
   "metadata": {},
   "outputs": [],
   "source": [
    "ds_ssp370_SHFLX.SHFLX.isel(time=1,member_id=10).plot() # Sensible Heat Flux"
   ]
  },
  {
   "cell_type": "code",
   "execution_count": null,
   "id": "2741652d-b134-4d5b-8365-3c2833bedbec",
   "metadata": {},
   "outputs": [],
   "source": [
    "ds_ssp370_SST.SST.isel(time=1,member_id=10).plot() # Sea Surface Temperature"
   ]
  },
  {
   "cell_type": "code",
   "execution_count": null,
   "id": "d1530955-a0ff-42e2-9df9-2f7e6549f5a8",
   "metadata": {},
   "outputs": [],
   "source": [
    "ds_ssp370_T.T.isel(time=1,member_id=10,lev=-1).plot() # Atmosphere Temperature"
   ]
  },
  {
   "cell_type": "markdown",
   "id": "08d3c613-a853-4f85-a53c-af8924015d22",
   "metadata": {},
   "source": [
    "### One more example..."
   ]
  },
  {
   "cell_type": "code",
   "execution_count": null,
   "id": "de97b8b1-73da-478e-bc40-43d8f7425c55",
   "metadata": {},
   "outputs": [],
   "source": [
    "ds_var_1231 = ds_ssp370_SHFLX.SHFLX.sel(member_id=['r1i1231p1f1','r2i1231p1f1','r3i1231p1f1','r4i1231p1f1','r5i1231p1f1','r6i1231p1f1','r7i1231p1f1','r8i1231p1f1','r9i1231p1f1','r10i1231p1f1']).mean(dim='time')#.plot()\n",
    "plt.figure(figsize=(10,6));\n",
    "ax = plt.axes(projection=ccrs.Robinson());\n",
    "pc = ds_var_1231.mean(dim='member_id').plot.pcolormesh(ax=ax,\n",
    "                    transform=ccrs.PlateCarree(),\n",
    "                    cmap=cmocean.cm.balance,\n",
    "                    x='lon',\n",
    "                    y='lat',\n",
    "                    #vmin=-3,\n",
    "                    #vmax=30,\n",
    "                    cbar_kwargs={\"orientation\": \"horizontal\"})                                    \n",
    "ax.gridlines(draw_labels=True);\n",
    "ax.coastlines()\n",
    "ax.gridlines();\n",
    "plt.title(\"i1231p1f1\")"
   ]
  },
  {
   "cell_type": "markdown",
   "id": "b1a421b9-80de-4516-8a29-8638a12f2869",
   "metadata": {},
   "source": [
    "### Centralize the South Atlantic \n",
    "Need to combine the domain in the east/west direction to centralize the South Atlantic"
   ]
  },
  {
   "cell_type": "code",
   "execution_count": null,
   "id": "24096435-e13e-4244-be96-c8a931d60a84",
   "metadata": {},
   "outputs": [],
   "source": [
    "fb=('LHFLX','SHFLX','SST','PRECT','T')\n",
    "ilat, flat = 68, 95\n",
    "ilon1, flon1, ilon2, flon2 = 250, 288, 0, 20\n",
    "for ifb in range(0,len(fb)):\n",
    "    print(f'Variable: {fb[ifb]}')\n",
    "    str=f'sa_ds_{fb[ifb]}=xr.combine_nested([[ds_ssp370_{fb[ifb]}.isel(lat = slice(ilat,flat),lon = slice(ilon1,flon1)),ds_ssp370_{fb[ifb]}.isel(lat = slice(ilat,flat),lon = slice(ilon2,flon2))]],concat_dim=[\\'lat\\',\\'lon\\'])'\n",
    "    exec(str)\n",
    "    str=f'sa_ds_{fb[ifb]}.coords[\\'lon\\'] = (sa_ds_{fb[ifb]}.coords[\\'lon\\'] + 180) % 360 - 180' # change the longitudes: -180 0 180\n",
    "    exec(str)\n",
    "    str=f'sa_ds_{fb[ifb]} = sa_ds_{fb[ifb]}.sortby(sa_ds_{fb[ifb]}.lon)'\n",
    "    exec(str)"
   ]
  },
  {
   "cell_type": "markdown",
   "id": "bfc6de09-de7a-4a5b-9632-293f3420ca2c",
   "metadata": {},
   "source": [
    "### Let's test"
   ]
  },
  {
   "cell_type": "code",
   "execution_count": null,
   "id": "eb5b711f-c0e5-4a84-ac89-85f3b3b6ba5d",
   "metadata": {},
   "outputs": [],
   "source": [
    "%%time\n",
    "plt.figure(figsize=(10,6));\n",
    "ax = plt.axes(projection=ccrs.Robinson());\n",
    "pc = sa_ds_LHFLX.LHFLX.isel(member_id=0).mean(dim='time').plot.pcolormesh(ax=ax,\n",
    "                    transform=ccrs.PlateCarree(),\n",
    "                    cmap=cmocean.cm.balance,\n",
    "                    x='lon',\n",
    "                    y='lat',\n",
    "                    #vmin=290,\n",
    "                    #vmax=302,\n",
    "                    cbar_kwargs={\"orientation\": \"horizontal\"})                                    \n",
    "ax.gridlines(draw_labels=True);\n",
    "ax.coastlines()\n",
    "ax.gridlines();"
   ]
  },
  {
   "cell_type": "code",
   "execution_count": null,
   "id": "6e2b63fd-624e-4645-bc6b-4c236e078c15",
   "metadata": {},
   "outputs": [],
   "source": [
    "# Annual Mean\n",
    "sa_ds_SHFLX=sa_ds_SHFLX.resample(time='1Y', closed='left').mean('time')\n",
    "sa_ds_LHFLX=sa_ds_LHFLX.resample(time='1Y', closed='left').mean('time')\n",
    "sa_ds_SST=sa_ds_SST.resample(time='1Y', closed='left').mean('time')\n",
    "sa_ds_T=sa_ds_T.resample(time='1Y', closed='left').mean('time')\n",
    "sa_ds_PRECT=sa_ds_PRECT.resample(time='1Y', closed='left').mean('time')"
   ]
  },
  {
   "cell_type": "markdown",
   "id": "b35f6926-19b2-4c69-87ec-db2560cb8aeb",
   "metadata": {},
   "source": [
    "### Perfom computations\n",
    "Calculate area mean, min, max, and rms for the surface temperature of the selected region"
   ]
  },
  {
   "cell_type": "code",
   "execution_count": null,
   "id": "4c1e3cb5-c47c-4e7e-b04b-9f9a183204ff",
   "metadata": {},
   "outputs": [],
   "source": [
    "%%time\n",
    "start=\"2015-02-01\"\n",
    "end=\"2100-12-31\"\n",
    "fb=('T')\n",
    "for ifb in range(0,len(fb)):\n",
    "    print(f'Variable: {fb[ifb]}')\n",
    "    str=f'var_{fb[ifb]} = sa_ds_{fb[ifb]}.{fb[ifb]}.sel(time=slice(start,end))'               # time\n",
    "    exec(str)\n",
    "    print(f'var_{fb[ifb]}')\n",
    "    # Mean\n",
    "    str=f'var_mean_{fb[ifb]} = var_{fb[ifb]}.mean(dim=(\\'lon\\',\\'lat\\')).load()'              # Mean\n",
    "    exec(str)\n",
    "    print(f'var_mean_{fb[ifb]}')\n",
    "    # Maximum\n",
    "    str=f'var_max_{fb[ifb]} = var_{fb[ifb]}.max(dim=(\\'lon\\',\\'lat\\')).load()'                # Maximum\n",
    "    exec(str)\n",
    "    print(f'var_max_{fb[ifb]}')\n",
    "    # Minimum\n",
    "    str=f'var_min_{fb[ifb]} = var_{fb[ifb]}.min(dim=(\\'lon\\',\\'lat\\')).load()'                # Minimum\n",
    "    exec(str)\n",
    "    print(f'var_min_{fb[ifb]}')\n",
    "    # RMS\n",
    "    str=f'var_rms_{fb[ifb]} = np.sqrt((var_{fb[ifb]}**2).mean(dim=[\\'lat\\',\\'lon\\'])).load()' # Root Mean Square\n",
    "    exec(str)\n",
    "    print(f'var_rms_{fb[ifb]}')\n",
    "print(f'Done!')"
   ]
  },
  {
   "cell_type": "markdown",
   "id": "66e03bda-270b-4c10-be7b-e4e05b4bd5f9",
   "metadata": {},
   "source": [
    "### TODO\n",
    "Plot some time series to check calculations"
   ]
  },
  {
   "cell_type": "markdown",
   "id": "f79bf420-c092-4cfd-9edb-3f695a7d8e97",
   "metadata": {},
   "source": [
    "### Merge data and save on disk"
   ]
  },
  {
   "cell_type": "code",
   "execution_count": null,
   "id": "27a4fa3d-42ae-40a0-a011-cd2d27846a1b",
   "metadata": {},
   "outputs": [],
   "source": [
    "#units=('W/m2','W/m2','K','m/s','K')\n",
    "#long_name=('Latent Heat Flux','Sensible Heat Flux','Sea Surface Temperature','Total (convective and large-scale) precipitation rate (liq + ice)','Temperature')\n",
    "units=('W/m2','W/m2','K','m/s')\n",
    "long_name=('Latent Heat Flux','Sensible Heat Flux','Sea Surface Temperature','Total (convective and large-scale) precipitation rate (liq + ice)')\n",
    "for ifb in range(0,len(fb)):\n",
    "    print(f'Variable: {fb[ifb]}')\n",
    "    str=f'ds_out_{fb[ifb]} = xr.merge([var_rms_{fb[ifb]}.rename(\\'{fb[ifb]}_rms\\'),var_mean_{fb[ifb]}.rename(\\'{fb[ifb]}_mean\\'),var_max_{fb[ifb]}.rename(\\'{fb[ifb]}_max\\'),var_min_{fb[ifb]}.rename(\\'{fb[ifb]}_min\\')])'\n",
    "    exec(str)\n",
    "    str=f'ds_out_{fb[ifb]}.attrs[\\'description\\'] = \\'{long_name[ifb]} ({fb[ifb]}) statistics for the South Atlantic (47.5W-23.75E and 25.91623S-1.413613S)\\''\n",
    "    exec(str)\n",
    "    str=f'ds_out_{fb[ifb]}.attrs[\\'units\\'] = \\'{units[ifb]}\\''\n",
    "    exec(str)\n",
    "    str=f'ds_out_{fb[ifb]}.attrs[\\'author\\'] = \\'Mauricio Rocha\\''\n",
    "    exec(str)\n",
    "    str=f'ds_out_{fb[ifb]}.attrs[\\'email\\'] = \\'mauricio.rocha@usp.br\\''\n",
    "    exec(str)"
   ]
  },
  {
   "cell_type": "code",
   "execution_count": null,
   "id": "dba95ee5-43fc-43d7-8817-a318a9f3ee9c",
   "metadata": {},
   "outputs": [],
   "source": [
    "# PRECIPITATION\n",
    "\n",
    "fig, axes = plt.subplots(1, 4, figsize=(20, 8))\n",
    "# Maximum\n",
    "(ds_out_PRECT.PRECT_max.resample(time='1Y', closed='left').mean('time')*86400000).plot.line(ax=axes[0],x=\"time\",color='orange',alpha=0.01,linewidth=1,add_legend=False)\n",
    "(ds_out_PRECT.PRECT_max.resample(time='1Y', closed='left').mean('time').mean('member_id')*86400000).plot.line(ax=axes[0],x=\"time\",alpha=0.3,color='r',linewidth=1,label='Member Mean 1Y')\n",
    "(ds_out_PRECT.PRECT_max.resample(time='5Y', closed='left').mean('time').mean('member_id')*86400000).plot.line(ax=axes[0],x=\"time\",color='r',linewidth=2,label='Member Mean 5Y')\n",
    "axes[0].set_xlabel('Time [Years]')\n",
    "axes[0].set_ylabel('PRECT Mean [mm/day]')\n",
    "axes[0].set_title('Area Max')\n",
    "axes[0].grid(color='k', linestyle='-', linewidth=0.7)\n",
    "axes[0].legend()\n",
    "fig.tight_layout(pad=3)\n",
    "\n",
    "# Mean\n",
    "(ds_out_PRECT.PRECT_mean.resample(time='1Y', closed='left').mean('time')*86400000).plot.line(ax=axes[1],x=\"time\",color='gray',alpha=0.01,linewidth=1,add_legend=False)\n",
    "(ds_out_PRECT.PRECT_mean.resample(time='1Y', closed='left').mean('time').mean('member_id')*86400000).plot.line(ax=axes[1],x=\"time\",alpha=0.3,color='k',linewidth=1,label='Member Mean 1Y')\n",
    "(ds_out_PRECT.PRECT_mean.resample(time='5Y', closed='left').mean('time').mean('member_id')*86400000).plot.line(ax=axes[1],x=\"time\",color='k',linewidth=2,label='Member Mean 5Y')\n",
    "axes[1].set_xlabel('Time [Years]')\n",
    "axes[1].set_ylabel('PRECT Mean [mm/day]')\n",
    "axes[1].set_title('Area Mean')\n",
    "axes[1].grid(color='k', linestyle='-', linewidth=0.7)\n",
    "axes[1].legend()\n",
    "\n",
    "# Minimum\n",
    "(ds_out_PRECT.PRECT_min.resample(time='1Y', closed='left').mean('time')*86400000).plot.line(ax=axes[2],x=\"time\",color='c',alpha=0.01,linewidth=1,add_legend=False)\n",
    "(ds_out_PRECT.PRECT_min.resample(time='1Y', closed='left').mean('time').mean('member_id')*86400000).plot.line(ax=axes[2],x=\"time\",alpha=0.3,color='b',linewidth=1,label='Member Mean 1Y')\n",
    "(ds_out_PRECT.PRECT_min.resample(time='5Y', closed='left').mean('time').mean('member_id')*86400000).plot.line(ax=axes[2],x=\"time\",color='b',linewidth=2,label='Member Mean 5Y')\n",
    "axes[2].set_xlabel('Time [Years]')\n",
    "axes[2].set_ylabel('PRECT Min [mm/day]')\n",
    "axes[2].set_title('Area Min')\n",
    "axes[2].grid(color='k', linestyle='-', linewidth=0.7)\n",
    "axes[2].legend()\n",
    "\n",
    "# root mean square\n",
    "(ds_out_PRECT.PRECT_rms.resample(time='1Y', closed='left').mean('time')*86400000).plot.line(ax=axes[3],x=\"time\",color='y',alpha=0.01,linewidth=1,add_legend=False)\n",
    "(ds_out_PRECT.PRECT_rms.resample(time='1Y', closed='left').mean('time').mean('member_id')*86400000).plot.line(ax=axes[3],x=\"time\",alpha=0.3,color='g',linewidth=1,label='Member Mean 1Y')\n",
    "(ds_out_PRECT.PRECT_rms.resample(time='5Y', closed='left').mean('time').mean('member_id')*86400000).plot.line(ax=axes[3],x=\"time\",color='g',linewidth=2,label='Member Mean 5Y')\n",
    "axes[3].set_xlabel('Time [Years]')\n",
    "axes[3].set_ylabel('PRECT Error [mm/day]')\n",
    "axes[3].set_title('Area Error')\n",
    "axes[3].grid(color='k', linestyle='-', linewidth=0.7)\n",
    "axes[3].legend()\n",
    "\n",
    "plt.show()"
   ]
  },
  {
   "cell_type": "code",
   "execution_count": null,
   "id": "17b64175-0a12-4ec3-a960-0272836e4da3",
   "metadata": {},
   "outputs": [],
   "source": [
    "#### SEA SURFACE TEMPERATURE\n",
    "\n",
    "fig, axes = plt.subplots(1, 4, figsize=(20, 8))\n",
    "# Maximum\n",
    "(ds_out_SST.SST_max.resample(time='1Y', closed='left').mean('time')-273.15).plot.line(ax=axes[0],x=\"time\",color='orange',alpha=0.01,linewidth=1,add_legend=False)\n",
    "(ds_out_SST.SST_max.resample(time='1Y', closed='left').mean('time').mean('member_id')-273.15).plot.line(ax=axes[0],x=\"time\",alpha=0.3,color='r',linewidth=1,label='Member Mean 1Y')\n",
    "(ds_out_SST.SST_max.resample(time='5Y', closed='left').mean('time').mean('member_id')-273.15).plot.line(ax=axes[0],x=\"time\",color='r',linewidth=2,label='Member Mean 5Y')\n",
    "axes[0].set_xlabel('Time [Years]')\n",
    "axes[0].set_ylabel('SST Max [oC]')\n",
    "axes[0].set_title('Area Max')\n",
    "axes[0].grid(color='k', linestyle='-', linewidth=0.7)\n",
    "axes[0].legend()\n",
    "fig.tight_layout(pad=3)\n",
    "\n",
    "# Mean\n",
    "(ds_out_SST.SST_mean.resample(time='1Y', closed='left').mean('time')-273.15).plot.line(ax=axes[1],x=\"time\",color='gray',alpha=0.01,linewidth=1,add_legend=False)\n",
    "(ds_out_SST.SST_mean.resample(time='1Y', closed='left').mean('time').mean('member_id')-273.15).plot.line(ax=axes[1],x=\"time\",alpha=0.3,color='k',linewidth=1,label='Member Mean 1Y')\n",
    "(ds_out_SST.SST_mean.resample(time='5Y', closed='left').mean('time').mean('member_id')-273.15).plot.line(ax=axes[1],x=\"time\",color='k',linewidth=2,label='Member Mean 5Y')\n",
    "axes[1].set_xlabel('Time [Years]')\n",
    "axes[1].set_ylabel('SST Mean [oC]')\n",
    "axes[1].set_title('Area Mean')\n",
    "axes[1].grid(color='k', linestyle='-', linewidth=0.7)\n",
    "axes[1].legend()\n",
    "\n",
    "# Minimum\n",
    "(ds_out_SST.SST_min.resample(time='1Y', closed='left').mean('time')-273.15).plot.line(ax=axes[2],x=\"time\",color='c',alpha=0.01,linewidth=1,add_legend=False)\n",
    "(ds_out_SST.SST_min.resample(time='1Y', closed='left').mean('time').mean('member_id')-273.15).plot.line(ax=axes[2],x=\"time\",alpha=0.3,color='b',linewidth=1,label='Member Mean 1Y')\n",
    "(ds_out_SST.SST_min.resample(time='5Y', closed='left').mean('time').mean('member_id')-273.15).plot.line(ax=axes[2],x=\"time\",color='b',linewidth=2,label='Member Mean 5Y')\n",
    "axes[2].set_xlabel('Time [Years]')\n",
    "axes[2].set_ylabel('SST Min [oC]')\n",
    "axes[2].set_title('Area Min')\n",
    "axes[2].grid(color='k', linestyle='-', linewidth=0.7)\n",
    "axes[2].legend()\n",
    "\n",
    "# root mean square\n",
    "(ds_out_SST.SST_rms.resample(time='1Y', closed='left').mean('time')-273.15).plot.line(ax=axes[3],x=\"time\",color='y',alpha=0.01,linewidth=1,add_legend=False)\n",
    "(ds_out_SST.SST_rms.resample(time='1Y', closed='left').mean('time').mean('member_id')-273.15).plot.line(ax=axes[3],x=\"time\",alpha=0.3,color='g',linewidth=1,label='Member Mean 1Y')\n",
    "(ds_out_SST.SST_rms.resample(time='5Y', closed='left').mean('time').mean('member_id')-273.15).plot.line(ax=axes[3],x=\"time\",color='g',linewidth=2,label='Member Mean 5Y')\n",
    "axes[3].set_xlabel('Time [Years]')\n",
    "axes[3].set_ylabel('SST Error [oC]')\n",
    "axes[3].set_title('Area Error')\n",
    "axes[3].grid(color='k', linestyle='-', linewidth=0.7)\n",
    "axes[3].legend()\n",
    "\n",
    "plt.show()"
   ]
  },
  {
   "cell_type": "code",
   "execution_count": null,
   "id": "b8139469-9d53-4658-bae5-d217586f6c11",
   "metadata": {},
   "outputs": [],
   "source": [
    "#### LATENT HEAT FLUX\n",
    "\n",
    "fig, axes = plt.subplots(1, 4, figsize=(20, 8))\n",
    "# Maximum\n",
    "ds_out_LHFLX.LHFLX_max.resample(time='1Y', closed='left').mean('time').plot.line(ax=axes[0],x=\"time\",color='orange',alpha=0.01,linewidth=1,add_legend=False)\n",
    "(ds_out_LHFLX.LHFLX_max.resample(time='1Y', closed='left').mean('time').mean('member_id')).plot.line(ax=axes[0],x=\"time\",alpha=0.3,color='r',linewidth=1,label='Member Mean 1Y')\n",
    "(ds_out_LHFLX.LHFLX_max.resample(time='5Y', closed='left').mean('time').mean('member_id')).plot.line(ax=axes[0],x=\"time\",color='r',linewidth=2,label='Member Mean 5Y')\n",
    "axes[0].set_xlabel('Time [Years]')\n",
    "axes[0].set_ylabel('LHFLX Max [W/m2]')\n",
    "axes[0].set_title('Area Max')\n",
    "axes[0].grid(color='k', linestyle='-', linewidth=0.7)\n",
    "axes[0].legend()\n",
    "fig.tight_layout(pad=3)\n",
    "\n",
    "# Mean\n",
    "ds_out_LHFLX.LHFLX_mean.resample(time='1Y', closed='left').mean('time').plot.line(ax=axes[1],x=\"time\",color='gray',alpha=0.01,linewidth=1,add_legend=False)\n",
    "(ds_out_LHFLX.LHFLX_mean.resample(time='1Y', closed='left').mean('time').mean('member_id')).plot.line(ax=axes[1],x=\"time\",alpha=0.3,color='k',linewidth=1,label='Member Mean 1Y')\n",
    "(ds_out_LHFLX.LHFLX_mean.resample(time='5Y', closed='left').mean('time').mean('member_id')).plot.line(ax=axes[1],x=\"time\",color='k',linewidth=2,label='Member Mean 5Y')\n",
    "axes[1].set_xlabel('Time [Years]')\n",
    "axes[1].set_ylabel('LHFLX Mean [W/m2]')\n",
    "axes[1].set_title('Area Mean')\n",
    "axes[1].grid(color='k', linestyle='-', linewidth=0.7)\n",
    "axes[1].legend()\n",
    "\n",
    "# Minimum\n",
    "ds_out_LHFLX.LHFLX_min.resample(time='1Y', closed='left').mean('time').plot.line(ax=axes[2],x=\"time\",color='c',alpha=0.01,linewidth=1,add_legend=False)\n",
    "(ds_out_LHFLX.LHFLX_min.resample(time='1Y', closed='left').mean('time').mean('member_id')).plot.line(ax=axes[2],x=\"time\",alpha=0.3,color='b',linewidth=1,label='Member Mean 1Y')\n",
    "(ds_out_LHFLX.LHFLX_min.resample(time='5Y', closed='left').mean('time').mean('member_id')).plot.line(ax=axes[2],x=\"time\",color='b',linewidth=2,label='Member Mean 5Y')\n",
    "axes[2].set_xlabel('Time [Years]')\n",
    "axes[2].set_ylabel('LHFLX Min [W/m2]')\n",
    "axes[2].set_title('Area Min')\n",
    "axes[2].grid(color='k', linestyle='-', linewidth=0.7)\n",
    "axes[2].legend()\n",
    "\n",
    "# root mean square\n",
    "ds_out_LHFLX.LHFLX_rms.resample(time='1Y', closed='left').mean('time').plot.line(ax=axes[3],x=\"time\",color='y',alpha=0.01,linewidth=1,add_legend=False)\n",
    "(ds_out_LHFLX.LHFLX_rms.resample(time='1Y', closed='left').mean('time').mean('member_id')).plot.line(ax=axes[3],x=\"time\",alpha=0.3,color='g',linewidth=1,label='Member Mean 1Y')\n",
    "(ds_out_LHFLX.LHFLX_rms.resample(time='5Y', closed='left').mean('time').mean('member_id')).plot.line(ax=axes[3],x=\"time\",color='g',linewidth=2,label='Member Mean 5Y')\n",
    "axes[3].set_xlabel('Time [Years]')\n",
    "axes[3].set_ylabel('LHFLX Error [W/m2]')\n",
    "axes[3].set_title('Area Error')\n",
    "axes[3].grid(color='k', linestyle='-', linewidth=0.7)\n",
    "axes[3].legend()\n",
    "\n",
    "plt.show()"
   ]
  },
  {
   "cell_type": "code",
   "execution_count": null,
   "id": "402f2af2-b62d-40fb-b9a1-0105943ad540",
   "metadata": {},
   "outputs": [],
   "source": [
    "#### SENSIBLE HEAT FLUX\n",
    "\n",
    "fig, axes = plt.subplots(1, 4, figsize=(20, 8))\n",
    "# Maximum\n",
    "ds_out_SHFLX.SHFLX_max.resample(time='1Y', closed='left').mean('time').plot.line(ax=axes[0],x=\"time\",color='orange',alpha=0.01,linewidth=1,add_legend=False)\n",
    "(ds_out_SHFLX.SHFLX_max.resample(time='1Y', closed='left').mean('time').mean('member_id')).plot.line(ax=axes[0],x=\"time\",alpha=0.3,color='r',linewidth=1,label='Member Mean 1Y')\n",
    "(ds_out_SHFLX.SHFLX_max.resample(time='5Y', closed='left').mean('time').mean('member_id')).plot.line(ax=axes[0],x=\"time\",color='r',linewidth=2,label='Member Mean 5Y')\n",
    "axes[0].set_xlabel('Time [Years]')\n",
    "axes[0].set_ylabel('SHFLX Max [W/m2]')\n",
    "axes[0].set_title('Area Max')\n",
    "axes[0].grid(color='k', linestyle='-', linewidth=0.7)\n",
    "axes[0].legend()\n",
    "fig.tight_layout(pad=3)\n",
    "\n",
    "# Mean\n",
    "ds_out_SHFLX.SHFLX_mean.resample(time='1Y', closed='left').mean('time').plot.line(ax=axes[1],x=\"time\",color='gray',alpha=0.01,linewidth=1,add_legend=False)\n",
    "(ds_out_SHFLX.SHFLX_mean.resample(time='1Y', closed='left').mean('time').mean('member_id')).plot.line(ax=axes[1],x=\"time\",alpha=0.3,color='k',linewidth=1,label='Member Mean 1Y')\n",
    "(ds_out_SHFLX.SHFLX_mean.resample(time='5Y', closed='left').mean('time').mean('member_id')).plot.line(ax=axes[1],x=\"time\",color='k',linewidth=2,label='Member Mean 5Y')\n",
    "axes[1].set_xlabel('Time [Years]')\n",
    "axes[1].set_ylabel('SHFLX Mean [W/m2]')\n",
    "axes[1].set_title('Area Mean')\n",
    "axes[1].grid(color='k', linestyle='-', linewidth=0.7)\n",
    "axes[1].legend()\n",
    "\n",
    "# Minimum\n",
    "ds_out_SHFLX.SHFLX_min.resample(time='1Y', closed='left').mean('time').plot.line(ax=axes[2],x=\"time\",color='c',alpha=0.01,linewidth=1,add_legend=False)\n",
    "(ds_out_SHFLX.SHFLX_min.resample(time='1Y', closed='left').mean('time').mean('member_id')).plot.line(ax=axes[2],x=\"time\",alpha=0.3,color='b',linewidth=1,label='Member Mean 1Y')\n",
    "(ds_out_SHFLX.SHFLX_min.resample(time='5Y', closed='left').mean('time').mean('member_id')).plot.line(ax=axes[2],x=\"time\",color='b',linewidth=2,label='Member Mean 5Y')\n",
    "axes[2].set_xlabel('Time [Years]')\n",
    "axes[2].set_ylabel('SHFLX Min [W/m2]')\n",
    "axes[2].set_title('Area Min')\n",
    "axes[2].grid(color='k', linestyle='-', linewidth=0.7)\n",
    "axes[2].legend()\n",
    "\n",
    "# root mean square\n",
    "ds_out_SHFLX.SHFLX_rms.resample(time='1Y', closed='left').mean('time').plot.line(ax=axes[3],x=\"time\",color='y',alpha=0.01,linewidth=1,add_legend=False)\n",
    "(ds_out_SHFLX.SHFLX_rms.resample(time='1Y', closed='left').mean('time').mean('member_id')).plot.line(ax=axes[3],x=\"time\",alpha=0.3,color='g',linewidth=1,label='Member Mean 1Y')\n",
    "(ds_out_SHFLX.SHFLX_rms.resample(time='5Y', closed='left').mean('time').mean('member_id')).plot.line(ax=axes[3],x=\"time\",color='g',linewidth=2,label='Member Mean 5Y')\n",
    "axes[3].set_xlabel('Time [Years]')\n",
    "axes[3].set_ylabel('SHFLX Error [W/m2]')\n",
    "axes[3].set_title('Area Error')\n",
    "axes[3].grid(color='k', linestyle='-', linewidth=0.7)\n",
    "axes[3].legend()\n",
    "\n",
    "plt.show()"
   ]
  },
  {
   "cell_type": "code",
   "execution_count": null,
   "id": "5848824f-17aa-4aac-9245-0ba997d60350",
   "metadata": {},
   "outputs": [],
   "source": [
    "#### Temperature\n",
    "\n",
    "fig, axes = plt.subplots(1, 4, figsize=(20, 8))\n",
    "# Maximum\n",
    "ds_out_T.T_max.isel(lev=-1).resample(time='1Y', closed='left').mean('time').plot.line(ax=axes[0],x=\"time\",color='orange',alpha=0.01,linewidth=1,add_legend=False)\n",
    "(ds_out_T.T_max.isel(lev=-1).resample(time='1Y', closed='left').mean('time').mean('member_id')).plot.line(ax=axes[0],x=\"time\",alpha=0.3,color='r',linewidth=1,label='Member Mean 1Y')\n",
    "(ds_out_T.T_max.isel(lev=-1).resample(time='5Y', closed='left').mean('time').mean('member_id')).plot.line(ax=axes[0],x=\"time\",color='r',linewidth=2,label='Member Mean 5Y')\n",
    "axes[0].set_xlabel('Time [Years]')\n",
    "axes[0].set_ylabel('SHFLX Max [W/m2]')\n",
    "axes[0].set_title('Area Max')\n",
    "axes[0].grid(color='k', linestyle='-', linewidth=0.7)\n",
    "axes[0].legend()\n",
    "fig.tight_layout(pad=3)\n",
    "\n",
    "# Mean\n",
    "ds_out_T.T_mean.isel(lev=-1).resample(time='1Y', closed='left').mean('time').plot.line(ax=axes[1],x=\"time\",color='gray',alpha=0.01,linewidth=1,add_legend=False)\n",
    "(ds_out_T.T_mean.isel(lev=-1).resample(time='1Y', closed='left').mean('time').mean('member_id')).plot.line(ax=axes[1],x=\"time\",alpha=0.3,color='k',linewidth=1,label='Member Mean 1Y')\n",
    "(ds_out_T.T_mean.isel(lev=-1).resample(time='5Y', closed='left').mean('time').mean('member_id')).plot.line(ax=axes[1],x=\"time\",color='k',linewidth=2,label='Member Mean 5Y')\n",
    "axes[1].set_xlabel('Time [Years]')\n",
    "axes[1].set_ylabel('SHFLX Mean [W/m2]')\n",
    "axes[1].set_title('Area Mean')\n",
    "axes[1].grid(color='k', linestyle='-', linewidth=0.7)\n",
    "axes[1].legend()\n",
    "\n",
    "# Minimum\n",
    "ds_out_T.T_min.isel(lev=-1).resample(time='1Y', closed='left').mean('time').plot.line(ax=axes[2],x=\"time\",color='c',alpha=0.01,linewidth=1,add_legend=False)\n",
    "(ds_out_T.T_min.isel(lev=-1).resample(time='1Y', closed='left').mean('time').mean('member_id')).plot.line(ax=axes[2],x=\"time\",alpha=0.3,color='b',linewidth=1,label='Member Mean 1Y')\n",
    "(ds_out_T.T_min.isel(lev=-1).resample(time='5Y', closed='left').mean('time').mean('member_id')).plot.line(ax=axes[2],x=\"time\",color='b',linewidth=2,label='Member Mean 5Y')\n",
    "axes[2].set_xlabel('Time [Years]')\n",
    "axes[2].set_ylabel('SHFLX Min [W/m2]')\n",
    "axes[2].set_title('Area Min')\n",
    "axes[2].grid(color='k', linestyle='-', linewidth=0.7)\n",
    "axes[2].legend()\n",
    "\n",
    "# root mean square\n",
    "ds_out_T.T_rms.isel(lev=-1).resample(time='1Y', closed='left').mean('time').plot.line(ax=axes[3],x=\"time\",color='y',alpha=0.01,linewidth=1,add_legend=False)\n",
    "(ds_out_T.T_rms.isel(lev=-1).resample(time='1Y', closed='left').mean('time').mean('member_id')).plot.line(ax=axes[3],x=\"time\",alpha=0.3,color='g',linewidth=1,label='Member Mean 1Y')\n",
    "(ds_out_T.T_rms.isel(lev=-1).resample(time='5Y', closed='left').mean('time').mean('member_id')).plot.line(ax=axes[3],x=\"time\",color='g',linewidth=2,label='Member Mean 5Y')\n",
    "axes[3].set_xlabel('Time [Years]')\n",
    "axes[3].set_ylabel('SHFLX Error [W/m2]')\n",
    "axes[3].set_title('Area Error')\n",
    "axes[3].grid(color='k', linestyle='-', linewidth=0.7)\n",
    "axes[3].legend()\n",
    "\n",
    "plt.show()"
   ]
  },
  {
   "cell_type": "markdown",
   "id": "3d798f75-8822-4cad-9d9e-3dfacd03b803",
   "metadata": {},
   "source": [
    "### Let's save the data in netcdf format"
   ]
  },
  {
   "cell_type": "code",
   "execution_count": null,
   "id": "36ad46ad-d080-4c04-8be8-eb5cb42f826c",
   "metadata": {},
   "outputs": [],
   "source": [
    "# create a directory on scratch to save the output\n",
    "for ifb in range(0,len(fb)):\n",
    "    print(f'Variable: {fb[ifb]}')\n",
    "    str=f'path = \\'/glade/scratch/mauricio/LENS2_ssp370_south_atlantic/{fb[ifb]}/\\'.format(getpass.getuser())'\n",
    "    exec(str)\n",
    "    str=f'os.system(\\'mkdir -p \\'+path)'\n",
    "    exec(str)\n",
    "    str=f'ds_out_{fb[ifb]}.to_netcdf(path+\\'{fb[ifb]}_stats.nc\\')'\n",
    "    exec(str)"
   ]
  },
  {
   "cell_type": "code",
   "execution_count": null,
   "id": "f33ad8bd-5e72-496c-95be-d4098f91b759",
   "metadata": {},
   "outputs": [],
   "source": [
    "cluster.close()\n",
    "client.close()"
   ]
  }
 ],
 "metadata": {
  "kernelspec": {
   "display_name": "NPL 2022b",
   "language": "python",
   "name": "npl-2022b"
  },
  "language_info": {
   "codemirror_mode": {
    "name": "ipython",
    "version": 3
   },
   "file_extension": ".py",
   "mimetype": "text/x-python",
   "name": "python",
   "nbconvert_exporter": "python",
   "pygments_lexer": "ipython3",
   "version": "3.8.13"
  }
 },
 "nbformat": 4,
 "nbformat_minor": 5
}
