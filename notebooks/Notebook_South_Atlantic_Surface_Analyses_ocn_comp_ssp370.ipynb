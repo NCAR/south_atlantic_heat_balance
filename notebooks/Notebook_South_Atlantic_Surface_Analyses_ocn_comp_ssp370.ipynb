{
 "cells": [
  {
   "cell_type": "markdown",
   "id": "80b35905-7510-4a8c-a558-978aa1e07b3c",
   "metadata": {},
   "source": [
    "## CESM2 - LARGE ENSEMBLE (LENS2)\n",
    "\n",
    "#### by Mauricio Rocha and Dr. Gustavo Marques\n",
    "\n",
    "- This notebooks servers as an example on how to extract surface (or any other 2D spatial field) properties from a selected spacial region accross all LENS2 members for the ocean component for the SSP370. "
   ]
  },
  {
   "cell_type": "markdown",
   "id": "24be9cde-8f0a-4c83-988e-89528a758f21",
   "metadata": {},
   "source": [
    "## Imports"
   ]
  },
  {
   "cell_type": "code",
   "execution_count": null,
   "id": "1b0b0093-f110-4cb3-b270-b51f894b3ca2",
   "metadata": {},
   "outputs": [],
   "source": [
    "import intake\n",
    "import intake_esm\n",
    "import xarray as xr\n",
    "import matplotlib.pyplot as plt\n",
    "import cartopy.crs as ccrs\n",
    "import numpy as np\n",
    "import fsspec\n",
    "import cmocean\n",
    "import cartopy\n",
    "import cartopy.feature as cfeature\n",
    "from cartopy.mpl.ticker import LongitudeFormatter, LatitudeFormatter\n",
    "import pop_tools\n",
    "import sys\n",
    "from distributed import Client\n",
    "from ncar_jobqueue import NCARCluster\n",
    "sys.path.append('../functions')\n",
    "import util\n",
    "from cartopy.util import add_cyclic_point\n",
    "from misc import get_ij\n",
    "import warnings, getpass, os"
   ]
  },
  {
   "cell_type": "markdown",
   "id": "29691e0e-56ba-43da-bb20-941c1061f931",
   "metadata": {},
   "source": [
    "<div class=\"alert alert-block alert-info\">\n",
    "<b>Note:</b> comment the following line when debugging\n",
    "</div>"
   ]
  },
  {
   "cell_type": "code",
   "execution_count": null,
   "id": "828694db-f99e-466d-a578-20a8e0bf8690",
   "metadata": {},
   "outputs": [],
   "source": [
    "warnings.filterwarnings(\"ignore\")"
   ]
  },
  {
   "cell_type": "markdown",
   "id": "cc1cffc6-da9c-4783-b699-f658314a7d33",
   "metadata": {},
   "source": [
    "### Local functions"
   ]
  },
  {
   "cell_type": "code",
   "execution_count": null,
   "id": "7ce1ad65-0be7-40b3-8436-c52dcbc2e5b0",
   "metadata": {},
   "outputs": [],
   "source": [
    "def rms_da(da, dims=('nlat', 'nlon'), weights=None,  weights_sum=None):\n",
    "  \"\"\"\n",
    "  Calculates the rms in DataArray da (optional weighted rms).\n",
    "\n",
    "  ----------\n",
    "  da : xarray.DataArray\n",
    "        DataArray for which to compute (weighted) rms.\n",
    "\n",
    "  dims : tuple, str\n",
    "    Dimension(s) over which to apply reduction. Default is ('yh', 'xh').\n",
    "\n",
    "  weights : xarray.DataArray, optional\n",
    "    weights to apply. It can be a masked array.\n",
    "\n",
    "  weights_sum : xarray.DataArray, optional\n",
    "    Total weight (i.e., weights.sum()). Only computed if not provided.\n",
    "\n",
    "  Returns\n",
    "  -------\n",
    "  reduction : DataSet\n",
    "      xarray.Dataset with (optionally weighted) rms for da.\n",
    "  \"\"\"\n",
    "\n",
    "  if weights is not None:\n",
    "    if weights_sum is None: weights_sum = weights.sum(dim=dims)\n",
    "    out = np.sqrt((da**2 * weights).sum(dim=dims)/weights_sum)\n",
    "    # copy attrs\n",
    "    out.attrs = da.attrs\n",
    "    return out\n",
    "  else:\n",
    "    return np.sqrt((da**2).mean(dim=dims, keep_attrs=True))"
   ]
  },
  {
   "cell_type": "markdown",
   "id": "c2eb5cc4-cb2a-4a93-835e-1b50945fcee8",
   "metadata": {},
   "source": [
    "### Dask workers"
   ]
  },
  {
   "cell_type": "code",
   "execution_count": null,
   "id": "30764d6a-8b79-4df8-bef7-c29af81b4d44",
   "metadata": {},
   "outputs": [],
   "source": [
    "mem_per_worker = 140 # in GB \n",
    "num_workers = 80 \n",
    "cluster = NCARCluster(cores=4, processes=3, memory=f'{mem_per_worker} GB',resource_spec=f'select=1:ncpus=6:mem={mem_per_worker}GB')\n",
    "cluster.scale(num_workers)\n",
    "client = Client(cluster)\n",
    "print(client)\n",
    "client"
   ]
  },
  {
   "cell_type": "markdown",
   "id": "d22c9abb-b88c-4b6a-9d34-1a12aceacd56",
   "metadata": {},
   "source": [
    "### Data Ingest"
   ]
  },
  {
   "cell_type": "code",
   "execution_count": null,
   "id": "12b4bdae-8fde-4156-b32e-76d318bbabb1",
   "metadata": {},
   "outputs": [],
   "source": [
    "%%time\n",
    "catalog = intake.open_esm_datastore(\n",
    "    '/glade/collections/cmip/catalog/intake-esm-datastore/catalogs/glade-cesm2-le.json'\n",
    ")"
   ]
  },
  {
   "cell_type": "code",
   "execution_count": null,
   "id": "594b6f10-82b1-4280-8076-5bfbc77b992b",
   "metadata": {},
   "outputs": [],
   "source": [
    "catalog.search(component='ocn').unique('frequency')"
   ]
  },
  {
   "cell_type": "raw",
   "id": "f7424dc9-668f-47e9-a14b-22475950468d",
   "metadata": {},
   "source": [
    "# this prints all ocean variables that have montly frequency\n",
    "catalog.search(component='ocn', frequency='month_1').unique('variable')"
   ]
  },
  {
   "cell_type": "markdown",
   "id": "35bf8b98-519f-49df-be0d-4f2d07146834",
   "metadata": {},
   "source": [
    "### Let's search for variables with montly frequency"
   ]
  },
  {
   "cell_type": "code",
   "execution_count": null,
   "id": "705e20b0-44b4-4618-a90b-a28bb91cfdfb",
   "metadata": {},
   "outputs": [],
   "source": [
    "cat_subset = catalog.search(component='ocn',\n",
    "                            frequency='month_1',\n",
    "                            variable=['TEMP','SHF','XMXL']) # TEMP, Total Surface Heat Flux, Maximum Mixed Layer Depth"
   ]
  },
  {
   "cell_type": "code",
   "execution_count": null,
   "id": "d97198ae-ac37-4fb9-95fc-9e11bfdd081f",
   "metadata": {},
   "outputs": [],
   "source": [
    "%%time\n",
    "dset_dict_raw = cat_subset.to_dataset_dict()"
   ]
  },
  {
   "cell_type": "code",
   "execution_count": null,
   "id": "8aa41912-02e1-47c7-a267-3e680f7f6be8",
   "metadata": {},
   "outputs": [],
   "source": [
    "# print keys\n",
    "[key for key in dset_dict_raw.keys()]"
   ]
  },
  {
   "cell_type": "code",
   "execution_count": null,
   "id": "ca42d246-2d1a-4270-9212-93baaf1b9938",
   "metadata": {},
   "outputs": [],
   "source": [
    "# Variables\n",
    "fb=('TEMP','SHF','XMXL')\n",
    "for ifb in range(0,len(fb)):\n",
    "    print(f'Variable: {fb[ifb]}')\n",
    "    str=f'ds_ssp370_cmip6_{fb[ifb]} = dset_dict_raw[\\'ocn.ssp370.pop.h.cmip6.{fb[ifb]}\\']'\n",
    "    exec(str)\n",
    "    str=f'ds_ssp370_smbb_{fb[ifb]} = dset_dict_raw[\\'ocn.ssp370.pop.h.smbb.{fb[ifb]}\\']'\n",
    "    exec(str)\n",
    "    str=f'ds_ssp370_{fb[ifb]} = xr.concat([ds_ssp370_cmip6_{fb[ifb]},ds_ssp370_smbb_{fb[ifb]}], dim=\\'member_id\\',data_vars=\\'minimal\\',coords=\\'minimal\\',compat=\\'override\\')'\n",
    "    exec(str)\n",
    "    str=f'mem=ds_ssp370_{fb[ifb]}.{fb[ifb]}.nbytes*1e-12 # in TB'\n",
    "    exec(str)\n",
    "    print(f'Memory: {mem} TB')\n",
    "    str=f'del ds_ssp370_cmip6_{fb[ifb]}; del ds_ssp370_smbb_{fb[ifb]}'; exec(str) \n",
    "print(f'Done!')"
   ]
  },
  {
   "cell_type": "markdown",
   "id": "0f042e83-dec5-4572-a76d-796c76f4e898",
   "metadata": {},
   "source": [
    "### Import the POP grid"
   ]
  },
  {
   "cell_type": "markdown",
   "id": "fb103bae-6155-4d67-a126-4ffd1de683e4",
   "metadata": {},
   "source": [
    "If you choose the ocean component of LENS2, you will need to import the POP grid. For the other components, you can use the emsemble's own grid. \n",
    "\n",
    "In ds, TLONG and TLAT have missing values (NaNs), so we need to override them with the values from pop_grid, which does not have missing values."
   ]
  },
  {
   "cell_type": "code",
   "execution_count": null,
   "id": "cb0ff314-430b-42bd-b222-f26a8d40cc20",
   "metadata": {},
   "outputs": [],
   "source": [
    "# Read the pop 1 deg grid from pop_tools\n",
    "# We will use variables TLONG and TLAT\n",
    "pop_grid = pop_tools.get_grid('POP_gx1v7')\n",
    "for ifb in range(0,len(fb)):\n",
    "    print(f'Variable: {fb[ifb]}')\n",
    "    str=f'ds_ssp370_{fb[ifb]}[\\'TLONG\\'] = pop_grid.TLONG'     # Longitud\n",
    "    exec(str)\n",
    "    str=f'ds_ssp370_{fb[ifb]}[\\'TLAT\\'] = pop_grid.TLAT'       # Latitudes\n",
    "    exec(str)\n",
    "    str=f'ds_ssp370_{fb[ifb]}[\\'TLONG\\'] = pop_grid.TLONG'     # Longitud\n",
    "    exec(str)\n",
    "    str=f'ds_ssp370_{fb[ifb]}[\\'TLAT\\'] = pop_grid.TLAT'       # Latitudes\n",
    "    exec(str)"
   ]
  },
  {
   "cell_type": "code",
   "execution_count": null,
   "id": "de97b8b1-73da-478e-bc40-43d8f7425c55",
   "metadata": {},
   "outputs": [],
   "source": [
    "ds_var_1231 = ds_ssp370_XMXL.XMXL.sel(member_id=['r1i1231p1f1','r2i1231p1f1','r3i1231p1f1','r4i1231p1f1','r5i1231p1f1','r6i1231p1f1','r7i1231p1f1','r8i1231p1f1','r9i1231p1f1','r10i1231p1f1']).mean(dim='time')#.plot()\n",
    "plt.figure(figsize=(10,6));\n",
    "ax = plt.axes(projection=ccrs.Robinson());\n",
    "pc = ds_var_1231.mean(dim='member_id').plot.pcolormesh(ax=ax,\n",
    "                    transform=ccrs.PlateCarree(),\n",
    "                    cmap=cmocean.cm.balance,\n",
    "                    x='TLONG',\n",
    "                    y='TLAT',\n",
    "                    #vmin=-3,\n",
    "                    #vmax=30,\n",
    "                    cbar_kwargs={'orientation': 'horizontal'})                                    \n",
    "ax.gridlines(draw_labels=True);\n",
    "ax.coastlines()\n",
    "ax.gridlines();\n",
    "plt.title('i1231p1f1')\n",
    "del ds_var_1231"
   ]
  },
  {
   "cell_type": "markdown",
   "id": "b1a421b9-80de-4516-8a29-8638a12f2869",
   "metadata": {},
   "source": [
    "### Centralize the South Atlantic \n",
    "Need to combine the domain in the east/west direction to centralize the South Atlantic"
   ]
  },
  {
   "cell_type": "code",
   "execution_count": null,
   "id": "24096435-e13e-4244-be96-c8a931d60a84",
   "metadata": {},
   "outputs": [],
   "source": [
    "ilat, flat = 101, 182\n",
    "ilon1, flon1, ilon2, flon2 = 313, 320, 0, 57\n",
    "for ifb in range(0,len(fb)):\n",
    "    print(f'Variable: {fb[ifb]}')\n",
    "    str=f'sa_ds_{fb[ifb]}=xr.combine_nested([[ds_ssp370_{fb[ifb]}.isel(nlat = slice(ilat,flat),nlon = slice(ilon1,flon1)),ds_ssp370_{fb[ifb]}.isel(nlat = slice(ilat,flat),nlon = slice(ilon2,flon2))]],concat_dim=[\\'nlat\\',\\'nlon\\'])'\n",
    "    exec(str)\n",
    "    str=f'sa_ds_{fb[ifb]}.coords[\\'TLONG\\'] = (sa_ds_{fb[ifb]}.coords[\\'TLONG\\'] + 180) % 360 - 180' # change the longitudes: -180 0 180\n",
    "    exec(str)\n",
    "    str=f'del ds_ssp370_{fb[ifb]}'; exec(str)"
   ]
  },
  {
   "cell_type": "code",
   "execution_count": null,
   "id": "ae1c596b-e357-4f01-b46a-772c3fc94d7f",
   "metadata": {},
   "outputs": [],
   "source": [
    "# simple check\n",
    "sa_ds_XMXL.XMXL.isel(time=2, member_id=0).plot()"
   ]
  },
  {
   "cell_type": "code",
   "execution_count": null,
   "id": "eb5b711f-c0e5-4a84-ac89-85f3b3b6ba5d",
   "metadata": {},
   "outputs": [],
   "source": [
    "%%time\n",
    "plt.figure(figsize=(10,6));\n",
    "ax = plt.axes(projection=ccrs.Robinson());\n",
    "pc = sa_ds_XMXL.XMXL.isel(member_id=0).mean(dim='time').plot.pcolormesh(ax=ax,\n",
    "                    transform=ccrs.PlateCarree(),\n",
    "                    cmap=cmocean.cm.balance,\n",
    "                    x='TLONG',\n",
    "                    y='TLAT',\n",
    "                    #vmin=10,\n",
    "                    #vmax=30,\n",
    "                    cbar_kwargs={\"orientation\": \"horizontal\"})                                    \n",
    "ax.gridlines(draw_labels=True);\n",
    "ax.coastlines()\n",
    "ax.gridlines();"
   ]
  },
  {
   "cell_type": "markdown",
   "id": "91f1dd80-6da7-45f6-93b8-efc725b2f252",
   "metadata": {},
   "source": [
    "### Extract correponding area "
   ]
  },
  {
   "cell_type": "code",
   "execution_count": null,
   "id": "a8739226-e910-46a2-9d51-798d43d21ede",
   "metadata": {},
   "outputs": [],
   "source": [
    "area_sa = xr.combine_nested([\n",
    "    [pop_grid.TAREA.isel(nlat = slice(ilat,flat),nlon = slice(ilon1,flon1)),\n",
    "     pop_grid.TAREA.isel(nlat = slice(ilat,flat),nlon = slice(ilon2,flon2))]],\n",
    "    concat_dim=['nlat','nlon']\n",
    ")"
   ]
  },
  {
   "cell_type": "code",
   "execution_count": null,
   "id": "486dca62-a4a4-4533-a578-1148fbb9319f",
   "metadata": {},
   "outputs": [],
   "source": [
    "# simple check\n",
    "area_sa.plot();"
   ]
  },
  {
   "cell_type": "markdown",
   "id": "cac5e77d-88cb-41ca-b38e-9e8cb1ef34df",
   "metadata": {},
   "source": [
    "### Calculate anomalies\n",
    "Let's calculate the heat stored from the temperature anomaly field (data minus the average temperature for the whole time series)"
   ]
  },
  {
   "cell_type": "code",
   "execution_count": null,
   "id": "a9efa217-09a7-48d8-823b-02151dfd6dbf",
   "metadata": {},
   "outputs": [],
   "source": [
    "# Temperature in degress Kelvin\n",
    "sa_ds_TEMP_K=sa_ds_TEMP.TEMP+273.15\n",
    "sa_ds_TEMP_K.coords['z_t']=sa_ds_TEMP_K.coords['z_t']*0.01 # cm to m"
   ]
  },
  {
   "cell_type": "code",
   "execution_count": null,
   "id": "46698d2e-0022-4043-ac8c-c8496cec89b5",
   "metadata": {},
   "outputs": [],
   "source": [
    "sa_ds_TEMP_K_anom=sa_ds_TEMP_K-(sa_ds_TEMP_K.mean('time'))"
   ]
  },
  {
   "cell_type": "markdown",
   "id": "d74efaf7-c849-4a9a-9d03-4f0ea9e52dca",
   "metadata": {},
   "source": [
    "### Calculte the heat storage:"
   ]
  },
  {
   "cell_type": "markdown",
   "id": "2b644d3a-4b31-4ab9-a822-873e1af5c78c",
   "metadata": {},
   "source": [
    "#### The formula for this is: $$\\rm{HS = \\uprho_\\uptheta~C_p~\\int_{z_2}^{z_1}\\uptheta_{(z)}'~dz},$$\n",
    "where:\n",
    "* HS is heat storage ($\\rm{J~m^{-2}}$),\n",
    "* $\\uprho$ is the density of sea water, 1026 $\\rm{kg~m^{-3}}$,\n",
    "* $\\rm{C_p}$ is the specific heat of sea water, 3996 $\\rm{J~kg^{-1}~K^{-1}}$, do modelo\n",
    "* $\\rm{z}$ is the depth limit o the calculation in meters,\n",
    "* and $\\uptheta$' is the potential temperature monthly anomaly at each depth in degress Kelvin. "
   ]
  },
  {
   "cell_type": "code",
   "execution_count": null,
   "id": "1ee0b260-770e-4508-bf15-9639dbebcb5c",
   "metadata": {},
   "outputs": [],
   "source": [
    "sa_ds_dz=sa_ds_TEMP.dz*0.01 # cm to m\n",
    "sa_ds_dz.coords['z_t']=sa_ds_dz.coords['z_t']*0.01 # cm to m"
   ]
  },
  {
   "cell_type": "markdown",
   "id": "bd96da80-9331-46e5-9887-07de459f8775",
   "metadata": {},
   "source": [
    "<div class=\"alert alert-block alert-info\">\n",
    "<b>Note:</b> Although most of the variation in heat storage occurs in the first 1000 meters of depth, we will try to add the depth of the AMOC core to this calculation to integrate the temperature up to 1573 m. Ideally, we would compute the heat content in the upper branch of the AMOC, i.e., not use a fixed depth."
   ]
  },
  {
   "cell_type": "code",
   "execution_count": null,
   "id": "08806660-e6e6-4a61-ba87-c3c4f0ad445a",
   "metadata": {},
   "outputs": [],
   "source": [
    "sa_ds_TEMP_K_anom.coords['z_t'][51]"
   ]
  },
  {
   "cell_type": "code",
   "execution_count": null,
   "id": "6b1c87cb-a454-450d-adb7-6001dccef1f1",
   "metadata": {},
   "outputs": [],
   "source": [
    "rho = 1026 #kg/m^3\n",
    "c_p = 3996 #J/(kg K) - I used the same amount of specific heat used by the model\n",
    "sa_ds_HS=(sa_ds_TEMP_K_anom*sa_ds_dz).sel(z_t=slice(0,43)).sum(dim='z_t')*rho*c_p\n",
    "sa_ds_HS=sa_ds_HS.where(sa_ds_HS != 0.) # The continents was equal to zero. We replaced zero with NaN, because the ocean heat content will never equal zero. \n",
    "sa_ds_HS.isel(member_id=0,time=0).plot()\n",
    "del sa_ds_TEMP_K; del sa_ds_TEMP_K_anom "
   ]
  },
  {
   "cell_type": "code",
   "execution_count": null,
   "id": "cf2e2e18-ec1b-4f92-aca7-a5c25e62fc35",
   "metadata": {},
   "outputs": [],
   "source": [
    "sa_ds_HS= xr.merge([sa_ds_HS.rename('HS')])"
   ]
  },
  {
   "cell_type": "code",
   "execution_count": null,
   "id": "36f251e3-03ec-4776-8831-aee03f0ce12a",
   "metadata": {},
   "outputs": [],
   "source": [
    "# Annual Mean\n",
    "sa_ds_HS=sa_ds_HS.resample(time='1Y', closed='left').mean('time')\n",
    "#sa_ds_TEMP=sa_ds_TEMP.resample(time='1Y', closed='left').mean('time')\n",
    "sa_ds_SHF=sa_ds_SHF.resample(time='1Y', closed='left').mean('time')\n",
    "#sa_ds_XMXL=sa_ds_XMXL.resample(time='1Y', closed='left').mean('time')"
   ]
  },
  {
   "cell_type": "code",
   "execution_count": null,
   "id": "71adc1f4-f0e0-4ad5-8a00-ceb9708901de",
   "metadata": {},
   "outputs": [],
   "source": [
    "#del sa_ds_dz; del sa_ds_TEMP; del sa_ds_XMXL"
   ]
  },
  {
   "cell_type": "code",
   "execution_count": null,
   "id": "ad34e11b-3c14-46ba-9bd2-cbe42fc911ce",
   "metadata": {},
   "outputs": [],
   "source": [
    "#sa_ds_HS"
   ]
  },
  {
   "cell_type": "markdown",
   "id": "69a3ae4e-c6c3-4a29-aac4-e23179161342",
   "metadata": {},
   "source": [
    "### Perfom computations\n",
    "Calculate area mean, min, max, and rms for the surface temperature of the selected region"
   ]
  },
  {
   "cell_type": "code",
   "execution_count": null,
   "id": "4c1e3cb5-c47c-4e7e-b04b-9f9a183204ff",
   "metadata": {},
   "outputs": [],
   "source": [
    "%%time\n",
    "start=\"2015-02-01\"\n",
    "end=\"2100-12-31\"\n",
    "fb=('HS','SHF')\n",
    "for ifb in range(0,len(fb)):\n",
    "    print(f'Variable: {fb[ifb]}')\n",
    "    str=f'var_{fb[ifb]} = sa_ds_{fb[ifb]}.{fb[ifb]}.sel(time=slice(start,end))'\n",
    "    exec(str)\n",
    "    print(f'var_{fb[ifb]}')\n",
    "    # Mean\n",
    "    str=f'var_mean_{fb[ifb]} = var_{fb[ifb]}.weighted(area_sa).mean(dim=(\\'nlon\\',\\'nlat\\')).load()'\n",
    "    exec(str)\n",
    "    print(f'var_mean_{fb[ifb]}')\n",
    "    # Maximum\n",
    "    str=f'var_max_{fb[ifb]} = var_{fb[ifb]}.max(dim=(\\'nlon\\',\\'nlat\\')).load()'\n",
    "    exec(str)\n",
    "    print(f'var_max_{fb[ifb]}')\n",
    "    # Minimum\n",
    "    str=f'var_min_{fb[ifb]} = var_{fb[ifb]}.min(dim=(\\'nlon\\',\\'nlat\\')).load()'\n",
    "    exec(str)\n",
    "    print(f'var_min_{fb[ifb]}')\n",
    "    # RMS\n",
    "    str=f'var_rms_{fb[ifb]} = rms_da(var_{fb[ifb]}, weights=area_sa, weights_sum=area_sa.sum()).load()'\n",
    "    exec(str)\n",
    "    print(f'var_rms_{fb[ifb]}')"
   ]
  },
  {
   "cell_type": "markdown",
   "id": "66e03bda-270b-4c10-be7b-e4e05b4bd5f9",
   "metadata": {},
   "source": [
    "### TODO\n",
    "Plot some time series to check calculations"
   ]
  },
  {
   "cell_type": "markdown",
   "id": "f79bf420-c092-4cfd-9edb-3f695a7d8e97",
   "metadata": {},
   "source": [
    "### Merge data and save on disk"
   ]
  },
  {
   "cell_type": "code",
   "execution_count": null,
   "id": "27a4fa3d-42ae-40a0-a011-cd2d27846a1b",
   "metadata": {},
   "outputs": [],
   "source": [
    "#units=('J/m2','W/m2','cm','oC')\n",
    "#fb=('HS','SHF','XMXL','TEMP')\n",
    "units=('J/m2','W/m2')\n",
    "#long_name=('Total Surface Heat Flux','Maximum Mixed Layer Depth','Ocean Heat Content')\n",
    "long_name=('Heat Storage','Total Surface Heat Flux')\n",
    "for ifb in range(0,len(fb)):\n",
    "    print(f'Variable: {fb[ifb]}')\n",
    "    str=f'ds_out_{fb[ifb]} = xr.merge([var_rms_{fb[ifb]}.rename(\\'{fb[ifb]}_rms\\'),var_mean_{fb[ifb]}.rename(\\'{fb[ifb]}_mean\\'),var_max_{fb[ifb]}.rename(\\'{fb[ifb]}_max\\'),var_min_{fb[ifb]}.rename(\\'{fb[ifb]}_min\\')])'\n",
    "    exec(str)\n",
    "    str=f'ds_out_{fb[ifb]}.attrs[\\'description\\'] = \\'{long_name[ifb]} ({fb[ifb]}) statistics for the South Atlantic (47.5W-23.75E and 25.91623S-1.413613S)\\''\n",
    "    exec(str)\n",
    "    str=f'ds_out_{fb[ifb]}.attrs[\\'units\\'] = \\'{units[ifb]}\\''\n",
    "    exec(str)\n",
    "    str=f'ds_out_{fb[ifb]}.attrs[\\'author\\'] = \\'Mauricio Rocha\\''\n",
    "    exec(str)\n",
    "    str=f'ds_out_{fb[ifb]}.attrs[\\'email\\'] = \\'mauricio.rocha@usp.br\\''\n",
    "    exec(str)"
   ]
  },
  {
   "cell_type": "code",
   "execution_count": null,
   "id": "219f242e-b228-4363-b705-fe469d924463",
   "metadata": {},
   "outputs": [],
   "source": [
    "# Total Surface Heat Fux\n",
    "fig, axes = plt.subplots(1, 4, figsize=(20, 8))\n",
    "# Maximum\n",
    "ds_out_SHF.SHF_max.resample(time='1Y', closed='left').mean('time').plot.line(ax=axes[0],x=\"time\",color='orange',alpha=0.01,linewidth=1,add_legend=False)\n",
    "ds_out_SHF.SHF_max.resample(time='1Y', closed='left').mean('time').mean('member_id').plot.line(ax=axes[0],x=\"time\",alpha=0.3,color='r',linewidth=1,label='Member Mean 1Y')\n",
    "ds_out_SHF.SHF_max.resample(time='5Y', closed='left').mean('time').mean('member_id').plot.line(ax=axes[0],x=\"time\",color='r',linewidth=2,label='Member Mean 5Y')\n",
    "axes[0].set_xlabel('Time [Years]')\n",
    "axes[0].set_ylabel('SHF Max [W/m2]')\n",
    "axes[0].set_title('Area Max')\n",
    "axes[0].grid(color='k', linestyle='-', linewidth=0.7)\n",
    "axes[0].legend()\n",
    "#axes[0].set_ylim(103,108.2)\n",
    "fig.tight_layout(pad=2.0)\n",
    "# Mean\n",
    "ds_out_SHF.SHF_mean.resample(time='1Y', closed='left').mean('time').plot.line(ax=axes[1],x=\"time\",color='gray',alpha=0.01,linewidth=1,add_legend=False)\n",
    "ds_out_SHF.SHF_mean.resample(time='1Y', closed='left').mean('time').mean('member_id').plot.line(ax=axes[1],x=\"time\",alpha=0.3,color='k',linewidth=1,label='Member Mean 1Y')\n",
    "ds_out_SHF.SHF_mean.resample(time='5Y', closed='left').mean('time').mean('member_id').plot.line(ax=axes[1],x=\"time\",color='k',linewidth=2,label='Member Mean 5Y')\n",
    "axes[1].set_xlabel('Time [Years]')\n",
    "axes[1].set_ylabel('SHF Mean [W/m2]')\n",
    "axes[1].set_title('Area Mean')\n",
    "axes[1].grid(color='k', linestyle='-', linewidth=0.7)\n",
    "axes[1].legend()\n",
    "#axes[1].set_ylim(17,25.5)\n",
    "# Minimum\n",
    "ds_out_SHF.SHF_min.resample(time='1Y', closed='left').mean('time').plot.line(ax=axes[2],x=\"time\",color='c',alpha=0.01,linewidth=1,add_legend=False)\n",
    "ds_out_SHF.SHF_min.resample(time='1Y', closed='left').mean('time').mean('member_id').plot.line(ax=axes[2],x=\"time\",alpha=0.3,color='b',linewidth=1,label='Member Mean 1Y')\n",
    "ds_out_SHF.SHF_min.resample(time='5Y', closed='left').mean('time').mean('member_id').plot.line(ax=axes[2],x=\"time\",color='b',linewidth=2,label='Member Mean 5Y')\n",
    "axes[2].set_xlabel('Time [Years]')\n",
    "axes[2].set_ylabel('SHF Min [W/m2]')\n",
    "axes[2].set_title('Area Min')\n",
    "axes[2].grid(color='k', linestyle='-', linewidth=0.7)\n",
    "axes[2].legend()\n",
    "#axes[2].set_ylim(-63,-51)\n",
    "# Minimum\n",
    "ds_out_SHF.SHF_rms.resample(time='1Y', closed='left').mean('time').plot.line(ax=axes[3],x=\"time\",color='y',alpha=0.01,linewidth=1,add_legend=False)\n",
    "ds_out_SHF.SHF_rms.resample(time='1Y', closed='left').mean('time').mean('member_id').plot.line(ax=axes[3],x=\"time\",alpha=0.3,color='g',linewidth=1,label='Member Mean 1Y')\n",
    "ds_out_SHF.SHF_rms.resample(time='5Y', closed='left').mean('time').mean('member_id').plot.line(ax=axes[3],x=\"time\",color='g',linewidth=2,label='Member Mean 5Y')\n",
    "axes[3].set_xlabel('Time [Years]')\n",
    "axes[3].set_ylabel('SHF Error [W/m2]')\n",
    "axes[3].set_title('Area Error')\n",
    "axes[3].grid(color='k', linestyle='-', linewidth=0.7)\n",
    "axes[3].legend()\n",
    "#axes[3].set_ylim(50.3,52)\n",
    "\n",
    "plt.show()"
   ]
  },
  {
   "cell_type": "code",
   "execution_count": null,
   "id": "601c67ce-7d68-437b-a758-1a4f0f83b7aa",
   "metadata": {},
   "outputs": [],
   "source": [
    "# Temperature\n",
    "fig, axes = plt.subplots(1, 4, figsize=(20, 8))\n",
    "# Maximum\n",
    "ds_out_TEMP.TEMP_max.isel(z_t=0).resample(time='1Y', closed='left').mean('time').plot.line(ax=axes[0],x=\"time\",color='orange',alpha=0.01,linewidth=1,add_legend=False)\n",
    "ds_out_TEMP.TEMP_max.isel(z_t=0).resample(time='1Y', closed='left').mean('time').mean('member_id').plot.line(ax=axes[0],x=\"time\",alpha=0.3,color='r',linewidth=1,label='Member Mean 1Y -5m')\n",
    "ds_out_TEMP.TEMP_max.isel(z_t=0).resample(time='5Y', closed='left').mean('time').mean('member_id').plot.line(ax=axes[0],x=\"time\",color='r',linewidth=2,label='Member Mean 5Y -5m')\n",
    "axes[0].set_xlabel('Time [Years]')\n",
    "axes[0].set_ylabel('TEMP Max [oC]')\n",
    "axes[0].set_title('Area Max')\n",
    "axes[0].grid(color='k', linestyle='-', linewidth=0.7)\n",
    "axes[0].legend()\n",
    "#axes[0].set_ylim(28.78,30.015)\n",
    "fig.tight_layout(pad=2.0)\n",
    "# Mean\n",
    "ds_out_TEMP.TEMP_mean.isel(z_t=0).resample(time='1Y', closed='left').mean('time').plot.line(ax=axes[1],x=\"time\",color='gray',alpha=0.01,linewidth=1,add_legend=False)\n",
    "ds_out_TEMP.TEMP_mean.isel(z_t=0).resample(time='1Y', closed='left').mean('time').mean('member_id').plot.line(ax=axes[1],x=\"time\",alpha=0.3,color='k',linewidth=1,label='Member Mean 1Y -5m')\n",
    "ds_out_TEMP.TEMP_mean.isel(z_t=0).resample(time='5Y', closed='left').mean('time').mean('member_id').plot.line(ax=axes[1],x=\"time\",color='k',linewidth=2,label='Member Mean 5Y -5m')\n",
    "axes[1].set_xlabel('Time [Years]')\n",
    "axes[1].set_ylabel('TEMP Mean [oC]')\n",
    "axes[1].set_title('Area Mean')\n",
    "axes[1].grid(color='k', linestyle='-', linewidth=0.7)\n",
    "axes[1].legend()\n",
    "#axes[1].set_ylim(25.7,26.7)\n",
    "# Minimum\n",
    "ds_out_TEMP.TEMP_min.isel(z_t=0).resample(time='1Y', closed='left').mean('time').plot.line(ax=axes[2],x=\"time\",color='c',alpha=0.01,linewidth=1,add_legend=False)\n",
    "ds_out_TEMP.TEMP_min.isel(z_t=0).resample(time='1Y', closed='left').mean('time').mean('member_id').plot.line(ax=axes[2],x=\"time\",alpha=0.3,color='b',linewidth=1,label='Member Mean 1Y -5m')\n",
    "ds_out_TEMP.TEMP_min.isel(z_t=0).resample(time='5Y', closed='left').mean('time').mean('member_id').plot.line(ax=axes[2],x=\"time\",color='b',linewidth=2,label='Member Mean 5Y -5m')\n",
    "axes[2].set_xlabel('Time [Years]')\n",
    "axes[2].set_ylabel('TEMP Min [oC]')\n",
    "axes[2].set_title('Area Min')\n",
    "axes[2].grid(color='k', linestyle='-', linewidth=0.7)\n",
    "axes[2].legend()\n",
    "#axes[2].set_ylim(20.7,21.7)\n",
    "# Minimum\n",
    "ds_out_TEMP.TEMP_rms.isel(z_t=0).resample(time='1Y', closed='left').mean('time').plot.line(ax=axes[3],x=\"time\",color='y',alpha=0.01,linewidth=1,add_legend=False)\n",
    "ds_out_TEMP.TEMP_rms.isel(z_t=0).resample(time='1Y', closed='left').mean('time').mean('member_id').plot.line(ax=axes[3],x=\"time\",alpha=0.3,color='g',linewidth=1,label='Member Mean 1Y -5m')\n",
    "ds_out_TEMP.TEMP_rms.isel(z_t=0).resample(time='5Y', closed='left').mean('time').mean('member_id').plot.line(ax=axes[3],x=\"time\",color='g',linewidth=2,label='Member Mean 5Y -5m')\n",
    "axes[3].set_xlabel('Time [Years]')\n",
    "axes[3].set_ylabel('TEMP Error [oC]')\n",
    "axes[3].set_title('Area Error')\n",
    "axes[3].grid(color='k', linestyle='-', linewidth=0.7)\n",
    "axes[3].legend()\n",
    "#axes[3].set_ylim(19.4,20.2)\n",
    "\n",
    "plt.show()"
   ]
  },
  {
   "cell_type": "code",
   "execution_count": null,
   "id": "536b7bd8-7871-4f92-a2ab-522b387a665a",
   "metadata": {},
   "outputs": [],
   "source": [
    "# Temperature\n",
    "fig, axes = plt.subplots(1, 4, figsize=(20, 8))\n",
    "# Maximum\n",
    "ds_out_TEMP.TEMP_max.isel(z_t=40).resample(time='1Y', closed='left').mean('time').plot.line(ax=axes[0],x=\"time\",color='orange',alpha=0.1,linewidth=1,add_legend=False)\n",
    "ds_out_TEMP.TEMP_max.isel(z_t=40).resample(time='1Y', closed='left').mean('time').mean('member_id').plot.line(ax=axes[0],x=\"time\",alpha=0.6,color='r',linewidth=1,label='Member Mean 1Y -1106m')\n",
    "ds_out_TEMP.TEMP_max.isel(z_t=40).resample(time='5Y', closed='left').mean('time').mean('member_id').plot.line(ax=axes[0],x=\"time\",color='r',linewidth=2,label='Member Mean 5Y -1106m')\n",
    "axes[0].set_xlabel('Time [Years]')\n",
    "axes[0].set_ylabel('TEMP Max [oC]')\n",
    "axes[0].set_title('Area Max')\n",
    "axes[0].grid(color='k', linestyle='-', linewidth=0.7)\n",
    "axes[0].legend()\n",
    "#axes[0].set_ylim(28.78,30.015)\n",
    "fig.tight_layout(pad=2.0)\n",
    "# Mean\n",
    "ds_out_TEMP.TEMP_mean.isel(z_t=40).resample(time='1Y', closed='left').mean('time').plot.line(ax=axes[1],x=\"time\",color='gray',alpha=0.1,linewidth=1,add_legend=False)\n",
    "ds_out_TEMP.TEMP_mean.isel(z_t=40).resample(time='1Y', closed='left').mean('time').mean('member_id').plot.line(ax=axes[1],x=\"time\",alpha=0.6,color='k',linewidth=1,label='Member Mean 1Y -1106m')\n",
    "ds_out_TEMP.TEMP_mean.isel(z_t=40).resample(time='5Y', closed='left').mean('time').mean('member_id').plot.line(ax=axes[1],x=\"time\",color='k',linewidth=2,label='Member Mean 5Y -1106m')\n",
    "axes[1].set_xlabel('Time [Years]')\n",
    "axes[1].set_ylabel('TEMP Mean [oC]')\n",
    "axes[1].set_title('Area Mean')\n",
    "axes[1].grid(color='k', linestyle='-', linewidth=0.7)\n",
    "axes[1].legend()\n",
    "#axes[1].set_ylim(25.7,26.7)\n",
    "# Minimum\n",
    "ds_out_TEMP.TEMP_min.isel(z_t=40).resample(time='1Y', closed='left').mean('time').plot.line(ax=axes[2],x=\"time\",color='c',alpha=0.1,linewidth=1,add_legend=False)\n",
    "ds_out_TEMP.TEMP_min.isel(z_t=40).resample(time='1Y', closed='left').mean('time').mean('member_id').plot.line(ax=axes[2],x=\"time\",alpha=0.6,color='b',linewidth=1,label='Member Mean 1Y -1106m')\n",
    "ds_out_TEMP.TEMP_min.isel(z_t=40).resample(time='5Y', closed='left').mean('time').mean('member_id').plot.line(ax=axes[2],x=\"time\",color='b',linewidth=2,label='Member Mean 5Y -1106m')\n",
    "axes[2].set_xlabel('Time [Years]')\n",
    "axes[2].set_ylabel('TEMP Min [oC]')\n",
    "axes[2].set_title('Area Min')\n",
    "axes[2].grid(color='k', linestyle='-', linewidth=0.7)\n",
    "axes[2].legend()\n",
    "#axes[2].set_ylim(20.7,21.7)\n",
    "# Minimum\n",
    "ds_out_TEMP.TEMP_rms.isel(z_t=40).resample(time='1Y', closed='left').mean('time').plot.line(ax=axes[3],x=\"time\",color='y',alpha=0.1,linewidth=1,add_legend=False)\n",
    "ds_out_TEMP.TEMP_rms.isel(z_t=40).resample(time='1Y', closed='left').mean('time').mean('member_id').plot.line(ax=axes[3],x=\"time\",alpha=0.6,color='g',linewidth=1,label='Member Mean 1Y -1106m')\n",
    "ds_out_TEMP.TEMP_rms.isel(z_t=40).resample(time='5Y', closed='left').mean('time').mean('member_id').plot.line(ax=axes[3],x=\"time\",color='g',linewidth=2,label='Member Mean 5Y -1106m')\n",
    "axes[3].set_xlabel('Time [Years]')\n",
    "axes[3].set_ylabel('TEMP Error [oC]')\n",
    "axes[3].set_title('Area Error')\n",
    "axes[3].grid(color='k', linestyle='-', linewidth=0.7)\n",
    "axes[3].legend()\n",
    "#axes[3].set_ylim(19.4,20.2)\n",
    "\n",
    "plt.show()"
   ]
  },
  {
   "cell_type": "code",
   "execution_count": null,
   "id": "a3354ef8-a8c3-4c8a-80f8-8101d8d2191b",
   "metadata": {},
   "outputs": [],
   "source": [
    "# Maximum mixed layer depth\n",
    "fig, axes = plt.subplots(1, 4, figsize=(20, 8))\n",
    "# Maximum\n",
    "(ds_out_XMXL.XMXL_max.resample(time='1Y', closed='left').mean('time')*-0.01).plot.line(ax=axes[0],x=\"time\",color='orange',alpha=0.01,linewidth=1,add_legend=False)\n",
    "(ds_out_XMXL.XMXL_max.resample(time='1Y', closed='left').mean('time').mean('member_id')*-0.01).plot.line(ax=axes[0],x=\"time\",alpha=0.3,color='r',linewidth=1,label='Member Mean 1Y')\n",
    "(ds_out_XMXL.XMXL_max.resample(time='5Y', closed='left').mean('time').mean('member_id')*-0.01).plot.line(ax=axes[0],x=\"time\",color='r',linewidth=2,label='Member Mean 5Y')\n",
    "axes[0].set_xlabel('Time [Years]')\n",
    "axes[0].set_ylabel('XMXL Max [m]')\n",
    "axes[0].set_title('Area Max')\n",
    "axes[0].grid(color='k', linestyle='-', linewidth=0.7)\n",
    "axes[0].legend()\n",
    "#axes[0].set_ylim(103,108.2)\n",
    "fig.tight_layout(pad=2.5)\n",
    "# Mean\n",
    "(ds_out_XMXL.XMXL_mean.resample(time='1Y', closed='left').mean('time')*-0.01).plot.line(ax=axes[1],x=\"time\",color='gray',alpha=0.01,linewidth=1,add_legend=False)\n",
    "(ds_out_XMXL.XMXL_mean.resample(time='1Y', closed='left').mean('time').mean('member_id')*-0.01).plot.line(ax=axes[1],x=\"time\",alpha=0.3,color='k',linewidth=1,label='Member Mean 1Y')\n",
    "(ds_out_XMXL.XMXL_mean.resample(time='5Y', closed='left').mean('time').mean('member_id')*-0.01).plot.line(ax=axes[1],x=\"time\",color='k',linewidth=2,label='Member Mean 5Y')\n",
    "axes[1].set_xlabel('Time [Years]')\n",
    "axes[1].set_ylabel('XMXL Mean [m]')\n",
    "axes[1].set_title('Area Mean')\n",
    "axes[1].grid(color='k', linestyle='-', linewidth=0.7)\n",
    "axes[1].legend()\n",
    "#axes[1].set_ylim(17,25.5)\n",
    "# Minimum\n",
    "(ds_out_XMXL.XMXL_min.resample(time='1Y', closed='left').mean('time')*-0.01).plot.line(ax=axes[2],x=\"time\",color='c',alpha=0.01,linewidth=1,add_legend=False)\n",
    "(ds_out_XMXL.XMXL_min.resample(time='1Y', closed='left').mean('time').mean('member_id')*-0.01).plot.line(ax=axes[2],x=\"time\",alpha=0.3,color='b',linewidth=1,label='Member Mean 1Y')\n",
    "(ds_out_XMXL.XMXL_min.resample(time='5Y', closed='left').mean('time').mean('member_id')*-0.01).plot.line(ax=axes[2],x=\"time\",color='b',linewidth=2,label='Member Mean 5Y')\n",
    "axes[2].set_xlabel('Time [Years]')\n",
    "axes[2].set_ylabel('XMXL Min [m]')\n",
    "axes[2].set_title('Area Min')\n",
    "axes[2].grid(color='k', linestyle='-', linewidth=0.7)\n",
    "axes[2].legend()\n",
    "#axes[2].set_ylim(-63,-51)\n",
    "# Minimum\n",
    "(ds_out_XMXL.XMXL_rms.resample(time='1Y', closed='left').mean('time')*-0.01).plot.line(ax=axes[3],x=\"time\",color='y',alpha=0.01,linewidth=1,add_legend=False)\n",
    "(ds_out_XMXL.XMXL_rms.resample(time='1Y', closed='left').mean('time').mean('member_id')*-0.01).plot.line(ax=axes[3],x=\"time\",alpha=0.3,color='g',linewidth=1,label='Member Mean 1Y')\n",
    "(ds_out_XMXL.XMXL_rms.resample(time='5Y', closed='left').mean('time').mean('member_id')*-0.01).plot.line(ax=axes[3],x=\"time\",color='g',linewidth=2,label='Member Mean 5Y')\n",
    "axes[3].set_xlabel('Time [Years]')\n",
    "axes[3].set_ylabel('XMXL Error [m]')\n",
    "axes[3].set_title('Area Error')\n",
    "axes[3].grid(color='k', linestyle='-', linewidth=0.7)\n",
    "axes[3].legend()\n",
    "#axes[3].set_ylim(50.3,52)\n",
    "\n",
    "plt.show()"
   ]
  },
  {
   "cell_type": "code",
   "execution_count": null,
   "id": "cc243db9-e387-474e-a0f7-12d887f6a0bb",
   "metadata": {},
   "outputs": [],
   "source": [
    "# Heat Strage\n",
    "fig, axes = plt.subplots(1, 4, figsize=(20, 8))\n",
    "# Maximum\n",
    "ds_out_HS.HS_max.resample(time='1Y', closed='left').mean('time').plot.line(ax=axes[0],x=\"time\",color='orange',alpha=0.01,linewidth=1,add_legend=False)\n",
    "ds_out_HS.HS_max.resample(time='1Y', closed='left').mean('time').mean('member_id').plot.line(ax=axes[0],x=\"time\",alpha=0.3,color='r',linewidth=1,label='Member Mean 1Y 0-1573m')\n",
    "ds_out_HS.HS_max.resample(time='5Y', closed='left').mean('time').mean('member_id').plot.line(ax=axes[0],x=\"time\",color='r',linewidth=2,label='Member Mean 5Y 0-1573m')\n",
    "axes[0].set_xlabel('Time [Years]')\n",
    "axes[0].set_ylabel('OHC Max [J/m2]')\n",
    "axes[0].set_title('Area Max')\n",
    "axes[0].grid(color='k', linestyle='-', linewidth=0.7)\n",
    "axes[0].legend()\n",
    "#axes[0].set_ylim(103,108.2)\n",
    "fig.tight_layout(pad=2.5)\n",
    "# Mean\n",
    "ds_out_HS.HS_mean.resample(time='1Y', closed='left').mean('time').plot.line(ax=axes[1],x=\"time\",color='gray',alpha=0.01,linewidth=1,add_legend=False)\n",
    "ds_out_HS.HS_mean.resample(time='1Y', closed='left').mean('time').mean('member_id').plot.line(ax=axes[1],x=\"time\",alpha=0.3,color='k',linewidth=1,label='Member Mean 1Y 0-1573m')\n",
    "ds_out_HS.HS_mean.resample(time='5Y', closed='left').mean('time').mean('member_id').plot.line(ax=axes[1],x=\"time\",color='k',linewidth=2,label='Member Mean 5Y 0-1573m')\n",
    "axes[1].set_xlabel('Time [Years]')\n",
    "axes[1].set_ylabel('OHC Mean [J/m2]')\n",
    "axes[1].set_title('Area Mean')\n",
    "axes[1].grid(color='k', linestyle='-', linewidth=0.7)\n",
    "axes[1].legend()\n",
    "#axes[1].set_ylim(17,25.5)\n",
    "# Minimum\n",
    "ds_out_HS.HS_min.resample(time='1Y', closed='left').mean('time').plot.line(ax=axes[2],x=\"time\",color='c',alpha=0.01,linewidth=1,add_legend=False)\n",
    "ds_out_HS.HS_min.resample(time='1Y', closed='left').mean('time').mean('member_id').plot.line(ax=axes[2],x=\"time\",alpha=0.3,color='b',linewidth=1,label='Member Mean 1Y 0-1573m')\n",
    "ds_out_HS.HS_min.resample(time='5Y', closed='left').mean('time').mean('member_id').plot.line(ax=axes[2],x=\"time\",color='b',linewidth=2,label='Member Mean 5Y 0-1573m')\n",
    "axes[2].set_xlabel('Time [Years]')\n",
    "axes[2].set_ylabel('OHC Min [J/m2]')\n",
    "axes[2].set_title('Area Min')\n",
    "axes[2].grid(color='k', linestyle='-', linewidth=0.7)\n",
    "axes[2].legend()\n",
    "#axes[2].set_ylim(-63,-51)\n",
    "# Minimum\n",
    "ds_out_HS.HS_rms.resample(time='1Y', closed='left').mean('time').plot.line(ax=axes[3],x=\"time\",color='y',alpha=0.01,linewidth=1,add_legend=False)\n",
    "ds_out_HS.HS_rms.resample(time='1Y', closed='left').mean('time').mean('member_id').plot.line(ax=axes[3],x=\"time\",alpha=0.3,color='g',linewidth=1,label='Member Mean 1Y 0-1573m')\n",
    "ds_out_HS.HS_rms.resample(time='5Y', closed='left').mean('time').mean('member_id').plot.line(ax=axes[3],x=\"time\",color='g',linewidth=2,label='Member Mean 5Y 0-1573m')\n",
    "axes[3].set_xlabel('Time [Years]')\n",
    "axes[3].set_ylabel('OHC Error [J/m2]')\n",
    "axes[3].set_title('Area Error')\n",
    "axes[3].grid(color='k', linestyle='-', linewidth=0.7)\n",
    "axes[3].legend()\n",
    "#axes[3].set_ylim(50.3,52)\n",
    "\n",
    "plt.show()"
   ]
  },
  {
   "cell_type": "markdown",
   "id": "e8fa1b0c-9c86-4a07-8dde-ce165e4cd999",
   "metadata": {},
   "source": [
    "### Let's save the data in netcdf format"
   ]
  },
  {
   "cell_type": "code",
   "execution_count": null,
   "id": "52e4dc6e-70b1-438e-987b-940920526ba5",
   "metadata": {},
   "outputs": [],
   "source": [
    "# create a directory on scratch to save the output\n",
    "for ifb in range(0,len(fb)):\n",
    "    print(f'Variable: {fb[ifb]}')\n",
    "    str=f'path = \\'/glade/scratch/mauricio/LENS2_ssp370_south_atlantic/{fb[ifb]}/\\'.format(getpass.getuser())'\n",
    "    exec(str)\n",
    "    str=f'os.system(\\'mkdir -p \\'+path)'\n",
    "    exec(str)\n",
    "    str=f'ds_out_{fb[ifb]}.to_netcdf(path+\\'{fb[ifb]}_stats.nc\\')'\n",
    "    exec(str)"
   ]
  },
  {
   "cell_type": "code",
   "execution_count": null,
   "id": "574c608a-5db3-432d-9237-73c9acdd5eb6",
   "metadata": {},
   "outputs": [],
   "source": [
    "cluster.close()\n",
    "client.close()"
   ]
  }
 ],
 "metadata": {
  "kernelspec": {
   "display_name": "NPL 2022b",
   "language": "python",
   "name": "npl-2022b"
  },
  "language_info": {
   "codemirror_mode": {
    "name": "ipython",
    "version": 3
   },
   "file_extension": ".py",
   "mimetype": "text/x-python",
   "name": "python",
   "nbconvert_exporter": "python",
   "pygments_lexer": "ipython3",
   "version": "3.8.13"
  }
 },
 "nbformat": 4,
 "nbformat_minor": 5
}
