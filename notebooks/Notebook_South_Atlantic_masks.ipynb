{
 "cells": [
  {
   "cell_type": "markdown",
   "id": "4cc4025f-4977-4a41-b782-a3a543d2eb3f",
   "metadata": {},
   "source": [
    "### Build masks \n",
    "- This notebooks shows how to build region masks for the South Atlantic, and Eastern and Western South Atlatic."
   ]
  },
  {
   "cell_type": "code",
   "execution_count": null,
   "id": "4d37a89f-2907-4524-8573-5222d93452d7",
   "metadata": {},
   "outputs": [],
   "source": [
    "%load_ext autoreload\n",
    "%autoreload 2\n",
    "import xarray as xr \n",
    "import numpy as np  \n",
    "import pop_tools\n",
    "import matplotlib.pyplot as plt\n",
    "import cartopy.crs as ccrs\n",
    "import numpy as np\n",
    "import cartopy\n",
    "import cartopy.feature as cfeature\n",
    "import distributed\n",
    "import ncar_jobqueue\n",
    "import intake\n",
    "from dask.distributed import Client\n",
    "from ncar_jobqueue import NCARCluster\n",
    "%matplotlib inline\n",
    "import warnings, getpass, os"
   ]
  },
  {
   "cell_type": "markdown",
   "id": "21cfa982-a40d-4924-938d-fa03a083611c",
   "metadata": {},
   "source": [
    "### Read the pop 1 deg grid from pop_tools"
   ]
  },
  {
   "cell_type": "code",
   "execution_count": null,
   "id": "610b6f50-d498-4c32-995f-59b34375c39a",
   "metadata": {},
   "outputs": [],
   "source": [
    "# Read the pop 1 deg grid from pop_tools\n",
    "# We will use variables TLONG and TLAT\n",
    "pop_grid = pop_tools.get_grid('POP_gx1v7')"
   ]
  },
  {
   "cell_type": "code",
   "execution_count": null,
   "id": "23ea4950-43ab-49b0-96ea-b16adb10ecd3",
   "metadata": {},
   "outputs": [],
   "source": [
    "pop_grid"
   ]
  },
  {
   "cell_type": "code",
   "execution_count": null,
   "id": "08b664d8-fcd2-4ab8-959d-8e8cbd8bb17f",
   "metadata": {},
   "outputs": [],
   "source": [
    "atl = pop_grid.REGION_MASK.where(pop_grid.REGION_MASK==6)/pop_grid.REGION_MASK.where(pop_grid.REGION_MASK==6)\n",
    "atl['TLAT'] = pop_grid['TLAT']\n",
    "atl['TLONG'] = pop_grid['TLONG']\n",
    "atl = atl.fillna(0)"
   ]
  },
  {
   "cell_type": "code",
   "execution_count": null,
   "id": "b795537e-34ce-4ca1-b2ab-e5f889a1d920",
   "metadata": {},
   "outputs": [],
   "source": [
    "atl"
   ]
  },
  {
   "cell_type": "code",
   "execution_count": null,
   "id": "72f42ca8-a59c-4b33-a7c5-3e15e855ed94",
   "metadata": {},
   "outputs": [],
   "source": [
    "plt.figure(figsize=(10,6));\n",
    "ax = plt.axes(projection=ccrs.Robinson());\n",
    "pc = atl.plot.pcolormesh(ax=ax,\n",
    "                        transform=ccrs.PlateCarree(),\n",
    "                        x='TLONG',\n",
    "                        y='TLAT',\n",
    "                        add_colorbar=True)                                    \n",
    "ax.gridlines(draw_labels=True);\n",
    "ax.coastlines()\n",
    "ax.gridlines();"
   ]
  },
  {
   "cell_type": "markdown",
   "id": "3b4ad641-e327-4469-905c-b60e6966cc21",
   "metadata": {},
   "source": [
    "### South Atlantic Mask"
   ]
  },
  {
   "cell_type": "code",
   "execution_count": null,
   "id": "bb93f25e-92e1-416b-9afa-1e026913be58",
   "metadata": {},
   "outputs": [],
   "source": [
    "south_atl = atl * atl.where(atl.TLAT<0.)\n",
    "south_atl = south_atl.fillna(0)"
   ]
  },
  {
   "cell_type": "code",
   "execution_count": null,
   "id": "73666e74-2c7d-4c9d-954c-c1bef8cd1914",
   "metadata": {},
   "outputs": [],
   "source": [
    "plt.figure(figsize=(10,6));\n",
    "ax = plt.axes(projection=ccrs.Robinson());\n",
    "pc = south_atl.plot.pcolormesh(ax=ax,\n",
    "                              transform=ccrs.PlateCarree(),\n",
    "                              x='TLONG',\n",
    "                              y='TLAT')                                    \n",
    "ax.gridlines(draw_labels=True);\n",
    "ax.coastlines()\n",
    "ax.gridlines();"
   ]
  },
  {
   "cell_type": "markdown",
   "id": "4e06dfc0-879d-49c8-87da-c0d13fb56894",
   "metadata": {},
   "source": [
    "### Western South Atlantic Mask"
   ]
  },
  {
   "cell_type": "code",
   "execution_count": null,
   "id": "e43df86b-6569-4c91-a724-4fe0f79d8c0a",
   "metadata": {
    "tags": []
   },
   "outputs": [],
   "source": [
    "tmp1 = (south_atl *  south_atl.where(south_atl.TLONG>345)) \n",
    "tmp1 = tmp1.fillna(0)\n",
    "tmp2 = south_atl *  south_atl.where(south_atl.TLONG<20)\n",
    "tmp2 = tmp2.fillna(0)\n",
    "east_south_atl = tmp1 + tmp2"
   ]
  },
  {
   "cell_type": "code",
   "execution_count": null,
   "id": "3b04faf7-2a0d-40eb-9754-2ed98b30a2aa",
   "metadata": {},
   "outputs": [],
   "source": [
    "plt.figure(figsize=(10,6));\n",
    "ax = plt.axes(projection=ccrs.Robinson());\n",
    "pc = east_south_atl.plot.pcolormesh(ax=ax,\n",
    "                              transform=ccrs.PlateCarree(),\n",
    "                              x='TLONG',\n",
    "                              y='TLAT',\n",
    "                              add_colorbar=True)                                    \n",
    "ax.gridlines(draw_labels=True);\n",
    "ax.coastlines()\n",
    "ax.gridlines();"
   ]
  },
  {
   "cell_type": "markdown",
   "id": "da0f4425-97ff-4a71-924d-f1a91f0e4f72",
   "metadata": {},
   "source": [
    "### Eastern South Atlantic Mask"
   ]
  },
  {
   "cell_type": "code",
   "execution_count": null,
   "id": "2be92838-f922-4b5c-bd4b-67acb97bd03d",
   "metadata": {},
   "outputs": [],
   "source": [
    "west_south_atl = south_atl *  south_atl.where(south_atl.TLONG<345) * south_atl.where(south_atl.TLONG>50)\n",
    "west_south_atl = west_south_atl.fillna(0)"
   ]
  },
  {
   "cell_type": "code",
   "execution_count": null,
   "id": "1b87937d-cbc0-491b-ae1e-177e261fb0f5",
   "metadata": {},
   "outputs": [],
   "source": [
    "plt.figure(figsize=(10,6));\n",
    "ax = plt.axes(projection=ccrs.Robinson());\n",
    "pc = west_south_atl.plot.pcolormesh(ax=ax,\n",
    "                              transform=ccrs.PlateCarree(),\n",
    "                              x='TLONG',\n",
    "                              y='TLAT',\n",
    "                              add_colorbar=True)                                    \n",
    "ax.gridlines(draw_labels=True);\n",
    "ax.coastlines()\n",
    "ax.gridlines();"
   ]
  },
  {
   "cell_type": "markdown",
   "id": "71d083c8-772e-4d60-a95e-38414ff50dbb",
   "metadata": {},
   "source": [
    "### Applying the masks to the variables the heat flux at the surface and the temperature"
   ]
  },
  {
   "cell_type": "raw",
   "id": "6cec8187-a0a4-492a-a3ed-2e4774595be8",
   "metadata": {},
   "source": [
    "client.close()\n",
    "cluster.close()"
   ]
  },
  {
   "cell_type": "code",
   "execution_count": null,
   "id": "b5cac754-46fe-4c6c-81ba-4c55c159a198",
   "metadata": {},
   "outputs": [],
   "source": [
    "mem_per_worker = 30 # memory per worker in GB \n",
    "num_workers = 26 # number of workers\n",
    "cluster = NCARCluster(cores=1, processes=1, memory=f'{mem_per_worker} GB',resource_spec=f'select=1:ncpus=1:mem={mem_per_worker}GB', walltime='6:00:00')\n",
    "cluster.scale(num_workers)\n",
    "client = Client(cluster)\n",
    "print(client)\n",
    "client"
   ]
  },
  {
   "cell_type": "code",
   "execution_count": null,
   "id": "c2998633-cc7d-493d-98b6-e0bf9de2699d",
   "metadata": {},
   "outputs": [],
   "source": [
    "catalog = intake.open_esm_datastore(\n",
    "    '/glade/collections/cmip/catalog/intake-esm-datastore/catalogs/glade-cesm2-le.json'\n",
    ")"
   ]
  },
  {
   "cell_type": "code",
   "execution_count": null,
   "id": "d1543128-b7a1-42a9-b024-aa2636ed1ffa",
   "metadata": {},
   "outputs": [],
   "source": [
    "cat_subset = catalog.search(component='ocn',variable=['SHF','TEMP','SALT'],frequency='month_1')"
   ]
  },
  {
   "cell_type": "code",
   "execution_count": null,
   "id": "9a6771aa-d3a6-4446-b809-8789df66c0db",
   "metadata": {},
   "outputs": [],
   "source": [
    "%%time\n",
    "# Load catalog entries for subset into a dictionary of xarray datasets\n",
    "dset_dict_raw  = cat_subset.to_dataset_dict(zarr_kwargs={'consolidated': True}, storage_options={'anon': True})\n",
    "print(f'\\nDataset dictionary keys:\\n {dset_dict_raw.keys()}')"
   ]
  },
  {
   "cell_type": "code",
   "execution_count": null,
   "id": "0ee775be-50c4-408c-a793-bde59203bc42",
   "metadata": {},
   "outputs": [],
   "source": [
    "# Variables\n",
    "fb=(['TEMP','SALT','SHF']) # total surface heat flux [W/m2], and temperature [oC]\n",
    "pd=('historical','ssp370') # periods\n",
    "ff=('cmip6','smbb') # forcing\n",
    "for ifb in range(0,len(fb)):\n",
    "    for iff in range(0,len(ff)):\n",
    "        for ipd in range(0,len(pd)):\n",
    "            st=f'ds_{pd[ipd]}_{ff[iff]}_{fb[ifb]} = dset_dict_raw[\\'ocn.{pd[ipd]}.pop.h.{ff[iff]}.{fb[ifb]}\\']'\n",
    "            exec(st)\n",
    "        st=f'ds_{ff[iff]}_{fb[ifb]}=xr.combine_nested([ds_{pd[0]}_{ff[iff]}_{fb[ifb]},ds_{pd[1]}_{ff[iff]}_{fb[ifb]}],concat_dim=[\\'time\\']);'\n",
    "        exec(st)\n",
    "        st=f'del ds_{pd[0]}_{ff[iff]}_{fb[ifb]}, ds_{pd[1]}_{ff[iff]}_{fb[ifb]}'\n",
    "        exec(st)\n",
    "    st=f'ds_{fb[ifb]}=xr.combine_nested([ds_{ff[0]}_{fb[ifb]},ds_{ff[1]}_{fb[ifb]}],concat_dim=[\\'member_id\\']);'\n",
    "    exec(st) \n",
    "    st=f'del ds_{ff[0]}_{fb[ifb]}, ds_{ff[1]}_{fb[ifb]}'\n",
    "    exec(st)\n",
    "    print(f'Done!')"
   ]
  },
  {
   "cell_type": "code",
   "execution_count": null,
   "id": "4dd7b4e4-4ef8-4508-9589-981131d4154c",
   "metadata": {},
   "outputs": [],
   "source": [
    "ilat,flat=85,187 # latitude (initial, final)\n",
    "ilon1,flon1,ilon2,flon2=307,320,0,54 # longitude (initial, final) \n",
    "\n",
    "pop_grid=pop_tools.get_grid('POP_gx1v7')\n",
    "\n",
    "# Area\n",
    "area = xr.combine_nested([[pop_grid.TAREA.isel(nlat = slice(ilat,flat),nlon = slice(ilon1,flon1)),\n",
    "                              pop_grid.TAREA.isel(nlat = slice(ilat,flat),nlon = slice(ilon2,flon2))]],\n",
    "                            concat_dim=['nlat','nlon'])"
   ]
  },
  {
   "cell_type": "code",
   "execution_count": null,
   "id": "e685ae22-8e6b-44ef-ad8a-d24cb05edde1",
   "metadata": {},
   "outputs": [],
   "source": [
    "%%time\n",
    "ba=('south_atl','west_south_atl','east_south_atl')\n",
    "\n",
    "for iba in range(len(ba)):\n",
    "    print(f'Mask: {ba[iba]}')    \n",
    "    \n",
    "    # Masks\n",
    "    st=f'{ba[iba]}_new=xr.combine_nested([[{ba[iba]}.isel(nlat = slice(ilat,flat),nlon = slice(ilon1,flon1)),{ba[iba]}.isel(nlat = slice(ilat,flat),nlon = slice(ilon2,flon2))]],concat_dim=[\\'nlat\\',\\'nlon\\']).chunk(nlon=(flon1 + flon2 - ilon1 - ilon2))'; exec(st)   \n",
    "    st=f'{ba[iba]}_new.coords[\\'nlon\\'] = ({ba[iba]}_new.coords[\\'nlon\\'] + 180) % 360 - 180'; exec(st) # change the longitudes: -180 0 180\n",
    "    st=f'{ba[iba]}_new={ba[iba]}_new.sortby({ba[iba]}_new.nlon)'; exec(st)\n",
    "    #st=f'{ba[iba]}_area=area[np.where({ba[iba]}_new != 0.)]'; exec(st)\n",
    "                               \n",
    "    for ifb in range(len(fb)): \n",
    "        print(f'Variable: {fb[ifb]}')\n",
    "        \n",
    "        # Variable\n",
    "        st=f'ds_{fb[ifb]}_new=ds_{fb[ifb]}.{fb[ifb]}'; exec(st)\n",
    "        st=f'ds_{fb[ifb]}_new[\\'TLONG\\']=pop_grid.TLONG; ds_{fb[ifb]}_new[\\'TLAT\\'] = pop_grid.TLAT'; exec(st)\n",
    "        st=f'{ba[iba]}_{fb[ifb]}=ds_{fb[ifb]}_new'; exec(st)\n",
    "        st=f'{ba[iba]}_{fb[ifb]}=xr.combine_nested([[{ba[iba]}_{fb[ifb]}.isel(nlat = slice(ilat,flat),nlon = slice(ilon1,flon1)),{ba[iba]}_{fb[ifb]}.isel(nlat = slice(ilat,flat),nlon = slice(ilon2,flon2))]],concat_dim=[\\'nlat\\',\\'nlon\\']).chunk(nlon=(flon1 + flon2 - ilon1 - ilon2))'; exec(st)\n",
    "        st=f'{ba[iba]}_{fb[ifb]}.coords[\\'nlon\\'] = ({ba[iba]}_{fb[ifb]}.coords[\\'nlon\\'] + 180) % 360 - 180 # change the longitudes: -180 0 180'; exec(st)\n",
    "        st=f'{ba[iba]}_{fb[ifb]}={ba[iba]}_{fb[ifb]}.sortby({ba[iba]}_{fb[ifb]}.nlon)'; exec(st)\n",
    "        st=f'{ba[iba]}_{fb[ifb]}={ba[iba]}_{fb[ifb]}.resample(time=\\'1Y\\', closed=\\'left\\').mean(\\'time\\')'; exec(st)\n",
    "        st=f'{ba[iba]}_{fb[ifb]}={ba[iba]}_{fb[ifb]}.where({ba[iba]}_new != 0.)'; exec(st) \n",
    "\n",
    "        if ifb<=1:\n",
    "            # Building a mask for salinity and temperature\n",
    "            st=f'mask_ocean_{ba[iba]}_{fb[ifb]} = 2 * np.ones((len({ba[iba]}_{fb[ifb]}.coords[\\'nlat\\']), len({ba[iba]}_{fb[ifb]}.coords[\\'nlon\\']))) * np.isfinite({ba[iba]}_{fb[ifb]}.isel(time=0,member_id=0))'; exec(st)  \n",
    "            st=f'mask_land_{ba[iba]}_{fb[ifb]} = 1 * np.ones((len({ba[iba]}_{fb[ifb]}.coords[\\'nlat\\']), len({ba[iba]}_{fb[ifb]}.coords[\\'nlon\\']))) * np.isnan({ba[iba]}_{fb[ifb]}.isel(time=0,member_id=0))'; exec(st)  \n",
    "            st=f'mask_array_{ba[iba]}_{fb[ifb]} = mask_ocean_{ba[iba]}_{fb[ifb]} + mask_land_{ba[iba]}_{fb[ifb]}'; exec(st)\n",
    "           \n",
    "            # Applying the built up mask to the area\n",
    "            st=f'area_new=area.where({ba[iba]}_new != 0.)'; exec(st) # Applying the basin masks in the area\n",
    "            \n",
    "            st=f'area_new=np.array([area_new]*len({ba[iba]}_{fb[ifb]}.coords[\\'z_t\\']))'; exec(st) # Replicating the surface area for all as depths\n",
    "            st=f'area_array=xr.DataArray(area_new, dims=[\\'z_t\\', \\'nlat\\', \\'nlon\\'])'; exec(st) # We transform the array into a xarray so that there are no mismatches in the oprerations\n",
    "            st=f'area_array_{ba[iba]}_{fb[ifb]}=area_array.where(mask_array_{ba[iba]}_{fb[ifb]} != 1.)'; exec(st) # The masks of what is ocean and what is continent or floor were built\n",
    "        \n",
    "            # Do the subtraction for a reference temperature. Let's use the first temperature of the series\n",
    "            st=f'{ba[iba]}_{fb[ifb]}={ba[iba]}_{fb[ifb]}-{ba[iba]}_{fb[ifb]}.isel(time=0)'; exec(st)\n",
    "        \n",
    "            # Let's calculate the average of the results in the lon and lat coordinate\n",
    "            st=f'{ba[iba]}_{fb[ifb]}={ba[iba]}_{fb[ifb]}.weighted(area_array_{ba[iba]}_{fb[ifb]}.fillna(0)).mean(dim=[\\'nlon\\',\\'nlat\\'])'; exec(st)"
   ]
  },
  {
   "cell_type": "code",
   "execution_count": null,
   "id": "04baabe7-319d-4558-a27c-dae1958520fb",
   "metadata": {},
   "outputs": [],
   "source": [
    "%%time\n",
    "# TEMP\n",
    "for iba in range(len(ba)):\n",
    "    st=f'{ba[iba]}_TEMP_array = list()'; exec(st)\n",
    "    st=f'print(f\\'Mask: {ba[iba]}\\')'; exec(st) \n",
    "    for member_id in range(100):\n",
    "        st=f'{ba[iba]}_TEMP_small={ba[iba]}_TEMP.isel(member_id=member_id)'; exec(st)\n",
    "        st=f'{ba[iba]}_TEMP_small={ba[iba]}_TEMP_small.load()'; exec(st)\n",
    "        st=f'{ba[iba]}_TEMP_array.append({ba[iba]}_TEMP_small)'; exec(st)\n",
    "        st=f'print(f\\'done with member #{member_id}\\')'; exec(st)\n",
    "    st=f'{ba[iba]}_TEMP_merged = xr.concat({ba[iba]}_TEMP_array, dim=\\'member_id\\', compat=\\'override\\', join=\\'override\\', coords=\\'minimal\\')'; exec(st)\n",
    "    st=f'del {ba[iba]}_TEMP'; exec(st)"
   ]
  },
  {
   "cell_type": "code",
   "execution_count": null,
   "id": "2d950cb1-cbec-4553-a616-4cb566484efa",
   "metadata": {},
   "outputs": [],
   "source": [
    "# TEMP\n",
    "ds_out_TEMP = xr.merge([east_south_atl_TEMP_merged.rename('east_south_atl_TEMP'),west_south_atl_TEMP_merged.rename('west_south_atl_TEMP'),south_atl_TEMP_merged.rename('south_atl_TEMP')])\n",
    "ds_out_TEMP.attrs['description'] = 'Temperature in each South Atlantic region: the entire basin (south_atlantic), eastern side (east_south_atlantic), western side (west_south_atlantic)'\n",
    "ds_out_TEMP.attrs['units'] = 'K'\n",
    "ds_out_TEMP.attrs['author'] = 'Mauricio Rocha'\n",
    "ds_out_TEMP.attrs['email'] = 'mauricio.rocha@usp.br'\n",
    "ds_out_TEMP\n",
    "# create a directory on scratch to save the output\n",
    "path = '/glade/scratch/mauricio/Data/LENS2/TEMP/'.format(getpass.getuser())\n",
    "os.system('mkdir -p '+path)\n",
    "ds_out_TEMP.to_netcdf(path+'TEMP_south_atl_regions.nc')"
   ]
  },
  {
   "cell_type": "code",
   "execution_count": null,
   "id": "aeebc33d-da24-4ee3-9463-b674706c3a2e",
   "metadata": {},
   "outputs": [],
   "source": [
    "%%time\n",
    "# SHF\n",
    "for iba in range(len(ba)):\n",
    "    st=f'{ba[iba]}_SHF_array = list()'; exec(st)\n",
    "    st=f'print(f\\'Mask: {ba[iba]}\\')'; exec(st) \n",
    "    for member_id in range(100):\n",
    "        st=f'{ba[iba]}_SHF_small={ba[iba]}_SHF.isel(member_id=member_id)'; exec(st)\n",
    "        st=f'{ba[iba]}_SHF_small={ba[iba]}_SHF_small.load()'; exec(st)\n",
    "        st=f'{ba[iba]}_SHF_array.append({ba[iba]}_SHF_small)'; exec(st)\n",
    "        st=f'print(f\\'done with member #{member_id}\\')'; exec(st)\n",
    "    st=f'{ba[iba]}_SHF_merged = xr.concat({ba[iba]}_SHF_array, dim=\\'member_id\\', compat=\\'override\\', join=\\'override\\', coords=\\'minimal\\')'; exec(st)\n",
    "    st=f'del {ba[iba]}_SHF'; exec(st)"
   ]
  },
  {
   "cell_type": "code",
   "execution_count": null,
   "id": "9109ff2f-cdbb-4dcd-8de6-4a2fb9796c3b",
   "metadata": {},
   "outputs": [],
   "source": [
    "# SHF\n",
    "ds_out_SHF = xr.merge([east_south_atl_SHF_merged.rename('east_south_atl_SHF'),west_south_atl_SHF_merged.rename('west_south_atl_SHF'),south_atl_SHF_merged.rename('south_atl_SHF')])\n",
    "ds_out_SHF.attrs['description'] = 'Total surface heat flux in each South Atlantic region: the entire basin (south_atlantic), eastern side (east_south_atlantic), western side (west_south_atlantic)'\n",
    "ds_out_SHF.attrs['units'] = 'W/m2'\n",
    "ds_out_SHF.attrs['author'] = 'Mauricio Rocha'\n",
    "ds_out_SHF.attrs['email'] = 'mauricio.rocha@usp.br'\n",
    "ds_out_SHF\n",
    "# create a directory on scratch to save the output\n",
    "path = '/glade/scratch/mauricio/Data/LENS2/SHF/'.format(getpass.getuser())\n",
    "os.system('mkdir -p '+path)\n",
    "ds_out_SHF.to_netcdf(path+'SHF_south_atl_regions.nc')"
   ]
  },
  {
   "cell_type": "code",
   "execution_count": null,
   "id": "701a7b42-6b40-4929-8e29-16f7908201c9",
   "metadata": {},
   "outputs": [],
   "source": [
    "%%time\n",
    "# SALT\n",
    "for iba in range(len(ba)):\n",
    "    st=f'{ba[iba]}_SALT_array = list()'; exec(st)\n",
    "    st=f'print(f\\'Mask: {ba[iba]}\\')'; exec(st) \n",
    "    for member_id in range(100):\n",
    "        st=f'{ba[iba]}_SALT_small={ba[iba]}_SALT.isel(member_id=member_id)'; exec(st)\n",
    "        st=f'{ba[iba]}_SALT_small={ba[iba]}_SALT_small.load()'; exec(st)\n",
    "        st=f'{ba[iba]}_SALT_array.append({ba[iba]}_SALT_small)'; exec(st)\n",
    "        st=f'print(f\\'done with member #{member_id}\\')'; exec(st)\n",
    "    st=f'{ba[iba]}_SALT_merged = xr.concat({ba[iba]}_SALT_array, dim=\\'member_id\\', compat=\\'override\\', join=\\'override\\', coords=\\'minimal\\')'; exec(st)\n",
    "    st=f'del {ba[iba]}_SALT'; exec(st)"
   ]
  },
  {
   "cell_type": "code",
   "execution_count": null,
   "id": "c0481be9-fdfa-44fd-96ca-3f2971ef433e",
   "metadata": {},
   "outputs": [],
   "source": [
    "# SALT\n",
    "ds_out_SALT = xr.merge([east_south_atl_SALT_merged.rename('east_south_atl_SALT'),west_south_atl_SALT_merged.rename('west_south_atl_SALT'),south_atl_SALT_merged.rename('south_atl_SALT')])\n",
    "ds_out_SALT.attrs['description'] = 'Salinity in each South Atlantic region: the entire basin (south_atlantic), eastern side (east_south_atlantic), western side (west_south_atlantic)'\n",
    "ds_out_SALT.attrs['units'] = 'gram/kilogram'\n",
    "ds_out_SALT.attrs['author'] = 'Mauricio Rocha'\n",
    "ds_out_SALT.attrs['email'] = 'mauricio.rocha@usp.br'\n",
    "ds_out_SALT\n",
    "# create a directory on scratch to save the output\n",
    "path = '/glade/scratch/mauricio/Data/LENS2/SALT/'.format(getpass.getuser())\n",
    "os.system('mkdir -p '+path)\n",
    "ds_out_SALT.to_netcdf(path+'SALT_south_atl_regions.nc')"
   ]
  }
 ],
 "metadata": {
  "kernelspec": {
   "display_name": "Python [conda env:conda-npl-2022b]",
   "language": "python",
   "name": "conda-env-conda-npl-2022b-py"
  },
  "language_info": {
   "codemirror_mode": {
    "name": "ipython",
    "version": 3
   },
   "file_extension": ".py",
   "mimetype": "text/x-python",
   "name": "python",
   "nbconvert_exporter": "python",
   "pygments_lexer": "ipython3",
   "version": "3.8.13"
  }
 },
 "nbformat": 4,
 "nbformat_minor": 5
}
