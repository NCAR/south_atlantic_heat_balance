{
 "cells": [
  {
   "cell_type": "markdown",
   "id": "50617444-8d60-4b2c-ba43-355130dff2cb",
   "metadata": {},
   "source": [
    "## CESM2 - LARGE ENSEMBLE (LENS2)\n",
    "\n",
    " - This notebook aims to plot time series and perform basic comparison statistics. "
   ]
  },
  {
   "cell_type": "markdown",
   "id": "36a52e94-9851-4f6e-9556-e0610044df65",
   "metadata": {},
   "source": [
    "### Imports"
   ]
  },
  {
   "cell_type": "code",
   "execution_count": 1,
   "id": "e89678d1-742a-44ba-b6cd-481c04d077e9",
   "metadata": {},
   "outputs": [],
   "source": [
    "import xarray as xr\n",
    "import pandas as pd\n",
    "import numpy as np \n",
    "import cf_xarray\n",
    "from matplotlib.ticker import MaxNLocator\n",
    "import cftime\n",
    "import nc_time_axis\n",
    "import matplotlib.pyplot as plt\n",
    "import warnings, getpass, os\n",
    "%matplotlib inline"
   ]
  },
  {
   "cell_type": "markdown",
   "id": "ccef5f73-4ed9-4354-baa9-331492586b5b",
   "metadata": {},
   "source": [
    "### Variables"
   ]
  },
  {
   "cell_type": "code",
   "execution_count": 2,
   "id": "25b3285d-c2e9-42e0-ac0c-c6f48416fd27",
   "metadata": {},
   "outputs": [],
   "source": [
    "# Meridional Overturning Circulation\n",
    "ds_out_MOC = xr.open_dataset('/glade/scratch/mauricio/Data/LENS2/MOC/MOC_stats.nc')\n",
    "# Total Surface Heat Flux\n",
    "ds_out_SHF = xr.open_dataset('/glade/scratch/mauricio/Data/LENS2/SHF/SHF_stats.nc')\n",
    "# Sea Surface Temperature\n",
    "ds_out_SST = xr.open_dataset('/glade/scratch/mauricio/Data/LENS2/SST/SST_stats.nc')-273.15 # K to C\n",
    "# Sensible Heat Flux\n",
    "ds_out_SHFLX = xr.open_dataset('/glade/scratch/mauricio/Data/LENS2/SHFLX/SHFLX_stats.nc')\n",
    "# Latent Heat Flux\n",
    "ds_out_LHFLX = xr.open_dataset('/glade/scratch/mauricio/Data/LENS2/LHFLX/LHFLX_stats.nc')\n",
    "# Temperatura (atmosphere)\n",
    "ds_out_T = xr.open_dataset('/glade/scratch/mauricio/Data/LENS2/T/T_stats.nc').isel(lev=-1)-273.15 # K to C and choose the level \n",
    "# Total Precipitation\n",
    "ds_out_PRECT = xr.open_dataset('/glade/scratch/mauricio/Data/LENS2/PRECT/PRECT_stats.nc')*86400000 # mm/day\n",
    "# Maximum Mixed Layer Depth\n",
    "ds_out_XMXL = xr.open_dataset('/glade/scratch/mauricio/Data/LENS2/XMXL/XMXL_stats.nc')*-0.01 # cm to m and negative depth"
   ]
  },
  {
   "cell_type": "markdown",
   "id": "6c176d37-2f72-409c-a673-fca63b553905",
   "metadata": {},
   "source": [
    "### Function to determine the ticks"
   ]
  },
  {
   "cell_type": "code",
   "execution_count": 3,
   "id": "fb20ddfb-7a2a-4741-b7ac-3d5794a553fc",
   "metadata": {},
   "outputs": [],
   "source": [
    "def calculate_ticks(ax, ticks, round_to=0.01, center=False):\n",
    "    upperbound = np.ceil(ax.get_ybound()[1]/round_to)\n",
    "    lowerbound = np.floor(ax.get_ybound()[0]/round_to)\n",
    "    dy = upperbound - lowerbound\n",
    "    fit = np.floor(dy/(ticks - 1)) + 1\n",
    "    dy_new = (ticks - 1)*fit\n",
    "    if center:\n",
    "        offset = np.floor((dy_new - dy)/2)\n",
    "        lowerbound = lowerbound - offset\n",
    "    values = np.linspace(lowerbound, lowerbound + dy_new, ticks)\n",
    "    return values*round_to"
   ]
  },
  {
   "cell_type": "markdown",
   "id": "da46c175-103e-4db7-84ba-c69acd9814d7",
   "metadata": {},
   "source": [
    "### Plot"
   ]
  },
  {
   "cell_type": "code",
   "execution_count": null,
   "id": "b54ba8cb-87a0-4ff1-996b-05202e9835bf",
   "metadata": {},
   "outputs": [],
   "source": [
    "var=('T','SST') # Chose two variables  \n",
    "ylabel=('T [oC]','SST [oC]') # This is the y-labels, so do not forget to mention the unit\n",
    "\n",
    "str=f'var1_max=ds_out_{var[0]}.{var[0]}_max.sel(time=slice(\\'1850-01-01\\',\\'2100-01-01\\')); var1_mean=ds_out_{var[0]}.{var[0]}_mean.sel(time=slice(\\'1850-01-01\\',\\'2100-01-01\\')); var1_min=ds_out_{var[0]}.{var[0]}_min.sel(time=slice(\\'1850-01-01\\',\\'2100-01-01\\')); var1_rms=ds_out_{var[0]}.{var[0]}_rms.sel(time=slice(\\'1850-01-01\\',\\'2100-01-01\\'))'; exec(str)\n",
    "str=f'var2_max=ds_out_{var[1]}.{var[1]}_max.sel(time=slice(\\'1850-01-01\\',\\'2100-01-01\\')); var2_mean=ds_out_{var[1]}.{var[1]}_mean.sel(time=slice(\\'1850-01-01\\',\\'2100-01-01\\')); var2_min=ds_out_{var[1]}.{var[1]}_min.sel(time=slice(\\'1850-01-01\\',\\'2100-01-01\\')); var2_rms=ds_out_{var[1]}.{var[1]}_rms.sel(time=slice(\\'1850-01-01\\',\\'2100-01-01\\'))'; exec(str)\n",
    "str=f'clabel=(\\'{var[0]} 5Y mean\\',\\'{var[1]} 5Y mean\\')'; exec(str)\n",
    "xlabel=('Time [Years]')\n",
    "nrows=1; ncols=4; height=8; width=22; alpha=0.3; pad=2\n",
    "\n",
    "var1_colors=('mediumblue','mediumblue','mediumblue','mediumblue'); var2_colors=('chocolate','chocolate','chocolate','chocolate')\n",
    "\n",
    "fig,ax = plt.subplots(nrows=nrows, ncols=ncols, figsize=(width,height),sharey=False)\n",
    "\n",
    "# Max\n",
    "ax[0].plot(var1_max['time'],var1_max.mean('member_id'),color=var1_colors[0],alpha=alpha,linewidth=1)\n",
    "lns1 = ax[0].plot(var1_max.resample(time='5Y', closed='left').mean('time')['time'],var1_max.resample(time='5Y', closed='left').mean('time').mean('member_id'),color=var1_colors[0],linewidth=2,label=clabel[0])\n",
    "ax0 = ax[0].twinx()\n",
    "ax0.plot(var2_max['time'],var2_max.mean('member_id'),color=var2_colors[0],alpha=alpha,linewidth=1)\n",
    "lns2 = ax0.plot(var2_max.resample(time='5Y', closed='left').mean('time')['time'],var2_max.resample(time='5Y', closed='left').mean('time').mean('member_id'),color=var2_colors[0],linewidth=2,label=clabel[1])\n",
    "ax[0].grid(color='k', linestyle='-', linewidth=0.7)\n",
    "ax[0].set_ylim(var1_max.mean('member_id').min(),var1_max.mean('member_id').max())\n",
    "ax0.set_ylim(var2_max.mean('member_id').min(),var2_max.mean('member_id').max())\n",
    "ax[0].set_yticks(calculate_ticks(ax[0], 8))\n",
    "ax0.set_yticks(calculate_ticks(ax0, 8))\n",
    "ax0.set_title('Maxima')\n",
    "lns = lns1+lns2\n",
    "labs = [l.get_label() for l in lns]\n",
    "ax[0].legend(lns, labs, loc=2)\n",
    "ax[0].set_ylabel(ylabel[0])\n",
    "ax0.set_ylabel(ylabel[1])\n",
    "ax0.set_xlabel(xlabel)\n",
    "# Mean\n",
    "ax[1].plot(var1_mean['time'],var1_mean.mean('member_id'),color=var1_colors[1],alpha=alpha,linewidth=1)\n",
    "lns1 = ax[1].plot(var1_mean.resample(time='5Y', closed='left').mean('time')['time'],var1_mean.resample(time='5Y', closed='left').mean('time').mean('member_id'),color=var1_colors[1],linewidth=2,label=clabel[0])\n",
    "ax1 = ax[1].twinx()\n",
    "ax1.plot(var2_mean['time'],var2_mean.mean('member_id'),color=var2_colors[1],alpha=alpha,linewidth=1)\n",
    "lns2 = ax1.plot(var2_mean.resample(time='5Y', closed='left').mean('time')['time'],var2_mean.resample(time='5Y', closed='left').mean('time').mean('member_id'),color=var2_colors[1],linewidth=2,label=clabel[1])\n",
    "ax[1].grid(color='k', linestyle='-', linewidth=0.7)\n",
    "ax[1].set_ylim(var1_mean.mean('member_id').min(),var1_mean.mean('member_id').max())\n",
    "ax1.set_ylim(var2_mean.mean('member_id').min(),var2_mean.mean('member_id').max())\n",
    "ax[1].set_yticks(calculate_ticks(ax[1], 8))\n",
    "ax1.set_yticks(calculate_ticks(ax1, 8))\n",
    "ax1.set_title('Mean')\n",
    "lns = lns1+lns2\n",
    "labs = [l.get_label() for l in lns]\n",
    "ax[1].legend(lns, labs, loc=2)\n",
    "ax[1].set_ylabel(ylabel[0])\n",
    "ax1.set_ylabel(ylabel[1])\n",
    "ax1.set_xlabel(xlabel)\n",
    "# Min\n",
    "ax[2].plot(var1_min['time'],var1_min.mean('member_id'),color=var1_colors[2],alpha=alpha,linewidth=1)\n",
    "lns1 = ax[2].plot(var1_min.resample(time='5Y',closed='left').mean('time')['time'],var1_min.resample(time='5Y', closed='left').mean('time').mean('member_id'),color=var1_colors[2],linewidth=2,label=clabel[0])\n",
    "ax2 = ax[2].twinx()\n",
    "ax2.plot(var2_min['time'],var2_min.mean('member_id'),color=var2_colors[2],alpha=alpha,linewidth=1)\n",
    "lns2 = ax2.plot(var2_min.resample(time='5Y', closed='left').mean('time')['time'],var2_min.resample(time='5Y', closed='left').mean('time').mean('member_id'),color=var2_colors[2],linewidth=2,label=clabel[1])\n",
    "ax[2].grid(color='k', linestyle='-', linewidth=0.7)\n",
    "ax[2].set_ylim(var1_min.mean('member_id').min(),var1_min.mean('member_id').max())\n",
    "ax2.set_ylim(var2_min.mean('member_id').min(),var2_min.mean('member_id').max())\n",
    "ax[2].set_yticks(calculate_ticks(ax[2], 8))\n",
    "ax2.set_yticks(calculate_ticks(ax2, 8))\n",
    "ax2.set_title('Minima')\n",
    "lns = lns1+lns2\n",
    "labs = [l.get_label() for l in lns]\n",
    "ax[2].legend(lns, labs, loc=2)\n",
    "ax[2].set_ylabel(ylabel[0])\n",
    "ax2.set_ylabel(ylabel[1])\n",
    "ax2.set_xlabel(xlabel)\n",
    "# Error\n",
    "ax[3].plot(var1_rms['time'],var1_rms.mean('member_id'),color=var1_colors[3],alpha=alpha,linewidth=1)\n",
    "lns1 = ax[3].plot(var1_rms.resample(time='5Y', closed='left').mean('time')['time'],var1_rms.resample(time='5Y', closed='left').mean('time').mean('member_id'),color=var1_colors[3],linewidth=2,label=clabel[0])\n",
    "ax3 = ax[3].twinx()\n",
    "ax3.plot(var2_rms['time'],var2_rms.mean('member_id'),color=var2_colors[3],alpha=alpha,linewidth=1)\n",
    "lns2 = ax3.plot(var2_rms.resample(time='5Y', closed='left').mean('time')['time'],var2_rms.resample(time='5Y', closed='left').mean('time').mean('member_id'),color=var2_colors[3],linewidth=2,label=clabel[1])\n",
    "ax[3].grid(color='k', linestyle='-', linewidth=0.7)\n",
    "ax[3].set_ylim(var1_rms.mean('member_id').min(),var1_rms.mean('member_id').max())\n",
    "ax3.set_ylim(var2_rms.mean('member_id').min(),var2_rms.mean('member_id').max())\n",
    "ax[3].set_yticks(calculate_ticks(ax[3], 8))\n",
    "ax3.set_yticks(calculate_ticks(ax3, 8))\n",
    "ax3.set_title('Root Mean Square')\n",
    "lns = lns1+lns2\n",
    "labs = [l.get_label() for l in lns]\n",
    "ax[3].legend(lns, labs, loc=2)\n",
    "ax[3].set_ylabel(ylabel[0])\n",
    "ax3.set_ylabel(ylabel[1])\n",
    "ax3.set_xlabel(xlabel)\n",
    "fig.tight_layout(pad=pad)\n",
    "plt.show()"
   ]
  },
  {
   "cell_type": "code",
   "execution_count": null,
   "id": "dcc2d5a0-74c6-422f-a26b-a234bc494ffe",
   "metadata": {},
   "outputs": [],
   "source": []
  },
  {
   "cell_type": "code",
   "execution_count": null,
   "id": "0cd0347e-2093-467a-87ef-aab690473a6d",
   "metadata": {},
   "outputs": [],
   "source": []
  }
 ],
 "metadata": {
  "kernelspec": {
   "display_name": "NPL 2022b",
   "language": "python",
   "name": "npl-2022b"
  },
  "language_info": {
   "codemirror_mode": {
    "name": "ipython",
    "version": 3
   },
   "file_extension": ".py",
   "mimetype": "text/x-python",
   "name": "python",
   "nbconvert_exporter": "python",
   "pygments_lexer": "ipython3",
   "version": "3.8.13"
  }
 },
 "nbformat": 4,
 "nbformat_minor": 5
}
