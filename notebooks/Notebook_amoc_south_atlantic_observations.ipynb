{
 "cells": [
  {
   "cell_type": "markdown",
   "id": "96b16cdc-66f2-4310-8c74-5133512f0c22",
   "metadata": {},
   "source": [
    "## CESM2 - LARGE ENSEMBLE (LENS2)\n",
    "\n",
    "- The goal of this Notebook is to compute AMOC time series from the observations: SAMOC line and altimeters. We thank Dr. Shenfu Dong for providing the AMOC and MHT data (Dong et al. 2021)."
   ]
  },
  {
   "cell_type": "markdown",
   "id": "464cca08-38be-4b0f-b692-037b5eed2072",
   "metadata": {},
   "source": [
    "### Load data"
   ]
  },
  {
   "cell_type": "code",
   "execution_count": null,
   "id": "090f9392-978d-406f-9d31-952a1cc73e34",
   "metadata": {},
   "outputs": [],
   "source": [
    "clear all; close all;  \n",
    "df = load('/glade/scratch/mauricio/Data/AMOC/Dong_et_al_JGR_2021/moc_mht_ERA5.mat');"
   ]
  },
  {
   "cell_type": "markdown",
   "id": "7c5b2980-2724-4bd8-8d11-47f5997fdfd7",
   "metadata": {},
   "source": [
    "### Some notes:\n",
    "##### The attached file includes the time series (Jan 1993 - Dec 2021) for MOC and MHT (total), and their geostrophic (_geo) and Ekman (_ekman) components for 20S (1st column), 25S (2nd column), 30S (3rd column), and 34.5S (4th column). The time series are separated into delated-time (DT, with respect to altimeter data used) and real-time (RT), just in case you need this information. "
   ]
  },
  {
   "cell_type": "code",
   "execution_count": null,
   "id": "7572bd8b-7e84-42d9-8016-c47c99a9d204",
   "metadata": {},
   "outputs": [],
   "source": [
    "dff = load('/glade/scratch/mauricio//Data/AMOC/SAMOC/MOC_TotalAnomaly_and_constituents.asc','-ascii');\n",
    "jd=datenum(dff(1,1),dff(1,2),dff(1,3)):datenum(dff(end,1),dff(end,2),dff(end,3)); % Time serie in Julian time\n",
    "jd=jd';\n",
    "moc=dff(:,5)+14.7; % Compute the total MOC value (media + anomaly)"
   ]
  },
  {
   "cell_type": "code",
   "execution_count": null,
   "id": "52b52318-d890-45f8-a8a6-979df9116b82",
   "metadata": {},
   "outputs": [],
   "source": [
    "[~,mo]=datevec(jd);  % the month of each observation from its corresponding date number\n",
    "ix=cumsum(diff([0; mo])~=0);  % the sequential index of month for each element\n",
    "moc_month=accumarray(ix,moc,[],@mean);  % the means by the months\n",
    "jd_month=accumarray(ix,jd,[],@mean);  % the means by the months"
   ]
  },
  {
   "cell_type": "code",
   "execution_count": null,
   "id": "9074b5aa-3b6d-4278-909c-29e63736b332",
   "metadata": {},
   "outputs": [],
   "source": [
    "plot(jd,moc,'c','LineWidth',1); hold on \n",
    "plot(jd_month,moc_month,'LineWidth',1) \n",
    "plot(df.time_DT,df.moc_DT(:,4),'LineWidth',1)\n",
    "plot(df.time_RT,df.moc_RT(:,4),'LineWidth',1)\n",
    "xlim([df.time_DT(1) df.time_RT(end)])\n",
    "datetick('x','yyyy','keeplimits')\n",
    "ylabel('Meridional Overturning Circulation [Sv]')\n",
    "xlabel('Time [Years]')\n",
    "title('South Atlantic 34.5S')\n",
    "legend('SAMOC (daily)','SAMOC (monthly)','Altimeter (monthly)','Real time (monthly)')\n",
    "grid on"
   ]
  },
  {
   "cell_type": "code",
   "execution_count": null,
   "id": "395cddf5-b102-4ab8-9cce-0ba70575675b",
   "metadata": {},
   "outputs": [],
   "source": [
    "clear all; close all;  \n",
    "df = load('/glade/scratch/mauricio/Data/AMOC/Dong_et_al_JGR_2021/strfun_all.mat');"
   ]
  },
  {
   "cell_type": "code",
   "execution_count": null,
   "id": "28ad80b8-4aa4-43b0-b6a4-e43714e6eea8",
   "metadata": {},
   "outputs": [],
   "source": [
    "df"
   ]
  },
  {
   "cell_type": "code",
   "execution_count": null,
   "id": "337c2709-10b6-493f-a64b-3ef710d00606",
   "metadata": {},
   "outputs": [],
   "source": [
    "plot(df.strfun_26N)"
   ]
  }
 ],
 "metadata": {
  "kernelspec": {
   "display_name": "Matlab R2019a",
   "language": "matlab",
   "name": "matlab"
  },
  "language_info": {
   "codemirror_mode": "octave",
   "file_extension": ".m",
   "help_links": [
    {
     "text": "MetaKernel Magics",
     "url": "https://metakernel.readthedocs.io/en/latest/source/README.html"
    }
   ],
   "mimetype": "text/x-octave",
   "name": "matlab",
   "version": "0.16.4"
  }
 },
 "nbformat": 4,
 "nbformat_minor": 5
}
