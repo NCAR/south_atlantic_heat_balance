{
 "cells": [
  {
   "cell_type": "markdown",
   "metadata": {
    "tags": []
   },
   "source": [
    "## CESM2 - LARGE ENSEMBLE (LENS2)\n",
    "\n",
    "- This Notebook aims to compute the MOC upper branch and compare the results with the observations. The upper branch is the integrated volume transport from the surface to the level where the meridional volume transport inverts.\n",
    "- In addition, we intend to obtain time series of the maximum value of the MOC for all latitudes so as to analyze its variability. "
   ]
  },
  {
   "cell_type": "markdown",
   "metadata": {},
   "source": [
    "### Imports"
   ]
  },
  {
   "cell_type": "code",
   "execution_count": null,
   "metadata": {},
   "outputs": [],
   "source": [
    "import xarray as xr\n",
    "import pandas as pd\n",
    "import numpy as np  \n",
    "import dask\n",
    "import cf_xarray\n",
    "import intake\n",
    "import cftime\n",
    "import nc_time_axis\n",
    "import intake_esm\n",
    "import matplotlib.pyplot as plt\n",
    "import pop_tools\n",
    "from dask.distributed import Client\n",
    "from ncar_jobqueue import NCARCluster\n",
    "import warnings, getpass, os\n",
    "from mpl_toolkits.axes_grid1.inset_locator import inset_axes\n",
    "from scipy.integrate import cumtrapz\n",
    "from scipy import integrate\n",
    "from mpl_toolkits.axes_grid1 import make_axes_locatable"
   ]
  },
  {
   "cell_type": "markdown",
   "metadata": {},
   "source": [
    "### Dask"
   ]
  },
  {
   "cell_type": "code",
   "execution_count": null,
   "metadata": {},
   "outputs": [],
   "source": [
    "mem_per_worker = 30 # memory per worker in GB \n",
    "num_workers = 80 # number of workers\n",
    "cluster = NCARCluster(cores=1, processes=3, memory=f'{mem_per_worker} GB',resource_spec=f'select=1:ncpus=6:mem={mem_per_worker}GB', walltime='8:00:00')\n",
    "cluster.scale(num_workers)\n",
    "client = Client(cluster)\n",
    "print(client)\n",
    "client"
   ]
  },
  {
   "cell_type": "markdown",
   "metadata": {},
   "source": [
    "### Read in OGCM history file & MOC template file"
   ]
  },
  {
   "cell_type": "code",
   "execution_count": null,
   "metadata": {},
   "outputs": [],
   "source": [
    "catalog = intake.open_esm_datastore(\n",
    "    '/glade/collections/cmip/catalog/intake-esm-datastore/catalogs/glade-cesm2-le.json'\n",
    ")"
   ]
  },
  {
   "cell_type": "code",
   "execution_count": null,
   "metadata": {},
   "outputs": [],
   "source": [
    "cat_subset = catalog.search(component='ocn',variable=['MOC'],frequency='month_1')"
   ]
  },
  {
   "cell_type": "code",
   "execution_count": null,
   "metadata": {},
   "outputs": [],
   "source": [
    "# Load catalog entries for subset into a dictionary of xarray datasets\n",
    "dset_dict_raw  = cat_subset.to_dataset_dict(zarr_kwargs={'consolidated': True}, storage_options={'anon': True})\n",
    "print(f'\\nDataset dictionary keys:\\n {dset_dict_raw.keys()}')"
   ]
  },
  {
   "cell_type": "code",
   "execution_count": null,
   "metadata": {},
   "outputs": [],
   "source": [
    "# Variables\n",
    "fb=(['MOC'])\n",
    "pd=('historical','ssp370')\n",
    "ff=('cmip6','smbb')\n",
    "for ifb in range(0,len(fb)):\n",
    "    for iff in range(0,len(ff)):\n",
    "        for ipd in range(0,len(pd)):\n",
    "            str=f'ds_{pd[ipd]}_{ff[iff]}_{fb[ifb]} = dset_dict_raw[\\'ocn.{pd[ipd]}.pop.h.{ff[iff]}.{fb[ifb]}\\']'\n",
    "            exec(str)\n",
    "        str=f'ds_{ff[iff]}_{fb[ifb]}=xr.combine_nested([ds_{pd[0]}_{ff[iff]}_{fb[ifb]},ds_{pd[1]}_{ff[iff]}_{fb[ifb]}],concat_dim=[\\'time\\']);'\n",
    "        exec(str)\n",
    "    str=f'ds_{fb[ifb]}=xr.combine_nested([ds_{ff[0]}_{fb[ifb]},ds_{ff[1]}_{fb[ifb]}],concat_dim=[\\'member_id\\']);'\n",
    "    exec(str) \n",
    "print(f'Done!')"
   ]
  },
  {
   "cell_type": "markdown",
   "metadata": {},
   "source": [
    "### Vertical profile"
   ]
  },
  {
   "cell_type": "code",
   "execution_count": null,
   "metadata": {},
   "outputs": [],
   "source": [
    "ila=-34.5\n",
    "alpha=0.05\n",
    "moc_mean=ds_MOC.MOC.isel(transport_reg=1).sel(lat_aux_grid=ila, method='nearest').sum(dim='moc_comp').mean(dim='time')\n",
    "moc_mean.coords['moc_z']=moc_mean.coords['moc_z']*-0.01\n",
    "moc_mean.plot.line(y='moc_z',color='black',alpha=alpha,linewidth=1,add_legend=False)\n",
    "moc_mean.mean(dim='member_id').plot.line(y='moc_z',color='black',linewidth=1,label='LENS2')\n",
    "\n",
    "plt.xlabel(\"Volume Transport [Sv]\")\n",
    "plt.ylabel(\"Depth [m]\")\n",
    "plt.grid(color='k', linestyle='-', linewidth=0.4)\n",
    "bbox_props = dict(boxstyle='round', fc='w', ec='0.5', alpha=0.9)\n",
    "plt.xlim(-2.5, 20)\n",
    "plt.legend()\n",
    "plt.show()"
   ]
  },
  {
   "cell_type": "markdown",
   "metadata": {},
   "source": [
    "### Interpolate to create AMOC data in the middle of the layer\n",
    "- First, let's interpolate to a latitude to evaluate the interpolation method. Then we will interpolate to all latitudes"
   ]
  },
  {
   "cell_type": "code",
   "execution_count": null,
   "metadata": {},
   "outputs": [],
   "source": [
    "prof = np.empty((len(ds_MOC['moc_z'])-1)) * np.nan\n",
    "for t in range(0,len(ds_MOC.coords['moc_z'])-1):\n",
    "        prof[t]=(ds_MOC.coords['moc_z'][t]+ds_MOC.coords['moc_z'][t+1])/2 \n",
    "ds_MOC.MOC.interp(moc_z=prof,method='cubic').isel(member_id=0,time=0,transport_reg=1).sel(lat_aux_grid=ila, method='nearest').sum(dim='moc_comp').plot()\n",
    "ds_MOC.MOC.isel(member_id=0,time=0,transport_reg=1).sel(lat_aux_grid=ila, method='nearest').sum(dim='moc_comp').plot()\n",
    "ds_MOC_int=ds_MOC.isel(transport_reg=1).sel(lat_aux_grid=ila, method='nearest').sum(dim='moc_comp').interp(moc_z=prof,method='cubic')"
   ]
  },
  {
   "cell_type": "markdown",
   "metadata": {},
   "source": [
    "- Now, let's interpolate for all as latitudes"
   ]
  },
  {
   "cell_type": "code",
   "execution_count": null,
   "metadata": {},
   "outputs": [],
   "source": [
    "prof = np.empty((len(ds_MOC['moc_z'])-1)) * np.nan\n",
    "for t in range(0,len(ds_MOC.coords['moc_z'])-1):\n",
    "        prof[t]=(ds_MOC.coords['moc_z'][t]+ds_MOC.coords['moc_z'][t+1])/2 \n",
    "ds_MOC_int=ds_MOC.isel(transport_reg=1).sum(dim='moc_comp').interp(moc_z=prof,method='cubic')"
   ]
  },
  {
   "cell_type": "markdown",
   "metadata": {},
   "source": [
    "### AMOC upper branch\n",
    "- Let's calculate the upper branch of the AMOC, defined as the integral of the volume transport up to the depth at which the AMOC reverses sign. Since there can be a reversal of this velocity at the surface, let's bound the buffers by this reversal so that it is below 1000m. Since our goal is to compare AMOC from LENS2 with other ensembles, we will bound the latitude interval between the equator and 40S and the time from 1990 to 2022. "
   ]
  },
  {
   "cell_type": "code",
   "execution_count": null,
   "metadata": {},
   "outputs": [],
   "source": [
    "ds_MOC_int=ds_MOC_int.MOC.sel(time=slice('1993-01-01','2021-12-31')).sel(lat_aux_grid=[-20,-25,-30,-34.5], method='nearest')"
   ]
  },
  {
   "cell_type": "code",
   "execution_count": null,
   "metadata": {},
   "outputs": [],
   "source": [
    "dz=ds_MOC.dz"
   ]
  },
  {
   "cell_type": "code",
   "execution_count": null,
   "metadata": {},
   "outputs": [],
   "source": [
    "%%time\n",
    "dp1=40 # first depth\n",
    "dp2=59 # second depth\n",
    "y_int = np.empty((len(ds_MOC_int['member_id']),len(ds_MOC_int['time']),len(ds_MOC_int['lat_aux_grid']))) * np.nan\n",
    "for it in range(0,len(ds_MOC_int['time'])): # time \n",
    "    print(f'Time: {it}')\n",
    "    amoc = ds_MOC_int.isel(time=it)\n",
    "    for im in list(range(0,100,10)):\n",
    "    #for im in range(0,len(ds_MOC_int['member_id'])):\n",
    "        for il in range(0,len(ds_MOC_int['lat_aux_grid'])):\n",
    "            L = np.where(amoc.isel(member_id=im,lat_aux_grid=il,moc_z=slice(dp1,dp2))<0) # Notes: dp1<z<dp2\n",
    "            if len(amoc['moc_z'][L])==0: # If there is no negative transport in that interval, the integral is done from surface to bottom.     \n",
    "                y_int[im,it,il]=sum(amoc.isel(member_id=im,lat_aux_grid=il)*dz.isel(\n",
    "                    member_id=im,time=it).values)/sum(dz.isel(\n",
    "                    member_id=im,time=it).values)\n",
    "            else:\n",
    "                y_int[im,it,il]=sum(amoc.isel(member_id=im,lat_aux_grid=il,moc_z=slice(0,L[0][0]-1+dp1))*dz.isel(\n",
    "                    member_id=im,time=it,z_t=slice(0,L[0][0]-1+dp1)).values)/sum(dz.isel(\n",
    "                    member_id=im,time=it,z_t=slice(0,L[0][0]-1+dp1)).values)"
   ]
  },
  {
   "cell_type": "code",
   "execution_count": null,
   "metadata": {},
   "outputs": [],
   "source": [
    "ds_MOC_SAMOC = xr.Dataset({'amoc_upper': (('member_id','time','lat_aux_grid'), y_int)},coords={'member_id': ds_MOC_int.coords['member_id'],'time': ds_MOC_int.coords['time'],'lat_aux_grid': ds_MOC_int.coords['lat_aux_grid']})\n",
    "ds_MOC_SAMOC.attrs['description'] = 'Meridional Overturning Circulation (MOC) upper branch from the surface to the level where the transport volume reverses sign for the period from 1990 to 2022'\n",
    "ds_MOC_SAMOC.attrs['units'] = 'Sv'\n",
    "ds_MOC_SAMOC.attrs['author'] = 'Mauricio Rocha'\n",
    "ds_MOC_SAMOC.attrs['email'] = 'mauricio.rocha@usp.br'\n",
    "ds_MOC_SAMOC['time'] = ds_MOC_SAMOC['time'].astype('datetime64[ns]')"
   ]
  },
  {
   "cell_type": "raw",
   "metadata": {},
   "source": [
    "# create a directory on scratch to save the output\n",
    "path = '/glade/scratch/mauricio/Data/AMOC/LENS2/'.format(getpass.getuser())\n",
    "os.system('mkdir -p '+path)\n",
    "ds_MOC_SAMOC.to_netcdf(path+'lens2_amoc_upper.nc')"
   ]
  },
  {
   "cell_type": "code",
   "execution_count": null,
   "metadata": {},
   "outputs": [],
   "source": []
  }
 ],
 "metadata": {
  "kernelspec": {
   "display_name": "NPL 2022b",
   "language": "python",
   "name": "npl-2022b"
  },
  "language_info": {
   "codemirror_mode": {
    "name": "ipython",
    "version": 3
   },
   "file_extension": ".py",
   "mimetype": "text/x-python",
   "name": "python",
   "nbconvert_exporter": "python",
   "pygments_lexer": "ipython3",
   "version": "3.8.13"
  }
 },
 "nbformat": 4,
 "nbformat_minor": 4
}
