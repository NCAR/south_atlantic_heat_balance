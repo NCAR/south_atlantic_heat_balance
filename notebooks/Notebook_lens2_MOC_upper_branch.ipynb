{
 "cells": [
  {
   "cell_type": "markdown",
   "metadata": {
    "tags": []
   },
   "source": [
    "## CESM2 - LARGE ENSEMBLE (LENS2)\n",
    "\n",
    "- This Notebook aims to visualize the AMOC in different sectors of the Atlantic Ocean "
   ]
  },
  {
   "cell_type": "markdown",
   "metadata": {},
   "source": [
    "### Imports"
   ]
  },
  {
   "cell_type": "code",
   "execution_count": null,
   "metadata": {},
   "outputs": [],
   "source": [
    "import xarray as xr\n",
    "import pandas as pd\n",
    "import numpy as np  \n",
    "import dask\n",
    "import cf_xarray\n",
    "import intake\n",
    "import cftime\n",
    "import nc_time_axis\n",
    "import intake_esm\n",
    "import matplotlib.pyplot as plt\n",
    "import pop_tools\n",
    "from dask.distributed import Client\n",
    "from ncar_jobqueue import NCARCluster\n",
    "import warnings, getpass, os\n",
    "from mpl_toolkits.axes_grid1.inset_locator import inset_axes\n",
    "from scipy.integrate import cumtrapz\n",
    "from scipy import integrate\n",
    "from mpl_toolkits.axes_grid1 import make_axes_locatable\n",
    "import matplotlib\n",
    "import matplotlib.pyplot as plt\n",
    "from mpl_toolkits.axes_grid1.inset_locator import inset_axes"
   ]
  },
  {
   "cell_type": "markdown",
   "metadata": {},
   "source": [
    "### Dask"
   ]
  },
  {
   "cell_type": "code",
   "execution_count": null,
   "metadata": {},
   "outputs": [],
   "source": [
    "mem_per_worker = 20 # memory per worker in GB \n",
    "num_workers = 40 # number of workers\n",
    "cluster = NCARCluster(cores=1, processes=3, memory=f'{mem_per_worker} GB',resource_spec=f'select=1:ncpus=6:mem={mem_per_worker}GB', walltime='8:00:00')\n",
    "cluster.scale(num_workers)\n",
    "client = Client(cluster)\n",
    "print(client)\n",
    "client"
   ]
  },
  {
   "cell_type": "markdown",
   "metadata": {},
   "source": [
    "### Read in OGCM history file & MOC template file"
   ]
  },
  {
   "cell_type": "code",
   "execution_count": null,
   "metadata": {},
   "outputs": [],
   "source": [
    "catalog = intake.open_esm_datastore(\n",
    "    '/glade/collections/cmip/catalog/intake-esm-datastore/catalogs/glade-cesm2-le.json'\n",
    ")"
   ]
  },
  {
   "cell_type": "code",
   "execution_count": null,
   "metadata": {},
   "outputs": [],
   "source": [
    "cat_subset = catalog.search(component='ocn',variable=['MOC'],frequency='month_1')"
   ]
  },
  {
   "cell_type": "code",
   "execution_count": null,
   "metadata": {},
   "outputs": [],
   "source": [
    "# Load catalog entries for subset into a dictionary of xarray datasets\n",
    "dset_dict_raw  = cat_subset.to_dataset_dict(zarr_kwargs={'consolidated': True}, storage_options={'anon': True})\n",
    "print(f'\\nDataset dictionary keys:\\n {dset_dict_raw.keys()}')"
   ]
  },
  {
   "cell_type": "code",
   "execution_count": null,
   "metadata": {},
   "outputs": [],
   "source": [
    "pd=('historical','ssp370')                 # Periods (historical and projection)\n",
    "ff=('cmip6','smbb')                        # Forcings\n",
    "fb=(['MOC']) # Variable.\n",
    "\n",
    "ds_dict = dict()\n",
    "for var in fb: # We used loops, because we keep the same structure even if other variables are added\n",
    "    # 1- combine historical and ssp370 (concatenate in time)\n",
    "    ds_dict_tmp = dict()\n",
    "    for scenario in ff:\n",
    "        ds_dict_tmp[scenario] = xr.combine_nested([dset_dict_raw[f'ocn.historical.pop.h.{scenario}.{var}'], dset_dict_raw[f'ocn.ssp370.pop.h.{scenario}.{var}']],concat_dim=['time'])\n",
    "        \n",
    "        # 2- combine cmip6 and smbb (concatenate in member_id)\n",
    "    ds_dict[var] = xr.combine_nested([ds_dict_tmp['cmip6'], ds_dict_tmp['smbb']], concat_dim=['member_id'])\n",
    "    #del ds_dict_tmp"
   ]
  },
  {
   "cell_type": "code",
   "execution_count": null,
   "metadata": {},
   "outputs": [],
   "source": [
    "%%time\n",
    "Z1 = ds_dict[var][var].isel(\n",
    "    transport_reg=1).sel(\n",
    "    lat_aux_grid='-34.5',method='nearest').sum(dim='moc_comp').resample(\n",
    "    time='1Y', closed='left').mean('time').load()\n",
    "\n",
    "Z1=(Z1-Z1.isel(time=0)).mean('member_id')\n",
    "\n",
    "Z2 = ds_dict[var][var].isel(\n",
    "    transport_reg=1).sel(\n",
    "    lat_aux_grid='-17.25',method='nearest').sum(dim='moc_comp').resample(\n",
    "    time='1Y', closed='left').mean('time').load()\n",
    "\n",
    "Z2=(Z2-Z2.isel(time=0)).mean('member_id')\n",
    "\n",
    "Z3 = ds_dict[var][var].isel(\n",
    "    transport_reg=1).sel(\n",
    "    lat_aux_grid='0',method='nearest').sum(dim='moc_comp').resample(\n",
    "    time='1Y', closed='left').mean('time').load()\n",
    "\n",
    "Z3=(Z3-Z3.isel(time=0)).mean('member_id')"
   ]
  },
  {
   "cell_type": "code",
   "execution_count": null,
   "metadata": {},
   "outputs": [],
   "source": [
    "Z1.coords['moc_z']=Z1.coords['moc_z']*-0.01\n",
    "Z2.coords['moc_z']=Z2.coords['moc_z']*-0.01\n",
    "Z3.coords['moc_z']=Z3.coords['moc_z']*-0.01\n",
    "label=('$\\Delta$(Sv)')"
   ]
  },
  {
   "cell_type": "code",
   "execution_count": null,
   "metadata": {},
   "outputs": [],
   "source": [
    "def split_depth_plot(da, \n",
    "                     ax_top, \n",
    "                     ax_bottom, \n",
    "                     depth):\n",
    "    # Make sure the colour range is the same for the top and bottom plots\n",
    "    mn = Z1.sel(time=slice('1850-01-01','2100-12-31')).min()\n",
    "    mx = Z1.sel(time=slice('1850-01-01','2100-12-31')).max()\n",
    "    if np.abs(mn)>np.abs(mx):\n",
    "        mx=-mn\n",
    "    else: \n",
    "        mn=-mx\n",
    "    \n",
    "    orig_map=plt.cm.get_cmap('RdBu')\n",
    "    scale_cor=orig_map.reversed()\n",
    "    N = 50\n",
    "    \n",
    "    # Plot the top half\n",
    "    da.sel(moc_z=slice(0,depth)).plot.contourf('time','moc_z', vmin=mn, vmax=mx,\n",
    "                                                add_colorbar=False, \n",
    "                                                levels=np.linspace(mn, mx, N),\n",
    "                                                ax=ax_top, cmap=scale_cor, add_labels=False) \n",
    "    CS=da.sel(moc_z=slice(0,depth)).plot.contour('time','moc_z', vmin=mn, vmax=mx,\n",
    "                                            add_colorbar=False, \n",
    "                                            levels = [mn*0.05,0,mx*0.05],\n",
    "                                            ax=ax_top, #colors=('k',),\n",
    "                                            kwargs=dict(inline=True),\n",
    "                                            colors=['blue','black','red'],\n",
    "                                            add_labels=True)\n",
    "    ax_bottom.clabel(CS)\n",
    "    \n",
    "    # Remove x axis labels from the top\n",
    "    #ax_top.tick_params(axis='x', bottom=False, labelbottom=False)\n",
    "    \n",
    "    \n",
    "    # Plot the bottom half\n",
    "    im=da.sel(moc_z=slice(depth,None)).plot.contourf('time','moc_z', vmin=mn, vmax=mx,\n",
    "                                                add_colorbar=False, \n",
    "                                                levels=np.linspace(mn, mx, N),\n",
    "                                                ax=ax_bottom, cmap=scale_cor, add_labels=False)\n",
    "    \n",
    "    CS=da.sel(moc_z=slice(depth,None)).plot.contour('time','moc_z', vmin=mn, vmax=mx,\n",
    "                                               add_colorbar=False, \n",
    "                                               levels = [-2.6,-1.8,0,1.8,2.6],\n",
    "                                            colors=['darkblue','darkcyan','black','darkorange','darkred'],\n",
    "                                               kwargs=dict(inline=True),\n",
    "                                               ax=ax_bottom, add_labels=True)\n",
    "    ax_bottom.clabel(CS)\n",
    "    plt.grid(color='gray', linestyle='-', linewidth=0.7)\n",
    "\n",
    "    return im, mx, mn"
   ]
  },
  {
   "cell_type": "code",
   "execution_count": null,
   "metadata": {},
   "outputs": [],
   "source": [
    "# Set the display\n",
    "\n",
    "fig, (ax1, ax2, ax3) = plt.subplots(1, 3, figsize=[22, 10])\n",
    "\n",
    "gs = matplotlib.gridspec.GridSpec(2, 3, hspace=0.03, wspace=0.01, height_ratios=(2, 4))\n",
    "\n",
    "# Display the plots\n",
    "\n",
    "### South Atlantic \n",
    "st=f'split_depth_plot(Z1, plt.subplot(gs[0,0]), plt.subplot(gs[1,0]), depth=-150)'\n",
    "exec(st)\n",
    "\n",
    "### Western Side\n",
    "st=f'split_depth_plot(Z2, plt.subplot(gs[0,1]), plt.subplot(gs[1,1]), depth=-150)'\n",
    "exec(st)\n",
    "\n",
    "### Eastern Side\n",
    "st=f'im, mx, mn=split_depth_plot(Z3, plt.subplot(gs[0,2]), plt.subplot(gs[1,2]), depth=-150)'\n",
    "exec(st)\n",
    "\n",
    "# Set plots\n",
    "\n",
    "ax1=plt.subplot(gs[0,0]); ax4=plt.subplot(gs[1,0]);\n",
    "ax2=plt.subplot(gs[0,1]); ax5=plt.subplot(gs[1,1]);\n",
    "ax3=plt.subplot(gs[0,2]); ax6=plt.subplot(gs[1,2]);\n",
    "\n",
    "ax1.grid(color='gray', linestyle='-', linewidth=0.7)\n",
    "ax2.grid(color='gray', linestyle='-', linewidth=0.7)\n",
    "ax3.grid(color='gray', linestyle='-', linewidth=0.7)\n",
    "\n",
    "# Set Colorbar\n",
    "\n",
    "axins = inset_axes(ax6,\n",
    "                   width=\"5%\",  # width = 5% of parent_bbox width\n",
    "                   height=\"100%\",  # height : 50%\n",
    "                   loc='lower left',\n",
    "                   bbox_to_anchor=(1.05, 0, 1, 1.52),\n",
    "                   bbox_transform=ax6.transAxes,\n",
    "                   borderpad=0,\n",
    "                   )\n",
    "\n",
    "orig_map=plt.cm.get_cmap('RdBu')\n",
    "scale_cor=orig_map.reversed()\n",
    "\n",
    "ticks = np.linspace(mn, mx, 10, endpoint=True)\n",
    "\n",
    "cbar=fig.colorbar(im,cax=axins, ticks=ticks, cmap=scale_cor, label=label, extend='neither')\n",
    "\n",
    "# Set axis labels\n",
    "\n",
    "ax4.set_xlabel('Time [Years]'), ax5.set_xlabel('Time [Years]'); ax6.set_xlabel('Time [Years]')\n",
    "\n",
    "ax1.set_ylabel('Depth [m]'), ax4.set_ylabel('Depth [m]')\n",
    "\n",
    "# set labels\n",
    "\n",
    "ax4.set_title(None); ax5.set_title(None); ax6.set_title(None) \n",
    "\n",
    "ax1.xaxis.set_ticklabels([]); ax2.xaxis.set_ticklabels([]); ax3.xaxis.set_ticklabels([])\n",
    "\n",
    "ax3.set_yticklabels([]); ax2.set_yticklabels([]); ax5.set_yticklabels([]); ax6.set_yticklabels([])\n",
    "\n",
    "ax5.set(ylabel=None); ax6.set(ylabel=None)\n",
    "\n",
    "ax2.set(ylabel=None); ax3.set(ylabel=None)\n",
    "\n",
    "# set titles\n",
    "\n",
    "#ax1.set_title('South Atlantic'); ax2.set_title('Western side'); ax3.set_title('Eastern side') \n",
    "\n",
    "# save\n",
    "\n",
    "st=f'plt.savefig(\\'Hovmoller_Diagram_MOC.png\\',dpi=300,bbox_inches=\\'tight\\')'\n",
    "exec(st)\n",
    "plt.show()"
   ]
  },
  {
   "cell_type": "markdown",
   "metadata": {},
   "source": [
    "### Vertical profile"
   ]
  },
  {
   "cell_type": "raw",
   "metadata": {},
   "source": [
    "ila=-34\n",
    "alpha=0\n",
    "moc_mean=ds_dict[var][var].isel(transport_reg=1).sel(lat_aux_grid=ila, method='nearest').sum(dim='moc_comp').mean(dim='time')\n",
    "moc_mean.coords['moc_z']=moc_mean.coords['moc_z']*-0.01\n",
    "moc_mean.plot.line(y='moc_z',color='black',alpha=alpha,linewidth=1,add_legend=False)\n",
    "moc_mean.mean(dim='member_id').plot.line(y='moc_z',color='black',linewidth=1,label='LENS2')\n",
    "\n",
    "plt.xlabel(\"Volume Transport [Sv]\")\n",
    "plt.ylabel(\"Depth [m]\")\n",
    "plt.grid(color='k', linestyle='-', linewidth=0.4)\n",
    "bbox_props = dict(boxstyle='round', fc='w', ec='0.5', alpha=0.9)\n",
    "plt.xlim(-2.5, 20)\n",
    "plt.legend()\n",
    "plt.show()"
   ]
  },
  {
   "cell_type": "raw",
   "metadata": {},
   "source": [
    "### Interpolate to create AMOC data in the middle of the layer\n",
    "- First, let's interpolate to a latitude to evaluate the interpolation method. Then we will interpolate to all latitudes"
   ]
  },
  {
   "cell_type": "raw",
   "metadata": {},
   "source": [
    "prof = np.empty((len(ds_MOC['moc_z'])-1)) * np.nan\n",
    "for t in range(0,len(ds_MOC.coords['moc_z'])-1):\n",
    "        prof[t]=(ds_MOC.coords['moc_z'][t]+ds_MOC.coords['moc_z'][t+1])/2 \n",
    "ds_MOC.MOC.interp(moc_z=prof,method='cubic').isel(member_id=0,time=0,transport_reg=1).sel(lat_aux_grid=ila, method='nearest').sum(dim='moc_comp').plot()\n",
    "ds_MOC.MOC.isel(member_id=0,time=0,transport_reg=1).sel(lat_aux_grid=ila, method='nearest').sum(dim='moc_comp').plot()\n",
    "ds_MOC_int=ds_MOC.isel(transport_reg=1).sel(lat_aux_grid=ila, method='nearest').sum(dim='moc_comp').interp(moc_z=prof,method='cubic')"
   ]
  },
  {
   "cell_type": "raw",
   "metadata": {},
   "source": [
    "- Now, let's interpolate for all as latitudes"
   ]
  },
  {
   "cell_type": "raw",
   "metadata": {},
   "source": [
    "prof = np.empty((len(ds_MOC['moc_z'])-1)) * np.nan\n",
    "for t in range(0,len(ds_MOC.coords['moc_z'])-1):\n",
    "        prof[t]=(ds_MOC.coords['moc_z'][t]+ds_MOC.coords['moc_z'][t+1])/2 \n",
    "ds_MOC_int=ds_MOC.isel(transport_reg=1).sum(dim='moc_comp').interp(moc_z=prof,method='cubic')"
   ]
  },
  {
   "cell_type": "raw",
   "metadata": {},
   "source": [
    "### AMOC upper branch\n",
    "- Let's calculate the upper branch of the AMOC, defined as the integral of the volume transport up to the depth at which the AMOC reverses sign. Since there can be a reversal of this velocity at the surface, let's bound the buffers by this reversal so that it is below 1000m. Since our goal is to compare AMOC from LENS2 with other ensembles, we will bound the latitude interval between the equator and 40S and the time from 1990 to 2022. "
   ]
  },
  {
   "cell_type": "raw",
   "metadata": {},
   "source": [
    "ds_MOC_int=ds_MOC_int.MOC.sel(time=slice('1993-01-01','2021-12-31')).sel(lat_aux_grid=[-20,-25,-30,-34.5], method='nearest')"
   ]
  },
  {
   "cell_type": "code",
   "execution_count": null,
   "metadata": {},
   "outputs": [],
   "source": [
    "dz=ds_MOC.dz"
   ]
  },
  {
   "cell_type": "raw",
   "metadata": {},
   "source": [
    "%%time\n",
    "dp1=40 # first depth\n",
    "dp2=59 # second depth\n",
    "y_int = np.empty((len(ds_MOC_int['member_id']),len(ds_MOC_int['time']),len(ds_MOC_int['lat_aux_grid']))) * np.nan\n",
    "for it in range(0,len(ds_MOC_int['time'])): # time \n",
    "    print(f'Time: {it}')\n",
    "    amoc = ds_MOC_int.isel(time=it)\n",
    "    for im in list(range(0,100,10)):\n",
    "    #for im in range(0,len(ds_MOC_int['member_id'])):\n",
    "        for il in range(0,len(ds_MOC_int['lat_aux_grid'])):\n",
    "            L = np.where(amoc.isel(member_id=im,lat_aux_grid=il,moc_z=slice(dp1,dp2))<0) # Notes: dp1<z<dp2\n",
    "            if len(amoc['moc_z'][L])==0: # If there is no negative transport in that interval, the integral is done from surface to bottom.     \n",
    "                y_int[im,it,il]=sum(amoc.isel(member_id=im,lat_aux_grid=il)*dz.isel(\n",
    "                    member_id=im,time=it).values)/sum(dz.isel(\n",
    "                    member_id=im,time=it).values)\n",
    "            else:\n",
    "                y_int[im,it,il]=sum(amoc.isel(member_id=im,lat_aux_grid=il,moc_z=slice(0,L[0][0]-1+dp1))*dz.isel(\n",
    "                    member_id=im,time=it,z_t=slice(0,L[0][0]-1+dp1)).values)/sum(dz.isel(\n",
    "                    member_id=im,time=it,z_t=slice(0,L[0][0]-1+dp1)).values)"
   ]
  },
  {
   "cell_type": "raw",
   "metadata": {},
   "source": [
    "ds_MOC_SAMOC = xr.Dataset({'amoc_upper': (('member_id','time','lat_aux_grid'), y_int)},coords={'member_id': ds_MOC_int.coords['member_id'],'time': ds_MOC_int.coords['time'],'lat_aux_grid': ds_MOC_int.coords['lat_aux_grid']})\n",
    "ds_MOC_SAMOC.attrs['description'] = 'Meridional Overturning Circulation (MOC) upper branch from the surface to the level where the transport volume reverses sign for the period from 1990 to 2022'\n",
    "ds_MOC_SAMOC.attrs['units'] = 'Sv'\n",
    "ds_MOC_SAMOC.attrs['author'] = 'Mauricio Rocha'\n",
    "ds_MOC_SAMOC.attrs['email'] = 'mauricio.rocha@usp.br'\n",
    "ds_MOC_SAMOC['time'] = ds_MOC_SAMOC['time'].astype('datetime64[ns]')"
   ]
  },
  {
   "cell_type": "raw",
   "metadata": {},
   "source": [
    "# create a directory on scratch to save the output\n",
    "path = '/glade/scratch/mauricio/Data/AMOC/LENS2/'.format(getpass.getuser())\n",
    "os.system('mkdir -p '+path)\n",
    "ds_MOC_SAMOC.to_netcdf(path+'lens2_amoc_upper.nc')"
   ]
  },
  {
   "cell_type": "code",
   "execution_count": null,
   "metadata": {},
   "outputs": [],
   "source": []
  }
 ],
 "metadata": {
  "kernelspec": {
   "display_name": "NPL 2022b",
   "language": "python",
   "name": "npl-2022b"
  },
  "language_info": {
   "codemirror_mode": {
    "name": "ipython",
    "version": 3
   },
   "file_extension": ".py",
   "mimetype": "text/x-python",
   "name": "python",
   "nbconvert_exporter": "python",
   "pygments_lexer": "ipython3",
   "version": "3.8.13"
  }
 },
 "nbformat": 4,
 "nbformat_minor": 4
}
