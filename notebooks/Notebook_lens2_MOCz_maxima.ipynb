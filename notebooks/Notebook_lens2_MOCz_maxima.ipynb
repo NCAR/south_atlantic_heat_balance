{
 "cells": [
  {
   "cell_type": "markdown",
   "metadata": {
    "tags": []
   },
   "source": [
    "## CESM2 - LARGE ENSEMBLE (LENS2)\n",
    "\n",
    "#### by Mauricio Rocha and Dr. Gustavo Marques\n",
    "\n",
    " - This Notebook aims to find the maximum AMOC in the North and South Atlantic, and the minimum AMOC in the South Atlantic."
   ]
  },
  {
   "cell_type": "markdown",
   "metadata": {},
   "source": [
    "## Imports"
   ]
  },
  {
   "cell_type": "code",
   "execution_count": null,
   "metadata": {},
   "outputs": [],
   "source": [
    "import xarray as xr\n",
    "import pandas as pd\n",
    "import numpy as np \n",
    "import dask\n",
    "import cf_xarray\n",
    "import intake\n",
    "import cftime\n",
    "import nc_time_axis\n",
    "import intake_esm\n",
    "import matplotlib.pyplot as plt\n",
    "import pop_tools\n",
    "from dask.distributed import Client\n",
    "from ncar_jobqueue import NCARCluster\n",
    "import warnings, getpass, os"
   ]
  },
  {
   "cell_type": "markdown",
   "metadata": {},
   "source": [
    "## Improve the workflow using clusters "
   ]
  },
  {
   "cell_type": "code",
   "execution_count": null,
   "metadata": {},
   "outputs": [],
   "source": [
    "mem_per_worker = 3 # in GB \n",
    "num_workers = 60 \n",
    "cluster = NCARCluster(cores=1, processes=3, memory=f'{mem_per_worker} GB',resource_spec=f'select=1:ncpus=6:mem={mem_per_worker}GB')\n",
    "cluster.scale(num_workers)\n",
    "client = Client(cluster)\n",
    "print(client)\n",
    "client"
   ]
  },
  {
   "cell_type": "markdown",
   "metadata": {},
   "source": [
    "### Read in OGCM history file & MOC template file"
   ]
  },
  {
   "cell_type": "code",
   "execution_count": null,
   "metadata": {},
   "outputs": [],
   "source": [
    "catalog = intake.open_esm_datastore(\n",
    "    '/glade/collections/cmip/catalog/intake-esm-datastore/catalogs/glade-cesm2-le.json'\n",
    ")"
   ]
  },
  {
   "cell_type": "code",
   "execution_count": null,
   "metadata": {},
   "outputs": [],
   "source": [
    "cat_subset = catalog.search(component='ocn',variable=['MOC'],frequency='month_1',experiment=\"historical\")\n",
    "del catalog"
   ]
  },
  {
   "cell_type": "code",
   "execution_count": null,
   "metadata": {},
   "outputs": [],
   "source": [
    "# Load catalog entries for subset into a dictionary of xarray datasets\n",
    "dset_dict_raw  = cat_subset.to_dataset_dict(zarr_kwargs={\"consolidated\": True}, storage_options={\"anon\": True})\n",
    "print(f\"\\nDataset dictionary keys:\\n {dset_dict_raw.keys()}\")\n",
    "del cat_subset"
   ]
  },
  {
   "cell_type": "code",
   "execution_count": null,
   "metadata": {},
   "outputs": [],
   "source": [
    "%%time\n",
    "fb=('cmip6','smbb')\n",
    "for ifb in range(0,2):  \n",
    "    print(f\"Forcing_variant: {ifb}\")\n",
    "    str=f'ds_{fb[ifb]}_moc = dset_dict_raw[\\'ocn.historical.pop.h.{fb[ifb]}.MOC\\']' \n",
    "    exec(str)\n",
    "    str=f'ds_{fb[ifb]}_moc = ds_{fb[ifb]}_moc.sel(time=slice(\\'1850-01-01\\', \\'2014-12-31\\'))' # Time Series\n",
    "    exec(str)\n",
    "    str=f'ds_{fb[ifb]}_moc = ds_{fb[ifb]}_moc.resample(time=\\'1Y\\', closed=\\'left\\').mean(\\'time\\')' # Yearly average\n",
    "    exec(str)\n",
    "    str=f'moc_{fb[ifb]} = ds_{fb[ifb]}_moc[\\'MOC\\']' # Variable\n",
    "    exec(str)\n",
    "    str=f'del ds_{fb[ifb]}_moc'\n",
    "    exec(str)"
   ]
  },
  {
   "cell_type": "raw",
   "metadata": {},
   "source": [
    "%%time\n",
    "for ifb in range(0,2): \n",
    "    print(f\"Forcing_variant: {ifb}\")\n",
    "    str=f'moc_{fb[ifb]}[\\'moc_z\\'] = -0.01*moc_{fb[ifb]}.moc_z' # cm to m and negative depth\n",
    "    print(str)\n",
    "    exec(str) \n",
    "    str=f'zz_{fb[ifb]}, yy_{fb[ifb]} = np.meshgrid(moc_{fb[ifb]}.moc_z, moc_{fb[ifb]}.lat_aux_grid)'\n",
    "    print(str)\n",
    "    exec(str) "
   ]
  },
  {
   "cell_type": "code",
   "execution_count": null,
   "metadata": {},
   "outputs": [],
   "source": [
    "%%time\n",
    "for ifb in range(0,2): \n",
    "    print(f\"Forcing_variant: {ifb}\")\n",
    "    str=f'moc_{fb[ifb]}[\\'moc_z\\'] = -0.01*moc_{fb[ifb]}.moc_z' # cm to m and negative depth\n",
    "    print(str)\n",
    "    exec(str) \n",
    "    str=f'zz_{fb[ifb]}, yy_{fb[ifb]} = np.meshgrid(moc_{fb[ifb]}.moc_z, moc_{fb[ifb]}.lat_aux_grid)'\n",
    "    print(str)\n",
    "    exec(str) \n",
    "    str=f'zz_{fb[ifb]}=(np.array([zz_{fb[ifb]}]*len(moc_{fb[ifb]}[\\'member_id\\']))).transpose(0,2,1)'\n",
    "    print(str)\n",
    "    exec(str)\n",
    "    str=f'yy_{fb[ifb]}=(np.array([yy_{fb[ifb]}]*len(moc_{fb[ifb]}[\\'member_id\\']))).transpose(0,2,1)'\n",
    "    print(str)\n",
    "    exec(str)"
   ]
  },
  {
   "cell_type": "code",
   "execution_count": null,
   "metadata": {},
   "outputs": [],
   "source": [
    "matrix = np.empty((len(moc_smbb['time']),len(moc_smbb['member_id']),2,3)) * np.nan"
   ]
  },
  {
   "cell_type": "code",
   "execution_count": null,
   "metadata": {},
   "outputs": [],
   "source": [
    "%%time\n",
    "for ifb in range(0,2): # forcing variant (cmip6=0, smbb=1)\n",
    "    print(f\"Forcing_variant: {ifb}\")\n",
    "    for it in range(0,len(moc_smbb['time'])): # time \n",
    "        print(f\"Time: {it}\")\n",
    "        \n",
    "        # Maximum AMOC for the North Atlantic\n",
    "        str=f'''amoc = moc_{fb[ifb]}.isel(time=it,transport_reg=1,moc_comp=0).where(\n",
    "        (moc_{fb[ifb]}.isel(time=it,transport_reg=1,moc_comp=0)['moc_z'] > -3500) & \n",
    "        (moc_{fb[ifb]}.isel(time=it,transport_reg=1,moc_comp=0)['lat_aux_grid'] > 0) &\n",
    "        (moc_{fb[ifb]}.isel(time=it,transport_reg=1,moc_comp=0)['lat_aux_grid'] < 70),\n",
    "        drop=True\n",
    "        )'''\n",
    "        exec(str)\n",
    "        str=f'matrix[it,:,ifb,0]=amoc.max(dim=[\\'moc_z\\',\\'lat_aux_grid\\'])' \n",
    "        exec(str)\n",
    "        \n",
    "        # Maximum AMOC for the South Atlantic\n",
    "        str=f'''amoc = moc_{fb[ifb]}.isel(time=it,transport_reg=1,moc_comp=0).where(\n",
    "        (moc_{fb[ifb]}.isel(time=it,transport_reg=1,moc_comp=0)['moc_z'] > -3500) & \n",
    "        (moc_{fb[ifb]}.isel(time=it,transport_reg=1,moc_comp=0)['lat_aux_grid'] > -70) &\n",
    "        (moc_{fb[ifb]}.isel(time=it,transport_reg=1,moc_comp=0)['lat_aux_grid'] < 0),\n",
    "        drop=True\n",
    "        )'''\n",
    "        exec(str)\n",
    "        str=f'matrix[it,:,ifb,1]=amoc.max(dim=[\\'moc_z\\',\\'lat_aux_grid\\'])' \n",
    "        exec(str)\n",
    "        \n",
    "        # Minimum AMOC for the South Atlantic\n",
    "        str=f'''amoc = moc_{fb[ifb]}.isel(time=it,transport_reg=1,moc_comp=0).where(\n",
    "        (moc_{fb[ifb]}.isel(time=it,transport_reg=1,moc_comp=0)['moc_z'] > -3500) & \n",
    "        (moc_{fb[ifb]}.isel(time=it,transport_reg=1,moc_comp=0)['lat_aux_grid'] > -70) &\n",
    "        (moc_{fb[ifb]}.isel(time=it,transport_reg=1,moc_comp=0)['lat_aux_grid'] < 0),\n",
    "        drop=True\n",
    "        )'''\n",
    "        exec(str)\n",
    "        str=f'matrix[it,:,ifb,2]=amoc.min(dim=[\\'moc_z\\',\\'lat_aux_grid\\'])' \n",
    "        exec(str)\n",
    "        del amoc"
   ]
  },
  {
   "cell_type": "code",
   "execution_count": null,
   "metadata": {},
   "outputs": [],
   "source": [
    "matrix_moc = xr.Dataset({\"MOC\": ((\"time\",\"member_id\",\"forcing_variant\",\"basin\"), matrix)},\n",
    "                 coords={\n",
    "                     \"time\": moc_cmip6.coords['time'], \n",
    "                     \"member_id\": moc_cmip6.coords['member_id'],\n",
    "                     \"forcing_variant\": ['cmip6 (0)','smbb (1)'],\n",
    "                     \"basin\": ['North Atlantic Max (0)','South Atlantic Max (1)','South Atlantic Min (2)'],\n",
    "                     \"transport_reg\": [1],\n",
    "                     \"moc_comp\": [0],\n",
    "                     \"experiment\": ['historical'],\n",
    "                 },\n",
    "                )"
   ]
  },
  {
   "cell_type": "code",
   "execution_count": null,
   "metadata": {},
   "outputs": [],
   "source": [
    "path = '/glade/scratch/mauricio/LENS2_south_atlantic/MOC/'.format(getpass.getuser())\n",
    "matrix_moc.to_netcdf(path+'moc_tseries.nc')"
   ]
  },
  {
   "cell_type": "code",
   "execution_count": null,
   "metadata": {},
   "outputs": [],
   "source": [
    "tempo=xr.cftime_range(start='1850', end='2015',periods=None, freq='A',normalize=False, name=None, closed=None, calendar='standard')"
   ]
  },
  {
   "cell_type": "code",
   "execution_count": null,
   "metadata": {},
   "outputs": [],
   "source": [
    "plt.close()\n",
    "fig = plt.figure(figsize=(14,6))\n",
    "ax = plt.axes()\n",
    "#ax.plot(tempo, matrix_moc.MOC.isel(basin=1, forcing_variant=0), 'r')\n",
    "ax.plot(tempo, matrix_moc.MOC.isel(basin=0,forcing_variant=1), label='_Hidden', color='blue', linewidth=1, alpha=0.1)\n",
    "ax.plot(tempo, matrix_moc.MOC.isel(basin=0,forcing_variant=0),label='_Hidden', color='red', linewidth=1, alpha=0.1)\n",
    "ax.plot(tempo, matrix_moc.MOC.isel(basin=0,forcing_variant=0).mean('member_id'), label='smbb', color='red', linewidth=3)\n",
    "ax.plot(tempo, matrix_moc.MOC.isel(basin=0,forcing_variant=1).mean('member_id'), label='cmip6', color='blue', linewidth=3)\n",
    "plt.title(\"AMOC (North Atlantic)\")\n",
    "plt.xlabel(\"Years\")\n",
    "plt.ylabel(\"Volume Transport [Sv]\")\n",
    "plt.legend()"
   ]
  },
  {
   "cell_type": "code",
   "execution_count": null,
   "metadata": {},
   "outputs": [],
   "source": [
    "plt.close()\n",
    "fig = plt.figure(figsize=(14,6))\n",
    "ax = plt.axes()\n",
    "#ax.plot(tempo, matrix_moc.MOC.isel(basin=1, forcing_variant=0), 'r')\n",
    "ax.plot(tempo, matrix_moc.MOC.isel(basin=1,forcing_variant=1), label='_Hidden', color='blue', linewidth=1, alpha=0.1)\n",
    "ax.plot(tempo, matrix_moc.MOC.isel(basin=1,forcing_variant=0),label='_Hidden', color='red', linewidth=1, alpha=0.1)\n",
    "ax.plot(tempo, matrix_moc.MOC.isel(basin=1,forcing_variant=0).mean('member_id'), label='smbb', color='red', linewidth=3)\n",
    "ax.plot(tempo, matrix_moc.MOC.isel(basin=1,forcing_variant=1).mean('member_id'), label='cmip6', color='blue', linewidth=3)\n",
    "plt.title(\"AMOC (South Atlantic)\")\n",
    "plt.xlabel(\"Years\")\n",
    "plt.ylabel(\"Volume Transport [Sv]\")\n",
    "plt.legend()"
   ]
  },
  {
   "cell_type": "code",
   "execution_count": null,
   "metadata": {},
   "outputs": [],
   "source": [
    "plt.close()\n",
    "fig = plt.figure(figsize=(14,6))\n",
    "ax = plt.axes()\n",
    "#ax.plot(tempo, matrix_moc.MOC.isel(basin=1, forcing_variant=0), 'r')\n",
    "ax.plot(tempo, matrix_moc.MOC.isel(basin=2,forcing_variant=1), label='_Hidden', color='blue', linewidth=1, alpha=0.1)\n",
    "ax.plot(tempo, matrix_moc.MOC.isel(basin=2,forcing_variant=0),label='_Hidden', color='red', linewidth=1, alpha=0.1)\n",
    "ax.plot(tempo, matrix_moc.MOC.isel(basin=2,forcing_variant=0).mean('member_id'), label='smbb', color='red', linewidth=3)\n",
    "ax.plot(tempo, matrix_moc.MOC.isel(basin=2,forcing_variant=1).mean('member_id'), label='cmip6', color='blue', linewidth=3)\n",
    "plt.title(\"AMOC (South Atlantic)\")\n",
    "plt.xlabel(\"Years\")\n",
    "plt.ylabel(\"Volume Transport [Sv]\")\n",
    "plt.legend()"
   ]
  },
  {
   "cell_type": "raw",
   "metadata": {},
   "source": [
    "%%time\n",
    "for ifb in range(0,2): # forcing variant (smbb=0, cmip6=1)\n",
    "    print(f\"Forcing_variant: {ifb}\")\n",
    "    for it in range(0,1): # time (56 years from 1960 to 2014)\n",
    "        print(f\"Time: {it}\")\n",
    "        for im in range(0,2): # members (50 member in total)\n",
    "            \n",
    "            # Maximum AMOC for the North Atlantic\n",
    "            str=f'amocMax_na = np.amax(np.ma.array(moc_{fb[ifb]}.isel(time=it,member_id=im,transport_reg=1,moc_comp=0).transpose(\\'lat_aux_grid\\',\\'moc_z\\'))[(yy_{fb[ifb]}>=0)&(yy_{fb[ifb]}<=70)&(zz_{fb[ifb]}>-5000)])'\n",
    "            exec(str)\n",
    "            str=f'matrix[it,im,ifb,0] = amocMax_na'\n",
    "            exec(str)\n",
    "            str=f'amocMax_na = np.where(moc_{fb[ifb]}.isel(time=it,member_id=im,transport_reg=1,moc_comp=0).transpose(\\'lat_aux_grid\\',\\'moc_z\\')==amocMax_na)'\n",
    "            exec(str)\n",
    "        \n",
    "            # Maximum AMOC for the South Atlantic\n",
    "            str=f'amocMax_sa = np.amax(np.ma.array(moc_{fb[ifb]}.isel(time=it,member_id=im,transport_reg=1,moc_comp=0).transpose(\\'lat_aux_grid\\',\\'moc_z\\'))[(yy_{fb[ifb]}>=-70)&(yy_{fb[ifb]}<=0)&(zz_{fb[ifb]}>-5000)])'\n",
    "            exec(str)\n",
    "            str=f'matrix[it,im,ifb,1] = amocMax_sa'\n",
    "            exec(str)\n",
    "            str=f'amocMax_sa = np.where(moc_{fb[ifb]}.isel(time=it,member_id=im,transport_reg=1,moc_comp=0).transpose(\\'lat_aux_grid\\',\\'moc_z\\')==amocMax_sa)'\n",
    "            exec(str)\n",
    "            \n",
    "            # Minimum AMOC for the South Atlantic\n",
    "            str=f'amocMin_sa = np.amin(np.ma.array(moc_{fb[ifb]}.isel(time=it,member_id=im,transport_reg=1,moc_comp=0).transpose(\\'lat_aux_grid\\',\\'moc_z\\'))[(yy_{fb[ifb]}>=-70)&(yy_{fb[ifb]}<=0)&(zz_{fb[ifb]}>-5000)])'\n",
    "            exec(str)\n",
    "            str=f'matrix[it,im,ifb,2] = amocMin_sa'\n",
    "            exec(str)\n",
    "            \n",
    "            str=f'amocMin_sa = np.where(moc_{fb[ifb]}.isel(time=it,member_id=im,transport_reg=1,moc_comp=0).transpose(\\'lat_aux_grid\\',\\'moc_z\\')==amocMin_sa)'\n",
    "            exec(str)\n",
    "        \n",
    "            print(f\"Member: {im}\")\n",
    "            plt.figure()\n",
    "            str=f'moc_{fb[ifb]}.isel(transport_reg=1, moc_comp=0, member_id=im, time=it).plot(size=2,vmax=20,levels=41)'\n",
    "            exec(str)\n",
    "            \n",
    "            plt.ylim([-5000,0])\n",
    "            plt.xlabel('Latitude')\n",
    "            plt.ylabel('Depth (m)')\n",
    "            #The maximum value for the Atlantic\n",
    "            str=f'plt.plot(moc_{fb[ifb]}.isel(time=it,member_id=im,transport_reg=1,moc_comp=0).lat_aux_grid[amocMax_na[0]],moc_{fb[ifb]}.isel(time=it,member_id=im,transport_reg=1,moc_comp=0).moc_z[amocMax_na[1]],\\'yo\\',markersize=5)'  \n",
    "            exec(str)\n",
    "        \n",
    "            # The maximum value for the South Atlantic\n",
    "            str=f'plt.plot(moc_{fb[ifb]}.isel(time=it,member_id=im,transport_reg=1,moc_comp=0).lat_aux_grid[amocMax_sa[0]],moc_{fb[ifb]}.isel(time=it,member_id=im,transport_reg=1,moc_comp=0).moc_z[amocMax_sa[1]],\\'ro\\',markersize=5)' \n",
    "            exec(str)\n",
    "            str=f'plt.plot(moc_{fb[ifb]}.isel(time=it,member_id=im,transport_reg=1,moc_comp=0).lat_aux_grid[amocMin_sa[0]],moc_{fb[ifb]}.isel(time=it,member_id=im,transport_reg=1,moc_comp=0).moc_z[amocMin_sa[1]],\\'bo\\',markersize=5)'\n",
    "            exec(str)\n",
    "            plt.show()"
   ]
  }
 ],
 "metadata": {
  "kernelspec": {
   "display_name": "NPL 2022b",
   "language": "python",
   "name": "npl-2022b"
  },
  "language_info": {
   "codemirror_mode": {
    "name": "ipython",
    "version": 3
   },
   "file_extension": ".py",
   "mimetype": "text/x-python",
   "name": "python",
   "nbconvert_exporter": "python",
   "pygments_lexer": "ipython3",
   "version": "3.8.13"
  }
 },
 "nbformat": 4,
 "nbformat_minor": 4
}
