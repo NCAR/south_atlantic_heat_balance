{
 "cells": [
  {
   "cell_type": "markdown",
   "metadata": {
    "tags": []
   },
   "source": [
    "## CESM2 - LARGE ENSEMBLE (LENS2)\n",
    "\n",
    "- This Notebooks intends to compute the heat balance in the South Atlantic, defined by the difference of the meridional heat transport from the northern and southern boundaries and the total heat surface heat (area integral). "
   ]
  },
  {
   "cell_type": "markdown",
   "metadata": {},
   "source": [
    "### Imports"
   ]
  },
  {
   "cell_type": "code",
   "execution_count": 1,
   "metadata": {},
   "outputs": [],
   "source": [
    "import xarray as xr\n",
    "import pandas as pd\n",
    "import numpy as np \n",
    "import dask\n",
    "import cf_xarray\n",
    "import intake\n",
    "import cftime\n",
    "import nc_time_axis\n",
    "import intake_esm\n",
    "import matplotlib.pyplot as plt\n",
    "import pop_tools\n",
    "from dask.distributed import Client\n",
    "from ncar_jobqueue import NCARCluster\n",
    "import warnings, getpass, os\n",
    "from mpl_toolkits.axes_grid1.inset_locator import inset_axes\n",
    "from mpl_toolkits.axes_grid1 import make_axes_locatable\n",
    "import cartopy.crs as ccrs\n",
    "import cmocean"
   ]
  },
  {
   "cell_type": "markdown",
   "metadata": {},
   "source": [
    "### Dask"
   ]
  },
  {
   "cell_type": "raw",
   "metadata": {},
   "source": [
    "mem_per_worker = 160 # memory per worker in GB \n",
    "num_workers = 80 # number of workers\n",
    "cluster = NCARCluster(cores=1, processes=3, memory=f'{mem_per_worker} GB',resource_spec=f'select=1:ncpus=6:mem={mem_per_worker}GB', walltime='6:00:00')\n",
    "cluster.scale(num_workers)\n",
    "client = Client(cluster)\n",
    "print(client)\n",
    "client"
   ]
  },
  {
   "cell_type": "code",
   "execution_count": 2,
   "metadata": {},
   "outputs": [
    {
     "name": "stderr",
     "output_type": "stream",
     "text": [
      "/glade/u/apps/opt/conda/envs/npl-2022b/lib/python3.8/site-packages/distributed/node.py:179: UserWarning: Port 8787 is already in use.\n",
      "Perhaps you already have a cluster running?\n",
      "Hosting the HTTP server on port 46093 instead\n",
      "  warnings.warn(\n"
     ]
    },
    {
     "name": "stdout",
     "output_type": "stream",
     "text": [
      "<Client: 'tcp://10.12.206.51:34520' processes=0 threads=0, memory=0 B>\n"
     ]
    },
    {
     "data": {
      "text/html": [
       "<div>\n",
       "    <div style=\"width: 24px; height: 24px; background-color: #e1e1e1; border: 3px solid #9D9D9D; border-radius: 5px; position: absolute;\"> </div>\n",
       "    <div style=\"margin-left: 48px;\">\n",
       "        <h3 style=\"margin-bottom: 0px;\">Client</h3>\n",
       "        <p style=\"color: #9D9D9D; margin-bottom: 0px;\">Client-1a49685a-7a3e-11ed-8227-3cecef1b11de</p>\n",
       "        <table style=\"width: 100%; text-align: left;\">\n",
       "\n",
       "        <tr>\n",
       "        \n",
       "            <td style=\"text-align: left;\"><strong>Connection method:</strong> Cluster object</td>\n",
       "            <td style=\"text-align: left;\"><strong>Cluster type:</strong> dask_jobqueue.PBSCluster</td>\n",
       "        \n",
       "        </tr>\n",
       "\n",
       "        \n",
       "            <tr>\n",
       "                <td style=\"text-align: left;\">\n",
       "                    <strong>Dashboard: </strong> <a href=\"https://jupyterhub.hpc.ucar.edu/stable/user/mauricio/mrocha/proxy/46093/status\" target=\"_blank\">https://jupyterhub.hpc.ucar.edu/stable/user/mauricio/mrocha/proxy/46093/status</a>\n",
       "                </td>\n",
       "                <td style=\"text-align: left;\"></td>\n",
       "            </tr>\n",
       "        \n",
       "\n",
       "        </table>\n",
       "\n",
       "        \n",
       "            <details>\n",
       "            <summary style=\"margin-bottom: 20px;\"><h3 style=\"display: inline;\">Cluster Info</h3></summary>\n",
       "            <div class=\"jp-RenderedHTMLCommon jp-RenderedHTML jp-mod-trusted jp-OutputArea-output\">\n",
       "    <div style=\"width: 24px; height: 24px; background-color: #e1e1e1; border: 3px solid #9D9D9D; border-radius: 5px; position: absolute;\">\n",
       "    </div>\n",
       "    <div style=\"margin-left: 48px;\">\n",
       "        <h3 style=\"margin-bottom: 0px; margin-top: 0px;\">PBSCluster</h3>\n",
       "        <p style=\"color: #9D9D9D; margin-bottom: 0px;\">e9e4a7e7</p>\n",
       "        <table style=\"width: 100%; text-align: left;\">\n",
       "            <tr>\n",
       "                <td style=\"text-align: left;\">\n",
       "                    <strong>Dashboard:</strong> <a href=\"https://jupyterhub.hpc.ucar.edu/stable/user/mauricio/mrocha/proxy/46093/status\" target=\"_blank\">https://jupyterhub.hpc.ucar.edu/stable/user/mauricio/mrocha/proxy/46093/status</a>\n",
       "                </td>\n",
       "                <td style=\"text-align: left;\">\n",
       "                    <strong>Workers:</strong> 0\n",
       "                </td>\n",
       "            </tr>\n",
       "            <tr>\n",
       "                <td style=\"text-align: left;\">\n",
       "                    <strong>Total threads:</strong> 0\n",
       "                </td>\n",
       "                <td style=\"text-align: left;\">\n",
       "                    <strong>Total memory:</strong> 0 B\n",
       "                </td>\n",
       "            </tr>\n",
       "            \n",
       "        </table>\n",
       "\n",
       "        <details>\n",
       "            <summary style=\"margin-bottom: 20px;\">\n",
       "                <h3 style=\"display: inline;\">Scheduler Info</h3>\n",
       "            </summary>\n",
       "\n",
       "            <div style=\"\">\n",
       "    <div>\n",
       "        <div style=\"width: 24px; height: 24px; background-color: #FFF7E5; border: 3px solid #FF6132; border-radius: 5px; position: absolute;\"> </div>\n",
       "        <div style=\"margin-left: 48px;\">\n",
       "            <h3 style=\"margin-bottom: 0px;\">Scheduler</h3>\n",
       "            <p style=\"color: #9D9D9D; margin-bottom: 0px;\">Scheduler-1d269d69-d49c-4188-9a7a-42c32802dc04</p>\n",
       "            <table style=\"width: 100%; text-align: left;\">\n",
       "                <tr>\n",
       "                    <td style=\"text-align: left;\">\n",
       "                        <strong>Comm:</strong> tcp://10.12.206.51:34520\n",
       "                    </td>\n",
       "                    <td style=\"text-align: left;\">\n",
       "                        <strong>Workers:</strong> 0\n",
       "                    </td>\n",
       "                </tr>\n",
       "                <tr>\n",
       "                    <td style=\"text-align: left;\">\n",
       "                        <strong>Dashboard:</strong> <a href=\"https://jupyterhub.hpc.ucar.edu/stable/user/mauricio/mrocha/proxy/46093/status\" target=\"_blank\">https://jupyterhub.hpc.ucar.edu/stable/user/mauricio/mrocha/proxy/46093/status</a>\n",
       "                    </td>\n",
       "                    <td style=\"text-align: left;\">\n",
       "                        <strong>Total threads:</strong> 0\n",
       "                    </td>\n",
       "                </tr>\n",
       "                <tr>\n",
       "                    <td style=\"text-align: left;\">\n",
       "                        <strong>Started:</strong> Just now\n",
       "                    </td>\n",
       "                    <td style=\"text-align: left;\">\n",
       "                        <strong>Total memory:</strong> 0 B\n",
       "                    </td>\n",
       "                </tr>\n",
       "            </table>\n",
       "        </div>\n",
       "    </div>\n",
       "\n",
       "    <details style=\"margin-left: 48px;\">\n",
       "        <summary style=\"margin-bottom: 20px;\">\n",
       "            <h3 style=\"display: inline;\">Workers</h3>\n",
       "        </summary>\n",
       "\n",
       "        \n",
       "\n",
       "    </details>\n",
       "</div>\n",
       "\n",
       "        </details>\n",
       "    </div>\n",
       "</div>\n",
       "            </details>\n",
       "        \n",
       "\n",
       "    </div>\n",
       "</div>"
      ],
      "text/plain": [
       "<Client: 'tcp://10.12.206.51:34520' processes=0 threads=0, memory=0 B>"
      ]
     },
     "execution_count": 2,
     "metadata": {},
     "output_type": "execute_result"
    }
   ],
   "source": [
    "mem_per_worker = 30 # memory per worker in GB \n",
    "num_workers = 26 # number of workers\n",
    "cluster = NCARCluster(cores=1, processes=1, memory=f'{mem_per_worker} GB',resource_spec=f'select=1:ncpus=1:mem={mem_per_worker}GB', walltime='6:00:00')\n",
    "cluster.scale(num_workers)\n",
    "client = Client(cluster)\n",
    "print(client)\n",
    "client"
   ]
  },
  {
   "cell_type": "markdown",
   "metadata": {},
   "source": [
    "### Read in OGCM history file & MOC template file"
   ]
  },
  {
   "cell_type": "code",
   "execution_count": 3,
   "metadata": {},
   "outputs": [
    {
     "name": "stderr",
     "output_type": "stream",
     "text": [
      "/glade/u/home/mauricio/.local/lib/python3.8/site-packages/intake_esm/utils.py:96: DtypeWarning: Columns (5,6,9) have mixed types. Specify dtype option on import or set low_memory=False.\n",
      "  return pd.read_csv(catalog_path, **csv_kwargs), catalog_path\n"
     ]
    }
   ],
   "source": [
    "catalog = intake.open_esm_datastore(\n",
    "    '/glade/collections/cmip/catalog/intake-esm-datastore/catalogs/glade-cesm2-le.json'\n",
    ")"
   ]
  },
  {
   "cell_type": "code",
   "execution_count": 4,
   "metadata": {},
   "outputs": [],
   "source": [
    "cat_subset = catalog.search(component='ocn',variable=['N_HEAT','SHF','TEMP','TEND_TEMP'],frequency='month_1')"
   ]
  },
  {
   "cell_type": "code",
   "execution_count": 5,
   "metadata": {},
   "outputs": [
    {
     "name": "stdout",
     "output_type": "stream",
     "text": [
      "\n",
      "--> The keys in the returned dictionary of datasets are constructed as follows:\n",
      "\t'component.experiment.stream.forcing_variant.variable'\n"
     ]
    },
    {
     "data": {
      "text/html": [
       "\n",
       "<style>\n",
       "    /* Turns off some styling */\n",
       "    progress {\n",
       "        /* gets rid of default border in Firefox and Opera. */\n",
       "        border: none;\n",
       "        /* Needs to be in here for Safari polyfill so background images work as expected. */\n",
       "        background-size: auto;\n",
       "    }\n",
       "    progress:not([value]), progress:not([value])::-webkit-progress-bar {\n",
       "        background: repeating-linear-gradient(45deg, #7e7e7e, #7e7e7e 10px, #5c5c5c 10px, #5c5c5c 20px);\n",
       "    }\n",
       "    .progress-bar-interrupted, .progress-bar-interrupted::-webkit-progress-bar {\n",
       "        background: #F44336;\n",
       "    }\n",
       "</style>\n"
      ],
      "text/plain": [
       "<IPython.core.display.HTML object>"
      ]
     },
     "metadata": {},
     "output_type": "display_data"
    },
    {
     "data": {
      "text/html": [
       "\n",
       "    <div>\n",
       "      <progress value='16' class='' max='16' style='width:300px; height:20px; vertical-align: middle;'></progress>\n",
       "      100.00% [16/16 03:16&lt;00:00]\n",
       "    </div>\n",
       "    "
      ],
      "text/plain": [
       "<IPython.core.display.HTML object>"
      ]
     },
     "metadata": {},
     "output_type": "display_data"
    },
    {
     "name": "stdout",
     "output_type": "stream",
     "text": [
      "\n",
      "Dataset dictionary keys:\n",
      " dict_keys(['ocn.historical.pop.h.cmip6.TEND_TEMP', 'ocn.historical.pop.h.smbb.N_HEAT', 'ocn.historical.pop.h.cmip6.TEMP', 'ocn.historical.pop.h.cmip6.SHF', 'ocn.ssp370.pop.h.smbb.TEND_TEMP', 'ocn.ssp370.pop.h.smbb.N_HEAT', 'ocn.historical.pop.h.cmip6.N_HEAT', 'ocn.ssp370.pop.h.cmip6.TEMP', 'ocn.ssp370.pop.h.cmip6.SHF', 'ocn.ssp370.pop.h.cmip6.TEND_TEMP', 'ocn.ssp370.pop.h.cmip6.N_HEAT', 'ocn.historical.pop.h.smbb.SHF', 'ocn.ssp370.pop.h.smbb.SHF', 'ocn.historical.pop.h.smbb.TEND_TEMP', 'ocn.ssp370.pop.h.smbb.TEMP', 'ocn.historical.pop.h.smbb.TEMP'])\n"
     ]
    }
   ],
   "source": [
    "# Load catalog entries for subset into a dictionary of xarray datasets\n",
    "dset_dict_raw  = cat_subset.to_dataset_dict(zarr_kwargs={'consolidated': True}, storage_options={'anon': True})\n",
    "print(f'\\nDataset dictionary keys:\\n {dset_dict_raw.keys()}')"
   ]
  },
  {
   "cell_type": "markdown",
   "metadata": {},
   "source": [
    "#### Variables"
   ]
  },
  {
   "cell_type": "code",
   "execution_count": 117,
   "metadata": {},
   "outputs": [
    {
     "name": "stdout",
     "output_type": "stream",
     "text": [
      "Done!\n"
     ]
    }
   ],
   "source": [
    "fb=(['N_HEAT','SHF','TEMP','TEND_TEMP']) # Meridional heat transport [PW], total surface heat flux [W/m2], and temperature [oC]\n",
    "pd=('historical','ssp370') # periods\n",
    "ff=('cmip6','smbb') # forcing\n",
    "for ifb in range(0,len(fb)):\n",
    "    for iff in range(0,len(ff)):\n",
    "        for ipd in range(0,len(pd)):\n",
    "            str=f'ds_{pd[ipd]}_{ff[iff]}_{fb[ifb]} = dset_dict_raw[\\'ocn.{pd[ipd]}.pop.h.{ff[iff]}.{fb[ifb]}\\']'\n",
    "            exec(str)\n",
    "        str=f'ds_{ff[iff]}_{fb[ifb]}=xr.combine_nested([ds_{pd[0]}_{ff[iff]}_{fb[ifb]},ds_{pd[1]}_{ff[iff]}_{fb[ifb]}],concat_dim=[\\'time\\']);'\n",
    "        exec(str)\n",
    "    str=f'ds_{fb[ifb]}=xr.combine_nested([ds_{ff[0]}_{fb[ifb]},ds_{ff[1]}_{fb[ifb]}],concat_dim=[\\'member_id\\']);'\n",
    "    exec(str) \n",
    "print(f'Done!')"
   ]
  },
  {
   "cell_type": "markdown",
   "metadata": {},
   "source": [
    "#### Import POP grid"
   ]
  },
  {
   "cell_type": "code",
   "execution_count": 118,
   "metadata": {},
   "outputs": [],
   "source": [
    "pop_grid = pop_tools.get_grid('POP_gx1v7')\n",
    "ds_SHF['TLONG'] = pop_grid.TLONG; ds_SHF['TLAT'] = pop_grid.TLAT\n",
    "ds_TEMP['TLONG'] = pop_grid.TLONG; ds_TEMP['TLAT'] = pop_grid.TLAT\n",
    "ds_TEND_TEMP['TLONG'] = pop_grid.TLONG; ds_TEND_TEMP['TLAT'] = pop_grid.TLAT"
   ]
  },
  {
   "cell_type": "code",
   "execution_count": 119,
   "metadata": {},
   "outputs": [
    {
     "data": {
      "text/plain": [
       "<matplotlib.collections.QuadMesh at 0x2b07e87ea640>"
      ]
     },
     "execution_count": 119,
     "metadata": {},
     "output_type": "execute_result"
    },
    {
     "data": {
      "image/png": "[encoded data removed]",
      "text/plain": [
       "<Figure size 432x288 with 2 Axes>"
      ]
     },
     "metadata": {
      "needs_background": "light"
     },
     "output_type": "display_data"
    }
   ],
   "source": [
    "## Define the MOC region mask:\n",
    "rmask = ds_N_HEAT.REGION_MASK.drop(['ULONG','ULAT'])\n",
    "rmask.isel(member_id=0,time=0).plot()"
   ]
  },
  {
   "cell_type": "markdown",
   "metadata": {},
   "source": [
    "#### Calculate the difference in heat transport to latitudes closer to the equator and 34S. We chose 34 instead of 34.5S, because at 34S we are sure that there is no water leakage south of Africa "
   ]
  },
  {
   "cell_type": "code",
   "execution_count": 120,
   "metadata": {},
   "outputs": [
    {
     "data": {
      "image/png": "[encoded data removed]",
      "text/plain": [
       "<Figure size 432x288 with 1 Axes>"
      ]
     },
     "metadata": {
      "needs_background": "light"
     },
     "output_type": "display_data"
    }
   ],
   "source": [
    "ilan = 0 # northernmost latitude\n",
    "ilas = -34 # southernmost latitude\n",
    "\n",
    "ds_N_HEAT_diff=((ds_N_HEAT.N_HEAT.isel(transport_reg=1).sel(lat_aux_grid=ilan,method='nearest'))-(ds_N_HEAT.N_HEAT.isel(transport_reg=1).sel(lat_aux_grid=ilas,method='nearest'))).sum(dim='transport_comp')\n",
    "ds_N_HEAT_diff\n",
    "ds_N_HEAT_diff.sel(time=slice('1852-01-01','2100-12-31')).mean(dim='member_id').plot(linewidth=1,label='Monthly mean')\n",
    "ds_N_HEAT_diff.sel(time=slice('1852-01-01','2100-12-31')).mean(dim='member_id').resample(time='1Y',closed='left').mean('time').plot(linewidth=2, label='Annual mean')\n",
    "plt.grid()\n",
    "plt.title('South Atlantic (Northern boundary minus Southern boundary)')\n",
    "plt.xlabel('Time [Years]')\n",
    "plt.ylabel('Meridional Heat Transport Difference (0-34S) [PW]')\n",
    "plt.legend()\n",
    "plt.tight_layout()\n",
    "plt.show()"
   ]
  },
  {
   "cell_type": "markdown",
   "metadata": {},
   "source": [
    "#### Select the area to compute the heat balance"
   ]
  },
  {
   "cell_type": "code",
   "execution_count": 177,
   "metadata": {},
   "outputs": [
    {
     "name": "stdout",
     "output_type": "stream",
     "text": [
      "Variable: SHF\n",
      "Variable: TEMP\n",
      "Variable: TEND_TEMP\n"
     ]
    }
   ],
   "source": [
    "dask.config.set({\"array.slicing.split_large_chunks\": True})\n",
    "ilon1, flon1, ilon2, flon2 = 307, 320, 0, 54 # longitude (initial, final) \n",
    "fb=(['SHF','TEMP','TEND_TEMP'])\n",
    "for ifb in range(0,len(fb)):\n",
    "    print(f'Variable: {fb[ifb]}')\n",
    "    st=f'sa_ds_{fb[ifb]}=xr.combine_nested([[ds_{fb[ifb]}.{fb[ifb]}.where((ds_{fb[ifb]}.{fb[ifb]}.ULAT >= ilas) & (ds_{fb[ifb]}.{fb[ifb]}.ULAT <= ilan), drop=True).isel(nlon = slice(ilon1,flon1)),ds_{fb[ifb]}.{fb[ifb]}.where((ds_{fb[ifb]}.{fb[ifb]}.ULAT >= ilas) & (ds_{fb[ifb]}.{fb[ifb]}.ULAT <= ilan), drop=True).isel(nlon = slice(ilon2,flon2))]],concat_dim=[\\'nlat\\',\\'nlon\\'])'; exec(st)\n",
    "    st=f'sa_ds_{fb[ifb]}.coords[\\'nlon\\'] = (sa_ds_{fb[ifb]}.coords[\\'nlon\\'] + 180) % 360 - 180'; exec(st) \n",
    "    st=f'sa_ds_{fb[ifb]} = sa_ds_{fb[ifb]}.sortby(sa_ds_{fb[ifb]}.nlon)'; exec(st)"
   ]
  },
  {
   "cell_type": "code",
   "execution_count": 181,
   "metadata": {},
   "outputs": [],
   "source": [
    "sa_ds_dz=ds_TEMP.dz*0.01 # cm to m"
   ]
  },
  {
   "cell_type": "markdown",
   "metadata": {},
   "source": [
    "### Recreate the area for the temperature mask"
   ]
  },
  {
   "cell_type": "code",
   "execution_count": 228,
   "metadata": {},
   "outputs": [],
   "source": [
    "# Area in cm2\n",
    "sa_ds_UAREA=xr.combine_nested(\n",
    "    [[pop_grid.UAREA.where((pop_grid.ULAT >= ilas) & (pop_grid.ULAT <= ilan), drop=True).isel(nlon = slice(ilon1,flon1)),\n",
    "      pop_grid.UAREA.where((pop_grid.ULAT >= ilas) & (pop_grid.ULAT <= ilan), drop=True).isel(nlon = slice(ilon2,flon2))]],\n",
    "                           concat_dim=['nlat','nlon'])\n",
    "sa_ds_UAREA.coords['nlon'] = (sa_ds_UAREA.coords['nlon'] + 180) % 360 - 180 \n",
    "sa_ds_UAREA = sa_ds_UAREA.sortby(sa_ds_UAREA.nlon)"
   ]
  },
  {
   "cell_type": "code",
   "execution_count": 231,
   "metadata": {},
   "outputs": [],
   "source": [
    "mask_ocean_TEMP = 2 * np.ones((len(sa_ds_TEMP.coords['nlat']), len(sa_ds_TEMP.coords['nlon']))) * np.isfinite(sa_ds_TEMP.isel(time=0,member_id=0))  \n",
    "mask_land_TEMP = 1 * np.ones((len(sa_ds_TEMP.coords['nlat']), len(sa_ds_TEMP.coords['nlon']))) * np.isnan(sa_ds_TEMP.isel(time=0,member_id=0))  \n",
    "mask_array_TEMP = mask_ocean_TEMP + mask_land_TEMP      "
   ]
  },
  {
   "cell_type": "code",
   "execution_count": 236,
   "metadata": {},
   "outputs": [],
   "source": [
    "area_new=sa_ds_UAREA.where(mask_array_TEMP != 0.) # Applying the basin masks in the area\n",
    "\n",
    "#            st=f'area_new=np.array([area_new]*len({ba[iba]}_{fb[ifb]}.coords[\\'z_t\\']))'; exec(st) # Replicating the surface area for all as depths\n",
    "#            st=f'area_array=xr.DataArray(area_new, dims=[\\'z_t\\', \\'nlat\\', \\'nlon\\'])'; exec(st) # We transform the array into a xarray so that there are no mismatches in the oprerations\n",
    "#            st=f'area_array_{ba[iba]}_{fb[ifb]}=area_array.where(mask_array_{ba[iba]}_{fb[ifb]} != 1.)'; exec(st) # The masks of what is ocean and what is continent or floor were built\n",
    "        "
   ]
  },
  {
   "cell_type": "code",
   "execution_count": 242,
   "metadata": {},
   "outputs": [
    {
     "data": {
      "text/plain": [
       "<matplotlib.collections.QuadMesh at 0x2b07fbe8ecd0>"
      ]
     },
     "execution_count": 242,
     "metadata": {},
     "output_type": "execute_result"
    },
    {
     "data": {
      "image/png": "[encoded data removed]",
      "text/plain": [
       "<Figure size 432x288 with 2 Axes>"
      ]
     },
     "metadata": {
      "needs_background": "light"
     },
     "output_type": "display_data"
    }
   ],
   "source": [
    "sa_ds_UAREA.plot()"
   ]
  },
  {
   "cell_type": "code",
   "execution_count": 240,
   "metadata": {},
   "outputs": [
    {
     "data": {
      "text/plain": [
       "<matplotlib.collections.QuadMesh at 0x2b07fea256a0>"
      ]
     },
     "execution_count": 240,
     "metadata": {},
     "output_type": "execute_result"
    },
    {
     "data": {
      "image/png": "[encoded data removed]",
      "text/plain": [
       "<Figure size 432x288 with 2 Axes>"
      ]
     },
     "metadata": {
      "needs_background": "light"
     },
     "output_type": "display_data"
    }
   ],
   "source": [
    "area_new.isel(z_t=0).plot()"
   ]
  },
  {
   "cell_type": "code",
   "execution_count": null,
   "metadata": {},
   "outputs": [],
   "source": [
    "mask_array_TEMP.shape"
   ]
  },
  {
   "cell_type": "code",
   "execution_count": null,
   "metadata": {},
   "outputs": [],
   "source": [
    "mask_SHF = sa_ds_SHF.isel(time=2, member_id=0).fillna(9999)\n",
    "area_sa=area_sa.where(mask_SHF != 9999.)"
   ]
  },
  {
   "cell_type": "raw",
   "metadata": {},
   "source": [
    "area_sa.plot()"
   ]
  },
  {
   "cell_type": "code",
   "execution_count": null,
   "metadata": {},
   "outputs": [],
   "source": [
    "Total_SHF=(sa_ds_SHF*area_sa*1e-4*1e-15).sum(dim=['nlat','nlon'],skipna=True) # Units PW "
   ]
  },
  {
   "cell_type": "markdown",
   "metadata": {},
   "source": [
    "##### Here it was necessary to do the difference and not the sum of the terms to get the heat balance. This is because the SHF convection is positive to the ocean. The balance is given by every heat flux entering from the surface (positive direction of the z-axis) is equal to every flux leaving from the meridional heat transport (positive direction of the y-axis). The meirdional heat transport has a positive y-axis direction, but the SHF has not a negative z-axis direction. "
   ]
  },
  {
   "cell_type": "code",
   "execution_count": null,
   "metadata": {},
   "outputs": [],
   "source": [
    "SHF_MHT_diff=Total_SHF-ds_N_HEAT_diff "
   ]
  },
  {
   "cell_type": "raw",
   "metadata": {},
   "source": [
    "Total_SHF.mean(dim='member_id').resample(time='1Y',closed='left').mean('time').sel(time=slice('1852-01-01','2100-12-31')).plot(linewidth=1, label='SHF')\n",
    "ds_N_HEAT_diff.mean(dim='member_id').resample(time='1Y',closed='left').mean('time').sel(time=slice('1852-01-01','2100-12-31')).plot(linewidth=1, label='MHT')\n",
    "SHF_MHT_diff.mean(dim='member_id').resample(time='1Y',closed='left').mean('time').sel(time=slice('1852-01-01','2100-12-31')).plot(linewidth=1, label='SHF-MHT')\n",
    "plt.title('South Atlantic Ocean')\n",
    "plt.xlabel('Time [Years]')\n",
    "plt.ylabel('Annual average heat balance [PW]')\n",
    "plt.grid()\n",
    "plt.legend()\n",
    "plt.tight_layout()\n",
    "plt.show()"
   ]
  },
  {
   "cell_type": "raw",
   "metadata": {},
   "source": [
    "ds_N_HEAT.N_HEAT.isel(transport_reg=1,lat_aux_grid=86).sum(dim='transport_comp').mean(dim='member_id').resample(time='1Y',closed='left').mean('time').sel(time=slice('1852-01-01','2100-12-31')).plot(linewidth=1,label='MHT 33.54S')\n",
    "ds_N_HEAT.N_HEAT.isel(transport_reg=1,lat_aux_grid=187).sum(dim='transport_comp').mean(dim='member_id').resample(time='1Y',closed='left').mean('time').sel(time=slice('1852-01-01','2100-12-31')).plot(linewidth=1, label='MHT equator')\n",
    "plt.title('South Atlantic Ocean')\n",
    "plt.xlabel('Time [Years]')\n",
    "plt.ylabel('Annual average MHT [PW]')\n",
    "plt.grid()\n",
    "plt.legend()\n",
    "plt.tight_layout()\n",
    "plt.show()"
   ]
  },
  {
   "cell_type": "code",
   "execution_count": null,
   "metadata": {},
   "outputs": [],
   "source": [
    "sa_ds_dz['z_t']=sa_ds_dz['z_t']*0.01\n",
    "sa_ds_TEMP['z_t']=sa_ds_TEMP['z_t']*0.01"
   ]
  },
  {
   "cell_type": "code",
   "execution_count": null,
   "metadata": {},
   "outputs": [],
   "source": [
    "sa_ds_TEMP.isel(member_id=0,time=0, z_t=0).plot()"
   ]
  },
  {
   "cell_type": "markdown",
   "metadata": {},
   "source": [
    "#### To know if our heat balance is correct, let's calculate the heat storage and compare it with the difference found \n",
    "#### The formula for this is: $$\\rm{HS = \\uprho_\\uptheta~C_p~\\int_{z_2}^{z_1}\\uptheta_{(z)}'~dz},$$\n",
    "where:\n",
    "* HS is heat storage ($\\rm{J~m^{-2}}$),\n",
    "* $\\uprho$ is the density of sea water, 1026 $\\rm{kg~m^{-3}}$,\n",
    "* $\\rm{C_p}$ is the specific heat of sea water, 3996 $\\rm{J~kg^{-1}~K^{-1}}$ from the model\n",
    "* $\\rm{z}$ is the depth limit on the calculation in meters,\n",
    "* and $\\uptheta$' is the potential temperature monthly anomaly (successor month minus previous month) at each depth in degress Kelvin. "
   ]
  },
  {
   "cell_type": "code",
   "execution_count": null,
   "metadata": {},
   "outputs": [],
   "source": [
    "rho = 1026 # kg/m^3\n",
    "c_p = 3996 # J/(kg K) - I used the same amount of specific heat used by the model\n",
    "sa_ds_TEMP_anom=sa_ds_TEMP.diff(dim='time') # oC"
   ]
  },
  {
   "cell_type": "code",
   "execution_count": null,
   "metadata": {},
   "outputs": [],
   "source": [
    "%%time\n",
    "sa_ds_HS=((sa_ds_TEMP_anom.mean(dim='member_id')*sa_ds_dz.mean(dim='member_id')).sum(dim='z_t'))*rho*c_p # J m-2\n",
    "sa_ds_HS=sa_ds_HS.where(mask_SHF != 9999.).load()\n",
    "sa_ds_HS.mean(dim='time').plot()"
   ]
  },
  {
   "cell_type": "code",
   "execution_count": null,
   "metadata": {},
   "outputs": [],
   "source": [
    "sa_ds_HS=(sa_ds_HS*area_sa*1e-4).sum(dim=['nlon','nlat']) # J"
   ]
  },
  {
   "cell_type": "code",
   "execution_count": null,
   "metadata": {},
   "outputs": [],
   "source": [
    "%%time\n",
    "# Selecting the number of days each month has\n",
    "dt = np.empty((len(ds_N_HEAT.time_bound.coords['time']))) * np.nan\n",
    "for it in range(0,len(ds_N_HEAT.time_bound.coords['time'])):\n",
    "    dt[it]=np.abs(ds_N_HEAT.time_bound.isel(member_id=0,time=it,d2=0).values-ds_N_HEAT.time_bound.isel(member_id=0,time=it,d2=1).values).days"
   ]
  },
  {
   "cell_type": "code",
   "execution_count": null,
   "metadata": {},
   "outputs": [],
   "source": [
    "# 1 month = 60*60*24s\n",
    "# 1 W = 1e-15 PW\n",
    "sa_ds_HS_PW=sa_ds_HS*(1e-15)/(60*60*24*dt[0:-1]) # PW "
   ]
  },
  {
   "cell_type": "code",
   "execution_count": null,
   "metadata": {},
   "outputs": [],
   "source": [
    "%%time\n",
    "Total_SHF=Total_SHF.mean(dim='member_id').resample(time='1Y',closed='left').mean('time').sel(time=slice('1851-01-01','2100-12-31'))\n",
    "ds_N_HEAT_diff=ds_N_HEAT_diff.mean(dim='member_id').resample(time='1Y',closed='left').mean('time').sel(time=slice('1851-01-01','2100-12-31'))*-1\n",
    "SHF_MHT_diff=SHF_MHT_diff.mean(dim='member_id').resample(time='1Y',closed='left').mean('time').sel(time=slice('1851-01-01','2100-12-31'))\n",
    "sa_ds_HS_PW=sa_ds_HS_PW.resample(time='1Y',closed='left').mean('time').sel(time=slice('1851-01-01','2100-12-31'))"
   ]
  },
  {
   "cell_type": "code",
   "execution_count": null,
   "metadata": {},
   "outputs": [],
   "source": [
    "plt.figure(figsize=(14, 6))\n",
    "Total_SHF.plot(linewidth=1, label='SHF')\n",
    "ds_N_HEAT_diff.plot(linewidth=1, label='MHT')\n",
    "SHF_MHT_diff.plot(linewidth=1,label='SHF+MHT')\n",
    "sa_ds_HS_PW.plot(linewidth=1,label='HS')\n",
    "plt.title('South Atlantic Ocean')\n",
    "plt.xlabel('Time [Years]')\n",
    "plt.ylabel('Annual average heat balance [PW]')\n",
    "plt.grid()\n",
    "plt.legend(bbox_to_anchor=(1.05, 1.0), loc='upper left')\n",
    "plt.tight_layout()\n",
    "plt.show()"
   ]
  },
  {
   "cell_type": "code",
   "execution_count": null,
   "metadata": {},
   "outputs": [],
   "source": [
    "Total_SHF"
   ]
  },
  {
   "cell_type": "code",
   "execution_count": null,
   "metadata": {},
   "outputs": [],
   "source": [
    "# Normalized\n",
    "plt.figure(figsize=(14, 6))\n",
    "((Total_SHF-np.min(Total_SHF))/(np.max(Total_SHF)-np.min(Total_SHF))).plot(linewidth=1, label='SHF')\n",
    "((ds_N_HEAT_diff-np.min(ds_N_HEAT_diff))/(np.max(ds_N_HEAT_diff)-np.min(ds_N_HEAT_diff))).plot(linewidth=1, label='MHT')\n",
    "((SHF_MHT_diff-np.min(SHF_MHT_diff))/(np.max(SHF_MHT_diff)-np.min(SHF_MHT_diff))).plot(linewidth=1, label='SHF+MHT')\n",
    "((sa_ds_HS_PW-np.min(sa_ds_HS_PW))/(np.max(sa_ds_HS_PW)-np.min(sa_ds_HS_PW))).plot(linewidth=1, label='HS')\n",
    "plt.xlabel('Time [Years]')\n",
    "plt.ylabel('Annual average heat balance [PW]')\n",
    "plt.grid()\n",
    "plt.legend(bbox_to_anchor=(1.05, 1.0), loc='upper left')\n",
    "plt.tight_layout()\n",
    "plt.show()"
   ]
  },
  {
   "cell_type": "markdown",
   "metadata": {},
   "source": [
    "### Concluding remarks\n",
    "- According to Hu_etal_JC_2020 (https://drive.google.com/drive/u/0/folders/1yEZXkt1xDH2nOxIHXXs0EL1WbDD8BvmA), the oceans absorb excess heat from the atmosphere at high latitudes (subpolar divergences) and store this heat in the tropics. That may be the mechanism that explains why the SHF has no trend in the SSP370 scenario\n",
    "- For the historical, the SHF seems to control the HS variability. For the ssp370, the MHT gains importance not only in the amount of HS but also in its variability\n",
    "\n",
    "### What are the next steps?\n",
    "- Write about the heat balance in the South Atlantic (chapter)\n",
    "- Split the SHF into long-wave radiation, incident solar radiation, latent heat flux, and sensible heat flux\n",
    "- Split the MHT into Vdt and TdV (see Hu_etal_JC_2020)\n",
    "- Compute the contribution of SHF and MHT to HS variability \n",
    "### Questions: \n",
    "- Is it necessary to validate the MHT and SHF? If so, which dataset can we analyze? Dr. Shenfu Dong shared the MHT calculated from altimeters for the four latitudes: 20S, 25S, 30S, 34.5S"
   ]
  },
  {
   "cell_type": "code",
   "execution_count": null,
   "metadata": {},
   "outputs": [],
   "source": []
  }
 ],
 "metadata": {
  "kernelspec": {
   "display_name": "NPL 2022b",
   "language": "python",
   "name": "npl-2022b"
  },
  "language_info": {
   "codemirror_mode": {
    "name": "ipython",
    "version": 3
   },
   "file_extension": ".py",
   "mimetype": "text/x-python",
   "name": "python",
   "nbconvert_exporter": "python",
   "pygments_lexer": "ipython3",
   "version": "3.8.13"
  }
 },
 "nbformat": 4,
 "nbformat_minor": 4
}
