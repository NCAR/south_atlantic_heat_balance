{
 "cells": [
  {
   "cell_type": "markdown",
   "metadata": {
    "tags": []
   },
   "source": [
    "## CESM2 - LARGE ENSEMBLE (LENS2)\n",
    "\n",
    "- This Notebooks intends to compute the heat balance in the South Atlantic, defined by the difference of the meridional heat transport from the northern and southern boundaries and the total surface heat flux (area integral) "
   ]
  },
  {
   "cell_type": "markdown",
   "metadata": {},
   "source": [
    "### Imports"
   ]
  },
  {
   "cell_type": "code",
   "execution_count": 1,
   "metadata": {},
   "outputs": [],
   "source": [
    "import xarray as xr\n",
    "import pandas as pd\n",
    "import numpy as np \n",
    "import dask\n",
    "import cf_xarray\n",
    "import intake\n",
    "import cftime\n",
    "import nc_time_axis\n",
    "import intake_esm\n",
    "import matplotlib.pyplot as plt\n",
    "import pop_tools\n",
    "from dask.distributed import Client\n",
    "from ncar_jobqueue import NCARCluster\n",
    "import warnings, getpass, os\n",
    "from mpl_toolkits.axes_grid1.inset_locator import inset_axes\n",
    "from mpl_toolkits.axes_grid1 import make_axes_locatable\n",
    "import cartopy.crs as ccrs\n",
    "import cmocean"
   ]
  },
  {
   "cell_type": "markdown",
   "metadata": {},
   "source": [
    "### Dask"
   ]
  },
  {
   "cell_type": "code",
   "execution_count": 2,
   "metadata": {},
   "outputs": [
    {
     "name": "stdout",
     "output_type": "stream",
     "text": [
      "<Client: 'tcp://10.12.206.36:42449' processes=0 threads=0, memory=0 B>\n"
     ]
    },
    {
     "data": {
      "text/html": [
       "<div>\n",
       "    <div style=\"width: 24px; height: 24px; background-color: #e1e1e1; border: 3px solid #9D9D9D; border-radius: 5px; position: absolute;\"> </div>\n",
       "    <div style=\"margin-left: 48px;\">\n",
       "        <h3 style=\"margin-bottom: 0px;\">Client</h3>\n",
       "        <p style=\"color: #9D9D9D; margin-bottom: 0px;\">Client-c1efdbbe-7b10-11ed-9f0f-3cecef1ac722</p>\n",
       "        <table style=\"width: 100%; text-align: left;\">\n",
       "\n",
       "        <tr>\n",
       "        \n",
       "            <td style=\"text-align: left;\"><strong>Connection method:</strong> Cluster object</td>\n",
       "            <td style=\"text-align: left;\"><strong>Cluster type:</strong> dask_jobqueue.PBSCluster</td>\n",
       "        \n",
       "        </tr>\n",
       "\n",
       "        \n",
       "            <tr>\n",
       "                <td style=\"text-align: left;\">\n",
       "                    <strong>Dashboard: </strong> <a href=\"https://jupyterhub.hpc.ucar.edu/stable/user/mauricio/mrocha/proxy/8787/status\" target=\"_blank\">https://jupyterhub.hpc.ucar.edu/stable/user/mauricio/mrocha/proxy/8787/status</a>\n",
       "                </td>\n",
       "                <td style=\"text-align: left;\"></td>\n",
       "            </tr>\n",
       "        \n",
       "\n",
       "        </table>\n",
       "\n",
       "        \n",
       "            <details>\n",
       "            <summary style=\"margin-bottom: 20px;\"><h3 style=\"display: inline;\">Cluster Info</h3></summary>\n",
       "            <div class=\"jp-RenderedHTMLCommon jp-RenderedHTML jp-mod-trusted jp-OutputArea-output\">\n",
       "    <div style=\"width: 24px; height: 24px; background-color: #e1e1e1; border: 3px solid #9D9D9D; border-radius: 5px; position: absolute;\">\n",
       "    </div>\n",
       "    <div style=\"margin-left: 48px;\">\n",
       "        <h3 style=\"margin-bottom: 0px; margin-top: 0px;\">PBSCluster</h3>\n",
       "        <p style=\"color: #9D9D9D; margin-bottom: 0px;\">d114d91f</p>\n",
       "        <table style=\"width: 100%; text-align: left;\">\n",
       "            <tr>\n",
       "                <td style=\"text-align: left;\">\n",
       "                    <strong>Dashboard:</strong> <a href=\"https://jupyterhub.hpc.ucar.edu/stable/user/mauricio/mrocha/proxy/8787/status\" target=\"_blank\">https://jupyterhub.hpc.ucar.edu/stable/user/mauricio/mrocha/proxy/8787/status</a>\n",
       "                </td>\n",
       "                <td style=\"text-align: left;\">\n",
       "                    <strong>Workers:</strong> 0\n",
       "                </td>\n",
       "            </tr>\n",
       "            <tr>\n",
       "                <td style=\"text-align: left;\">\n",
       "                    <strong>Total threads:</strong> 0\n",
       "                </td>\n",
       "                <td style=\"text-align: left;\">\n",
       "                    <strong>Total memory:</strong> 0 B\n",
       "                </td>\n",
       "            </tr>\n",
       "            \n",
       "        </table>\n",
       "\n",
       "        <details>\n",
       "            <summary style=\"margin-bottom: 20px;\">\n",
       "                <h3 style=\"display: inline;\">Scheduler Info</h3>\n",
       "            </summary>\n",
       "\n",
       "            <div style=\"\">\n",
       "    <div>\n",
       "        <div style=\"width: 24px; height: 24px; background-color: #FFF7E5; border: 3px solid #FF6132; border-radius: 5px; position: absolute;\"> </div>\n",
       "        <div style=\"margin-left: 48px;\">\n",
       "            <h3 style=\"margin-bottom: 0px;\">Scheduler</h3>\n",
       "            <p style=\"color: #9D9D9D; margin-bottom: 0px;\">Scheduler-9900ae54-fbf5-4ed2-a3bf-445797eb2748</p>\n",
       "            <table style=\"width: 100%; text-align: left;\">\n",
       "                <tr>\n",
       "                    <td style=\"text-align: left;\">\n",
       "                        <strong>Comm:</strong> tcp://10.12.206.36:42449\n",
       "                    </td>\n",
       "                    <td style=\"text-align: left;\">\n",
       "                        <strong>Workers:</strong> 0\n",
       "                    </td>\n",
       "                </tr>\n",
       "                <tr>\n",
       "                    <td style=\"text-align: left;\">\n",
       "                        <strong>Dashboard:</strong> <a href=\"https://jupyterhub.hpc.ucar.edu/stable/user/mauricio/mrocha/proxy/8787/status\" target=\"_blank\">https://jupyterhub.hpc.ucar.edu/stable/user/mauricio/mrocha/proxy/8787/status</a>\n",
       "                    </td>\n",
       "                    <td style=\"text-align: left;\">\n",
       "                        <strong>Total threads:</strong> 0\n",
       "                    </td>\n",
       "                </tr>\n",
       "                <tr>\n",
       "                    <td style=\"text-align: left;\">\n",
       "                        <strong>Started:</strong> Just now\n",
       "                    </td>\n",
       "                    <td style=\"text-align: left;\">\n",
       "                        <strong>Total memory:</strong> 0 B\n",
       "                    </td>\n",
       "                </tr>\n",
       "            </table>\n",
       "        </div>\n",
       "    </div>\n",
       "\n",
       "    <details style=\"margin-left: 48px;\">\n",
       "        <summary style=\"margin-bottom: 20px;\">\n",
       "            <h3 style=\"display: inline;\">Workers</h3>\n",
       "        </summary>\n",
       "\n",
       "        \n",
       "\n",
       "    </details>\n",
       "</div>\n",
       "\n",
       "        </details>\n",
       "    </div>\n",
       "</div>\n",
       "            </details>\n",
       "        \n",
       "\n",
       "    </div>\n",
       "</div>"
      ],
      "text/plain": [
       "<Client: 'tcp://10.12.206.36:42449' processes=0 threads=0, memory=0 B>"
      ]
     },
     "execution_count": 2,
     "metadata": {},
     "output_type": "execute_result"
    }
   ],
   "source": [
    "mem_per_worker = 90 # memory per worker in GB \n",
    "num_workers = 26 # number of workers\n",
    "cluster = NCARCluster(cores=1, processes=1, memory=f'{mem_per_worker} GB',resource_spec=f'select=1:ncpus=1:mem={mem_per_worker}GB', walltime='6:00:00')\n",
    "cluster.scale(num_workers)\n",
    "client = Client(cluster)\n",
    "print(client)\n",
    "client"
   ]
  },
  {
   "cell_type": "markdown",
   "metadata": {},
   "source": [
    "### Read in OGCM history file & MOC template file"
   ]
  },
  {
   "cell_type": "code",
   "execution_count": 3,
   "metadata": {},
   "outputs": [
    {
     "name": "stderr",
     "output_type": "stream",
     "text": [
      "/glade/u/home/mauricio/.local/lib/python3.8/site-packages/intake_esm/utils.py:96: DtypeWarning: Columns (5,6,9) have mixed types. Specify dtype option on import or set low_memory=False.\n",
      "  return pd.read_csv(catalog_path, **csv_kwargs), catalog_path\n"
     ]
    }
   ],
   "source": [
    "catalog = intake.open_esm_datastore(\n",
    "    '/glade/collections/cmip/catalog/intake-esm-datastore/catalogs/glade-cesm2-le.json'\n",
    ")"
   ]
  },
  {
   "cell_type": "code",
   "execution_count": 4,
   "metadata": {},
   "outputs": [],
   "source": [
    "cat_subset = catalog.search(component='ocn',variable=['N_HEAT','SHF','TEMP','TEND_TEMP'],frequency='month_1')"
   ]
  },
  {
   "cell_type": "code",
   "execution_count": 5,
   "metadata": {},
   "outputs": [
    {
     "name": "stdout",
     "output_type": "stream",
     "text": [
      "\n",
      "--> The keys in the returned dictionary of datasets are constructed as follows:\n",
      "\t'component.experiment.stream.forcing_variant.variable'\n"
     ]
    },
    {
     "data": {
      "text/html": [
       "\n",
       "<style>\n",
       "    /* Turns off some styling */\n",
       "    progress {\n",
       "        /* gets rid of default border in Firefox and Opera. */\n",
       "        border: none;\n",
       "        /* Needs to be in here for Safari polyfill so background images work as expected. */\n",
       "        background-size: auto;\n",
       "    }\n",
       "    progress:not([value]), progress:not([value])::-webkit-progress-bar {\n",
       "        background: repeating-linear-gradient(45deg, #7e7e7e, #7e7e7e 10px, #5c5c5c 10px, #5c5c5c 20px);\n",
       "    }\n",
       "    .progress-bar-interrupted, .progress-bar-interrupted::-webkit-progress-bar {\n",
       "        background: #F44336;\n",
       "    }\n",
       "</style>\n"
      ],
      "text/plain": [
       "<IPython.core.display.HTML object>"
      ]
     },
     "metadata": {},
     "output_type": "display_data"
    },
    {
     "data": {
      "text/html": [
       "\n",
       "    <div>\n",
       "      <progress value='16' class='' max='16' style='width:300px; height:20px; vertical-align: middle;'></progress>\n",
       "      100.00% [16/16 03:14&lt;00:00]\n",
       "    </div>\n",
       "    "
      ],
      "text/plain": [
       "<IPython.core.display.HTML object>"
      ]
     },
     "metadata": {},
     "output_type": "display_data"
    },
    {
     "name": "stdout",
     "output_type": "stream",
     "text": [
      "\n",
      "Dataset dictionary keys:\n",
      " dict_keys(['ocn.ssp370.pop.h.cmip6.SHF', 'ocn.ssp370.pop.h.smbb.TEMP', 'ocn.historical.pop.h.smbb.TEMP', 'ocn.ssp370.pop.h.cmip6.TEND_TEMP', 'ocn.ssp370.pop.h.smbb.N_HEAT', 'ocn.historical.pop.h.cmip6.SHF', 'ocn.historical.pop.h.cmip6.TEND_TEMP', 'ocn.ssp370.pop.h.smbb.TEND_TEMP', 'ocn.historical.pop.h.smbb.SHF', 'ocn.ssp370.pop.h.cmip6.N_HEAT', 'ocn.historical.pop.h.cmip6.TEMP', 'ocn.historical.pop.h.cmip6.N_HEAT', 'ocn.ssp370.pop.h.smbb.SHF', 'ocn.ssp370.pop.h.cmip6.TEMP', 'ocn.historical.pop.h.smbb.N_HEAT', 'ocn.historical.pop.h.smbb.TEND_TEMP'])\n"
     ]
    }
   ],
   "source": [
    "# Load catalog entries for subset into a dictionary of xarray datasets\n",
    "dset_dict_raw  = cat_subset.to_dataset_dict(zarr_kwargs={'consolidated': True}, storage_options={'anon': True})\n",
    "print(f'\\nDataset dictionary keys:\\n {dset_dict_raw.keys()}')"
   ]
  },
  {
   "cell_type": "markdown",
   "metadata": {},
   "source": [
    "### Concatenation of variables"
   ]
  },
  {
   "cell_type": "code",
   "execution_count": 7,
   "metadata": {},
   "outputs": [
    {
     "name": "stdout",
     "output_type": "stream",
     "text": [
      "N_HEAT: Done!\n",
      "SHF: Done!\n",
      "TEMP: Done!\n",
      "TEND_TEMP: Done!\n"
     ]
    }
   ],
   "source": [
    "fb=(['N_HEAT','SHF','TEMP','TEND_TEMP']) # Meridional heat transport [PW], total surface heat flux [W/m2], temperature [oC], and temperature tendency [oC/s]\n",
    "pd=('historical','ssp370') # periods (historical and projection)\n",
    "ff=('cmip6','smbb') # forcings\n",
    "for ifb in range(0,len(fb)): # variables\n",
    "    for iff in range(0,len(ff)): # forcing\n",
    "        for ipd in range(0,len(pd)): # period\n",
    "            st=f'ds_{pd[ipd]}_{ff[iff]}_{fb[ifb]} = dset_dict_raw[\\'ocn.{pd[ipd]}.pop.h.{ff[iff]}.{fb[ifb]}\\']'; exec(st); del st\n",
    "        st=f'ds_{ff[iff]}_{fb[ifb]}=xr.combine_nested([ds_{pd[0]}_{ff[iff]}_{fb[ifb]},ds_{pd[1]}_{ff[iff]}_{fb[ifb]}],concat_dim=[\\'time\\'])'; exec(st); del st # period\n",
    "    st=f'ds_{fb[ifb]}=xr.combine_nested([ds_{ff[0]}_{fb[ifb]},ds_{ff[1]}_{fb[ifb]}],concat_dim=[\\'member_id\\'])'; exec(st); del st # forcings\n",
    "    print(f'{fb[ifb]}: Done!')"
   ]
  },
  {
   "cell_type": "markdown",
   "metadata": {},
   "source": [
    "### Import POP grid"
   ]
  },
  {
   "cell_type": "code",
   "execution_count": 8,
   "metadata": {},
   "outputs": [
    {
     "name": "stderr",
     "output_type": "stream",
     "text": [
      "/glade/u/apps/opt/conda/envs/npl-2022b/lib/python3.8/site-packages/numba/np/ufunc/parallel.py:365: NumbaWarning: \u001b[1mThe TBB threading layer requires TBB version 2019.5 or later i.e., TBB_INTERFACE_VERSION >= 11005. Found TBB_INTERFACE_VERSION = 6103. The TBB threading layer is disabled.\u001b[0m\n",
      "  warnings.warn(problem)\n"
     ]
    }
   ],
   "source": [
    "pop_grid = pop_tools.get_grid('POP_gx1v7')\n",
    "ds_SHF['TLONG'] = pop_grid.TLONG; ds_SHF['TLAT'] = pop_grid.TLAT\n",
    "ds_TEMP['TLONG'] = pop_grid.TLONG; ds_TEMP['TLAT'] = pop_grid.TLAT\n",
    "ds_TEND_TEMP['TLONG'] = pop_grid.TLONG; ds_TEND_TEMP['TLAT'] = pop_grid.TLAT"
   ]
  },
  {
   "cell_type": "markdown",
   "metadata": {},
   "source": [
    "### Calculate the difference in heat transport to latitudes closer to the equator and 34S\n",
    "- We chose 34 instead of 34.5S, because at 34S we are sure that there is no water leakage south of Africa "
   ]
  },
  {
   "cell_type": "code",
   "execution_count": 10,
   "metadata": {},
   "outputs": [
    {
     "data": {
      "text/html": [
       "<div><svg style=\"position: absolute; width: 0; height: 0; overflow: hidden\">\n",
       "<defs>\n",
       "<symbol id=\"icon-database\" viewBox=\"0 0 32 32\">\n",
       "<path d=\"M16 0c-8.837 0-16 2.239-16 5v4c0 2.761 7.163 5 16 5s16-2.239 16-5v-4c0-2.761-7.163-5-16-5z\"></path>\n",
       "<path d=\"M16 17c-8.837 0-16-2.239-16-5v6c0 2.761 7.163 5 16 5s16-2.239 16-5v-6c0 2.761-7.163 5-16 5z\"></path>\n",
       "<path d=\"M16 26c-8.837 0-16-2.239-16-5v6c0 2.761 7.163 5 16 5s16-2.239 16-5v-6c0 2.761-7.163 5-16 5z\"></path>\n",
       "</symbol>\n",
       "<symbol id=\"icon-file-text2\" viewBox=\"0 0 32 32\">\n",
       "<path d=\"M28.681 7.159c-0.694-0.947-1.662-2.053-2.724-3.116s-2.169-2.030-3.116-2.724c-1.612-1.182-2.393-1.319-2.841-1.319h-15.5c-1.378 0-2.5 1.121-2.5 2.5v27c0 1.378 1.122 2.5 2.5 2.5h23c1.378 0 2.5-1.122 2.5-2.5v-19.5c0-0.448-0.137-1.23-1.319-2.841zM24.543 5.457c0.959 0.959 1.712 1.825 2.268 2.543h-4.811v-4.811c0.718 0.556 1.584 1.309 2.543 2.268zM28 29.5c0 0.271-0.229 0.5-0.5 0.5h-23c-0.271 0-0.5-0.229-0.5-0.5v-27c0-0.271 0.229-0.5 0.5-0.5 0 0 15.499-0 15.5 0v7c0 0.552 0.448 1 1 1h7v19.5z\"></path>\n",
       "<path d=\"M23 26h-14c-0.552 0-1-0.448-1-1s0.448-1 1-1h14c0.552 0 1 0.448 1 1s-0.448 1-1 1z\"></path>\n",
       "<path d=\"M23 22h-14c-0.552 0-1-0.448-1-1s0.448-1 1-1h14c0.552 0 1 0.448 1 1s-0.448 1-1 1z\"></path>\n",
       "<path d=\"M23 18h-14c-0.552 0-1-0.448-1-1s0.448-1 1-1h14c0.552 0 1 0.448 1 1s-0.448 1-1 1z\"></path>\n",
       "</symbol>\n",
       "</defs>\n",
       "</svg>\n",
       "<style>/* CSS stylesheet for displaying xarray objects in jupyterlab.\n",
       " *\n",
       " */\n",
       "\n",
       ":root {\n",
       "  --xr-font-color0: var(--jp-content-font-color0, rgba(0, 0, 0, 1));\n",
       "  --xr-font-color2: var(--jp-content-font-color2, rgba(0, 0, 0, 0.54));\n",
       "  --xr-font-color3: var(--jp-content-font-color3, rgba(0, 0, 0, 0.38));\n",
       "  --xr-border-color: var(--jp-border-color2, #e0e0e0);\n",
       "  --xr-disabled-color: var(--jp-layout-color3, #bdbdbd);\n",
       "  --xr-background-color: var(--jp-layout-color0, white);\n",
       "  --xr-background-color-row-even: var(--jp-layout-color1, white);\n",
       "  --xr-background-color-row-odd: var(--jp-layout-color2, #eeeeee);\n",
       "}\n",
       "\n",
       "html[theme=dark],\n",
       "body[data-theme=dark],\n",
       "body.vscode-dark {\n",
       "  --xr-font-color0: rgba(255, 255, 255, 1);\n",
       "  --xr-font-color2: rgba(255, 255, 255, 0.54);\n",
       "  --xr-font-color3: rgba(255, 255, 255, 0.38);\n",
       "  --xr-border-color: #1F1F1F;\n",
       "  --xr-disabled-color: #515151;\n",
       "  --xr-background-color: #111111;\n",
       "  --xr-background-color-row-even: #111111;\n",
       "  --xr-background-color-row-odd: #313131;\n",
       "}\n",
       "\n",
       ".xr-wrap {\n",
       "  display: block !important;\n",
       "  min-width: 300px;\n",
       "  max-width: 700px;\n",
       "}\n",
       "\n",
       ".xr-text-repr-fallback {\n",
       "  /* fallback to plain text repr when CSS is not injected (untrusted notebook) */\n",
       "  display: none;\n",
       "}\n",
       "\n",
       ".xr-header {\n",
       "  padding-top: 6px;\n",
       "  padding-bottom: 6px;\n",
       "  margin-bottom: 4px;\n",
       "  border-bottom: solid 1px var(--xr-border-color);\n",
       "}\n",
       "\n",
       ".xr-header > div,\n",
       ".xr-header > ul {\n",
       "  display: inline;\n",
       "  margin-top: 0;\n",
       "  margin-bottom: 0;\n",
       "}\n",
       "\n",
       ".xr-obj-type,\n",
       ".xr-array-name {\n",
       "  margin-left: 2px;\n",
       "  margin-right: 10px;\n",
       "}\n",
       "\n",
       ".xr-obj-type {\n",
       "  color: var(--xr-font-color2);\n",
       "}\n",
       "\n",
       ".xr-sections {\n",
       "  padding-left: 0 !important;\n",
       "  display: grid;\n",
       "  grid-template-columns: 150px auto auto 1fr 20px 20px;\n",
       "}\n",
       "\n",
       ".xr-section-item {\n",
       "  display: contents;\n",
       "}\n",
       "\n",
       ".xr-section-item input {\n",
       "  display: none;\n",
       "}\n",
       "\n",
       ".xr-section-item input + label {\n",
       "  color: var(--xr-disabled-color);\n",
       "}\n",
       "\n",
       ".xr-section-item input:enabled + label {\n",
       "  cursor: pointer;\n",
       "  color: var(--xr-font-color2);\n",
       "}\n",
       "\n",
       ".xr-section-item input:enabled + label:hover {\n",
       "  color: var(--xr-font-color0);\n",
       "}\n",
       "\n",
       ".xr-section-summary {\n",
       "  grid-column: 1;\n",
       "  color: var(--xr-font-color2);\n",
       "  font-weight: 500;\n",
       "}\n",
       "\n",
       ".xr-section-summary > span {\n",
       "  display: inline-block;\n",
       "  padding-left: 0.5em;\n",
       "}\n",
       "\n",
       ".xr-section-summary-in:disabled + label {\n",
       "  color: var(--xr-font-color2);\n",
       "}\n",
       "\n",
       ".xr-section-summary-in + label:before {\n",
       "  display: inline-block;\n",
       "  content: '►';\n",
       "  font-size: 11px;\n",
       "  width: 15px;\n",
       "  text-align: center;\n",
       "}\n",
       "\n",
       ".xr-section-summary-in:disabled + label:before {\n",
       "  color: var(--xr-disabled-color);\n",
       "}\n",
       "\n",
       ".xr-section-summary-in:checked + label:before {\n",
       "  content: '▼';\n",
       "}\n",
       "\n",
       ".xr-section-summary-in:checked + label > span {\n",
       "  display: none;\n",
       "}\n",
       "\n",
       ".xr-section-summary,\n",
       ".xr-section-inline-details {\n",
       "  padding-top: 4px;\n",
       "  padding-bottom: 4px;\n",
       "}\n",
       "\n",
       ".xr-section-inline-details {\n",
       "  grid-column: 2 / -1;\n",
       "}\n",
       "\n",
       ".xr-section-details {\n",
       "  display: none;\n",
       "  grid-column: 1 / -1;\n",
       "  margin-bottom: 5px;\n",
       "}\n",
       "\n",
       ".xr-section-summary-in:checked ~ .xr-section-details {\n",
       "  display: contents;\n",
       "}\n",
       "\n",
       ".xr-array-wrap {\n",
       "  grid-column: 1 / -1;\n",
       "  display: grid;\n",
       "  grid-template-columns: 20px auto;\n",
       "}\n",
       "\n",
       ".xr-array-wrap > label {\n",
       "  grid-column: 1;\n",
       "  vertical-align: top;\n",
       "}\n",
       "\n",
       ".xr-preview {\n",
       "  color: var(--xr-font-color3);\n",
       "}\n",
       "\n",
       ".xr-array-preview,\n",
       ".xr-array-data {\n",
       "  padding: 0 5px !important;\n",
       "  grid-column: 2;\n",
       "}\n",
       "\n",
       ".xr-array-data,\n",
       ".xr-array-in:checked ~ .xr-array-preview {\n",
       "  display: none;\n",
       "}\n",
       "\n",
       ".xr-array-in:checked ~ .xr-array-data,\n",
       ".xr-array-preview {\n",
       "  display: inline-block;\n",
       "}\n",
       "\n",
       ".xr-dim-list {\n",
       "  display: inline-block !important;\n",
       "  list-style: none;\n",
       "  padding: 0 !important;\n",
       "  margin: 0;\n",
       "}\n",
       "\n",
       ".xr-dim-list li {\n",
       "  display: inline-block;\n",
       "  padding: 0;\n",
       "  margin: 0;\n",
       "}\n",
       "\n",
       ".xr-dim-list:before {\n",
       "  content: '(';\n",
       "}\n",
       "\n",
       ".xr-dim-list:after {\n",
       "  content: ')';\n",
       "}\n",
       "\n",
       ".xr-dim-list li:not(:last-child):after {\n",
       "  content: ',';\n",
       "  padding-right: 5px;\n",
       "}\n",
       "\n",
       ".xr-has-index {\n",
       "  font-weight: bold;\n",
       "}\n",
       "\n",
       ".xr-var-list,\n",
       ".xr-var-item {\n",
       "  display: contents;\n",
       "}\n",
       "\n",
       ".xr-var-item > div,\n",
       ".xr-var-item label,\n",
       ".xr-var-item > .xr-var-name span {\n",
       "  background-color: var(--xr-background-color-row-even);\n",
       "  margin-bottom: 0;\n",
       "}\n",
       "\n",
       ".xr-var-item > .xr-var-name:hover span {\n",
       "  padding-right: 5px;\n",
       "}\n",
       "\n",
       ".xr-var-list > li:nth-child(odd) > div,\n",
       ".xr-var-list > li:nth-child(odd) > label,\n",
       ".xr-var-list > li:nth-child(odd) > .xr-var-name span {\n",
       "  background-color: var(--xr-background-color-row-odd);\n",
       "}\n",
       "\n",
       ".xr-var-name {\n",
       "  grid-column: 1;\n",
       "}\n",
       "\n",
       ".xr-var-dims {\n",
       "  grid-column: 2;\n",
       "}\n",
       "\n",
       ".xr-var-dtype {\n",
       "  grid-column: 3;\n",
       "  text-align: right;\n",
       "  color: var(--xr-font-color2);\n",
       "}\n",
       "\n",
       ".xr-var-preview {\n",
       "  grid-column: 4;\n",
       "}\n",
       "\n",
       ".xr-var-name,\n",
       ".xr-var-dims,\n",
       ".xr-var-dtype,\n",
       ".xr-preview,\n",
       ".xr-attrs dt {\n",
       "  white-space: nowrap;\n",
       "  overflow: hidden;\n",
       "  text-overflow: ellipsis;\n",
       "  padding-right: 10px;\n",
       "}\n",
       "\n",
       ".xr-var-name:hover,\n",
       ".xr-var-dims:hover,\n",
       ".xr-var-dtype:hover,\n",
       ".xr-attrs dt:hover {\n",
       "  overflow: visible;\n",
       "  width: auto;\n",
       "  z-index: 1;\n",
       "}\n",
       "\n",
       ".xr-var-attrs,\n",
       ".xr-var-data {\n",
       "  display: none;\n",
       "  background-color: var(--xr-background-color) !important;\n",
       "  padding-bottom: 5px !important;\n",
       "}\n",
       "\n",
       ".xr-var-attrs-in:checked ~ .xr-var-attrs,\n",
       ".xr-var-data-in:checked ~ .xr-var-data {\n",
       "  display: block;\n",
       "}\n",
       "\n",
       ".xr-var-data > table {\n",
       "  float: right;\n",
       "}\n",
       "\n",
       ".xr-var-name span,\n",
       ".xr-var-data,\n",
       ".xr-attrs {\n",
       "  padding-left: 25px !important;\n",
       "}\n",
       "\n",
       ".xr-attrs,\n",
       ".xr-var-attrs,\n",
       ".xr-var-data {\n",
       "  grid-column: 1 / -1;\n",
       "}\n",
       "\n",
       "dl.xr-attrs {\n",
       "  padding: 0;\n",
       "  margin: 0;\n",
       "  display: grid;\n",
       "  grid-template-columns: 125px auto;\n",
       "}\n",
       "\n",
       ".xr-attrs dt,\n",
       ".xr-attrs dd {\n",
       "  padding: 0;\n",
       "  margin: 0;\n",
       "  float: left;\n",
       "  padding-right: 10px;\n",
       "  width: auto;\n",
       "}\n",
       "\n",
       ".xr-attrs dt {\n",
       "  font-weight: normal;\n",
       "  grid-column: 1;\n",
       "}\n",
       "\n",
       ".xr-attrs dt:hover span {\n",
       "  display: inline-block;\n",
       "  background: var(--xr-background-color);\n",
       "  padding-right: 10px;\n",
       "}\n",
       "\n",
       ".xr-attrs dd {\n",
       "  grid-column: 2;\n",
       "  white-space: pre-wrap;\n",
       "  word-break: break-all;\n",
       "}\n",
       "\n",
       ".xr-icon-database,\n",
       ".xr-icon-file-text2 {\n",
       "  display: inline-block;\n",
       "  vertical-align: middle;\n",
       "  width: 1em;\n",
       "  height: 1.5em !important;\n",
       "  stroke-width: 0;\n",
       "  stroke: currentColor;\n",
       "  fill: currentColor;\n",
       "}\n",
       "</style><pre class='xr-text-repr-fallback'>&lt;xarray.DataArray &#x27;N_HEAT&#x27; (member_id: 100, time: 3012)&gt;\n",
       "dask.array&lt;sum-aggregate, shape=(100, 3012), dtype=float32, chunksize=(1, 120), chunktype=numpy.ndarray&gt;\n",
       "Coordinates:\n",
       "    transport_regions  |S384 dask.array&lt;chunksize=(), meta=np.ndarray&gt;\n",
       "  * time               (time) object 1850-02-01 00:00:00 ... 2101-01-01 00:00:00\n",
       "  * member_id          (member_id) &lt;U12 &#x27;r10i1181p1f1&#x27; ... &#x27;r9i1171p1f2&#x27;</pre><div class='xr-wrap' style='display:none'><div class='xr-header'><div class='xr-obj-type'>xarray.DataArray</div><div class='xr-array-name'>'N_HEAT'</div><ul class='xr-dim-list'><li><span class='xr-has-index'>member_id</span>: 100</li><li><span class='xr-has-index'>time</span>: 3012</li></ul></div><ul class='xr-sections'><li class='xr-section-item'><div class='xr-array-wrap'><input id='section-20ec74fa-56c3-4bb2-a793-a30384cf9d20' class='xr-array-in' type='checkbox' checked><label for='section-20ec74fa-56c3-4bb2-a793-a30384cf9d20' title='Show/hide data repr'><svg class='icon xr-icon-database'><use xlink:href='#icon-database'></use></svg></label><div class='xr-array-preview xr-preview'><span>dask.array&lt;chunksize=(1, 120), meta=np.ndarray&gt;</span></div><div class='xr-array-data'><table>\n",
       "    <tr>\n",
       "        <td>\n",
       "            <table>\n",
       "                <thead>\n",
       "                    <tr>\n",
       "                        <td> </td>\n",
       "                        <th> Array </th>\n",
       "                        <th> Chunk </th>\n",
       "                    </tr>\n",
       "                </thead>\n",
       "                <tbody>\n",
       "                    \n",
       "                    <tr>\n",
       "                        <th> Bytes </th>\n",
       "                        <td> 1.15 MiB </td>\n",
       "                        <td> 480 B </td>\n",
       "                    </tr>\n",
       "                    \n",
       "                    <tr>\n",
       "                        <th> Shape </th>\n",
       "                        <td> (100, 3012) </td>\n",
       "                        <td> (1, 120) </td>\n",
       "                    </tr>\n",
       "                    <tr>\n",
       "                        <th> Count </th>\n",
       "                        <td> 39000 Tasks </td>\n",
       "                        <td> 2600 Chunks </td>\n",
       "                    </tr>\n",
       "                    <tr>\n",
       "                    <th> Type </th>\n",
       "                    <td> float32 </td>\n",
       "                    <td> numpy.ndarray </td>\n",
       "                    </tr>\n",
       "                </tbody>\n",
       "            </table>\n",
       "        </td>\n",
       "        <td>\n",
       "        <svg width=\"170\" height=\"82\" style=\"stroke:rgb(0,0,0);stroke-width:1\" >\n",
       "\n",
       "  <!-- Horizontal lines -->\n",
       "  <line x1=\"0\" y1=\"0\" x2=\"120\" y2=\"0\" style=\"stroke-width:2\" />\n",
       "  <line x1=\"0\" y1=\"1\" x2=\"120\" y2=\"1\" />\n",
       "  <line x1=\"0\" y1=\"3\" x2=\"120\" y2=\"3\" />\n",
       "  <line x1=\"0\" y1=\"4\" x2=\"120\" y2=\"4\" />\n",
       "  <line x1=\"0\" y1=\"6\" x2=\"120\" y2=\"6\" />\n",
       "  <line x1=\"0\" y1=\"8\" x2=\"120\" y2=\"8\" />\n",
       "  <line x1=\"0\" y1=\"9\" x2=\"120\" y2=\"9\" />\n",
       "  <line x1=\"0\" y1=\"11\" x2=\"120\" y2=\"11\" />\n",
       "  <line x1=\"0\" y1=\"13\" x2=\"120\" y2=\"13\" />\n",
       "  <line x1=\"0\" y1=\"15\" x2=\"120\" y2=\"15\" />\n",
       "  <line x1=\"0\" y1=\"16\" x2=\"120\" y2=\"16\" />\n",
       "  <line x1=\"0\" y1=\"18\" x2=\"120\" y2=\"18\" />\n",
       "  <line x1=\"0\" y1=\"20\" x2=\"120\" y2=\"20\" />\n",
       "  <line x1=\"0\" y1=\"21\" x2=\"120\" y2=\"21\" />\n",
       "  <line x1=\"0\" y1=\"23\" x2=\"120\" y2=\"23\" />\n",
       "  <line x1=\"0\" y1=\"24\" x2=\"120\" y2=\"24\" />\n",
       "  <line x1=\"0\" y1=\"26\" x2=\"120\" y2=\"26\" />\n",
       "  <line x1=\"0\" y1=\"28\" x2=\"120\" y2=\"28\" />\n",
       "  <line x1=\"0\" y1=\"30\" x2=\"120\" y2=\"30\" />\n",
       "  <line x1=\"0\" y1=\"32\" x2=\"120\" y2=\"32\" style=\"stroke-width:2\" />\n",
       "\n",
       "  <!-- Vertical lines -->\n",
       "  <line x1=\"0\" y1=\"0\" x2=\"0\" y2=\"32\" style=\"stroke-width:2\" />\n",
       "  <line x1=\"4\" y1=\"0\" x2=\"4\" y2=\"32\" />\n",
       "  <line x1=\"9\" y1=\"0\" x2=\"9\" y2=\"32\" />\n",
       "  <line x1=\"19\" y1=\"0\" x2=\"19\" y2=\"32\" />\n",
       "  <line x1=\"23\" y1=\"0\" x2=\"23\" y2=\"32\" />\n",
       "  <line x1=\"28\" y1=\"0\" x2=\"28\" y2=\"32\" />\n",
       "  <line x1=\"38\" y1=\"0\" x2=\"38\" y2=\"32\" />\n",
       "  <line x1=\"43\" y1=\"0\" x2=\"43\" y2=\"32\" />\n",
       "  <line x1=\"47\" y1=\"0\" x2=\"47\" y2=\"32\" />\n",
       "  <line x1=\"57\" y1=\"0\" x2=\"57\" y2=\"32\" />\n",
       "  <line x1=\"62\" y1=\"0\" x2=\"62\" y2=\"32\" />\n",
       "  <line x1=\"71\" y1=\"0\" x2=\"71\" y2=\"32\" />\n",
       "  <line x1=\"76\" y1=\"0\" x2=\"76\" y2=\"32\" />\n",
       "  <line x1=\"78\" y1=\"0\" x2=\"78\" y2=\"32\" />\n",
       "  <line x1=\"88\" y1=\"0\" x2=\"88\" y2=\"32\" />\n",
       "  <line x1=\"93\" y1=\"0\" x2=\"93\" y2=\"32\" />\n",
       "  <line x1=\"98\" y1=\"0\" x2=\"98\" y2=\"32\" />\n",
       "  <line x1=\"107\" y1=\"0\" x2=\"107\" y2=\"32\" />\n",
       "  <line x1=\"112\" y1=\"0\" x2=\"112\" y2=\"32\" />\n",
       "  <line x1=\"120\" y1=\"0\" x2=\"120\" y2=\"32\" style=\"stroke-width:2\" />\n",
       "\n",
       "  <!-- Colored Rectangle -->\n",
       "  <polygon points=\"0.0,0.0 120.0,0.0 120.0,32.00021714516418 0.0,32.00021714516418\" style=\"fill:#8B4903A0;stroke-width:0\"/>\n",
       "\n",
       "  <!-- Text -->\n",
       "  <text x=\"60.000000\" y=\"52.000217\" font-size=\"1.0rem\" font-weight=\"100\" text-anchor=\"middle\" >3012</text>\n",
       "  <text x=\"140.000000\" y=\"16.000109\" font-size=\"1.0rem\" font-weight=\"100\" text-anchor=\"middle\" transform=\"rotate(-90,140.000000,16.000109)\">100</text>\n",
       "</svg>\n",
       "        </td>\n",
       "    </tr>\n",
       "</table></div></div></li><li class='xr-section-item'><input id='section-db9c7e3a-08f2-43d1-9ba6-40a84bf01af9' class='xr-section-summary-in' type='checkbox'  checked><label for='section-db9c7e3a-08f2-43d1-9ba6-40a84bf01af9' class='xr-section-summary' >Coordinates: <span>(3)</span></label><div class='xr-section-inline-details'></div><div class='xr-section-details'><ul class='xr-var-list'><li class='xr-var-item'><div class='xr-var-name'><span>transport_regions</span></div><div class='xr-var-dims'>()</div><div class='xr-var-dtype'>|S384</div><div class='xr-var-preview xr-preview'>dask.array&lt;chunksize=(), meta=np.ndarray&gt;</div><input id='attrs-e5c5f663-8bb7-4503-9899-9eafeea80158' class='xr-var-attrs-in' type='checkbox' ><label for='attrs-e5c5f663-8bb7-4503-9899-9eafeea80158' title='Show/Hide attributes'><svg class='icon xr-icon-file-text2'><use xlink:href='#icon-file-text2'></use></svg></label><input id='data-c0988538-443d-4b26-af4e-94f49d474c2b' class='xr-var-data-in' type='checkbox'><label for='data-c0988538-443d-4b26-af4e-94f49d474c2b' title='Show/Hide data repr'><svg class='icon xr-icon-database'><use xlink:href='#icon-database'></use></svg></label><div class='xr-var-attrs'><dl class='xr-attrs'><dt><span>long_name :</span></dt><dd>regions for all transport diagnostics</dd><dt><span>units :</span></dt><dd></dd></dl></div><div class='xr-var-data'><table>\n",
       "    <tr>\n",
       "        <td>\n",
       "            <table>\n",
       "                <thead>\n",
       "                    <tr>\n",
       "                        <td> </td>\n",
       "                        <th> Array </th>\n",
       "                        <th> Chunk </th>\n",
       "                    </tr>\n",
       "                </thead>\n",
       "                <tbody>\n",
       "                    \n",
       "                    <tr>\n",
       "                        <th> Bytes </th>\n",
       "                        <td> 384 B </td>\n",
       "                        <td> 384 B </td>\n",
       "                    </tr>\n",
       "                    \n",
       "                    <tr>\n",
       "                        <th> Shape </th>\n",
       "                        <td> () </td>\n",
       "                        <td> () </td>\n",
       "                    </tr>\n",
       "                    <tr>\n",
       "                        <th> Count </th>\n",
       "                        <td> 7 Tasks </td>\n",
       "                        <td> 1 Chunks </td>\n",
       "                    </tr>\n",
       "                    <tr>\n",
       "                    <th> Type </th>\n",
       "                    <td> |S384 </td>\n",
       "                    <td> numpy.ndarray </td>\n",
       "                    </tr>\n",
       "                </tbody>\n",
       "            </table>\n",
       "        </td>\n",
       "        <td>\n",
       "        \n",
       "        </td>\n",
       "    </tr>\n",
       "</table></div></li><li class='xr-var-item'><div class='xr-var-name'><span class='xr-has-index'>time</span></div><div class='xr-var-dims'>(time)</div><div class='xr-var-dtype'>object</div><div class='xr-var-preview xr-preview'>1850-02-01 00:00:00 ... 2101-01-...</div><input id='attrs-c7cdd668-928c-4e62-95a3-6d56fe0f72fa' class='xr-var-attrs-in' type='checkbox' disabled><label for='attrs-c7cdd668-928c-4e62-95a3-6d56fe0f72fa' title='Show/Hide attributes'><svg class='icon xr-icon-file-text2'><use xlink:href='#icon-file-text2'></use></svg></label><input id='data-0bc72f5a-47e3-4b41-b2ef-4e3e31855b28' class='xr-var-data-in' type='checkbox'><label for='data-0bc72f5a-47e3-4b41-b2ef-4e3e31855b28' title='Show/Hide data repr'><svg class='icon xr-icon-database'><use xlink:href='#icon-database'></use></svg></label><div class='xr-var-attrs'><dl class='xr-attrs'></dl></div><div class='xr-var-data'><pre>array([cftime.DatetimeNoLeap(1850, 2, 1, 0, 0, 0, 0, has_year_zero=True),\n",
       "       cftime.DatetimeNoLeap(1850, 3, 1, 0, 0, 0, 0, has_year_zero=True),\n",
       "       cftime.DatetimeNoLeap(1850, 4, 1, 0, 0, 0, 0, has_year_zero=True), ...,\n",
       "       cftime.DatetimeNoLeap(2100, 11, 1, 0, 0, 0, 0, has_year_zero=True),\n",
       "       cftime.DatetimeNoLeap(2100, 12, 1, 0, 0, 0, 0, has_year_zero=True),\n",
       "       cftime.DatetimeNoLeap(2101, 1, 1, 0, 0, 0, 0, has_year_zero=True)],\n",
       "      dtype=object)</pre></div></li><li class='xr-var-item'><div class='xr-var-name'><span class='xr-has-index'>member_id</span></div><div class='xr-var-dims'>(member_id)</div><div class='xr-var-dtype'>&lt;U12</div><div class='xr-var-preview xr-preview'>&#x27;r10i1181p1f1&#x27; ... &#x27;r9i1171p1f2&#x27;</div><input id='attrs-287c85d2-e67d-44eb-ba81-772cc8fbf53b' class='xr-var-attrs-in' type='checkbox' disabled><label for='attrs-287c85d2-e67d-44eb-ba81-772cc8fbf53b' title='Show/Hide attributes'><svg class='icon xr-icon-file-text2'><use xlink:href='#icon-file-text2'></use></svg></label><input id='data-0716f212-1cad-43e6-9c09-a80d29674969' class='xr-var-data-in' type='checkbox'><label for='data-0716f212-1cad-43e6-9c09-a80d29674969' title='Show/Hide data repr'><svg class='icon xr-icon-database'><use xlink:href='#icon-database'></use></svg></label><div class='xr-var-attrs'><dl class='xr-attrs'></dl></div><div class='xr-var-data'><pre>array([&#x27;r10i1181p1f1&#x27;, &#x27;r10i1231p1f1&#x27;, &#x27;r10i1251p1f1&#x27;, &#x27;r10i1281p1f1&#x27;,\n",
       "       &#x27;r10i1301p1f1&#x27;, &#x27;r1i1001p1f1&#x27;, &#x27;r1i1231p1f1&#x27;, &#x27;r1i1251p1f1&#x27;,\n",
       "       &#x27;r1i1281p1f1&#x27;, &#x27;r1i1301p1f1&#x27;, &#x27;r2i1021p1f1&#x27;, &#x27;r2i1231p1f1&#x27;,\n",
       "       &#x27;r2i1251p1f1&#x27;, &#x27;r2i1281p1f1&#x27;, &#x27;r2i1301p1f1&#x27;, &#x27;r3i1041p1f1&#x27;,\n",
       "       &#x27;r3i1231p1f1&#x27;, &#x27;r3i1251p1f1&#x27;, &#x27;r3i1281p1f1&#x27;, &#x27;r3i1301p1f1&#x27;,\n",
       "       &#x27;r4i1061p1f1&#x27;, &#x27;r4i1231p1f1&#x27;, &#x27;r4i1251p1f1&#x27;, &#x27;r4i1281p1f1&#x27;,\n",
       "       &#x27;r4i1301p1f1&#x27;, &#x27;r5i1081p1f1&#x27;, &#x27;r5i1231p1f1&#x27;, &#x27;r5i1251p1f1&#x27;,\n",
       "       &#x27;r5i1281p1f1&#x27;, &#x27;r5i1301p1f1&#x27;, &#x27;r6i1101p1f1&#x27;, &#x27;r6i1231p1f1&#x27;,\n",
       "       &#x27;r6i1251p1f1&#x27;, &#x27;r6i1281p1f1&#x27;, &#x27;r6i1301p1f1&#x27;, &#x27;r7i1121p1f1&#x27;,\n",
       "       &#x27;r7i1231p1f1&#x27;, &#x27;r7i1251p1f1&#x27;, &#x27;r7i1281p1f1&#x27;, &#x27;r7i1301p1f1&#x27;,\n",
       "       &#x27;r8i1141p1f1&#x27;, &#x27;r8i1231p1f1&#x27;, &#x27;r8i1251p1f1&#x27;, &#x27;r8i1281p1f1&#x27;,\n",
       "       &#x27;r8i1301p1f1&#x27;, &#x27;r9i1161p1f1&#x27;, &#x27;r9i1231p1f1&#x27;, &#x27;r9i1251p1f1&#x27;,\n",
       "       &#x27;r9i1281p1f1&#x27;, &#x27;r9i1301p1f1&#x27;, &#x27;r10i1191p1f2&#x27;, &#x27;r11i1231p1f2&#x27;,\n",
       "       &#x27;r11i1251p1f2&#x27;, &#x27;r11i1281p1f2&#x27;, &#x27;r11i1301p1f2&#x27;, &#x27;r12i1231p1f2&#x27;,\n",
       "       &#x27;r12i1251p1f2&#x27;, &#x27;r12i1281p1f2&#x27;, &#x27;r12i1301p1f2&#x27;, &#x27;r13i1231p1f2&#x27;,\n",
       "       &#x27;r13i1251p1f2&#x27;, &#x27;r13i1281p1f2&#x27;, &#x27;r13i1301p1f2&#x27;, &#x27;r14i1231p1f2&#x27;,\n",
       "       &#x27;r14i1251p1f2&#x27;, &#x27;r14i1281p1f2&#x27;, &#x27;r14i1301p1f2&#x27;, &#x27;r15i1231p1f2&#x27;,\n",
       "       &#x27;r15i1251p1f2&#x27;, &#x27;r15i1281p1f2&#x27;, &#x27;r15i1301p1f2&#x27;, &#x27;r16i1231p1f2&#x27;,\n",
       "       &#x27;r16i1251p1f2&#x27;, &#x27;r16i1281p1f2&#x27;, &#x27;r16i1301p1f2&#x27;, &#x27;r17i1231p1f2&#x27;,\n",
       "       &#x27;r17i1251p1f2&#x27;, &#x27;r17i1281p1f2&#x27;, &#x27;r17i1301p1f2&#x27;, &#x27;r18i1231p1f2&#x27;,\n",
       "       &#x27;r18i1251p1f2&#x27;, &#x27;r18i1281p1f2&#x27;, &#x27;r18i1301p1f2&#x27;, &#x27;r19i1231p1f2&#x27;,\n",
       "       &#x27;r19i1251p1f2&#x27;, &#x27;r19i1281p1f2&#x27;, &#x27;r19i1301p1f2&#x27;, &#x27;r1i1011p1f2&#x27;,\n",
       "       &#x27;r20i1231p1f2&#x27;, &#x27;r20i1251p1f2&#x27;, &#x27;r20i1281p1f2&#x27;, &#x27;r20i1301p1f2&#x27;,\n",
       "       &#x27;r2i1031p1f2&#x27;, &#x27;r3i1051p1f2&#x27;, &#x27;r4i1071p1f2&#x27;, &#x27;r5i1091p1f2&#x27;,\n",
       "       &#x27;r6i1111p1f2&#x27;, &#x27;r7i1131p1f2&#x27;, &#x27;r8i1151p1f2&#x27;, &#x27;r9i1171p1f2&#x27;],\n",
       "      dtype=&#x27;&lt;U12&#x27;)</pre></div></li></ul></div></li><li class='xr-section-item'><input id='section-12d52f94-cfea-4f8d-aff5-10e037d9b591' class='xr-section-summary-in' type='checkbox' disabled ><label for='section-12d52f94-cfea-4f8d-aff5-10e037d9b591' class='xr-section-summary'  title='Expand/collapse section'>Attributes: <span>(0)</span></label><div class='xr-section-inline-details'></div><div class='xr-section-details'><dl class='xr-attrs'></dl></div></li></ul></div></div>"
      ],
      "text/plain": [
       "<xarray.DataArray 'N_HEAT' (member_id: 100, time: 3012)>\n",
       "dask.array<sum-aggregate, shape=(100, 3012), dtype=float32, chunksize=(1, 120), chunktype=numpy.ndarray>\n",
       "Coordinates:\n",
       "    transport_regions  |S384 dask.array<chunksize=(), meta=np.ndarray>\n",
       "  * time               (time) object 1850-02-01 00:00:00 ... 2101-01-01 00:00:00\n",
       "  * member_id          (member_id) <U12 'r10i1181p1f1' ... 'r9i1171p1f2'"
      ]
     },
     "execution_count": 10,
     "metadata": {},
     "output_type": "execute_result"
    }
   ],
   "source": [
    "ilan = 0 # northernmost latitude\n",
    "ilas = -34 # southernmost latitude\n",
    "ds_N_HEAT_diff=((ds_N_HEAT.N_HEAT.isel(transport_reg=1).sel(lat_aux_grid=ilan,method='nearest'))-(ds_N_HEAT.N_HEAT.isel(transport_reg=1).sel(lat_aux_grid=ilas,method='nearest'))).sum(dim='transport_comp')"
   ]
  },
  {
   "cell_type": "code",
   "execution_count": 11,
   "metadata": {},
   "outputs": [
    {
     "data": {
      "image/png": "[encoded data removed]",
      "text/plain": [
       "<Figure size 432x288 with 1 Axes>"
      ]
     },
     "metadata": {
      "needs_background": "light"
     },
     "output_type": "display_data"
    }
   ],
   "source": [
    "ds_N_HEAT_diff.sel(time=slice('1852-01-01','2100-12-31')).mean(dim='member_id').plot(linewidth=1,label='Monthly mean')\n",
    "ds_N_HEAT_diff.sel(time=slice('1852-01-01','2100-12-31')).mean(dim='member_id').resample(time='1Y',closed='left').mean('time').plot(linewidth=2, label='Annual mean')\n",
    "plt.grid()\n",
    "plt.title('South Atlantic (Northern boundary minus Southern boundary)')\n",
    "plt.xlabel('Time [Years]')\n",
    "plt.ylabel('Meridional Heat Transport Difference (0-34S) [PW]')\n",
    "plt.legend()\n",
    "plt.tight_layout()\n",
    "plt.show()"
   ]
  },
  {
   "cell_type": "markdown",
   "metadata": {},
   "source": [
    "### Select the area to compute the heat balance"
   ]
  },
  {
   "cell_type": "code",
   "execution_count": 12,
   "metadata": {},
   "outputs": [
    {
     "name": "stdout",
     "output_type": "stream",
     "text": [
      "SHF: Done!\n",
      "TEMP: Done!\n",
      "TEND_TEMP: Done!\n",
      "CPU times: user 10.6 s, sys: 337 ms, total: 10.9 s\n",
      "Wall time: 49.2 s\n"
     ]
    }
   ],
   "source": [
    "%%time\n",
    "dask.config.set({\"array.slicing.split_large_chunks\": True})\n",
    "ilon1, flon1, ilon2, flon2 = 307, 320, 0, 54 # longitude (initial, final) \n",
    "\n",
    "# Choose one the them\n",
    "var='ULAT'; avar='UAREA' # T coordinates\n",
    "#var='TLAT'; avar='TAREA' # U coordinates\n",
    "\n",
    "# Area in cm2\n",
    "st=f'ds_sa_{avar}=xr.combine_nested([[pop_grid.{avar}.where((pop_grid.{var} >= ilas) & (pop_grid.{var} <= ilan), drop=True).isel(nlon = slice(ilon1,flon1)),pop_grid.{avar}.where((pop_grid.{var} >= ilas) & (pop_grid.{var} <= ilan), drop=True).isel(nlon = slice(ilon2,flon2))]],concat_dim=[\\'nlat\\',\\'nlon\\'])'; exec(st); del st\n",
    "st=f'ds_sa_{avar}.coords[\\'nlon\\'] = (ds_sa_{avar}.coords[\\'nlon\\'] + 180) % 360 - 180'; exec(st); del st \n",
    "st=f'ds_sa_{avar} = ds_sa_{avar}.sortby(ds_sa_{avar}.nlon)'; exec(st); del st\n",
    "\n",
    "fb=(['SHF','TEMP','TEND_TEMP'])\n",
    "for ifb in range(0,len(fb)):\n",
    "    st=f'ds_sa_{fb[ifb]}=xr.combine_nested([[ds_{fb[ifb]}.{fb[ifb]}.where((ds_{fb[ifb]}.{fb[ifb]}.{var} >= ilas) & (ds_{fb[ifb]}.{fb[ifb]}.{var} <= ilan), drop=True).isel(nlon = slice(ilon1,flon1)),ds_{fb[ifb]}.{fb[ifb]}.where((ds_{fb[ifb]}.{fb[ifb]}.{var} >= ilas) & (ds_{fb[ifb]}.{fb[ifb]}.{var} <= ilan), drop=True).isel(nlon = slice(ilon2,flon2))]],concat_dim=[\\'nlat\\',\\'nlon\\'])'; exec(st); del st\n",
    "    st=f'ds_sa_{fb[ifb]}.coords[\\'nlon\\'] = (ds_sa_{fb[ifb]}.coords[\\'nlon\\'] + 180) % 360 - 180'; exec(st); del st \n",
    "    st=f'ds_sa_{fb[ifb]} = ds_sa_{fb[ifb]}.sortby(ds_sa_{fb[ifb]}.nlon)'; exec(st); del st\n",
    "\n",
    "    st=f'mask_ocean_{fb[ifb]} = 2 * np.ones((len(ds_sa_{fb[ifb]}.coords[\\'nlat\\']), len(ds_sa_{fb[ifb]}.coords[\\'nlon\\']))) * np.isfinite(ds_sa_{fb[ifb]}.isel(time=0,member_id=0))'; exec(st); del st  \n",
    "    st=f'mask_land_{fb[ifb]} = 1 * np.ones((len(ds_sa_{fb[ifb]}.coords[\\'nlat\\']), len(ds_sa_{fb[ifb]}.coords[\\'nlon\\']))) * np.isnan(ds_sa_{fb[ifb]}.isel(time=0,member_id=0))'; exec(st); del st  \n",
    "    st=f'mask_array_{fb[ifb]} = mask_ocean_{fb[ifb]} + mask_land_{fb[ifb]}'; exec(st); del st      \n",
    "    \n",
    "    if ifb>=1:\n",
    "        st=f'area_new=ds_sa_{avar}.where(mask_array_{fb[ifb]}.isel(z_t=0) != 1.).load()'; exec(st); del st # Applying the basin masks in the area\n",
    "        st=f'area_new=np.array([area_new]*len(mask_array_{fb[ifb]}.coords[\\'z_t\\']))'; exec(st) # Replicating the surface area for all as depths     \n",
    "        st=f'area_array_{fb[ifb]}=xr.DataArray(area_new, dims=[\\'z_t\\', \\'nlat\\', \\'nlon\\'])'; exec(st) # We transform the array into a xarray so that there are no mismatches in the oprerations\n",
    "        st=f'area_array_{fb[ifb]}=area_array_{fb[ifb]}.where(mask_array_{fb[ifb]} != 1.)'; exec(st) # The masks of what is ocean and what is continent or floor were built\n",
    "    else:\n",
    "        st=f'area_new=ds_sa_{avar}.where(mask_array_{fb[ifb]} != 1.).load()'; exec(st); del st # Applying the basin masks in the area\n",
    "        st=f'area_array_{fb[ifb]}=xr.DataArray(area_new, dims=[\\'nlat\\', \\'nlon\\'])'; exec(st) # We transform the array into a xarray so that there are no mismatches in the oprerations\n",
    "        st=f'area_array_{fb[ifb]}=area_array_{fb[ifb]}.where(mask_array_{fb[ifb]} != 1.)'; exec(st) # The masks of what is ocean and what is continent or floor were built\n",
    "    print(f'{fb[ifb]}: Done!')"
   ]
  },
  {
   "cell_type": "markdown",
   "metadata": {},
   "source": [
    "### Transforming from cm to meter"
   ]
  },
  {
   "cell_type": "code",
   "execution_count": 13,
   "metadata": {},
   "outputs": [],
   "source": [
    "ds_sa_dz_TEMP=ds_TEMP.dz*0.01 # cm to m\n",
    "ds_sa_dz_TEND_TEMP=ds_TEND_TEMP.dz*0.01 # cm to m"
   ]
  },
  {
   "cell_type": "code",
   "execution_count": 14,
   "metadata": {},
   "outputs": [],
   "source": [
    "ds_total_sa_SHF=(ds_sa_SHF*area_array_SHF*1e-4*1e-15).sum(dim=['nlat','nlon'],skipna=True) # Units PW "
   ]
  },
  {
   "cell_type": "markdown",
   "metadata": {},
   "source": [
    "### Here it was necessary to do the difference and not the sum of the terms to get the heat balance. This is because the SHF convection is positive to the ocean. The balance is given by every heat flux entering from the surface (positive direction of the z-axis) is equal to every flux leaving from the meridional heat transport (positive direction of the y-axis). The meirdional heat transport has a positive y-axis direction, but the SHF has not a negative z-axis direction. "
   ]
  },
  {
   "cell_type": "code",
   "execution_count": 15,
   "metadata": {},
   "outputs": [],
   "source": [
    "ds_sa_SHF_N_HEAT=ds_total_sa_SHF-ds_N_HEAT_diff "
   ]
  },
  {
   "cell_type": "markdown",
   "metadata": {},
   "source": [
    "### Converting the dimension z_t to meter"
   ]
  },
  {
   "cell_type": "code",
   "execution_count": 16,
   "metadata": {},
   "outputs": [],
   "source": [
    "ds_sa_dz_TEMP['z_t']=ds_sa_dz_TEMP['z_t']*0.01 # cm to m\n",
    "ds_sa_TEMP['z_t']=ds_sa_TEMP['z_t']*0.01 # cm to m\n",
    "ds_sa_dz_TEND_TEMP['z_t']=ds_sa_dz_TEND_TEMP['z_t']*0.01 # cm to m\n",
    "ds_sa_TEND_TEMP['z_t']=ds_sa_TEND_TEMP['z_t']*0.01 # cm to m"
   ]
  },
  {
   "cell_type": "markdown",
   "metadata": {},
   "source": [
    "### Let's compute the stored heat to compare with the heat stored due to the difference between the heat fluxes\n",
    "- We will do this in two ways: by the mean temperature and by the trend temperature (more appropriate since we are dealing with instantaneous measurements)"
   ]
  },
  {
   "cell_type": "markdown",
   "metadata": {},
   "source": [
    "##### 1- Monthly temperature "
   ]
  },
  {
   "cell_type": "markdown",
   "metadata": {},
   "source": [
    "###### Equation: $$\\rm{HS = \\uprho_\\uptheta~C_p~\\int_{z_2}^{z_1}\\uptheta_{(z)}'~dz},$$\n",
    "###### where:\n",
    "###### * HS is heat storage ($\\rm{J~m^{-2}}$),\n",
    "###### * $\\uprho$ is the density of sea water (1026 $\\rm{kg~m^{-3}}$),\n",
    "###### * $\\rm{C_p}$ is the specific heat of sea water (3996 $\\rm{J~kg^{-1}~K^{-1}}$) from the model,\n",
    "###### * $\\rm{z}$ is the depth limit on the calculation in meters,\n",
    "###### * and $\\uptheta$' is the potential temperature monthly anomaly (successor month minus previous month) at each depth in degress Kelvin. "
   ]
  },
  {
   "cell_type": "code",
   "execution_count": 18,
   "metadata": {},
   "outputs": [],
   "source": [
    "rho = 1026 # kg/m^3\n",
    "c_p = 3996 # J/(kg K) - I used the same amount of specific heat used by the model\n",
    "ds_sa_TEMP_anom=ds_sa_TEMP.diff(dim='time') # oC"
   ]
  },
  {
   "cell_type": "markdown",
   "metadata": {},
   "source": [
    "##### Integral"
   ]
  },
  {
   "cell_type": "code",
   "execution_count": null,
   "metadata": {},
   "outputs": [],
   "source": [
    "%%time\n",
    "ds_sa_HS=(((ds_sa_TEMP_anom*ds_sa_dz_TEMP).sum(dim='z_t'))*rho*c_p).load() # J m-2\n",
    "#ds_sa_HS=(((ds_sa_TEMP_anom.mean(dim='member_id')*ds_sa_dz_TEMP.mean(dim='member_id')).sum(dim='z_t'))*rho*c_p).load() # J m-2\n",
    "#sa_ds_HS=sa_ds_HS.where(mask_SHF != 9999.).load()\n",
    "#sa_ds_HS.mean(dim='time').plot()"
   ]
  },
  {
   "cell_type": "code",
   "execution_count": null,
   "metadata": {},
   "outputs": [],
   "source": [
    "ds_sa_HS=(ds_sa_HS*area_sa*1e-4).sum(dim=['nlon','nlat']) # J"
   ]
  },
  {
   "cell_type": "markdown",
   "metadata": {},
   "source": [
    "##### Time"
   ]
  },
  {
   "cell_type": "code",
   "execution_count": null,
   "metadata": {},
   "outputs": [],
   "source": [
    "%%time\n",
    "# Selecting the number of days each month has\n",
    "dt = np.empty((len(ds_sa_N_HEAT.time_bound.coords['time']))) * np.nan\n",
    "for it in range(0,len(ds_sa_N_HEAT.time_bound.coords['time'])):\n",
    "    dt[it]=np.abs(ds_sa_N_HEAT.time_bound.isel(member_id=0,time=it,d2=0).values-ds_sa_N_HEAT.time_bound.isel(member_id=0,time=it,d2=1).values).days"
   ]
  },
  {
   "cell_type": "code",
   "execution_count": null,
   "metadata": {},
   "outputs": [],
   "source": [
    "# 1 month = 60*60*24s\n",
    "# 1 W = 1e-15 PW\n",
    "ds_sa_HS_PW=ds_sa_HS*(1e-15)/(60*60*24*dt[0:-1]) # PW "
   ]
  },
  {
   "cell_type": "code",
   "execution_count": null,
   "metadata": {},
   "outputs": [],
   "source": [
    "%%time\n",
    "Total_SHF=Total_SHF.mean(dim='member_id').resample(time='1Y',closed='left').mean('time').sel(time=slice('1851-01-01','2100-12-31'))\n",
    "ds_N_HEAT_diff=ds_N_HEAT_diff.mean(dim='member_id').resample(time='1Y',closed='left').mean('time').sel(time=slice('1851-01-01','2100-12-31'))*-1\n",
    "SHF_MHT_diff=SHF_MHT_diff.mean(dim='member_id').resample(time='1Y',closed='left').mean('time').sel(time=slice('1851-01-01','2100-12-31'))\n",
    "sa_ds_HS_PW=sa_ds_HS_PW.resample(time='1Y',closed='left').mean('time').sel(time=slice('1851-01-01','2100-12-31'))"
   ]
  },
  {
   "cell_type": "code",
   "execution_count": null,
   "metadata": {},
   "outputs": [],
   "source": [
    "plt.figure(figsize=(14, 6))\n",
    "Total_SHF.plot(linewidth=1, label='SHF')\n",
    "ds_N_HEAT_diff.plot(linewidth=1, label='MHT')\n",
    "SHF_MHT_diff.plot(linewidth=1,label='SHF+MHT')\n",
    "sa_ds_HS_PW.plot(linewidth=1,label='HS')\n",
    "plt.title('South Atlantic Ocean')\n",
    "plt.xlabel('Time [Years]')\n",
    "plt.ylabel('Annual average heat balance [PW]')\n",
    "plt.grid()\n",
    "plt.legend(bbox_to_anchor=(1.05, 1.0), loc='upper left')\n",
    "plt.tight_layout()\n",
    "plt.show()"
   ]
  },
  {
   "cell_type": "code",
   "execution_count": null,
   "metadata": {},
   "outputs": [],
   "source": [
    "Total_SHF"
   ]
  },
  {
   "cell_type": "code",
   "execution_count": null,
   "metadata": {},
   "outputs": [],
   "source": [
    "# Normalized\n",
    "plt.figure(figsize=(14, 6))\n",
    "((Total_SHF-np.min(Total_SHF))/(np.max(Total_SHF)-np.min(Total_SHF))).plot(linewidth=1, label='SHF')\n",
    "((ds_N_HEAT_diff-np.min(ds_N_HEAT_diff))/(np.max(ds_N_HEAT_diff)-np.min(ds_N_HEAT_diff))).plot(linewidth=1, label='MHT')\n",
    "((SHF_MHT_diff-np.min(SHF_MHT_diff))/(np.max(SHF_MHT_diff)-np.min(SHF_MHT_diff))).plot(linewidth=1, label='SHF+MHT')\n",
    "((sa_ds_HS_PW-np.min(sa_ds_HS_PW))/(np.max(sa_ds_HS_PW)-np.min(sa_ds_HS_PW))).plot(linewidth=1, label='HS')\n",
    "plt.xlabel('Time [Years]')\n",
    "plt.ylabel('Annual average heat balance [PW]')\n",
    "plt.grid()\n",
    "plt.legend(bbox_to_anchor=(1.05, 1.0), loc='upper left')\n",
    "plt.tight_layout()\n",
    "plt.show()"
   ]
  },
  {
   "cell_type": "markdown",
   "metadata": {},
   "source": [
    "### Concluding remarks"
   ]
  },
  {
   "cell_type": "markdown",
   "metadata": {},
   "source": [
    "### What are the next steps?"
   ]
  },
  {
   "cell_type": "markdown",
   "metadata": {},
   "source": [
    "### Questions: "
   ]
  }
 ],
 "metadata": {
  "kernelspec": {
   "display_name": "NPL 2022b",
   "language": "python",
   "name": "npl-2022b"
  },
  "language_info": {
   "codemirror_mode": {
    "name": "ipython",
    "version": 3
   },
   "file_extension": ".py",
   "mimetype": "text/x-python",
   "name": "python",
   "nbconvert_exporter": "python",
   "pygments_lexer": "ipython3",
   "version": "3.8.13"
  }
 },
 "nbformat": 4,
 "nbformat_minor": 4
}
