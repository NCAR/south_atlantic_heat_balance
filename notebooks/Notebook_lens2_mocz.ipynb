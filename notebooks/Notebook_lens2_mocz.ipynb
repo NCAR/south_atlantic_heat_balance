{
 "cells": [
  {
   "cell_type": "markdown",
   "metadata": {
    "tags": []
   },
   "source": [
    "### CESM2 - LARGE ENSEMBLE (LENS2)\n",
    "\n",
    " - This Notebook aims to find the maximum, minimum, mean and root mean square error of the AMOC in the South Atlantic.\n",
    " - We also calculated the maximum AMOC on line 34.5S to compare the large set with the observation."
   ]
  },
  {
   "cell_type": "markdown",
   "metadata": {},
   "source": [
    "## Imports"
   ]
  },
  {
   "cell_type": "code",
   "execution_count": 1,
   "metadata": {},
   "outputs": [],
   "source": [
    "import xarray as xr\n",
    "import pandas as pd\n",
    "import numpy as np \n",
    "import dask\n",
    "import cf_xarray\n",
    "import intake\n",
    "import cftime\n",
    "import nc_time_axis\n",
    "import intake_esm\n",
    "import matplotlib.pyplot as plt\n",
    "import pop_tools\n",
    "from dask.distributed import Client\n",
    "from ncar_jobqueue import NCARCluster\n",
    "import warnings, getpass, os"
   ]
  },
  {
   "cell_type": "markdown",
   "metadata": {},
   "source": [
    "### Local functions"
   ]
  },
  {
   "cell_type": "code",
   "execution_count": 2,
   "metadata": {},
   "outputs": [],
   "source": [
    "def rms_da(da, dims=('moc_z','lat_aux_grid'), weights=None,  weights_sum=None):\n",
    "  \"\"\"\n",
    "  Calculates the rms in DataArray da (optional weighted rms).\n",
    "\n",
    "  ----------\n",
    "  da : xarray.DataArray\n",
    "        DataArray for which to compute (weighted) rms.\n",
    "\n",
    "  dims : tuple, str\n",
    "    Dimension(s) over which to apply reduction. Default is ('yh', 'xh').\n",
    "\n",
    "  weights : xarray.DataArray, optional\n",
    "    weights to apply. It can be a masked array.\n",
    "\n",
    "  weights_sum : xarray.DataArray, optional\n",
    "    Total weight (i.e., weights.sum()). Only computed if not provided.\n",
    "\n",
    "  Returns\n",
    "  -------\n",
    "  reduction : DataSet\n",
    "      xarray.Dataset with (optionally weighted) rms for da.\n",
    "  \"\"\"\n",
    "\n",
    "  if weights is not None:\n",
    "    if weights_sum is None: weights_sum = weights.sum(dim=dims)\n",
    "    out = np.sqrt((da**2 * weights).sum(dim=dims)/weights_sum)\n",
    "    # copy attrs\n",
    "    out.attrs = da.attrs\n",
    "    return out\n",
    "  else:\n",
    "    return np.sqrt((da**2).mean(dim=dims, keep_attrs=True))"
   ]
  },
  {
   "cell_type": "markdown",
   "metadata": {},
   "source": [
    "## Improve the workflow using clusters "
   ]
  },
  {
   "cell_type": "code",
   "execution_count": 3,
   "metadata": {},
   "outputs": [
    {
     "name": "stdout",
     "output_type": "stream",
     "text": [
      "<Client: 'tcp://10.12.206.60:42083' processes=0 threads=0, memory=0 B>\n"
     ]
    },
    {
     "data": {
      "text/html": [
       "<div>\n",
       "    <div style=\"width: 24px; height: 24px; background-color: #e1e1e1; border: 3px solid #9D9D9D; border-radius: 5px; position: absolute;\"> </div>\n",
       "    <div style=\"margin-left: 48px;\">\n",
       "        <h3 style=\"margin-bottom: 0px;\">Client</h3>\n",
       "        <p style=\"color: #9D9D9D; margin-bottom: 0px;\">Client-d1135d75-6f94-11ed-a698-3cecef1b12e0</p>\n",
       "        <table style=\"width: 100%; text-align: left;\">\n",
       "\n",
       "        <tr>\n",
       "        \n",
       "            <td style=\"text-align: left;\"><strong>Connection method:</strong> Cluster object</td>\n",
       "            <td style=\"text-align: left;\"><strong>Cluster type:</strong> dask_jobqueue.PBSCluster</td>\n",
       "        \n",
       "        </tr>\n",
       "\n",
       "        \n",
       "            <tr>\n",
       "                <td style=\"text-align: left;\">\n",
       "                    <strong>Dashboard: </strong> <a href=\"https://jupyterhub.hpc.ucar.edu/stable/user/mauricio/mrocha/proxy/8787/status\" target=\"_blank\">https://jupyterhub.hpc.ucar.edu/stable/user/mauricio/mrocha/proxy/8787/status</a>\n",
       "                </td>\n",
       "                <td style=\"text-align: left;\"></td>\n",
       "            </tr>\n",
       "        \n",
       "\n",
       "        </table>\n",
       "\n",
       "        \n",
       "            <details>\n",
       "            <summary style=\"margin-bottom: 20px;\"><h3 style=\"display: inline;\">Cluster Info</h3></summary>\n",
       "            <div class=\"jp-RenderedHTMLCommon jp-RenderedHTML jp-mod-trusted jp-OutputArea-output\">\n",
       "    <div style=\"width: 24px; height: 24px; background-color: #e1e1e1; border: 3px solid #9D9D9D; border-radius: 5px; position: absolute;\">\n",
       "    </div>\n",
       "    <div style=\"margin-left: 48px;\">\n",
       "        <h3 style=\"margin-bottom: 0px; margin-top: 0px;\">PBSCluster</h3>\n",
       "        <p style=\"color: #9D9D9D; margin-bottom: 0px;\">8c429260</p>\n",
       "        <table style=\"width: 100%; text-align: left;\">\n",
       "            <tr>\n",
       "                <td style=\"text-align: left;\">\n",
       "                    <strong>Dashboard:</strong> <a href=\"https://jupyterhub.hpc.ucar.edu/stable/user/mauricio/mrocha/proxy/8787/status\" target=\"_blank\">https://jupyterhub.hpc.ucar.edu/stable/user/mauricio/mrocha/proxy/8787/status</a>\n",
       "                </td>\n",
       "                <td style=\"text-align: left;\">\n",
       "                    <strong>Workers:</strong> 0\n",
       "                </td>\n",
       "            </tr>\n",
       "            <tr>\n",
       "                <td style=\"text-align: left;\">\n",
       "                    <strong>Total threads:</strong> 0\n",
       "                </td>\n",
       "                <td style=\"text-align: left;\">\n",
       "                    <strong>Total memory:</strong> 0 B\n",
       "                </td>\n",
       "            </tr>\n",
       "            \n",
       "        </table>\n",
       "\n",
       "        <details>\n",
       "            <summary style=\"margin-bottom: 20px;\">\n",
       "                <h3 style=\"display: inline;\">Scheduler Info</h3>\n",
       "            </summary>\n",
       "\n",
       "            <div style=\"\">\n",
       "    <div>\n",
       "        <div style=\"width: 24px; height: 24px; background-color: #FFF7E5; border: 3px solid #FF6132; border-radius: 5px; position: absolute;\"> </div>\n",
       "        <div style=\"margin-left: 48px;\">\n",
       "            <h3 style=\"margin-bottom: 0px;\">Scheduler</h3>\n",
       "            <p style=\"color: #9D9D9D; margin-bottom: 0px;\">Scheduler-7b690df5-4860-4bd7-82a6-296c18a49b41</p>\n",
       "            <table style=\"width: 100%; text-align: left;\">\n",
       "                <tr>\n",
       "                    <td style=\"text-align: left;\">\n",
       "                        <strong>Comm:</strong> tcp://10.12.206.60:42083\n",
       "                    </td>\n",
       "                    <td style=\"text-align: left;\">\n",
       "                        <strong>Workers:</strong> 0\n",
       "                    </td>\n",
       "                </tr>\n",
       "                <tr>\n",
       "                    <td style=\"text-align: left;\">\n",
       "                        <strong>Dashboard:</strong> <a href=\"https://jupyterhub.hpc.ucar.edu/stable/user/mauricio/mrocha/proxy/8787/status\" target=\"_blank\">https://jupyterhub.hpc.ucar.edu/stable/user/mauricio/mrocha/proxy/8787/status</a>\n",
       "                    </td>\n",
       "                    <td style=\"text-align: left;\">\n",
       "                        <strong>Total threads:</strong> 0\n",
       "                    </td>\n",
       "                </tr>\n",
       "                <tr>\n",
       "                    <td style=\"text-align: left;\">\n",
       "                        <strong>Started:</strong> Just now\n",
       "                    </td>\n",
       "                    <td style=\"text-align: left;\">\n",
       "                        <strong>Total memory:</strong> 0 B\n",
       "                    </td>\n",
       "                </tr>\n",
       "            </table>\n",
       "        </div>\n",
       "    </div>\n",
       "\n",
       "    <details style=\"margin-left: 48px;\">\n",
       "        <summary style=\"margin-bottom: 20px;\">\n",
       "            <h3 style=\"display: inline;\">Workers</h3>\n",
       "        </summary>\n",
       "\n",
       "        \n",
       "\n",
       "    </details>\n",
       "</div>\n",
       "\n",
       "        </details>\n",
       "    </div>\n",
       "</div>\n",
       "            </details>\n",
       "        \n",
       "\n",
       "    </div>\n",
       "</div>"
      ],
      "text/plain": [
       "<Client: 'tcp://10.12.206.60:42083' processes=0 threads=0, memory=0 B>"
      ]
     },
     "execution_count": 3,
     "metadata": {},
     "output_type": "execute_result"
    }
   ],
   "source": [
    "mem_per_worker = 160 # in GB \n",
    "num_workers = 60 \n",
    "cluster = NCARCluster(cores=1, processes=3, memory=f'{mem_per_worker} GB',resource_spec=f'select=1:ncpus=6:mem={mem_per_worker}GB', walltime='6:00:00')\n",
    "cluster.scale(num_workers)\n",
    "client = Client(cluster)\n",
    "print(client)\n",
    "client"
   ]
  },
  {
   "cell_type": "markdown",
   "metadata": {},
   "source": [
    "### Read in OGCM history file & MOC template file"
   ]
  },
  {
   "cell_type": "code",
   "execution_count": 4,
   "metadata": {},
   "outputs": [
    {
     "name": "stderr",
     "output_type": "stream",
     "text": [
      "/glade/u/home/mauricio/.local/lib/python3.8/site-packages/intake_esm/utils.py:96: DtypeWarning: Columns (5,6,9) have mixed types. Specify dtype option on import or set low_memory=False.\n",
      "  return pd.read_csv(catalog_path, **csv_kwargs), catalog_path\n"
     ]
    }
   ],
   "source": [
    "catalog = intake.open_esm_datastore(\n",
    "    '/glade/collections/cmip/catalog/intake-esm-datastore/catalogs/glade-cesm2-le.json'\n",
    ")"
   ]
  },
  {
   "cell_type": "code",
   "execution_count": 5,
   "metadata": {},
   "outputs": [],
   "source": [
    "cat_subset = catalog.search(component='ocn',variable=['MOC'],frequency='month_1')\n",
    "del catalog"
   ]
  },
  {
   "cell_type": "code",
   "execution_count": 6,
   "metadata": {},
   "outputs": [
    {
     "name": "stdout",
     "output_type": "stream",
     "text": [
      "\n",
      "--> The keys in the returned dictionary of datasets are constructed as follows:\n",
      "\t'component.experiment.stream.forcing_variant.variable'\n"
     ]
    },
    {
     "data": {
      "text/html": [
       "\n",
       "<style>\n",
       "    /* Turns off some styling */\n",
       "    progress {\n",
       "        /* gets rid of default border in Firefox and Opera. */\n",
       "        border: none;\n",
       "        /* Needs to be in here for Safari polyfill so background images work as expected. */\n",
       "        background-size: auto;\n",
       "    }\n",
       "    progress:not([value]), progress:not([value])::-webkit-progress-bar {\n",
       "        background: repeating-linear-gradient(45deg, #7e7e7e, #7e7e7e 10px, #5c5c5c 10px, #5c5c5c 20px);\n",
       "    }\n",
       "    .progress-bar-interrupted, .progress-bar-interrupted::-webkit-progress-bar {\n",
       "        background: #F44336;\n",
       "    }\n",
       "</style>\n"
      ],
      "text/plain": [
       "<IPython.core.display.HTML object>"
      ]
     },
     "metadata": {},
     "output_type": "display_data"
    },
    {
     "data": {
      "text/html": [
       "\n",
       "    <div>\n",
       "      <progress value='4' class='' max='4' style='width:300px; height:20px; vertical-align: middle;'></progress>\n",
       "      100.00% [4/4 00:31&lt;00:00]\n",
       "    </div>\n",
       "    "
      ],
      "text/plain": [
       "<IPython.core.display.HTML object>"
      ]
     },
     "metadata": {},
     "output_type": "display_data"
    },
    {
     "name": "stdout",
     "output_type": "stream",
     "text": [
      "\n",
      "Dataset dictionary keys:\n",
      " dict_keys(['ocn.ssp370.pop.h.smbb.MOC', 'ocn.historical.pop.h.smbb.MOC', 'ocn.ssp370.pop.h.cmip6.MOC', 'ocn.historical.pop.h.cmip6.MOC'])\n"
     ]
    }
   ],
   "source": [
    "# Load catalog entries for subset into a dictionary of xarray datasets\n",
    "dset_dict_raw  = cat_subset.to_dataset_dict(zarr_kwargs={\"consolidated\": True}, storage_options={\"anon\": True})\n",
    "print(f\"\\nDataset dictionary keys:\\n {dset_dict_raw.keys()}\")\n",
    "del cat_subset"
   ]
  },
  {
   "cell_type": "code",
   "execution_count": 7,
   "metadata": {},
   "outputs": [
    {
     "name": "stdout",
     "output_type": "stream",
     "text": [
      "Done!\n"
     ]
    }
   ],
   "source": [
    "pd=('historical','ssp370')\n",
    "ff=('cmip6','smbb')\n",
    "var='MOC'\n",
    "for iff in range(0,len(ff)):\n",
    "    for ipd in range(0,len(pd)):\n",
    "        str=f'ds_{pd[ipd]}_{ff[iff]}_{var} = dset_dict_raw[\\'ocn.{pd[ipd]}.pop.h.{ff[iff]}.{var}\\']'; exec(str)\n",
    "    str=f'ds_{ff[iff]}_{var}=xr.combine_nested([ds_{pd[0]}_{ff[iff]}_{var},ds_{pd[1]}_{ff[iff]}_{var}],concat_dim=[\\'time\\'])'; exec(str)\n",
    "    str=f'del ds_{pd[0]}_{ff[iff]}_{var},ds_{pd[1]}_{ff[iff]}_{var}'; exec(str) \n",
    "str=f'ds_{var}=xr.combine_nested([ds_{ff[0]}_{var},ds_{ff[1]}_{var}],concat_dim=[\\'member_id\\'])'; exec(str)\n",
    "str=f'del ds_{ff[0]}_{var}, ds_{ff[1]}_{var}'; exec(str)\n",
    "print(f'Done!')"
   ]
  },
  {
   "cell_type": "code",
   "execution_count": null,
   "metadata": {},
   "outputs": [],
   "source": [
    "area_sa=ds_MOC.coords['lat_aux_grid'].isel(lat_aux_grid=slice(86,188))"
   ]
  },
  {
   "cell_type": "code",
   "execution_count": null,
   "metadata": {},
   "outputs": [],
   "source": [
    "%%time\n",
    "ilas=-33.542496 # southern boundary\n",
    "ilan=0 # northern boundary\n",
    "mx_depth=350000 # depth limit\n",
    "ds_MOC_annual_mean=ds_MOC.MOC.where((ds_MOC.MOC['moc_z']<= mx_depth)&(ds_MOC.MOC['lat_aux_grid']>=ilas)&(ds_MOC.MOC['lat_aux_grid'] <= ilan),drop=True).sum(\n",
    "    dim='moc_comp').resample(time='1Y', closed='left').mean('time').isel(transport_reg=1)"
   ]
  },
  {
   "cell_type": "code",
   "execution_count": null,
   "metadata": {},
   "outputs": [],
   "source": [
    "MOC_max = np.empty((len(ds_MOC_annual_mean['time']),len(ds_MOC_annual_mean['member_id']))) * np.nan\n",
    "MOC_mean = np.empty((len(ds_MOC_annual_mean['time']),len(ds_MOC_annual_mean['member_id']))) * np.nan\n",
    "MOC_min = np.empty((len(ds_MOC_annual_mean['time']),len(ds_MOC_annual_mean['member_id']))) * np.nan\n",
    "MOC_rms = np.empty((len(ds_MOC_annual_mean['time']),len(ds_MOC_annual_mean['member_id']))) * np.nan"
   ]
  },
  {
   "cell_type": "code",
   "execution_count": null,
   "metadata": {},
   "outputs": [],
   "source": [
    "%%time\n",
    "for it in range(0,len(ds_MOC_annual_mean['time'])): # time\n",
    "    print(f'Time: {it}')        \n",
    "    # Maximum AMOC for the South Atlantic (see the limits)\n",
    "    amoc = ds_MOC_annual_mean.isel(time=it)\n",
    "    MOC_max[it,:]=amoc.max(dim=['moc_z','lat_aux_grid']).load() \n",
    "        \n",
    "    # Minimum AMOC for the South Atlantic (see the limits)\n",
    "    amoc = ds_MOC_annual_mean.isel(time=it)\n",
    "    MOC_min[it,:]=amoc.min(dim=['moc_z','lat_aux_grid']).load() \n",
    "        \n",
    "    # Mean AMOC for the South Atlant (see the limits)\n",
    "    amoc = ds_MOC_annual_mean.isel(time=it)\n",
    "    MOC_mean[it,:]=amoc.weighted(area_sa).mean(dim=['moc_z','lat_aux_grid']).load() \n",
    "        \n",
    "    # Error AMOC for the South Atlantic (see the limits)\n",
    "    amoc = ds_MOC_annual_mean.isel(time=it)\n",
    "    MOC_rms[it,:]=rms_da(amoc, weights=area_sa, weights_sum=area_sa.sum())\n",
    "    del amoc"
   ]
  },
  {
   "cell_type": "code",
   "execution_count": null,
   "metadata": {},
   "outputs": [],
   "source": [
    "da1 = xr.Dataset({'MOC_rms': (('time','member_id'), MOC_rms)}, coords={'time': ds_MOC_annual_mean.coords['time'],'member_id': ds_MOC_annual_mean.coords['member_id']})\n",
    "da2 = xr.Dataset({'MOC_mean': (('time','member_id'), MOC_mean)}, coords={'time': ds_MOC_annual_mean.coords['time'],'member_id': ds_MOC_annual_mean.coords['member_id']})\n",
    "da3 = xr.Dataset({'MOC_max': (('time','member_id'), MOC_max)}, coords={'time': ds_MOC_annual_mean.coords['time'],'member_id': ds_MOC_annual_mean.coords['member_id']})\n",
    "da4 = xr.Dataset({'MOC_min': (('time','member_id'), MOC_min)}, coords={'time': ds_MOC_annual_mean.coords['time'],'member_id': ds_MOC_annual_mean.coords['member_id']})\n",
    "ds_out_MOC=xr.combine_by_coords([da1, da2, da3, da4])\n",
    "ds_out_MOC.attrs['description'] = 'Meridional Overturning Circulation (MOC) statistics for the South Atlantic (33.542496S-0)'\n",
    "ds_out_MOC.attrs['units'] = 'Sv'\n",
    "ds_out_MOC.attrs['author'] = 'Mauricio Rocha'\n",
    "ds_out_MOC.attrs['email'] = 'mauricio.rocha@usp.br'"
   ]
  },
  {
   "cell_type": "code",
   "execution_count": null,
   "metadata": {},
   "outputs": [],
   "source": [
    "# Total Surface Heat Fux\n",
    "fig, axes = plt.subplots(1, 4, figsize=(20, 8))\n",
    "# Maximum\n",
    "ds_out_MOC.MOC_max.resample(time='1Y', closed='left').mean('time').plot.line(ax=axes[0],x=\"time\",color='orange',alpha=0.01,linewidth=1,add_legend=False)\n",
    "ds_out_MOC.MOC_max.resample(time='1Y', closed='left').mean('time').mean('member_id').plot.line(ax=axes[0],x=\"time\",alpha=0.3,color='r',linewidth=1,label='Member Mean 1Y')\n",
    "ds_out_MOC.MOC_max.resample(time='5Y', closed='left').mean('time').mean('member_id').plot.line(ax=axes[0],x=\"time\",color='r',linewidth=2,label='Member Mean 5Y')\n",
    "axes[0].set_xlabel('Time [Years]')\n",
    "axes[0].set_ylabel('MOC Max [Sv]')\n",
    "axes[0].set_title('Area Max')\n",
    "axes[0].grid(color='k', linestyle='-', linewidth=0.7)\n",
    "axes[0].legend()\n",
    "#axes[0].set_ylim(103,108.2)\n",
    "fig.tight_layout(pad=2.0)\n",
    "# Mean\n",
    "ds_out_MOC.MOC_mean.resample(time='1Y', closed='left').mean('time').plot.line(ax=axes[1],x=\"time\",color='gray',alpha=0.01,linewidth=1,add_legend=False)\n",
    "ds_out_MOC.MOC_mean.resample(time='1Y', closed='left').mean('time').mean('member_id').plot.line(ax=axes[1],x=\"time\",alpha=0.3,color='k',linewidth=1,label='Member Mean 1Y')\n",
    "ds_out_MOC.MOC_mean.resample(time='5Y', closed='left').mean('time').mean('member_id').plot.line(ax=axes[1],x=\"time\",color='k',linewidth=2,label='Member Mean 5Y')\n",
    "axes[1].set_xlabel('Time [Years]')\n",
    "axes[1].set_ylabel('MOC Mean [Sv]')\n",
    "axes[1].set_title('Area Mean')\n",
    "axes[1].grid(color='k', linestyle='-', linewidth=0.7)\n",
    "axes[1].legend()\n",
    "#axes[1].set_ylim(17,25.5)\n",
    "# Minimum\n",
    "ds_out_MOC.MOC_min.resample(time='1Y', closed='left').mean('time').plot.line(ax=axes[2],x=\"time\",color='c',alpha=0.01,linewidth=1,add_legend=False)\n",
    "ds_out_MOC.MOC_min.resample(time='1Y', closed='left').mean('time').mean('member_id').plot.line(ax=axes[2],x=\"time\",alpha=0.3,color='b',linewidth=1,label='Member Mean 1Y')\n",
    "ds_out_MOC.MOC_min.resample(time='5Y', closed='left').mean('time').mean('member_id').plot.line(ax=axes[2],x=\"time\",color='b',linewidth=2,label='Member Mean 5Y')\n",
    "axes[2].set_xlabel('Time [Years]')\n",
    "axes[2].set_ylabel('MOC Min [Sv]')\n",
    "axes[2].set_title('Area Min')\n",
    "axes[2].grid(color='k', linestyle='-', linewidth=0.7)\n",
    "axes[2].legend()\n",
    "#axes[2].set_ylim(-63,-51)\n",
    "# Minimum\n",
    "ds_out_MOC.MOC_rms.resample(time='1Y', closed='left').mean('time').plot.line(ax=axes[3],x=\"time\",color='y',alpha=0.01,linewidth=1,add_legend=False)\n",
    "ds_out_MOC.MOC_rms.resample(time='1Y', closed='left').mean('time').mean('member_id').plot.line(ax=axes[3],x=\"time\",alpha=0.3,color='g',linewidth=1,label='Member Mean 1Y')\n",
    "ds_out_MOC.MOC_rms.resample(time='5Y', closed='left').mean('time').mean('member_id').plot.line(ax=axes[3],x=\"time\",color='g',linewidth=2,label='Member Mean 5Y')\n",
    "axes[3].set_xlabel('Time [Years]')\n",
    "axes[3].set_ylabel('MOC Error [Sv]')\n",
    "axes[3].set_title('Area Error')\n",
    "axes[3].grid(color='k', linestyle='-', linewidth=0.7)\n",
    "axes[3].legend()\n",
    "#axes[3].set_ylim(50.3,52)\n",
    "\n",
    "plt.show()"
   ]
  },
  {
   "cell_type": "markdown",
   "metadata": {},
   "source": [
    "### Let's save the data in netcdf format"
   ]
  },
  {
   "cell_type": "code",
   "execution_count": null,
   "metadata": {},
   "outputs": [],
   "source": [
    "# create a directory on scratch to save the output\n",
    "path = '/glade/scratch/mauricio/Data/LENS2/MOC/'.format(getpass.getuser())\n",
    "os.system('mkdir -p '+path)\n",
    "ds_out_MOC.to_netcdf(path+'MOC_stats.nc')"
   ]
  },
  {
   "cell_type": "markdown",
   "metadata": {},
   "source": [
    "### Save AMOC data set"
   ]
  },
  {
   "cell_type": "code",
   "execution_count": 27,
   "metadata": {},
   "outputs": [
    {
     "name": "stdout",
     "output_type": "stream",
     "text": [
      "CPU times: user 39.1 ms, sys: 2.91 ms, total: 42 ms\n",
      "Wall time: 45.9 ms\n"
     ]
    }
   ],
   "source": [
    "%%time\n",
    "ds_AMOC=ds_MOC.MOC.sum(dim='moc_comp').isel(transport_reg=1)"
   ]
  },
  {
   "cell_type": "code",
   "execution_count": 46,
   "metadata": {},
   "outputs": [],
   "source": [
    "ds_out_AMOC = xr.Dataset({\n",
    "    'amoc': xr.DataArray(\n",
    "        data=ds_AMOC,\n",
    "        dims=['member_id','time','moc_z','lat_aux_grid'],\n",
    "        coords={'member_id': ds_MOC.MOC.coords['member_id'],\n",
    "                'time': ds_MOC.MOC.coords['time'],\n",
    "                'moc_z': ds_MOC.MOC.coords['moc_z'],\n",
    "                'lat_aux_grid': ds_MOC.MOC.coords['lat_aux_grid']})})\n",
    "ds_out_AMOC.attrs['description'] = 'Atlantic Meridional Overturning Circulation (AMOC)'\n",
    "ds_out_AMOC.attrs['units'] = 'Sv'\n",
    "ds_out_AMOC.attrs['author'] = 'Mauricio Rocha'\n",
    "ds_out_AMOC.attrs['email'] = 'mauricio.rocha@usp.br'"
   ]
  },
  {
   "cell_type": "code",
   "execution_count": 48,
   "metadata": {},
   "outputs": [],
   "source": [
    "# create a directory on scratch to save the output\n",
    "path = '/glade/scratch/mauricio/Data/AMOC/LENS2/'.format(getpass.getuser())\n",
    "os.system('mkdir -p '+path)\n",
    "ds_out_AMOC.to_netcdf(path+'lens2_amoc.nc')"
   ]
  }
 ],
 "metadata": {
  "kernelspec": {
   "display_name": "NPL 2022b",
   "language": "python",
   "name": "npl-2022b"
  },
  "language_info": {
   "codemirror_mode": {
    "name": "ipython",
    "version": 3
   },
   "file_extension": ".py",
   "mimetype": "text/x-python",
   "name": "python",
   "nbconvert_exporter": "python",
   "pygments_lexer": "ipython3",
   "version": "3.8.13"
  }
 },
 "nbformat": 4,
 "nbformat_minor": 4
}
