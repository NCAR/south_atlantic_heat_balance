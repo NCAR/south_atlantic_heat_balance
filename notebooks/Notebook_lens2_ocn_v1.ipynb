{
 "cells": [
  {
   "cell_type": "markdown",
   "id": "80b35905-7510-4a8c-a558-978aa1e07b3c",
   "metadata": {},
   "source": [
    "## CESM2 - LARGE ENSEMBLE (LENS2)\n",
    "\n",
    "#### by Mauricio Rocha and Dr. Gustavo Marques\n",
    "\n",
    "#### This Notebook aims to read the CESM Large Ensemble version 2 data for different components and variables. \n",
    "\n",
    "#### Before we begin, here are some valuable notes about this large ensemble:\n",
    "#### * ssp370: refers to the Shared Socioeconomic Pathway (SSP) and represents the forced scenario until the year of 2100. The choice of the SSP3-7.0 scenario forcing follows CMIP6 recommendations (O’Neill et al., 2016) that precisely emphasize the value of this relatively high forcing level so as to quantify changes in natural variability (Rodgers et al. 2021). SSP3–7.0 lies between RCP6.0 and RCP8.5 and represents the medium to the high end of the range of future forcing pathways. \n",
    "#### P.S.: RCP8.5 means Representative Concentration Pathways for 8.5 W/m².\n",
    "\n",
    "#### * historical (1850 - 2015): not projected period, so ideal for doing validation of LENS2 with reanalysis or in situ data. Because of its spatial resolution and temporal extent, ERA5 can be used to do this validation. Considering the AMOC strength at 26.5N as an example {Fig. S2 in Rodgers et al. (2021)}, the ensemble mean AMOC strength for each of the micro-perturbation clusters initialized for years 1231 (strength), 1251 (decreasing), 1281 (increasing), and 1301 (weak) of the preindustrial control run (averaged across 20 members for each case) converge only after several decades, indicative of the timescale over which the initial condition memory persists for AMOC. For this reason, their analysis of internal variability focuses on the period after 1960, more than an entire century after initialization. How to know what is forced variability and natural variability? One way to check this is to differentiate between members of the same experiment.\n",
    "\n",
    "#### * cmip: The first 50 members of the large ensemble follow CMIP6 protocols (Van Marle et al., 2017), with biomass burning following the description in the CESM2 overview paper (Danabasoglu et al., 2020), and this forcing is referred to as CMIP6 (Rodgers et al. (2021)).  \n",
    "\n",
    "#### * smbb: For the second set of 50 members, which we refer to as SMBB (for smoothed biomass burning fluxes), the CMIP6 biomass burning emissions of all relevant species for Community Atmosphere Model version 6 (CAM6) were smoothed in time with an 11-year running mean filter. \n",
    "\n",
    "#### References: \n",
    "#### * Rodgers et al. (2021): https://esd.copernicus.org/articles/12/1393/2021/\n",
    "#### * Fasullo et al. (2021): https://agupubs.onlinelibrary.wiley.com/doi/full/10.1029/2021GL093841\n",
    "#### * DeRepentigny et al. (2020): https://agupubs.onlinelibrary.wiley.com/doi/full/10.1029/2020JC016133\n",
    "#### * Danabasoglu et al. (2020): https://agupubs.onlinelibrary.wiley.com/doi/10.1029/2019MS001916\n",
    "#### * van Marle et al. (2017): https://gmd.copernicus.org/articles/10/3329/2017/\n",
    "#### * O’Neill et al. (2016): https://gmd.copernicus.org/articles/9/3461/2016/\n"
   ]
  },
  {
   "cell_type": "markdown",
   "id": "24be9cde-8f0a-4c83-988e-89528a758f21",
   "metadata": {},
   "source": [
    "## Imports"
   ]
  },
  {
   "cell_type": "code",
   "execution_count": null,
   "id": "1b0b0093-f110-4cb3-b270-b51f894b3ca2",
   "metadata": {},
   "outputs": [],
   "source": [
    "import intake\n",
    "import intake_esm\n",
    "import xarray as xr\n",
    "import matplotlib.pyplot as plt\n",
    "import cartopy.crs as ccrs\n",
    "import numpy as np\n",
    "import fsspec\n",
    "import cmocean\n",
    "import cartopy\n",
    "import cartopy.feature as cfeature\n",
    "from cartopy.mpl.ticker import LongitudeFormatter, LatitudeFormatter\n",
    "from cartopy.util import add_cyclic_point\n",
    "import pop_tools"
   ]
  },
  {
   "cell_type": "markdown",
   "id": "d22c9abb-b88c-4b6a-9d34-1a12aceacd56",
   "metadata": {},
   "source": [
    "## Data Ingest"
   ]
  },
  {
   "cell_type": "markdown",
   "id": "6b87ebfd-a5e8-4d36-8277-6b682a0c891b",
   "metadata": {
    "tags": []
   },
   "source": [
    "#### Path"
   ]
  },
  {
   "cell_type": "markdown",
   "id": "98d7530a-3bb9-4b39-bc7c-8033cee53d62",
   "metadata": {},
   "source": [
    "##### Option 1"
   ]
  },
  {
   "cell_type": "code",
   "execution_count": null,
   "id": "6e3e1891-29db-42a9-a263-b450f2a5baa9",
   "metadata": {},
   "outputs": [],
   "source": [
    "#variable = ['SST','SHF','VVEL','UVEL','WVEL','RHO','SALT','Q','TAUX','TAUY','SSH','MOC']                         # Variable\n",
    "#serie = ['day_1', 'month_1', 'year_1']                                                                           # Temporal series\n",
    "#period = ['HIST', 'SSP370']                                                                                      # Historial or projection\n",
    "#year = ['1231', '1251', '1281', '1301']                                                                          # MOC experiments\n",
    "#biomass = ['cmip6','smbb']                                                                                       # Biomass burning\n",
    "#member = ['01','02','03','04','05','06','07','08','09','10','11','12','13','14','15','16','17','18','19','20']   # Emsemble member\n",
    "\n",
    "#path = (f'/glade/campaign/cgd/cesm/CESM2-LE/timeseries/ocn/proc/tseries/{serie[0]}/{variable[0]}/b.e21.B{period[1]}{biomass[0]}.f09_g17.LE2-{year[0]}.0{member[0]}.pop.h.nday1.{variable[0]}.*.nc')\n",
    "\n",
    "#ds = xr.open_mfdataset(path)\n"
   ]
  },
  {
   "cell_type": "markdown",
   "id": "63bb9c8f-ecc2-4515-8d2a-cda6c6698b8a",
   "metadata": {},
   "source": [
    "##### Option 2"
   ]
  },
  {
   "cell_type": "code",
   "execution_count": null,
   "id": "12b4bdae-8fde-4156-b32e-76d318bbabb1",
   "metadata": {},
   "outputs": [],
   "source": [
    "catalog = intake.open_esm_datastore(\n",
    "    '/glade/collections/cmip/catalog/intake-esm-datastore/catalogs/glade-cesm2-le.json'\n",
    ")"
   ]
  },
  {
   "cell_type": "code",
   "execution_count": null,
   "id": "d80f771c-7247-4de4-bf34-88449f49f27f",
   "metadata": {},
   "outputs": [],
   "source": [
    "catalog.df"
   ]
  },
  {
   "cell_type": "markdown",
   "id": "35bf8b98-519f-49df-be0d-4f2d07146834",
   "metadata": {},
   "source": [
    "#### How does the variable look like? "
   ]
  },
  {
   "cell_type": "code",
   "execution_count": null,
   "id": "b1491e16-10d4-48a9-8ac6-5cee0f0c70d3",
   "metadata": {},
   "outputs": [],
   "source": [
    "#ds.SST.isel(time = 0).plot()"
   ]
  },
  {
   "cell_type": "code",
   "execution_count": null,
   "id": "705e20b0-44b4-4618-a90b-a28bb91cfdfb",
   "metadata": {},
   "outputs": [],
   "source": [
    "cat_subset = catalog.search(component='ocn',\n",
    "                            variable='SST',\n",
    "                            frequency='day_1')\n",
    "#              frequency='day_1').df.variable.unique() # Here, you can see all the variables available for the frequency and for the component specified. "
   ]
  },
  {
   "cell_type": "code",
   "execution_count": null,
   "id": "d97198ae-ac37-4fb9-95fc-9e11bfdd081f",
   "metadata": {},
   "outputs": [],
   "source": [
    "dset_dict_raw = cat_subset.to_dataset_dict()"
   ]
  },
  {
   "cell_type": "code",
   "execution_count": null,
   "id": "8aa41912-02e1-47c7-a267-3e680f7f6be8",
   "metadata": {},
   "outputs": [],
   "source": [
    "ds = dset_dict_raw['ocn.historical.pop.h.nday1.cmip6.SST']"
   ]
  },
  {
   "cell_type": "markdown",
   "id": "51f8e2c0-1ed9-4d53-89ea-c5dfe66bd379",
   "metadata": {},
   "source": [
    "##### If you choose the ocean component, you will need to import the POP grid (bellow). For the other components, you can use the emsemble's own grid. "
   ]
  },
  {
   "cell_type": "markdown",
   "id": "d5d138dd-95fa-44ac-a748-c9dc93403b80",
   "metadata": {},
   "source": [
    "#### Import the POP grid\n",
    "##### in ds, TLONG and TLAT have missing values (NaNs), so we need to override them with the values from pop_grid, which does not have missing values"
   ]
  },
  {
   "cell_type": "code",
   "execution_count": null,
   "id": "4ca62d6d-e917-4aac-b36f-a7a5abc5b794",
   "metadata": {},
   "outputs": [],
   "source": [
    "# read the pop 1 deg grid from pop_tools\n",
    "# we will use variables TLONG and TLAT\n",
    "pop_grid = pop_tools.get_grid('POP_gx1v7')\n",
    "ds['TLONG'] = pop_grid.TLONG # longitud\n",
    "ds['TLAT'] = pop_grid.TLAT # latitudes"
   ]
  },
  {
   "cell_type": "code",
   "execution_count": null,
   "id": "f668aba2-bc8a-497a-aef2-b500d892425f",
   "metadata": {},
   "outputs": [],
   "source": [
    "plt.figure(figsize=(9,5));\n",
    "ax = plt.axes(projection=ccrs.Robinson());\n",
    "pc = ds.SST.isel(time=0, member_id=0).plot.pcolormesh(ax=ax,\n",
    "                                    transform=ccrs.PlateCarree(),\n",
    "                                    cmap=cmocean.cm.thermal,\n",
    "                                    x='TLONG',\n",
    "                                    y='TLAT',\n",
    "                                    vmin=-2,\n",
    "                                    vmax=32,\n",
    "                                    cbar_kwargs={\"orientation\": \"horizontal\"},)\n",
    "ax.gridlines(draw_labels=True);\n",
    "ax.coastlines()\n",
    "ax.gridlines()"
   ]
  },
  {
   "cell_type": "markdown",
   "id": "b1a421b9-80de-4516-8a29-8638a12f2869",
   "metadata": {},
   "source": [
    "#### Centralize the South Atlantic "
   ]
  },
  {
   "cell_type": "markdown",
   "id": "bdf89464-2c23-49db-8d73-f46a41d11be0",
   "metadata": {},
   "source": [
    "##### To do this we need to create an empty array to receive the new data and then put in this order: the longitudes 178-359 and 0-178. We keep the latitudes as they are."
   ]
  },
  {
   "cell_type": "code",
   "execution_count": null,
   "id": "3664e819-1e4a-4297-867b-db8e955800f6",
   "metadata": {},
   "outputs": [],
   "source": [
    "ds"
   ]
  },
  {
   "cell_type": "code",
   "execution_count": null,
   "id": "526a9bfe-5baf-416d-8239-99b7af2c111e",
   "metadata": {},
   "outputs": [],
   "source": [
    "new_var = []\n",
    "lats = -60\n",
    "latn = \n",
    "lonw = 1\n",
    "lone = \n",
    "a_aux=ds.SST.isel(time=0, member_id=0). sel(TLAT=slice(lats,latn), TLONG=slice(lonw,lone), method='nearest')\n",
    "#[0,0:260,290:359]\n",
    "#b_aux = ds.SST[0,0:260,0:60]\n",
    "#new_var = np.concatenate((a_aux, b_aux), axis=1)\n",
    "#plt.pcolor(new_var)\n",
    "a_aux.shape"
   ]
  },
  {
   "cell_type": "code",
   "execution_count": null,
   "id": "0c1ad75a-6f45-4688-b922-5a539c425c91",
   "metadata": {},
   "outputs": [],
   "source": [
    "#a_aux_lon = ds['TLONG'][:,196:359]\n",
    "#b_aux_lon = ds['TLONG'][:,0:196]\n",
    "#new_var_lon = np.concatenate((a_aux_lon, b_aux_lon), axis=1)\n",
    "#a_aux_lat = ds['TLAT'][:,196:359]\n",
    "#b_aux_lat = ds['TLAT'][:,0:196]\n",
    "#new_var_lat = np.concatenate((a_aux_lat, b_aux_lat), axis=1)\n",
    "#new_var_lon[new_var_lon>180]-=360\n",
    "# plt.plot(new_var_lon[50,:], marker='.')\n",
    "#plt.pcolor(new_var_lon, new_var_lat, new_var)\n",
    "#plt.xlim(-180,180)\n",
    "#plt.ylim(-90,90)"
   ]
  }
 ],
 "metadata": {
  "kernelspec": {
   "display_name": "NPL (conda)",
   "language": "python",
   "name": "npl-conda"
  },
  "language_info": {
   "codemirror_mode": {
    "name": "ipython",
    "version": 3
   },
   "file_extension": ".py",
   "mimetype": "text/x-python",
   "name": "python",
   "nbconvert_exporter": "python",
   "pygments_lexer": "ipython3",
   "version": "3.7.12"
  }
 },
 "nbformat": 4,
 "nbformat_minor": 5
}
