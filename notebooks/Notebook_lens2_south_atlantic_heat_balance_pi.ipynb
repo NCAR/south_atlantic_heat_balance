{
 "cells": [
  {
   "cell_type": "markdown",
   "metadata": {
    "tags": []
   },
   "source": [
    "## CESM2 - LARGE ENSEMBLE (LENS2)\n",
    "\n",
    "- This Notebooks aims to compute the heat balance in the South Atlantic, defined by the difference of the meridional heat transport from the northern and southern boundaries and the total surface heat flux (area integral). Let's use the data from the control PI to get the trend of the system before the forcing. "
   ]
  },
  {
   "cell_type": "markdown",
   "metadata": {},
   "source": [
    "### Imports"
   ]
  },
  {
   "cell_type": "code",
   "execution_count": null,
   "metadata": {},
   "outputs": [],
   "source": [
    "import xarray as xr\n",
    "import pandas as pd\n",
    "import numpy as np \n",
    "import dask\n",
    "import cf_xarray\n",
    "import intake\n",
    "import cftime\n",
    "import nc_time_axis\n",
    "import intake_esm\n",
    "import matplotlib.pyplot as plt\n",
    "import pop_tools\n",
    "from dask.distributed import Client, wait\n",
    "from ncar_jobqueue import NCARCluster\n",
    "import warnings, getpass, os\n",
    "from mpl_toolkits.axes_grid1.inset_locator import inset_axes\n",
    "from mpl_toolkits.axes_grid1 import make_axes_locatable\n",
    "import cartopy.crs as ccrs\n",
    "import cmocean\n",
    "import dask"
   ]
  },
  {
   "cell_type": "markdown",
   "metadata": {},
   "source": [
    "### Dask"
   ]
  },
  {
   "cell_type": "code",
   "execution_count": null,
   "metadata": {},
   "outputs": [],
   "source": [
    "mem_per_worker = 30 # memory per worker in GB \n",
    "num_workers = 40 # number of workers\n",
    "cluster = NCARCluster(cores=1, processes=1, memory=f'{mem_per_worker} GB',resource_spec=f'select=1:ncpus=1:mem={mem_per_worker}GB', walltime='2:00:00')\n",
    "cluster.scale(num_workers)\n",
    "client = Client(cluster)\n",
    "print(client)\n",
    "client"
   ]
  },
  {
   "cell_type": "markdown",
   "metadata": {},
   "source": [
    "### Load the data"
   ]
  },
  {
   "cell_type": "code",
   "execution_count": null,
   "metadata": {},
   "outputs": [],
   "source": [
    "%%time\n",
    "path = '/glade/campaign/collections/cmip/CMIP6/timeseries-cmip6/b.e21.B1850.f09_g17.CMIP6-piControl.001/ocn/proc/tseries/month_1/b.e21.B1850.f09_g17.CMIP6-piControl.001.pop.h.SHF.*.nc'\n",
    "ds_SHF = xr.open_mfdataset(path)\n",
    "path = '/glade/campaign/collections/cmip/CMIP6/timeseries-cmip6/b.e21.B1850.f09_g17.CMIP6-piControl.001/ocn/proc/tseries/month_1/b.e21.B1850.f09_g17.CMIP6-piControl.001.pop.h.N_HEAT.*.nc'\n",
    "ds_N_HEAT = xr.open_mfdataset(path)\n",
    "path = '/glade/campaign/collections/cmip/CMIP6/timeseries-cmip6/b.e21.B1850.f09_g17.CMIP6-piControl.001/ocn/proc/tseries/month_1/b.e21.B1850.f09_g17.CMIP6-piControl.001.pop.h.TEND_TEMP.*.nc'\n",
    "ds_TEND_TEMP = xr.open_mfdataset(path, chunks={'z_t': 1})\n",
    "del path"
   ]
  },
  {
   "cell_type": "markdown",
   "metadata": {},
   "source": [
    "### Get the variable dz"
   ]
  },
  {
   "cell_type": "code",
   "execution_count": null,
   "metadata": {},
   "outputs": [],
   "source": [
    "dz=ds_TEND_TEMP.dz.isel(time=0)*0.01 # 0.01 to convert cm into m"
   ]
  },
  {
   "cell_type": "markdown",
   "metadata": {},
   "source": [
    "### Import POP grid"
   ]
  },
  {
   "cell_type": "code",
   "execution_count": null,
   "metadata": {},
   "outputs": [],
   "source": [
    "pop_grid = pop_tools.get_grid('POP_gx1v7')\n",
    "\n",
    "# Temperature Tendency\n",
    "ds_TEND_TEMP['TLONG'] = pop_grid.TLONG; ds_TEND_TEMP['TLAT'] = pop_grid.TLAT\n",
    "ds_TEND_TEMP['ULONG'] = pop_grid.ULONG; ds_TEND_TEMP['ULAT'] = pop_grid.ULAT\n",
    "\n",
    "# Total Surface Heat Flux\n",
    "ds_SHF['TLONG'] = pop_grid.TLONG; ds_SHF['TLAT'] = pop_grid.TLAT\n",
    "ds_SHF['ULONG'] = pop_grid.ULONG; ds_SHF['ULAT'] = pop_grid.ULAT\n",
    "\n",
    "# Meridional Heat Transport\n",
    "ds_N_HEAT['TLONG'] = pop_grid.TLONG; ds_N_HEAT['TLAT'] = pop_grid.TLAT\n",
    "ds_N_HEAT['ULONG'] = pop_grid.ULONG; ds_N_HEAT['ULAT'] = pop_grid.ULAT\n",
    "\n",
    "del pop_grid"
   ]
  },
  {
   "cell_type": "markdown",
   "metadata": {},
   "source": [
    "### Calculate the difference in heat transport to latitudes closer to the equator and 34S\n",
    "- We chose 34 instead of 34.5S because at 34S we are sure that there is no water leakage South Africa "
   ]
  },
  {
   "cell_type": "code",
   "execution_count": null,
   "metadata": {},
   "outputs": [],
   "source": [
    "%%time\n",
    "ilan = 0 # northernmost latitude\n",
    "ilas = -34 # southernmost latitude\n",
    "ds_N_HEAT_diff=(ds_N_HEAT.N_HEAT.isel(transport_reg=1,lat_aux_grid=190)-ds_N_HEAT.N_HEAT.isel(transport_reg=1).sel(lat_aux_grid=ilas,method='nearest')).sum(dim='transport_comp').load()\n",
    "del ds_N_HEAT\n",
    "ds_N_HEAT_diff.plot()"
   ]
  },
  {
   "cell_type": "markdown",
   "metadata": {},
   "source": [
    "### Cut and center the variable in the South Atlantic"
   ]
  },
  {
   "cell_type": "markdown",
   "metadata": {},
   "source": [
    "#### 1- Temperature tendency"
   ]
  },
  {
   "cell_type": "code",
   "execution_count": null,
   "metadata": {},
   "outputs": [],
   "source": [
    "# Cutting out and centering the variables in the South Atlantic\n",
    "dask.config.set({\"array.slicing.split_large_chunks\": True})\n",
    "ilon1, flon1, ilon2, flon2 = 307, 320, 0, 54 # longitude (initial (i), final (f)) \n",
    "\n",
    "ds_sa_TEND_TEMP=xr.combine_nested([[ds_TEND_TEMP.TEND_TEMP.where(\n",
    "    (ds_TEND_TEMP.TEND_TEMP.TLAT >= ilas) & (ds_TEND_TEMP.TEND_TEMP.TLAT <= ilan), drop=True).isel(nlon = slice(ilon1,flon1)),\n",
    "    ds_TEND_TEMP.TEND_TEMP.where(\n",
    "    (ds_TEND_TEMP.TEND_TEMP.TLAT >= ilas) & (ds_TEND_TEMP.TEND_TEMP.TLAT <= ilan), drop=True).isel(nlon = slice(ilon2,flon2))]],\n",
    "                                  concat_dim=['nlat','nlon'])   \n",
    "ds_sa_TEND_TEMP.coords['nlon'] = (ds_sa_TEND_TEMP.coords['nlon'] + 180) % 360 - 180 \n",
    "ds_sa_TEND_TEMP = ds_sa_TEND_TEMP.sortby(ds_sa_TEND_TEMP.nlon)"
   ]
  },
  {
   "cell_type": "markdown",
   "metadata": {},
   "source": [
    "#### 2- Total Surface Heat Flux"
   ]
  },
  {
   "cell_type": "code",
   "execution_count": null,
   "metadata": {},
   "outputs": [],
   "source": [
    "ds_sa_SHF=xr.combine_nested([[ds_SHF.SHF.where(\n",
    "    (ds_SHF.SHF.TLAT >= ilas) & (ds_SHF.SHF.TLAT <= ilan), drop=True).isel(nlon = slice(ilon1,flon1)),\n",
    "    ds_SHF.SHF.where(\n",
    "    (ds_SHF.SHF.TLAT >= ilas) & (ds_SHF.SHF.TLAT <= ilan), drop=True).isel(nlon = slice(ilon2,flon2))]],\n",
    "                                  concat_dim=['nlat','nlon'])   \n",
    "ds_sa_SHF.coords['nlon'] = (ds_sa_SHF.coords['nlon'] + 180) % 360 - 180 \n",
    "ds_sa_SHF = ds_sa_SHF.sortby(ds_sa_SHF.nlon)"
   ]
  },
  {
   "cell_type": "markdown",
   "metadata": {},
   "source": [
    "#### 3- Area"
   ]
  },
  {
   "cell_type": "code",
   "execution_count": null,
   "metadata": {},
   "outputs": [],
   "source": [
    "ds_sa_TAREA=xr.combine_nested([[ds_TEND_TEMP.TAREA.where(\n",
    "    (ds_TEND_TEMP.TAREA.TLAT >= ilas) & (ds_TEND_TEMP.TAREA.TLAT <= ilan), drop=True).isel(nlon = slice(ilon1,flon1)),\n",
    "    ds_TEND_TEMP.TAREA.where(\n",
    "    (ds_TEND_TEMP.TAREA.TLAT >= ilas) & (ds_TEND_TEMP.TAREA.TLAT <= ilan), drop=True).isel(nlon = slice(ilon2,flon2))]],\n",
    "                                  concat_dim=['nlat','nlon'])   \n",
    "ds_sa_TAREA.coords['nlon'] = (ds_sa_TAREA.coords['nlon'] + 180) % 360 - 180 \n",
    "ds_sa_TAREA = ds_sa_TAREA.sortby(ds_sa_TAREA.nlon)\n",
    "del ds_SHF, ds_TEND_TEMP"
   ]
  },
  {
   "cell_type": "markdown",
   "metadata": {},
   "source": [
    "### Mask the continent "
   ]
  },
  {
   "cell_type": "code",
   "execution_count": null,
   "metadata": {},
   "outputs": [],
   "source": [
    "mask_array = dict()\n",
    "mask_ocean = 2 * np.ones((len(ds_sa_TEND_TEMP.coords['nlat']), # ocean\n",
    "                          len(ds_sa_TEND_TEMP.coords['nlon']))\n",
    "                        ) * np.isfinite(ds_sa_TEND_TEMP.isel(time=0))  \n",
    "mask_land  = 1 * np.ones((len(ds_sa_TEND_TEMP.coords['nlat']), # continent\n",
    "                          len(ds_sa_TEND_TEMP.coords['nlon']))\n",
    "                        ) * np.isnan(ds_sa_TEND_TEMP.isel(time=0))  \n",
    "mask_array = mask_ocean + mask_land\n",
    "ds_sa_TAREA=ds_sa_TAREA.isel(time=0).where(mask_array != 1.)*1e-4 # 1e-4 to convert cm2 into m2\n",
    "\n",
    "# ds_sa_TAREA=ds_sa_TAREA\n",
    "del mask_array"
   ]
  },
  {
   "cell_type": "markdown",
   "metadata": {},
   "source": [
    "### Integrate the SHF in the area"
   ]
  },
  {
   "cell_type": "code",
   "execution_count": null,
   "metadata": {},
   "outputs": [],
   "source": [
    "%%time\n",
    "ds_sa_SHF=ds_sa_SHF.compute()\n",
    "ds_sa_SHF"
   ]
  },
  {
   "cell_type": "code",
   "execution_count": null,
   "metadata": {},
   "outputs": [],
   "source": [
    "%%time\n",
    "# actually compute ds_sa_TAREA here\n",
    "ds_sa_TAREA=ds_sa_TAREA.compute()\n",
    "ds_sa_TAREA"
   ]
  },
  {
   "cell_type": "code",
   "execution_count": null,
   "metadata": {},
   "outputs": [],
   "source": [
    "ds_sa_SHF=ds_sa_TAREA.isel(z_t=0)*ds_sa_SHF*(1e-15) # PW (1e-15 to convert the units from W to PW) \n",
    "ds_sa_SHF=ds_sa_SHF.sum(dim=['nlat','nlon'],skipna=True) # PW"
   ]
  },
  {
   "cell_type": "code",
   "execution_count": null,
   "metadata": {},
   "outputs": [],
   "source": [
    "# Test\n",
    "ds_N_HEAT_diff.resample(time='1Y', closed='left').mean('time').sel(time=slice('1101-01-01','2001-01-01')).plot(label='MHTD')\n",
    "ds_sa_SHF.resample(time='1Y', closed='left').mean('time').sel(time=slice('1101-01-01','2001-01-01')).plot(label='SHF')\n",
    "plt.legend()\n",
    "plt.grid()\n",
    "plt.xlabel('Time [Years]')\n",
    "plt.ylabel('PW')\n",
    "#plt.savefig('Heat_balance.png',dpi=300,bbox_inches='tight')\n",
    "plt.show()"
   ]
  },
  {
   "cell_type": "markdown",
   "metadata": {},
   "source": [
    "### Compute the heat balance"
   ]
  },
  {
   "cell_type": "code",
   "execution_count": null,
   "metadata": {},
   "outputs": [],
   "source": [
    "ds_SHF_N_HEAT_diff=ds_sa_SHF-ds_N_HEAT_diff # PW"
   ]
  },
  {
   "cell_type": "code",
   "execution_count": null,
   "metadata": {},
   "outputs": [],
   "source": [
    "# Test\n",
    "ds_SHF_N_HEAT_diff.resample(time='1Y', closed='left').mean('time').sel(time=slice('1101-01-01','2001-01-01')).plot(label='HS',color='red')\n",
    "plt.legend()\n",
    "plt.grid()\n",
    "plt.title(None)\n",
    "plt.xlabel('Time [Years]')\n",
    "plt.ylabel('PW')\n",
    "#plt.savefig('Heat_storage.png',dpi=300,bbox_inches='tight')\n",
    "plt.show()"
   ]
  },
  {
   "cell_type": "markdown",
   "metadata": {},
   "source": [
    "<div class=\"alert alert-block alert-info\">\n",
    "Here it was necessary to do the difference and not the sum of the terms to get the heat balance. This is because the SHF convection is positive to the ocean. The balance is given by every heat flux entering from the surface (positive direction of the z-axis) is equal to every flux leaving from the meridional heat transport (positive direction of the y-axis). The meirdional heat transport has a positive y-axis direction, but the SHF has not a negative z-axis direction. \n",
    "</div>"
   ]
  },
  {
   "cell_type": "markdown",
   "metadata": {},
   "source": [
    "### Compute the heat storage (HS) to compare with the heat storage due to the difference between the heat fluxes\n",
    "- the vertical integral of the temperature tendency "
   ]
  },
  {
   "cell_type": "markdown",
   "metadata": {},
   "source": [
    "#### Equation: $$\\rm{HS = \\uprho_\\uptheta~C_p~\\int_{z_2}^{z_1}\\uptheta_{(z)}'~dz},$$\n",
    "##### where:\n",
    "##### * HS is heat storage ($\\rm{J~m^{-2}}$),\n",
    "##### * $\\uprho$ is the density of sea water,\n",
    "##### * $\\rm{C_p}$ is the specific heat of sea water,\n",
    "##### * $\\rm{z}$ is the depth limit on the calculation in meters,\n",
    "##### * and $\\uptheta$' is the potential temperature monthly anomaly (successor month minus previous month) at each depth in degress Kelvin or Celsius or, the temperature tendency. "
   ]
  },
  {
   "cell_type": "code",
   "execution_count": null,
   "metadata": {},
   "outputs": [],
   "source": [
    "%%time\n",
    "warnings.simplefilter(\"ignore\")\n",
    "ds_HS_TEMP=ds_sa_TEND_TEMP*dz # 1- Multiply by dz. Unit: oC.s-1.m \n",
    "ds_HS_TEMP=ds_HS_TEMP*ds_sa_TAREA # 2- Multiply by the area. Unit: oC.s-1.m3\n",
    "ds_HS_TEMP=ds_HS_TEMP.sum(dim=['z_t','nlon','nlat']) # 3- Integral in dz,dy,dx. Unit: oC.s-1.m3\n",
    "ds_HS_TEMP=ds_HS_TEMP*1026 # 4- Multiply by the density of the sea water. Unit: oC.s-1.kg\n",
    "ds_HS_TEMP=ds_HS_TEMP*3996 # 5- Multiply by the heat capacity of the sea water. Unit: W\n",
    "ds_HS_TEMP=ds_HS_TEMP*1e-15 # 6- Get the variable in PW "
   ]
  },
  {
   "cell_type": "code",
   "execution_count": null,
   "metadata": {},
   "outputs": [],
   "source": [
    "ds_HS_TEMP"
   ]
  },
  {
   "cell_type": "code",
   "execution_count": null,
   "metadata": {},
   "outputs": [],
   "source": [
    "%%time\n",
    "ds_HS_TEMP=ds_HS_TEMP.load()"
   ]
  },
  {
   "cell_type": "code",
   "execution_count": null,
   "metadata": {},
   "outputs": [],
   "source": [
    "# Test\n",
    "ds_HS_TEMP.resample(time='1Y', closed='left').mean('time').sel(time=slice('1101-01-01', '1850-01-01')).plot()\n",
    "ds_SHF_N_HEAT_diff.resample(time='1Y', closed='left').mean('time').sel(time=slice('1101-01-01', '1850-01-01')).plot()"
   ]
  },
  {
   "cell_type": "code",
   "execution_count": null,
   "metadata": {},
   "outputs": [],
   "source": [
    "ds_out_var = xr.merge([ds_HS_TEMP.rename('HS_TEND_TEMP'), # Heat Storage from temperature tendency\n",
    "                       ds_SHF_N_HEAT_diff.rename('HS'), # Heat Storage from SHF-N_HEAT\n",
    "                       ds_N_HEAT_diff.rename('MHTD'), # Meridional Heat Transport Difference\n",
    "                       ds_sa_SHF.rename('SHF')]) # Total Surface Heat Flux\n",
    "ds_out_var.attrs['description'] = 'Heat balance components for the South Atlantic from PI Control'\n",
    "ds_out_var.attrs['units'] = 'PW'\n",
    "ds_out_var.attrs['author'] = 'Mauricio Rocha'\n",
    "ds_out_var.attrs['email'] = 'mauricio.rocha@usp.br'\n",
    "# create a directory on scratch to save the output\n",
    "path = '/glade/scratch/mauricio/Data/LENS2/HEAT_BALANCE/'.format(getpass.getuser())\n",
    "os.system('mkdir -p '+path)\n",
    "ds_out_var.to_netcdf(path+'heat_balance_components_PI_control.nc')\n",
    "del ds_out_var"
   ]
  },
  {
   "cell_type": "markdown",
   "metadata": {},
   "source": [
    "### Calculate the heat stored per layer"
   ]
  },
  {
   "cell_type": "code",
   "execution_count": null,
   "metadata": {},
   "outputs": [],
   "source": [
    "%%time\n",
    "warnings.simplefilter(\"ignore\")\n",
    "layers=('0','1e+5','6e+5')\n",
    "for layer in range(0,len(layers)-1):\n",
    "    st=f'ds_HS_TEMP=ds_sa_TEND_TEMP.sel(z_t=slice({layers[layer]},{layers[layer+1]}))*dz.sel(z_t=slice({layers[layer]},{layers[layer+1]}))' # 1- Multiply by dz. Unit: oC.s-1.m\n",
    "    exec(st); del st\n",
    "    st=f'ds_HS_TEMP=ds_HS_TEMP*ds_sa_TAREA.sel(z_t=slice({layers[layer]},{layers[layer+1]}))' # 2- Multiply by the area. Unit: oC.s-1.m3\n",
    "    exec(st); del st\n",
    "    ds_HS_TEMP=ds_HS_TEMP.sum(dim=['z_t','nlon','nlat']) # 3- Integral in dz,dy,dx. Unit: oC.s-1.m3\n",
    "    ds_HS_TEMP=ds_HS_TEMP*1026 # 4- Multiply by the density of the sea water. Unit: oC.s-1.kg\n",
    "    ds_HS_TEMP=ds_HS_TEMP*3996 # 5- Multiply by the heat capacity of the sea water. Unit: W\n",
    "    ds_HS_TEMP=ds_HS_TEMP*1e-15 # 6- Get the variable in PW \n",
    "    st=f'ds_HS_TEMP_merged_{layer}=ds_HS_TEMP.load()'\n",
    "    exec(st); del st\n",
    "del ds_HS_TEMP, ds_sa_TAREA, ds_HS_TEMP, ds_sa_TEND_TEMP"
   ]
  },
  {
   "cell_type": "code",
   "execution_count": null,
   "metadata": {},
   "outputs": [],
   "source": [
    "ds_HS_TEMP_merged_0.resample(time='1Y', closed='left').mean('time').plot(label='0-1000')\n",
    "ds_HS_TEMP_merged_1.resample(time='1Y', closed='left').mean('time').plot(label='1000-6000')\n",
    "plt.legend()\n",
    "plt.show()"
   ]
  },
  {
   "cell_type": "code",
   "execution_count": null,
   "metadata": {},
   "outputs": [],
   "source": [
    "ds_out_var = xr.merge([ds_HS_TEMP_merged_0.rename('HS_0'), # Heat Storage (first layer)\n",
    "                       ds_HS_TEMP_merged_1.rename('HS_1'), # Heat Storage (second layer)\n",
    "                      ]) # Total Surface Heat Flux\n",
    "ds_out_var.attrs['description'] = 'Heat balance components from the PI Control per layers for the South Atlantic: HS_0 (0-1000m), HS_1 (1000-6000m)'\n",
    "ds_out_var.attrs['units'] = 'PW'\n",
    "ds_out_var.attrs['author'] = 'Mauricio Rocha'\n",
    "ds_out_var.attrs['email'] = 'mauricio.rocha@usp.br'\n",
    "# create a directory on scratch to save the output\n",
    "path = '/glade/scratch/mauricio/Data/LENS2/HEAT_BALANCE/'.format(getpass.getuser())\n",
    "os.system('mkdir -p '+path)\n",
    "ds_out_var.to_netcdf(path+'heat_storage_per_layer_0_6000m_PI_control.nc')"
   ]
  },
  {
   "cell_type": "raw",
   "metadata": {},
   "source": [
    "#### 5- Compute the difference in days in each month"
   ]
  },
  {
   "cell_type": "raw",
   "metadata": {},
   "source": [
    "%%time\n",
    "dt = np.empty((len(ds_dict['TEMP']['time_bound'].coords['time']))) * np.nan\n",
    "for it in range(len(ds_dict['TEMP']['time_bound'].coords['time'])):\n",
    "    dt[it]=np.abs(ds_dict['TEMP']['time_bound'].isel(\n",
    "        member_id=0,nlon=0,nlat=0,time=it,d2=0).values-ds_dict['TEMP']['time_bound'].isel(\n",
    "        member_id=0,nlon=0,nlat=0,time=it,d2=1).values).days"
   ]
  },
  {
   "cell_type": "raw",
   "metadata": {},
   "source": [
    "#### 6- Calculate the difference between one month and the following month of heat storage"
   ]
  },
  {
   "cell_type": "raw",
   "metadata": {},
   "source": [
    "%%time\n",
    "ds_HS_TEMP = ds_HS_TEMP.diff('time') # J"
   ]
  },
  {
   "cell_type": "raw",
   "metadata": {},
   "source": [
    "ds_HS_TEMP_PW=ds_HS_TEMP*(1e-15)/(60*60*24*dt[0:-1]) # PW (1e-15 to get the results in PW) "
   ]
  }
 ],
 "metadata": {
  "kernelspec": {
   "display_name": "NPL 2022b",
   "language": "python",
   "name": "npl-2022b"
  },
  "language_info": {
   "codemirror_mode": {
    "name": "ipython",
    "version": 3
   },
   "file_extension": ".py",
   "mimetype": "text/x-python",
   "name": "python",
   "nbconvert_exporter": "python",
   "pygments_lexer": "ipython3",
   "version": "3.8.13"
  }
 },
 "nbformat": 4,
 "nbformat_minor": 4
}
