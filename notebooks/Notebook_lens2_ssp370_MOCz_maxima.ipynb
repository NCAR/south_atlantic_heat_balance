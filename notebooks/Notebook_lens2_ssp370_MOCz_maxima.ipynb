{
 "cells": [
  {
   "cell_type": "markdown",
   "metadata": {
    "tags": []
   },
   "source": [
    "## CESM2 - LARGE ENSEMBLE (LENS2)\n",
    "\n",
    "#### by Mauricio Rocha and Dr. Gustavo Marques\n",
    "\n",
    " - This Notebook aims to find the maximum, minimum, mean, and root mean square error of the AMOC in the South Atlantic for the SSP370. "
   ]
  },
  {
   "cell_type": "markdown",
   "metadata": {},
   "source": [
    "## Imports"
   ]
  },
  {
   "cell_type": "code",
   "execution_count": null,
   "metadata": {},
   "outputs": [],
   "source": [
    "import xarray as xr\n",
    "import pandas as pd\n",
    "import numpy as np \n",
    "import dask\n",
    "import cf_xarray\n",
    "import intake\n",
    "import cftime\n",
    "import nc_time_axis\n",
    "import intake_esm\n",
    "import matplotlib.pyplot as plt\n",
    "import pop_tools\n",
    "from dask.distributed import Client\n",
    "from ncar_jobqueue import NCARCluster\n",
    "import warnings, getpass, os"
   ]
  },
  {
   "cell_type": "markdown",
   "metadata": {},
   "source": [
    "### Local functions"
   ]
  },
  {
   "cell_type": "code",
   "execution_count": null,
   "metadata": {},
   "outputs": [],
   "source": [
    "def rms_da(da, dims=('moc_z','lat_aux_grid'), weights=None,  weights_sum=None):\n",
    "  \"\"\"\n",
    "  Calculates the rms in DataArray da (optional weighted rms).\n",
    "\n",
    "  ----------\n",
    "  da : xarray.DataArray\n",
    "        DataArray for which to compute (weighted) rms.\n",
    "\n",
    "  dims : tuple, str\n",
    "    Dimension(s) over which to apply reduction. Default is ('yh', 'xh').\n",
    "\n",
    "  weights : xarray.DataArray, optional\n",
    "    weights to apply. It can be a masked array.\n",
    "\n",
    "  weights_sum : xarray.DataArray, optional\n",
    "    Total weight (i.e., weights.sum()). Only computed if not provided.\n",
    "\n",
    "  Returns\n",
    "  -------\n",
    "  reduction : DataSet\n",
    "      xarray.Dataset with (optionally weighted) rms for da.\n",
    "  \"\"\"\n",
    "\n",
    "  if weights is not None:\n",
    "    if weights_sum is None: weights_sum = weights.sum(dim=dims)\n",
    "    out = np.sqrt((da**2 * weights).sum(dim=dims)/weights_sum)\n",
    "    # copy attrs\n",
    "    out.attrs = da.attrs\n",
    "    return out\n",
    "  else:\n",
    "    return np.sqrt((da**2).mean(dim=dims, keep_attrs=True))"
   ]
  },
  {
   "cell_type": "markdown",
   "metadata": {},
   "source": [
    "## Improve the workflow using clusters "
   ]
  },
  {
   "cell_type": "code",
   "execution_count": null,
   "metadata": {},
   "outputs": [],
   "source": [
    "mem_per_worker = 40 # in GB \n",
    "num_workers = 60 \n",
    "cluster = NCARCluster(cores=1, processes=3, memory=f'{mem_per_worker} GB',resource_spec=f'select=1:ncpus=6:mem={mem_per_worker}GB')\n",
    "cluster.scale(num_workers)\n",
    "client = Client(cluster)\n",
    "print(client)\n",
    "client"
   ]
  },
  {
   "cell_type": "markdown",
   "metadata": {},
   "source": [
    "### Read in OGCM SSP370 file & MOC template file"
   ]
  },
  {
   "cell_type": "code",
   "execution_count": null,
   "metadata": {},
   "outputs": [],
   "source": [
    "catalog = intake.open_esm_datastore(\n",
    "    '/glade/collections/cmip/catalog/intake-esm-datastore/catalogs/glade-cesm2-le.json'\n",
    ")"
   ]
  },
  {
   "cell_type": "code",
   "execution_count": null,
   "metadata": {},
   "outputs": [],
   "source": [
    "cat_subset = catalog.search(component='ocn',variable=['MOC'],frequency='month_1')\n",
    "del catalog"
   ]
  },
  {
   "cell_type": "code",
   "execution_count": null,
   "metadata": {},
   "outputs": [],
   "source": [
    "# Load catalog entries for subset into a dictionary of xarray datasets\n",
    "dset_dict_raw  = cat_subset.to_dataset_dict(zarr_kwargs={\"consolidated\": True}, storage_options={\"anon\": True})\n",
    "print(f\"\\nDataset dictionary keys:\\n {dset_dict_raw.keys()}\")\n",
    "del cat_subset"
   ]
  },
  {
   "cell_type": "code",
   "execution_count": null,
   "metadata": {},
   "outputs": [],
   "source": [
    "%%time\n",
    "fb=('cmip6','smbb')\n",
    "for ifb in range(0,2):  \n",
    "    print(f\"Forcing_variant: {ifb}\")\n",
    "    str=f'ds_{fb[ifb]}_moc = dset_dict_raw[\\'ocn.ssp370.pop.h.{fb[ifb]}.MOC\\']' \n",
    "    exec(str)\n",
    "    str=f'ds_{fb[ifb]}_moc = ds_{fb[ifb]}_moc.sel(time=slice(\\'2015-02-01\\', \\'2100-12-31\\')).resample(time=\\'1Y\\', closed=\\'left\\').mean(\\'time\\')' # Time Series and annual mean\n",
    "    exec(str)\n",
    "    str=f'moc_{fb[ifb]} = ds_{fb[ifb]}_moc[\\'MOC\\']' # Variable\n",
    "    exec(str)\n",
    "    str=f'del ds_{fb[ifb]}_moc'\n",
    "    exec(str)"
   ]
  },
  {
   "cell_type": "code",
   "execution_count": null,
   "metadata": {},
   "outputs": [],
   "source": [
    "%%time\n",
    "for ifb in range(0,2): \n",
    "    print(f\"Forcing_variant: {ifb}\")\n",
    "    str=f'moc_{fb[ifb]}[\\'moc_z\\'] = -0.01*moc_{fb[ifb]}.moc_z' # cm to m and negative depth\n",
    "    print(str)\n",
    "    exec(str) "
   ]
  },
  {
   "cell_type": "code",
   "execution_count": null,
   "metadata": {},
   "outputs": [],
   "source": [
    "area_sa=moc_smbb.coords['lat_aux_grid'].sel(lat_aux_grid=slice(-25.91623,-1.413613))"
   ]
  },
  {
   "cell_type": "code",
   "execution_count": null,
   "metadata": {},
   "outputs": [],
   "source": [
    "moc=xr.combine_nested([moc_cmip6,moc_smbb],concat_dim=['member_id'])\n",
    "MOC_max = np.empty((len(moc['time']),len(moc['member_id']))) * np.nan\n",
    "MOC_mean = np.empty((len(moc['time']),len(moc['member_id']))) * np.nan\n",
    "MOC_min = np.empty((len(moc['time']),len(moc['member_id']))) * np.nan\n",
    "MOC_rms = np.empty((len(moc['time']),len(moc['member_id']))) * np.nan"
   ]
  },
  {
   "cell_type": "code",
   "execution_count": null,
   "metadata": {},
   "outputs": [],
   "source": [
    "%%time\n",
    "ilas=-25.91623 # southern boundary\n",
    "ilan=-1.413613 # northern boundary\n",
    "mx_depth=-3500 # depth limit\n",
    "\n",
    "for it in range(0,len(moc_smbb['time'])): # time \n",
    "    print(f'Time: {it}')        \n",
    "    # Maximum AMOC for the South Atlantic (see the limits)\n",
    "    amoc = moc.isel(time=it,transport_reg=1).where(\n",
    "    (moc.isel(time=it,transport_reg=1,moc_comp=0)['moc_z'] > mx_depth) & # depth\n",
    "    (moc.isel(time=it,transport_reg=1,moc_comp=0)['lat_aux_grid'] > ilas) & # south\n",
    "    (moc.isel(time=it,transport_reg=1,moc_comp=0)['lat_aux_grid'] < ilan), # north\n",
    "    drop=True\n",
    "    ).sum(dim='moc_comp')\n",
    "    MOC_max[it,:]=amoc.max(dim=['moc_z','lat_aux_grid']).load() \n",
    "        \n",
    "    # Minimum AMOC for the South Atlantic (see the limits)\n",
    "    amoc = moc.isel(time=it,transport_reg=1).where(\n",
    "    (moc.isel(time=it,transport_reg=1,moc_comp=0)['moc_z'] > mx_depth) & # depth\n",
    "    (moc.isel(time=it,transport_reg=1,moc_comp=0)['lat_aux_grid'] > ilas) & # south\n",
    "    (moc.isel(time=it,transport_reg=1,moc_comp=0)['lat_aux_grid'] < ilan), # north\n",
    "    drop=True\n",
    "    ).sum(dim='moc_comp')\n",
    "    MOC_min[it,:]=amoc.min(dim=['moc_z','lat_aux_grid']).load() \n",
    "        \n",
    "    # Mean AMOC for the South Atlant (see the limits)\n",
    "    amoc = moc.isel(time=it,transport_reg=1).where(\n",
    "    (moc.isel(time=it,transport_reg=1,moc_comp=0)['moc_z'] > mx_depth) & # depth\n",
    "    (moc.isel(time=it,transport_reg=1,moc_comp=0)['lat_aux_grid'] > ilas) & # south\n",
    "    (moc.isel(time=it,transport_reg=1,moc_comp=0)['lat_aux_grid'] < ilan), # north\n",
    "    drop=True\n",
    "    ).sum(dim='moc_comp')\n",
    "    MOC_mean[it,:]=amoc.weighted(area_sa).mean(dim=['moc_z','lat_aux_grid']).load() \n",
    "        \n",
    "    # Error AMOC for the South Atlantic (see the limits)\n",
    "    amoc = moc.isel(time=it,transport_reg=1).where(\n",
    "    (moc.isel(time=it,transport_reg=1,moc_comp=0)['moc_z'] > mx_depth) & # depth\n",
    "    (moc.isel(time=it,transport_reg=1,moc_comp=0)['lat_aux_grid'] > ilas) & # south\n",
    "    (moc.isel(time=it,transport_reg=1,moc_comp=0)['lat_aux_grid'] < ilan), # north\n",
    "    drop=True\n",
    "    ).sum(dim='moc_comp')\n",
    "    #MOC_rms[it,:]=np.sqrt((amoc**2).mean(dim=['moc_z','lat_aux_grid'])).load() \n",
    "    MOC_rms[it,:]=rms_da(amoc, weights=area_sa, weights_sum=area_sa.sum())\n",
    "    del amoc"
   ]
  },
  {
   "cell_type": "code",
   "execution_count": null,
   "metadata": {},
   "outputs": [],
   "source": [
    "da1 = xr.Dataset({'MOC_rms': (('time','member_id'), MOC_rms)}, coords={'time': moc.coords['time'],'member_id': moc.coords['member_id']})\n",
    "da2 = xr.Dataset({'MOC_mean': (('time','member_id'), MOC_mean)}, coords={'time': moc.coords['time'],'member_id': moc.coords['member_id']})\n",
    "da3 = xr.Dataset({'MOC_max': (('time','member_id'), MOC_max)}, coords={'time': moc.coords['time'],'member_id': moc.coords['member_id']})\n",
    "da4 = xr.Dataset({'MOC_min': (('time','member_id'), MOC_min)}, coords={'time': moc.coords['time'],'member_id': moc.coords['member_id']})\n",
    "ds_out_MOC=xr.combine_by_coords([da1, da2, da3, da4])\n",
    "ds_out_MOC.attrs['description'] = 'Meridional Overturning Circulation (MOC) statistics for the South Atlantic (47.5W-23.75E and 25.91623S-1.413613S)'\n",
    "ds_out_MOC.attrs['units'] = 'Sv'\n",
    "ds_out_MOC.attrs['author'] = 'Mauricio Rocha'\n",
    "ds_out_MOC.attrs['email'] = 'mauricio.rocha@usp.br'"
   ]
  },
  {
   "cell_type": "code",
   "execution_count": null,
   "metadata": {},
   "outputs": [],
   "source": [
    "# Total Surface Heat Fux\n",
    "fig, axes = plt.subplots(1, 4, figsize=(20, 8))\n",
    "# Maximum\n",
    "ds_out_MOC.MOC_max.resample(time='1Y', closed='left').mean('time').plot.line(ax=axes[0],x=\"time\",color='orange',alpha=0.01,linewidth=1,add_legend=False)\n",
    "ds_out_MOC.MOC_max.resample(time='1Y', closed='left').mean('time').mean('member_id').plot.line(ax=axes[0],x=\"time\",alpha=0.3,color='r',linewidth=1,label='Member Mean 1Y')\n",
    "ds_out_MOC.MOC_max.resample(time='5Y', closed='left').mean('time').mean('member_id').plot.line(ax=axes[0],x=\"time\",color='r',linewidth=2,label='Member Mean 5Y')\n",
    "axes[0].set_xlabel('Time [Years]')\n",
    "axes[0].set_ylabel('MOC Max [Sv]')\n",
    "axes[0].set_title('Area Max')\n",
    "axes[0].grid(color='k', linestyle='-', linewidth=0.7)\n",
    "axes[0].legend()\n",
    "#axes[0].set_ylim(103,108.2)\n",
    "fig.tight_layout(pad=2.0)\n",
    "# Mean\n",
    "ds_out_MOC.MOC_mean.resample(time='1Y', closed='left').mean('time').plot.line(ax=axes[1],x=\"time\",color='gray',alpha=0.01,linewidth=1,add_legend=False)\n",
    "ds_out_MOC.MOC_mean.resample(time='1Y', closed='left').mean('time').mean('member_id').plot.line(ax=axes[1],x=\"time\",alpha=0.3,color='k',linewidth=1,label='Member Mean 1Y')\n",
    "ds_out_MOC.MOC_mean.resample(time='5Y', closed='left').mean('time').mean('member_id').plot.line(ax=axes[1],x=\"time\",color='k',linewidth=2,label='Member Mean 5Y')\n",
    "axes[1].set_xlabel('Time [Years]')\n",
    "axes[1].set_ylabel('MOC Mean [Sv]')\n",
    "axes[1].set_title('Area Mean')\n",
    "axes[1].grid(color='k', linestyle='-', linewidth=0.7)\n",
    "axes[1].legend()\n",
    "#axes[1].set_ylim(17,25.5)\n",
    "# Minimum\n",
    "ds_out_MOC.MOC_min.resample(time='1Y', closed='left').mean('time').plot.line(ax=axes[2],x=\"time\",color='c',alpha=0.01,linewidth=1,add_legend=False)\n",
    "ds_out_MOC.MOC_min.resample(time='1Y', closed='left').mean('time').mean('member_id').plot.line(ax=axes[2],x=\"time\",alpha=0.3,color='b',linewidth=1,label='Member Mean 1Y')\n",
    "ds_out_MOC.MOC_min.resample(time='5Y', closed='left').mean('time').mean('member_id').plot.line(ax=axes[2],x=\"time\",color='b',linewidth=2,label='Member Mean 5Y')\n",
    "axes[2].set_xlabel('Time [Years]')\n",
    "axes[2].set_ylabel('MOC Min [Sv]')\n",
    "axes[2].set_title('Area Min')\n",
    "axes[2].grid(color='k', linestyle='-', linewidth=0.7)\n",
    "axes[2].legend()\n",
    "#axes[2].set_ylim(-63,-51)\n",
    "# Minimum\n",
    "ds_out_MOC.MOC_rms.resample(time='1Y', closed='left').mean('time').plot.line(ax=axes[3],x=\"time\",color='y',alpha=0.01,linewidth=1,add_legend=False)\n",
    "ds_out_MOC.MOC_rms.resample(time='1Y', closed='left').mean('time').mean('member_id').plot.line(ax=axes[3],x=\"time\",alpha=0.3,color='g',linewidth=1,label='Member Mean 1Y')\n",
    "ds_out_MOC.MOC_rms.resample(time='5Y', closed='left').mean('time').mean('member_id').plot.line(ax=axes[3],x=\"time\",color='g',linewidth=2,label='Member Mean 5Y')\n",
    "axes[3].set_xlabel('Time [Years]')\n",
    "axes[3].set_ylabel('MOC Error [Sv]')\n",
    "axes[3].set_title('Area Error')\n",
    "axes[3].grid(color='k', linestyle='-', linewidth=0.7)\n",
    "axes[3].legend()\n",
    "#axes[3].set_ylim(50.3,52)\n",
    "\n",
    "plt.show()"
   ]
  },
  {
   "cell_type": "markdown",
   "metadata": {},
   "source": [
    "### Let's save the data in netcdf format"
   ]
  },
  {
   "cell_type": "code",
   "execution_count": null,
   "metadata": {},
   "outputs": [],
   "source": [
    "# create a directory on scratch to save the output\n",
    "path = '/glade/scratch/mauricio/LENS2_ssp370_south_atlantic/MOC/'.format(getpass.getuser())\n",
    "os.system('mkdir -p '+path)\n",
    "ds_out_MOC.to_netcdf(path+'MOC_stats.nc')"
   ]
  }
 ],
 "metadata": {
  "kernelspec": {
   "display_name": "NPL 2022b",
   "language": "python",
   "name": "npl-2022b"
  },
  "language_info": {
   "codemirror_mode": {
    "name": "ipython",
    "version": 3
   },
   "file_extension": ".py",
   "mimetype": "text/x-python",
   "name": "python",
   "nbconvert_exporter": "python",
   "pygments_lexer": "ipython3",
   "version": "3.8.13"
  }
 },
 "nbformat": 4,
 "nbformat_minor": 4
}
