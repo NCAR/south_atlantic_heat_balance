{
 "cells": [
  {
   "cell_type": "markdown",
   "id": "734e5283-6ce6-4991-a82e-22d366c093ba",
   "metadata": {},
   "source": [
    "## CESM2 - LARGE ENSEMBLE (LENS2)\n",
    "\n",
    "- Notebook to compare AMOC from LENS2 with other datasets"
   ]
  },
  {
   "cell_type": "markdown",
   "id": "3ae4f926-964e-4d84-8cbe-49e562f74cab",
   "metadata": {},
   "source": [
    "### Imports"
   ]
  },
  {
   "cell_type": "code",
   "execution_count": null,
   "id": "51bc7aa9-73bf-4ca8-adbe-ac3015048694",
   "metadata": {},
   "outputs": [],
   "source": [
    "import xarray as xr\n",
    "import pandas as pd\n",
    "import numpy as np \n",
    "import cf_xarray\n",
    "from matplotlib.ticker import MaxNLocator\n",
    "import cftime\n",
    "import nc_time_axis\n",
    "import matplotlib.pyplot as plt\n",
    "import warnings, getpass, os\n",
    "import distributed\n",
    "import ncar_jobqueue\n",
    "import scipy.io\n",
    "%matplotlib inline\n",
    "from matplotlib.offsetbox import AnchoredText"
   ]
  },
  {
   "cell_type": "markdown",
   "id": "5745fb5f-8f4f-4e63-b495-2c3ec54bf20f",
   "metadata": {},
   "source": [
    "### Dask"
   ]
  },
  {
   "cell_type": "code",
   "execution_count": null,
   "id": "13ae4bc8-4ccc-4d2a-a573-647cc25c6a88",
   "metadata": {},
   "outputs": [],
   "source": [
    "cluster = ncar_jobqueue.NCARCluster()\n",
    "cluster.scale(20)\n",
    "client = distributed.Client(cluster)\n",
    "client"
   ]
  },
  {
   "cell_type": "markdown",
   "id": "defd585a-d99a-479c-a339-9017b6a40fc8",
   "metadata": {},
   "source": [
    "## Part1\n",
    "- In this first part, we will make the comparison of the maximum current function of the AMOC from LENS2 with different reanalyses."
   ]
  },
  {
   "cell_type": "markdown",
   "id": "a2ce95e3-5484-4d19-8b19-6c8507dcce01",
   "metadata": {},
   "source": [
    "### Data"
   ]
  },
  {
   "cell_type": "code",
   "execution_count": null,
   "id": "a6cb957c-4532-4066-ad74-b1fb8be432d3",
   "metadata": {},
   "outputs": [],
   "source": [
    "# Reanalysis (Copernicus) and Large Ensemble (CESM2)\n",
    "t1='1993-01-01' # Inital time\n",
    "t2='2020-12-31' # Final time\n",
    "models=('glor','foam','cglo','oras','all_models','lens2') # Abbreviations for the models\n",
    "for im in range(0,len(models)):\n",
    "    if im<=4:\n",
    "        st=f'ds_{models[im]}_amoc = xr.open_dataset(\\'/glade/scratch/mauricio/Data/AMOC/glorys2v2/{models[im]}_amoc.nc\\')'; exec(st); del(st)\n",
    "        st=f'ds_{models[im]}_amoc.coords[\\'depth\\']=ds_{models[im]}_amoc.coords[\\'depth\\']*0.001'; exec(st); del(st)\n",
    "        st=f'ds_{models[im]}_amoc=ds_{models[im]}_amoc.amoc.sel(time=slice(t1,t2))'#.resample(time=\\'1Y\\', closed=\\'left\\').mean(\\'time\\')' \n",
    "        exec(st); del(st)  \n",
    "    else:\n",
    "        st=f'ds_{models[im]}_amoc = xr.open_dataset(\\'/glade/scratch/mauricio/Data/AMOC/LENS2/{models[im]}_amoc.nc\\')'; exec(st); del(st)\n",
    "        ds_lens2_amoc.coords['moc_z']=ds_lens2_amoc.coords['moc_z']*0.00001 # +cm to km\n",
    "        ds_lens2_amoc=ds_lens2_amoc.rename({'moc_z': 'depth', 'lat_aux_grid': 'latitude'})\n",
    "        st=f'ds_{models[im]}_amoc=ds_{models[im]}_amoc.amoc.sel(time=slice(t1,t2))'#.resample(time=\\'1Y\\', closed=\\'left\\').mean(\\'time\\')' \n",
    "        exec(st); del(st)\n",
    "    #    ds_lens2_amoc.coords['time']=ds_glor_amoc.coords['time']"
   ]
  },
  {
   "cell_type": "raw",
   "id": "a639576a-2dbb-43e5-b67a-8f44e23cea95",
   "metadata": {},
   "source": [
    "# Altimeter (Maximum amoc - time series)\n",
    "ds = scipy.io.loadmat('/glade/scratch/mauricio/Data/AMOC/Dong_et_al_JGR_2021/moc_mht_ERA5.mat')\n",
    "timexr = pd.date_range(\"1993-01-15\", periods=326, freq='M')\n",
    "ds_alt_amoc = xr.merge([xr.Dataset({'amoc': xr.DataArray(data=ds.get('moc_DT')[:,0],dims=['time'],coords={'time': timexr})}),\n",
    "                        xr.Dataset({'alt_25': xr.DataArray(data=ds.get('moc_DT')[:,1],dims=['time'],coords={'time': timexr})}),\n",
    "                        xr.Dataset({'alt_30': xr.DataArray(data=ds.get('moc_DT')[:,2],dims=['time'],coords={'time': timexr})}),\n",
    "                        xr.Dataset({'alt_345': xr.DataArray(data=ds.get('moc_DT')[:,3],dims=['time'],coords={'time': timexr})})]); \n",
    "del timexr, ds\n",
    "ds_alt_amoc=ds_alt_amoc.resample(time='1Y', closed='left').mean('time')\n",
    "teste=xr.concat([ds_alt_amoc.amoc,ds_alt_amoc.alt_25,ds_alt_amoc.alt_30,ds_alt_amoc.alt_345], 'latitude')\n",
    "ds_alt_amoc=xr.concat([ds_alt_amoc.amoc,ds_alt_amoc.alt_25,ds_alt_amoc.alt_30,ds_alt_amoc.alt_345], pd.Index(\n",
    "    [-20,-25, -30, -34.5], name='latitude')); del teste"
   ]
  },
  {
   "cell_type": "code",
   "execution_count": null,
   "id": "aa3b4064-72af-4d21-855c-eaadf7a358d6",
   "metadata": {},
   "outputs": [],
   "source": [
    "# Altimeter (Streamfunction).\n",
    "t1='1993-01-31T00:00:00.000000000' # Inital time\n",
    "t2='2020-12-31T00:00:00.000000000' # Final time\n",
    "ds = scipy.io.loadmat('/glade/scratch/mauricio/Data/AMOC/Dong_et_al_JGR_2021/strfun_all.mat')\n",
    "timexr = pd.date_range(\"1993-01-15\", periods=348, freq='M')\n",
    "ds_alt_strfun = xr.merge([xr.Dataset({'strfun': \n",
    "                        xr.DataArray(data=ds.get('strfun_26N'),dims=['depth','time'],\n",
    "                                                             coords={'depth':np.transpose(ds.get('zz_26N')).squeeze()*-1,'time': timexr})}),\n",
    "                        xr.Dataset({'strfun20': xr.DataArray(data=ds.get('strfun_20S'),dims=['depth','time'],\n",
    "                                                            coords={'depth':np.transpose(ds.get('zz')).squeeze()*-1,'time': timexr})}),\n",
    "                        xr.Dataset({'strfun25': xr.DataArray(data=ds.get('strfun_25S'),dims=['depth','time'],\n",
    "                                                              coords={'depth':np.transpose(ds.get('zz')).squeeze()*-1,'time': timexr})}),\n",
    "                        xr.Dataset({'strfun30': xr.DataArray(data=ds.get('strfun_30S'),dims=['depth','time'],\n",
    "                                                              coords={'depth':np.transpose(ds.get('zz')).squeeze()*-1,'time': timexr})}),\n",
    "                        xr.Dataset({'strfun35': xr.DataArray(data=ds.get('strfun_35S'),dims=['depth','time'],\n",
    "                                                              coords={'depth':np.transpose(ds.get('zz')).squeeze()*-1,'time': timexr})})]) \n",
    "teste=xr.concat([ds_alt_strfun.strfun,ds_alt_strfun.strfun20,ds_alt_strfun.strfun25,ds_alt_strfun.strfun30,ds_alt_strfun.strfun35], 'latitude')\n",
    "ds_alt_strfun=xr.concat([ds_alt_strfun.strfun,ds_alt_strfun.strfun20,ds_alt_strfun.strfun25,ds_alt_strfun.strfun30,ds_alt_strfun.strfun35], pd.Index(\n",
    "    [26, -20,-25, -30, -35], name='latitude')); del teste\n",
    "ds_alt_strfun=ds_alt_strfun/1000000 # Get Sverdrup as a unit\n",
    "ds_alt_strfun.coords['depth']=ds_alt_strfun.coords['depth']*-0.001 # to get positive depths and to transfor m to km\n",
    "ds_alt_strfun=ds_alt_strfun.sel(time=slice(t1,t2))#.resample(time='1Y', closed='left').mean('time')"
   ]
  },
  {
   "cell_type": "code",
   "execution_count": null,
   "id": "121d3f70-e19d-4d9b-9f68-375ed16c4a8a",
   "metadata": {},
   "outputs": [],
   "source": [
    "def calculate_ticks(ax, ticks, round_to=0.01, center=False):\n",
    "    upperbound = np.ceil(ax.get_ybound()[1]/round_to)\n",
    "    lowerbound = np.floor(ax.get_ybound()[0]/round_to)\n",
    "    dy = upperbound - lowerbound\n",
    "    fit = np.floor(dy/(ticks - 1)) + 1\n",
    "    dy_new = (ticks - 1)*fit\n",
    "    if center:\n",
    "        offset = np.floor((dy_new - dy)/2)\n",
    "        lowerbound = lowerbound - offset\n",
    "    values = np.linspace(lowerbound, lowerbound + dy_new, ticks)\n",
    "    return values*round_to"
   ]
  },
  {
   "cell_type": "raw",
   "id": "b995ebb8-5251-497e-b33c-e4810097577b",
   "metadata": {},
   "source": [
    "lw=1\n",
    "t1='1993-01-01' # initial time\n",
    "t2='2020-12-31' # final time\n",
    "lat=[26.5,-20,-25,-30,-34.5]\n",
    "models=('glor','foam','cglo','oras','all_models')#,'alt','lens2')\n",
    "leg=('GLORYS','FOAM','CGLO','ORAS','Models_mean')#,'Altimeter','LENS2')\n",
    "colors=('lime','red','orange','orchid','maroon')#,'blue','black')\n",
    "a=[0,0,1,1,2]; b=[0,1,0,1,0]\n",
    "fig, axs = plt.subplots(nrows=3, ncols=2, figsize=(15,10),sharey=False)\n",
    "for il in range(0,len(lat)):\n",
    "    st=f'ds_lens2_amoc.sel(latitude={lat[il]},method=\\'nearest\\').squeeze().sel(time=slice(t1,t2)).max(dim=\\'depth\\').plot.line(ax=axs[{a[il]},{b[il]}],x=\\'time\\',alpha=0.01,color=\\'k\\',linewidth=lw,label=None, add_legend=False)'; exec(st); del st # all members\n",
    "    for im in range(0,len(models)):\n",
    "        st=f'ds_{models[im]}_amoc.sel(latitude={lat[il]},method=\\'nearest\\').sel(time=slice(t1,t2)).max(dim=\\'depth\\').plot.line(ax=axs[{a[il]},{b[il]}],x=\\'time\\',linewidth=lw,color=\\'{colors[im]}\\',label=\\'{leg[im]}\\')'; exec(st); del(st) # Reanalysis\n",
    "    st=f'ds_alt_amoc.sel(latitude={lat[il]},method=\\'nearest\\').squeeze().sel(time=slice(t1,t2)).plot.line(ax=axs[{a[il]},{b[il]}],x=\\'time\\',color=\\'b\\',linewidth=lw,label=\\'Altimeter\\')'; exec(st); del st # all members\n",
    "    st=f'ds_lens2_amoc.sel(latitude={lat[il]},method=\\'nearest\\').squeeze().mean(dim=\\'member_id\\').sel(time=slice(t1,t2)).max(\\'depth\\').plot.line(ax=axs[{a[il]},{b[il]}],x=\\'time\\',color=\\'k\\',linewidth=lw,label=\\'LENS2\\')'; exec(st); del st # all members\n",
    "    plt.ylabel('Depth [m]')\n",
    "    st=f'axs[{a[il]},{b[il]}].set_yticks(np.arange(0, 34, step=6))'; exec(st); del st\n",
    "    st=f'axs[{a[il]},{b[il]}].set_xlim([ds_alt_amoc.coords[\\'time\\'][0],ds_alt_amoc.coords[\\'time\\'][-1]])'; exec(st); del st\n",
    "    st=f'axs[{a[il]},{b[il]}].set_ylim([-2,34])'; exec(st); del st\n",
    "    st=f'axs[{a[il]},{b[il]}].set_ylabel(\\'Maximum Streamfunction [Sv]\\',fontsize=12)'; exec(st); del st\n",
    "    st=f'axs[{a[il]},{b[il]}].set_xlabel(\\'Time [Years]\\',fontsize=12)'; exec(st); del st\n",
    "    st=f'axs[{a[il]},{b[il]}].grid()'; exec(st); del st\n",
    "    st=f'axs[{a[il]},{b[il]}].set_title(\\'Latitude: {lat[il]}\\',fontsize=14)'; exec(st); del st\n",
    "plt.tight_layout()\n",
    "axs[2,0].legend(loc='center left', bbox_to_anchor=(1.4, 0.3), title = 'Datasets:', fontsize=14,title_fontsize=17)\n",
    "axs[2][1].set_visible(False)\n",
    "axs[0][0].set_xticklabels([]); axs[0][1].set_xticklabels([]); axs[1][0].set_xticklabels([])\n",
    "axs[0][1].set_yticklabels([]); axs[1][1].set_yticklabels([]); \n",
    "axs[0][1].set(ylabel=None); axs[1][1].set(ylabel=None); \n",
    "axs[0][0].set(xlabel=None); axs[0][1].set(xlabel=None); axs[1][0].set(xlabel=None)\n",
    "plt.savefig('tseries.png',dpi=300,bbox_inches='tight')\n",
    "plt.subplots_adjust(wspace=0.02, hspace=0.1)\n",
    "plt.show()"
   ]
  },
  {
   "cell_type": "markdown",
   "id": "0ba89efd-6b1d-4786-b4a8-9d98a2747cdc",
   "metadata": {},
   "source": [
    "### Plot 2"
   ]
  },
  {
   "cell_type": "code",
   "execution_count": null,
   "id": "425751a3-548d-470b-a260-62145d9d4f6f",
   "metadata": {},
   "outputs": [],
   "source": [
    "# Parameters\n",
    "lw=1\n",
    "plt.rcParams.update({'font.size': 20})\n",
    "t1='1993-01-01' # initial time\n",
    "t2='2020-12-31' # final time\n",
    "lat=[26.5,-20,-25,-30,-34.5]\n",
    "a=[0,0,1,1,2]; b=[0,1,0,1,0]\n",
    "\n",
    "# Data\n",
    "models=('glor','foam','cglo','oras','all_models') #,'alt','lens2')\n",
    "leg=('GLORYS','FOAM','CGLO','ORAS','Models_mean') #,'Altimeter','LENS2')\n",
    "colors=('darkgreen','darkred','orange','orchid','turquoise')  #,'blue','black')\n",
    "\n",
    "# Plot\n",
    "fig, axs = plt.subplots(nrows=3, ncols=2, figsize=(15,10),sharey=False)\n",
    "for il in range(0,len(lat)):\n",
    "    st=f'ds_lens2_amoc.sel(latitude={lat[il]},method=\\'nearest\\').squeeze().sel(time=slice(t1,t2)).mean(dim=\\'time\\').plot.line(ax=axs[{a[il]},{b[il]}],y=\\'depth\\',alpha=0.01,color=\\'k\\',linewidth=lw,label=None,add_legend=False)'; exec(st); del st # all members\n",
    "    for im in range(0,len(models)):\n",
    "        st=f'ds_{models[im]}_amoc.sel(latitude={lat[il]},method=\\'nearest\\').sel(time=slice(t1,t2)).mean(dim=\\'time\\').plot.line(ax=axs[{a[il]},{b[il]}],y=\\'depth\\',linewidth=lw,color=\\'{colors[im]}\\',label=\\'{leg[im]}\\')'; exec(st); del(st) # Reanalysis\n",
    "    st=f'ds_alt_strfun.sel(latitude={lat[il]},method=\\'nearest\\').squeeze().sel(time=slice(t1,t2)).mean(dim=\\'time\\').plot.line(ax=axs[{a[il]},{b[il]}],y=\\'depth\\',color=\\'darkblue\\',linewidth=lw,label=\\'Altimeter\\')'; exec(st); del st # all members\n",
    "    st=f'ds_lens2_amoc.sel(latitude={lat[il]},method=\\'nearest\\').squeeze().mean(dim=\\'member_id\\').sel(time=slice(t1,t2)).mean(\\'time\\').plot.line(ax=axs[{a[il]},{b[il]}],y=\\'depth\\',color=\\'k\\',linewidth=lw,label=\\'LENS2\\')'; exec(st); del st # all members\n",
    "    plt.ylabel('Depth [km]')\n",
    "    st=f'axs[{a[il]},{b[il]}].set_yticks(np.arange(0,6,step=1))'; exec(st); del st\n",
    "    st=f'axs[{a[il]},{b[il]}].set_xticks(np.arange(-8,26,step=4))'; exec(st); del st\n",
    "    st=f'axs[{a[il]},{b[il]}].set_xlim([-8,26])'; exec(st); del st\n",
    "    st=f'axs[{a[il]},{b[il]}].set_ylim([0,6])'; exec(st); del st\n",
    "    st=f'axs[{a[il]},{b[il]}].set_ylabel(\\'Depth [km]\\',fontsize=24)'; exec(st); del st\n",
    "    st=f'axs[{a[il]},{b[il]}].set_xlabel(\\'AMOC Streamfunction [Sv]\\',fontsize=24)'; exec(st); del st\n",
    "    st=f'axs[{a[il]},{b[il]}].grid()'; exec(st); del st\n",
    "    #st=f'axs[{a[il]},{b[il]}].set_title(\\'Latitude: {lat[il]}\\',fontsize=14)'; exec(st); del st\n",
    "    st=f'axs[{a[il]},{b[il]}].set_title(None)'; exec(st); del st\n",
    "\n",
    "# Config plots    \n",
    "plt.tight_layout()\n",
    "axs[2,0].legend(loc='center left', bbox_to_anchor=(1.4, 0.2), title = 'Datasets:', fontsize=17,title_fontsize=20)\n",
    "axs[2][1].set_visible(False)\n",
    "axs[0][0].set_xticklabels([]); axs[0][1].set_xticklabels([]); axs[1][0].set_xticklabels([])\n",
    "axs[0][1].set_yticklabels([]); axs[1][1].set_yticklabels([]); \n",
    "axs[0][1].set(ylabel=None); axs[1][1].set(ylabel=None); \n",
    "axs[0][0].set(xlabel=None); axs[0][1].set(xlabel=None); axs[1][0].set(xlabel=None)\n",
    "plt.subplots_adjust(wspace=0.02, hspace=0.03)\n",
    "#plt.invert_yaxis()\n",
    "axs[0][0].invert_yaxis(); axs[0][1].invert_yaxis()\n",
    "axs[1][0].invert_yaxis(); axs[1][1].invert_yaxis()\n",
    "axs[2][0].invert_yaxis()\n",
    "\n",
    "# Identification per letters\n",
    "at = AnchoredText(\"A\", prop=dict(size=18), frameon=True, loc='upper left'); at.patch.set_boxstyle(\"round,pad=0.,rounding_size=0.2\")\n",
    "axs[0][0].add_artist(at)\n",
    "\n",
    "at = AnchoredText(\"B\", prop=dict(size=18), frameon=True, loc='upper left'); at.patch.set_boxstyle(\"round,pad=0.,rounding_size=0.2\")\n",
    "axs[0][1].add_artist(at)\n",
    "\n",
    "at = AnchoredText(\"C\", prop=dict(size=18), frameon=True, loc='upper left'); at.patch.set_boxstyle(\"round,pad=0.,rounding_size=0.2\")\n",
    "axs[1][0].add_artist(at)\n",
    "\n",
    "at = AnchoredText(\"D\", prop=dict(size=18), frameon=True, loc='upper left'); at.patch.set_boxstyle(\"round,pad=0.,rounding_size=0.2\")\n",
    "axs[1][1].add_artist(at)\n",
    "\n",
    "at = AnchoredText(\"E\", prop=dict(size=18), frameon=True, loc='upper left'); at.patch.set_boxstyle(\"round,pad=0.,rounding_size=0.2\")\n",
    "axs[2][0].add_artist(at)\n",
    "\n",
    "# Save Plot\n",
    "plt.savefig('vertical_profile.png',dpi=300,bbox_inches='tight')\n",
    "plt.show()"
   ]
  },
  {
   "cell_type": "code",
   "execution_count": null,
   "id": "b699dbc1-7251-4318-bfa6-b09ed833164d",
   "metadata": {},
   "outputs": [],
   "source": [
    "# Reanalysis (Copernicus) and Large Ensemble (CESM2)\n",
    "t1='1990-01-01' # Inital time\n",
    "t2='2020-12-31' # Final time\n",
    "ds_lens2_amoc_past = xr.open_dataset('/glade/scratch/mauricio/Data/AMOC/LENS2/lens2_amoc.nc')\n",
    "ds_lens2_amoc_past.coords['moc_z']=ds_lens2_amoc_past.coords['moc_z']*0.00001 # +cm to km\n",
    "ds_lens2_amoc_past=ds_lens2_amoc_past.rename({'moc_z': 'depth', 'lat_aux_grid': 'latitude'})\n",
    "ds_lens2_amoc_past=ds_lens2_amoc_past.amoc.sel(time=slice(t1,t2)) \n",
    "\n",
    "t1='2070-01-01' # Inital time\n",
    "t2='2100-12-31' # Final time\n",
    "ds_lens2_amoc_future = xr.open_dataset('/glade/scratch/mauricio/Data/AMOC/LENS2/lens2_amoc.nc')\n",
    "ds_lens2_amoc_future.coords['moc_z']=ds_lens2_amoc_future.coords['moc_z']*0.00001 # +cm to km\n",
    "ds_lens2_amoc_future=ds_lens2_amoc_future.rename({'moc_z': 'depth', 'lat_aux_grid': 'latitude'})\n",
    "ds_lens2_amoc_future=ds_lens2_amoc_future.amoc.sel(time=slice(t1,t2)) "
   ]
  },
  {
   "cell_type": "code",
   "execution_count": null,
   "id": "6d93bd87-1bdf-4f5f-9a00-1c0522778031",
   "metadata": {},
   "outputs": [],
   "source": [
    "# Parameters\n",
    "lw=2\n",
    "plt.rcParams.update({'font.size': 20})\n",
    "lat=[26.5,-20,-25,-30,-34.5]\n",
    "a=[0,0,1,1,2]; b=[0,1,0,1,0]\n",
    "\n",
    "# Plot\n",
    "fig, axs = plt.subplots(nrows=3, ncols=2, figsize=(15,10),sharey=False)\n",
    "for il in range(0,len(lat)):\n",
    "    #st=f'ds_lens2_amoc_past.sel(latitude={lat[il]},method=\\'nearest\\').squeeze().sel(time=slice(t1,t2)).mean(dim=\\'time\\').plot.line(ax=axs[{a[il]},{b[il]}],y=\\'depth\\',alpha=0.01,color=\\'k\\',linewidth=lw,label=None,add_legend=False)'; exec(st); del st # all members\n",
    "    st=f'ds_lens2_amoc_past.sel(latitude={lat[il]},method=\\'nearest\\').squeeze().mean(dim=\\'member_id\\').mean(\\'time\\').plot.line(ax=axs[{a[il]},{b[il]}],y=\\'depth\\',color=\\'blue\\',linewidth=lw,label=\\'1990-2020\\')'; exec(st); del st # all members\n",
    "    #st=f'ds_lens2_amoc_future.sel(latitude={lat[il]},method=\\'nearest\\').squeeze().sel(time=slice(t1,t2)).mean(dim=\\'time\\').plot.line(ax=axs[{a[il]},{b[il]}],y=\\'depth\\',alpha=0.01,color=\\'darkgreen\\',linewidth=lw,label=None,add_legend=False)'; exec(st); del st # all members\n",
    "    st=f'ds_lens2_amoc_future.sel(latitude={lat[il]},method=\\'nearest\\').squeeze().mean(dim=\\'member_id\\').mean(\\'time\\').plot.line(ax=axs[{a[il]},{b[il]}],y=\\'depth\\',color=\\'red\\',linewidth=lw,label=\\'2070-2100\\')'; exec(st); del st # all members    \n",
    "    plt.ylabel('Depth [km]')\n",
    "    st=f'axs[{a[il]},{b[il]}].set_yticks(np.arange(0,6,step=1))'; exec(st); del st\n",
    "    st=f'axs[{a[il]},{b[il]}].set_xticks(np.arange(-5,20,step=2.5))'; exec(st); del st\n",
    "    st=f'axs[{a[il]},{b[il]}].set_xlim([-5,20])'; exec(st); del st\n",
    "    st=f'axs[{a[il]},{b[il]}].set_ylim([0,6])'; exec(st); del st\n",
    "    st=f'axs[{a[il]},{b[il]}].set_ylabel(\\'Depth [km]\\',fontsize=24)'; exec(st); del st\n",
    "    st=f'axs[{a[il]},{b[il]}].set_xlabel(\\'AMOC Streamfunction [Sv]\\',fontsize=24)'; exec(st); del st\n",
    "    st=f'axs[{a[il]},{b[il]}].grid()'; exec(st); del st\n",
    "    #st=f'axs[{a[il]},{b[il]}].set_title(\\'Latitude: {lat[il]}\\',fontsize=14)'; exec(st); del st\n",
    "    st=f'axs[{a[il]},{b[il]}].set_title(None)'; exec(st); del st\n",
    "\n",
    "# Config plots    \n",
    "plt.tight_layout()\n",
    "axs[2,0].legend(loc='center left', bbox_to_anchor=(1.4, 0.2), title = 'LENS2:', fontsize=17,title_fontsize=20)\n",
    "axs[2][1].set_visible(False)\n",
    "axs[0][0].set_xticklabels([]); axs[0][1].set_xticklabels([]); axs[1][0].set_xticklabels([])\n",
    "axs[0][1].set_yticklabels([]); axs[1][1].set_yticklabels([]); \n",
    "axs[0][1].set(ylabel=None); axs[1][1].set(ylabel=None); \n",
    "axs[0][0].set(xlabel=None); axs[0][1].set(xlabel=None); axs[1][0].set(xlabel=None)\n",
    "plt.subplots_adjust(wspace=0.05, hspace=0.03)\n",
    "#plt.invert_yaxis()\n",
    "axs[0][0].invert_yaxis(); axs[0][1].invert_yaxis()\n",
    "axs[1][0].invert_yaxis(); axs[1][1].invert_yaxis()\n",
    "axs[2][0].invert_yaxis()\n",
    "\n",
    "# Identification per letters\n",
    "at = AnchoredText(\"A\", prop=dict(size=18), frameon=True, loc='upper left'); at.patch.set_boxstyle(\"round,pad=0.,rounding_size=0.2\")\n",
    "axs[0][0].add_artist(at)\n",
    "\n",
    "at = AnchoredText(\"B\", prop=dict(size=18), frameon=True, loc='upper left'); at.patch.set_boxstyle(\"round,pad=0.,rounding_size=0.2\")\n",
    "axs[0][1].add_artist(at)\n",
    "\n",
    "at = AnchoredText(\"C\", prop=dict(size=18), frameon=True, loc='upper left'); at.patch.set_boxstyle(\"round,pad=0.,rounding_size=0.2\")\n",
    "axs[1][0].add_artist(at)\n",
    "\n",
    "at = AnchoredText(\"D\", prop=dict(size=18), frameon=True, loc='upper left'); at.patch.set_boxstyle(\"round,pad=0.,rounding_size=0.2\")\n",
    "axs[1][1].add_artist(at)\n",
    "\n",
    "at = AnchoredText(\"E\", prop=dict(size=18), frameon=True, loc='upper left'); at.patch.set_boxstyle(\"round,pad=0.,rounding_size=0.2\")\n",
    "axs[2][0].add_artist(at)\n",
    "\n",
    "# Save Plot\n",
    "plt.savefig('vertical_profile.png',dpi=300,bbox_inches='tight')\n",
    "plt.show()"
   ]
  },
  {
   "cell_type": "markdown",
   "id": "31d54b23-42f7-4895-82dd-e06679fe1fc6",
   "metadata": {},
   "source": [
    "#### Build a table to plot the maximum of the streamfunction, the depth of that maximum and the depth of inversion "
   ]
  },
  {
   "cell_type": "code",
   "execution_count": null,
   "id": "e33ad362-5503-4536-9176-ecf5286e14e7",
   "metadata": {},
   "outputs": [],
   "source": [
    "df"
   ]
  },
  {
   "cell_type": "code",
   "execution_count": null,
   "id": "9cd6e49a-4f81-41a2-b93f-7add168f5f37",
   "metadata": {},
   "outputs": [],
   "source": [
    "# Maximum\n",
    "max_lens2=ds_lens2_amoc.mean('member_id').sel(latitude=26.5,method='nearest').groupby('time.year').max(dim=['time','depth'])\n",
    "max_std_lens2=max_lens2.std()\n",
    "max_mean_lens2=max_lens2.mean() "
   ]
  },
  {
   "cell_type": "code",
   "execution_count": null,
   "id": "8248a4b9-beaa-4d54-a2f4-17fbfbd65e31",
   "metadata": {},
   "outputs": [],
   "source": [
    "# Depth of the maximum \n",
    "teste=ds_lens2_amoc.mean('member_id').sel(latitude=26.5,method='nearest').groupby('time.year').max(dim=['time'])\n",
    "#depth_std_lens2=max_lens2.std()\n",
    "#depth_mean_lens2=max_lens2.mean() "
   ]
  },
  {
   "cell_type": "raw",
   "id": "55b4491d-16c2-41b6-a363-8cf3f8c48a29",
   "metadata": {},
   "source": [
    "## Part 2 \n",
    "- In this second part, we will compare AMOC, defined as the integrated transport from the surface to the level at which this transport reverses sign, from LENS2 with SAMOC observations and AMOC from altimeter data"
   ]
  },
  {
   "cell_type": "raw",
   "id": "ec9e18e1-c331-4666-b61a-68ee285d0353",
   "metadata": {},
   "source": [
    "### Data"
   ]
  },
  {
   "cell_type": "raw",
   "id": "85389b3e-2db0-4112-a068-6fad49404cba",
   "metadata": {},
   "source": [
    "# LENS2\n",
    "lens2_upper = xr.open_dataset('/glade/scratch/mauricio/Data/AMOC/LENS2/lens2_amoc_upper.nc')"
   ]
  },
  {
   "cell_type": "raw",
   "id": "783819de-7dcc-496f-b344-f2b35b7d53d8",
   "metadata": {},
   "source": [
    "# SAMOC\n",
    "import scipy.io\n",
    "samoc_obs = scipy.io.loadmat('/glade/scratch/mauricio/Data/AMOC/SAMOC/moc_sambar.mat')\n",
    "samoc_moc = samoc_obs['moc'][:,0]\n",
    "samoc_jd = samoc_obs['jd']-719529\n",
    "timexr = pd.date_range(\"2009-03-18\", periods=len(samoc_jd))\n",
    "#reference_time = pd.Timestamp(\"2017-04-30\")\n",
    "ds_sambar = xr.Dataset({'sambar': xr.DataArray(data=samoc_moc,dims=['time'],coords = {'time': timexr})})\n",
    "ds_sambar=ds_sambar.sel(time=slice('2009-03-18','2017-12-31')).resample(time='1M').mean('time')\n",
    "#ds_mean['time'] = ds_MOC_SAMOC['time'][2:-8]"
   ]
  },
  {
   "cell_type": "markdown",
   "id": "62f21e05-d41b-4670-b949-af96b553b82d",
   "metadata": {},
   "source": [
    "### Plot 1"
   ]
  },
  {
   "cell_type": "raw",
   "id": "bd9380f1-0dfb-49b8-a647-310b1a1b17f8",
   "metadata": {},
   "source": [
    "ds_sambar.sambar.sel(time=slice('2009-01-01','2017-12-31')).plot.line(x='time',color='r',linewidth=1,label='samoc')\n",
    "#ds_alt.alt_345.sel(time=slice('1993-01-01','2019-12-31')).plot.line(x='time',color='green',linewidth=1,label='altimeter')\n",
    "lens2_upper.amoc_upper.isel(lat_aux_grid=3).sel(time=slice('2009-01-01','2017-12-31')).plot.line(x='time',alpha=0.05,color='blue',linewidth=1)\n",
    "lens2_upper.amoc_upper.isel(lat_aux_grid=0).sel(time=slice('2009-01-01','2017-12-31')).mean('member_id').plot.line(x='time',color='blue',linewidth=1,label='lens2')\n",
    "plt.ylabel(\"AMOC [Sv]\")\n",
    "plt.xlabel(\"Time [Years]\")\n",
    "plt.grid(color='k', linestyle='-', linewidth=0.4)\n",
    "plt.legend()\n",
    "plt.show()"
   ]
  },
  {
   "cell_type": "raw",
   "id": "9a5121cf-b95c-4c75-a2fd-b1eff53a5680",
   "metadata": {},
   "source": [
    "for im in range(0,len(ds_MOC_SAMOC['member_id'])): # members (50 member in total)\n",
    "    RMSE_=((ds_MOC_SAMOC.MOC_SAMOC.isel(member_id=im).sel(time=slice('2009-03-01','2014-12-01'))-ds_mean.SAMOC.sel(time=slice('2009-03-1','2014-12-31')))**2).mean()**0.5\n",
    "    #print(ds_MOC_SAMOC.MOC_SAMOC.coords['member_id'][im].values,f' RMSE: {np.round(RMSE,2)[im]}')"
   ]
  },
  {
   "cell_type": "raw",
   "id": "be67fcd2-ff25-48b6-a31e-fd9f780001d3",
   "metadata": {},
   "source": [
    "RMSE = np.empty((len(ds_MOC_SAMOC['member_id']))) * np.nan\n",
    "for im in range(0,len(ds_MOC_SAMOC['member_id'])): # members (50 member in total)\n",
    "    RMSE[im]=((ds_MOC_SAMOC.MOC_SAMOC.isel(member_id=im).sel(time=slice('2009-03-01','2014-12-01'))-ds_mean.SAMOC.sel(time=slice('2009-03-18','2014-12-31')))**2).mean()**0.5\n",
    "fig, ax = plt.subplots(figsize=(10, 8))\n",
    "ax.plot(RMSE,'-o')\n",
    "ax.set_ylabel(\"Root Mean Square Error\")\n",
    "ax.set_xlabel(\"Members\")\n",
    "ax.set_title(\"AMOC at 33.008255S (LENS2 x Obs)\")\n",
    "ax.grid(color='k', linestyle='-', linewidth=0.4)\n",
    "plt.show"
   ]
  }
 ],
 "metadata": {
  "kernelspec": {
   "display_name": "Python [conda env:conda-npl-2022b]",
   "language": "python",
   "name": "conda-env-conda-npl-2022b-py"
  },
  "language_info": {
   "codemirror_mode": {
    "name": "ipython",
    "version": 3
   },
   "file_extension": ".py",
   "mimetype": "text/x-python",
   "name": "python",
   "nbconvert_exporter": "python",
   "pygments_lexer": "ipython3",
   "version": "3.8.13"
  }
 },
 "nbformat": 4,
 "nbformat_minor": 5
}
