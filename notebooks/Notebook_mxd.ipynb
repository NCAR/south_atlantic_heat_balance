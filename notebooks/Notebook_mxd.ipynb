{
 "cells": [
  {
   "cell_type": "markdown",
   "id": "06cb1f51-8d88-42bb-8b77-b41c0f1fc5e0",
   "metadata": {},
   "source": [
    "## CESM2 - LARGE ENSEMBLE (LENS2)\n",
    "\n",
    "- The purpose of this notebook is to visualize maps for the mixed layer for the winter months. "
   ]
  },
  {
   "cell_type": "markdown",
   "id": "cdb25df0-1468-403f-a6b0-97ec8d5ba5e0",
   "metadata": {},
   "source": [
    "### Imports"
   ]
  },
  {
   "cell_type": "code",
   "execution_count": null,
   "id": "33c7f91f-a0f2-4c41-a13a-1f7ed19dfb87",
   "metadata": {},
   "outputs": [],
   "source": [
    "import xarray as xr\n",
    "import xgcm\n",
    "from xgcm import Grid\n",
    "import pop_tools\n",
    "from dask.distributed import Client, wait\n",
    "from ncar_jobqueue import NCARCluster\n",
    "import dask\n",
    "import intake\n",
    "import intake_esm\n",
    "import cmocean\n",
    "import dask\n",
    "import numpy as np \n",
    "import matplotlib.pyplot as plt\n",
    "import warnings, getpass, os\n",
    "import cartopy.crs as ccrs\n",
    "import numpy.ma as ma"
   ]
  },
  {
   "cell_type": "markdown",
   "id": "d7b4af11-4175-4325-8da8-191a5675d79b",
   "metadata": {},
   "source": [
    "### Dask"
   ]
  },
  {
   "cell_type": "code",
   "execution_count": null,
   "id": "6c4c1ec1-e52f-45e9-9247-5d81fa57b239",
   "metadata": {},
   "outputs": [],
   "source": [
    "mem_per_worker = 3 # memory per worker in GB \n",
    "num_workers = 20 # number of workers\n",
    "cluster = NCARCluster(cores=1, processes=1, memory=f'{mem_per_worker} GB',resource_spec=f'select=1:ncpus=1:mem={mem_per_worker}GB', walltime='1:00:00')\n",
    "cluster.scale(num_workers)\n",
    "client = Client(cluster)\n",
    "print(client)\n",
    "client"
   ]
  },
  {
   "cell_type": "markdown",
   "id": "9b026899-0569-4627-ad7b-4e08f55f44bf",
   "metadata": {},
   "source": [
    "### Load"
   ]
  },
  {
   "cell_type": "code",
   "execution_count": null,
   "id": "6d15face-bb10-4b75-97d5-c2bb09bfb9d5",
   "metadata": {},
   "outputs": [],
   "source": [
    "catalog = intake.open_esm_datastore(\n",
    "    '/glade/collections/cmip/catalog/intake-esm-datastore/catalogs/glade-cesm2-le.json'\n",
    ")\n",
    "cat_subset = catalog.search(component='ocn',variable=['XMXL'],frequency='month_1')\n",
    "# Load catalog entries for subset into a dictionary of xarray datasets\n",
    "dset_dict_raw  = cat_subset.to_dataset_dict(zarr_kwargs={'consolidated': True}, storage_options={'anon': True})\n",
    "print(f'\\nDataset dictionary keys:\\n {dset_dict_raw.keys()}')"
   ]
  },
  {
   "cell_type": "code",
   "execution_count": null,
   "id": "dd049135-7c9c-4904-9de4-989c38e2c7f2",
   "metadata": {},
   "outputs": [],
   "source": [
    "ff=('cmip6','smbb')               # Forcings\n",
    "fb=(['XMXL']) # Variable\n",
    "\n",
    "ds_dict = dict()\n",
    "for var in fb:\n",
    "    # 1- combine historical and ssp370 (concatenate in time)\n",
    "    ds_dict_tmp = dict()\n",
    "    for scenario in ff:\n",
    "        ds_dict_tmp[scenario] = xr.combine_nested([dset_dict_raw[f'ocn.historical.pop.h.{scenario}.{var}'], dset_dict_raw[f'ocn.ssp370.pop.h.{scenario}.{var}']],concat_dim=['time'])\n",
    "        \n",
    "        # 2- combine cmip6 and smbb (concatenate in member_id)\n",
    "    ds_dict[var] = xr.combine_nested([ds_dict_tmp['cmip6'], ds_dict_tmp['smbb']], concat_dim=['member_id'])\n",
    "    del ds_dict_tmp"
   ]
  },
  {
   "cell_type": "code",
   "execution_count": null,
   "id": "0c393c33-3109-4b61-9ded-7c10afb10c37",
   "metadata": {},
   "outputs": [],
   "source": [
    "pop_grid = pop_tools.get_grid('POP_gx1v7')\n",
    "ds_dict['TLAT'] = pop_grid['TLAT']\n",
    "ds_dict['TLONG'] = pop_grid['TLONG']"
   ]
  },
  {
   "cell_type": "code",
   "execution_count": null,
   "id": "dd955281-662c-41c8-b132-bb653c5da40b",
   "metadata": {},
   "outputs": [],
   "source": [
    "ds_dict['XMXL']['XMXL']\n",
    "\n",
    "def is_jas(month):\n",
    "        return (month >= 7) & (month <= 9)\n",
    "mxd_JAS_present = (ds_dict['XMXL']['XMXL'].sel(time=is_jas(ds_dict['XMXL']['XMXL']['time.month']))).resample(\n",
    "    time='1Y', closed='left').mean('time').sel(time=slice('1990-01-01','2020-12-31')).mean(dim=['time','member_id'])\n",
    "\n",
    "mxd_JAS_future = (ds_dict['XMXL']['XMXL'].sel(time=is_jas(ds_dict['XMXL']['XMXL']['time.month']))).resample(\n",
    "    time='1Y', closed='left').mean('time').sel(time=slice('2070-01-01','2100-12-31')).mean(dim=['time','member_id'])\n",
    "\n",
    "def is_jfm(month):\n",
    "        return (month >= 1) & (month <= 3)\n",
    "mxd_JFM_present = (ds_dict['XMXL']['XMXL'].sel(time=is_jfm(ds_dict['XMXL']['XMXL']['time.month']))).resample(\n",
    "    time='1Y', closed='left').mean('time').sel(time=slice('1990-01-01','2020-12-31')).mean(dim=['time','member_id'])\n",
    "\n",
    "mxd_JFM_future = (ds_dict['XMXL']['XMXL'].sel(time=is_jfm(ds_dict['XMXL']['XMXL']['time.month']))).resample(\n",
    "    time='1Y', closed='left').mean('time').sel(time=slice('2070-01-01','2100-12-31')).mean(dim=['time','member_id'])"
   ]
  },
  {
   "cell_type": "code",
   "execution_count": null,
   "id": "dd9ce257-7216-41e6-aacb-57c71580c732",
   "metadata": {},
   "outputs": [],
   "source": [
    "mxd_JFM_future.coords['TLAT']=mxd_JFM_future.coords['TLAT'].fillna(0); mxd_JFM_future.coords['TLONG']=mxd_JFM_future.coords['TLONG'].fillna(0)\n",
    "mxd_JFM_present.coords['TLAT']=mxd_JFM_future.coords['TLAT'].fillna(0); mxd_JFM_present.coords['TLONG']=mxd_JFM_present.coords['TLONG'].fillna(0)\n",
    "mxd_JAS_future.coords['TLAT']=mxd_JFM_future.coords['TLAT'].fillna(0); mxd_JAS_future.coords['TLONG']=mxd_JAS_future.coords['TLONG'].fillna(0)\n",
    "mxd_JAS_present.coords['TLAT']=mxd_JFM_future.coords['TLAT'].fillna(0); mxd_JAS_present.coords['TLONG']=mxd_JAS_present.coords['TLONG'].fillna(0)"
   ]
  },
  {
   "cell_type": "code",
   "execution_count": null,
   "id": "613563c0-2540-467d-95b7-1e61ae646b7b",
   "metadata": {},
   "outputs": [],
   "source": [
    "plt.figure(figsize=(10,6));\n",
    "ax = plt.axes(projection=ccrs.Robinson());\n",
    "pc = (mxd_JAS_present*0.01).plot.pcolormesh(ax=ax,\n",
    "                        vmax=500,vmin=0,\n",
    "                        transform=ccrs.PlateCarree(),\n",
    "                        x='TLONG',\n",
    "                        y='TLAT',\n",
    "                        cmap='gnuplot',\n",
    "                        add_colorbar=True,\n",
    "                        cbar_kwargs={\"label\": \"Mixed Layer Depth [m]\"},\n",
    "                        )                                    \n",
    "ax.gridlines(draw_labels=True); ax.coastlines(); ax.gridlines()\n",
    "plt.savefig('mxd_JAS_present.png',dpi=300,bbox_inches='tight')"
   ]
  },
  {
   "cell_type": "code",
   "execution_count": null,
   "id": "12ca3118-0003-42c1-97b4-f505867a15f5",
   "metadata": {},
   "outputs": [],
   "source": [
    "plt.figure(figsize=(10,6));\n",
    "ax = plt.axes(projection=ccrs.Robinson());\n",
    "pc = (mxd_JAS_future*0.01).plot.pcolormesh(ax=ax,\n",
    "                        vmax=500,vmin=0,\n",
    "                        transform=ccrs.PlateCarree(),\n",
    "                        x='TLONG',\n",
    "                        y='TLAT',\n",
    "                        cmap='gnuplot',\n",
    "                        add_colorbar=True,\n",
    "                        cbar_kwargs={\"label\": \"Mixed Layer Depth [m]\"},\n",
    "                        )                                    \n",
    "ax.gridlines(draw_labels=True); ax.coastlines(); ax.gridlines()\n",
    "plt.savefig('mxd_JAS_future.png',dpi=300,bbox_inches='tight')"
   ]
  }
 ],
 "metadata": {
  "kernelspec": {
   "display_name": "NPL 2022b",
   "language": "python",
   "name": "npl-2022b"
  },
  "language_info": {
   "codemirror_mode": {
    "name": "ipython",
    "version": 3
   },
   "file_extension": ".py",
   "mimetype": "text/x-python",
   "name": "python",
   "nbconvert_exporter": "python",
   "pygments_lexer": "ipython3",
   "version": "3.8.13"
  }
 },
 "nbformat": 4,
 "nbformat_minor": 5
}
