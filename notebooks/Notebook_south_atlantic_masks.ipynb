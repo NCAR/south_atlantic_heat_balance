{
 "cells": [
  {
   "cell_type": "markdown",
   "id": "4cc4025f-4977-4a41-b782-a3a543d2eb3f",
   "metadata": {},
   "source": [
    "### Build masks \n",
    "- This notebooks shows how to build region masks for the South Atlantic, and Eastern and Western South Atlatic."
   ]
  },
  {
   "cell_type": "code",
   "execution_count": null,
   "id": "4d37a89f-2907-4524-8573-5222d93452d7",
   "metadata": {},
   "outputs": [],
   "source": [
    "%load_ext autoreload\n",
    "%autoreload 2\n",
    "import xarray as xr \n",
    "import numpy as np  \n",
    "import pop_tools\n",
    "import matplotlib.pyplot as plt\n",
    "import cartopy.crs as ccrs\n",
    "import numpy as np\n",
    "import cartopy\n",
    "import dask\n",
    "import cartopy.feature as cfeature\n",
    "import distributed\n",
    "import ncar_jobqueue\n",
    "import intake\n",
    "from dask.distributed import Client\n",
    "from ncar_jobqueue import NCARCluster\n",
    "%matplotlib inline\n",
    "import warnings, getpass, os"
   ]
  },
  {
   "cell_type": "markdown",
   "id": "21cfa982-a40d-4924-938d-fa03a083611c",
   "metadata": {},
   "source": [
    "### Read the pop 1 deg grid from pop_tools"
   ]
  },
  {
   "cell_type": "code",
   "execution_count": null,
   "id": "610b6f50-d498-4c32-995f-59b34375c39a",
   "metadata": {},
   "outputs": [],
   "source": [
    "# We will use variables TLONG and TLAT\n",
    "pop_grid = pop_tools.get_grid('POP_gx1v7')\n",
    "pop_grid"
   ]
  },
  {
   "cell_type": "code",
   "execution_count": null,
   "id": "08b664d8-fcd2-4ab8-959d-8e8cbd8bb17f",
   "metadata": {},
   "outputs": [],
   "source": [
    "atl = pop_grid.REGION_MASK.where(pop_grid.REGION_MASK==6)/pop_grid.REGION_MASK.where(pop_grid.REGION_MASK==6)\n",
    "atl['TLAT'] = pop_grid['TLAT']\n",
    "atl['TLONG'] = pop_grid['TLONG']\n",
    "atl = atl.fillna(0)\n",
    "atl"
   ]
  },
  {
   "cell_type": "code",
   "execution_count": null,
   "id": "72f42ca8-a59c-4b33-a7c5-3e15e855ed94",
   "metadata": {},
   "outputs": [],
   "source": [
    "plt.figure(figsize=(10,6));\n",
    "ax = plt.axes(projection=ccrs.Robinson());\n",
    "pc = atl.plot.pcolormesh(ax=ax,\n",
    "                        transform=ccrs.PlateCarree(),\n",
    "                        x='TLONG',\n",
    "                        y='TLAT',\n",
    "                        add_colorbar=True)                                    \n",
    "ax.gridlines(draw_labels=True);\n",
    "ax.coastlines()\n",
    "ax.gridlines();"
   ]
  },
  {
   "cell_type": "markdown",
   "id": "3b4ad641-e327-4469-905c-b60e6966cc21",
   "metadata": {},
   "source": [
    "### South Atlantic Mask"
   ]
  },
  {
   "cell_type": "code",
   "execution_count": null,
   "id": "bb93f25e-92e1-416b-9afa-1e026913be58",
   "metadata": {},
   "outputs": [],
   "source": [
    "south_atl = atl * atl.where(atl.TLAT<0.)\n",
    "south_atl = south_atl.fillna(0)\n",
    "south_atl = south_atl * south_atl.where(south_atl.TLAT>-34.)\n",
    "south_atl = south_atl.fillna(0)"
   ]
  },
  {
   "cell_type": "code",
   "execution_count": null,
   "id": "73666e74-2c7d-4c9d-954c-c1bef8cd1914",
   "metadata": {},
   "outputs": [],
   "source": [
    "plt.figure(figsize=(10,6));\n",
    "ax = plt.axes(projection=ccrs.Robinson());\n",
    "pc = south_atl.plot.pcolormesh(ax=ax,\n",
    "                              transform=ccrs.PlateCarree(),\n",
    "                              x='TLONG',\n",
    "                              y='TLAT')                                    \n",
    "ax.gridlines(draw_labels=True);\n",
    "ax.coastlines()\n",
    "ax.gridlines();\n",
    "plt.savefig('south_atl.png',dpi=300,bbox_inches='tight')"
   ]
  },
  {
   "cell_type": "markdown",
   "id": "4e06dfc0-879d-49c8-87da-c0d13fb56894",
   "metadata": {},
   "source": [
    "### Western South Atlantic Mask"
   ]
  },
  {
   "cell_type": "code",
   "execution_count": null,
   "id": "e43df86b-6569-4c91-a724-4fe0f79d8c0a",
   "metadata": {
    "tags": []
   },
   "outputs": [],
   "source": [
    "tmp1 = (south_atl *  south_atl.where(south_atl.TLONG>345)) \n",
    "tmp1 = tmp1.fillna(0)\n",
    "tmp2 = south_atl *  south_atl.where(south_atl.TLONG<20)\n",
    "tmp2 = tmp2.fillna(0)\n",
    "east_south_atl = tmp1 + tmp2"
   ]
  },
  {
   "cell_type": "code",
   "execution_count": null,
   "id": "b3a90a67-2bde-4d96-b219-1d504bcf7127",
   "metadata": {},
   "outputs": [],
   "source": [
    "south_atl.shape"
   ]
  },
  {
   "cell_type": "code",
   "execution_count": null,
   "id": "3b04faf7-2a0d-40eb-9754-2ed98b30a2aa",
   "metadata": {},
   "outputs": [],
   "source": [
    "plt.figure(figsize=(10,6));\n",
    "ax = plt.axes(projection=ccrs.Robinson());\n",
    "pc = east_south_atl.plot.pcolormesh(ax=ax,\n",
    "                              transform=ccrs.PlateCarree(),\n",
    "                              x='TLONG',\n",
    "                              y='TLAT',\n",
    "                              add_colorbar=True)                                    \n",
    "ax.gridlines(draw_labels=True);\n",
    "ax.coastlines()\n",
    "ax.gridlines();\n",
    "#plt.savefig('eastern_atl.png',dpi=300,bbox_inches='tight')"
   ]
  },
  {
   "cell_type": "markdown",
   "id": "da0f4425-97ff-4a71-924d-f1a91f0e4f72",
   "metadata": {},
   "source": [
    "### Eastern South Atlantic Mask"
   ]
  },
  {
   "cell_type": "code",
   "execution_count": null,
   "id": "2be92838-f922-4b5c-bd4b-67acb97bd03d",
   "metadata": {},
   "outputs": [],
   "source": [
    "west_south_atl = south_atl *  south_atl.where(south_atl.TLONG<345) * south_atl.where(south_atl.TLONG>50)\n",
    "west_south_atl = west_south_atl.fillna(0)"
   ]
  },
  {
   "cell_type": "code",
   "execution_count": null,
   "id": "1b87937d-cbc0-491b-ae1e-177e261fb0f5",
   "metadata": {},
   "outputs": [],
   "source": [
    "plt.figure(figsize=(10,6));\n",
    "ax = plt.axes(projection=ccrs.Robinson());\n",
    "pc = west_south_atl.plot.pcolormesh(ax=ax,\n",
    "                              transform=ccrs.PlateCarree(),\n",
    "                              x='TLONG',\n",
    "                              y='TLAT',\n",
    "                              add_colorbar=True)                                    \n",
    "ax.gridlines(draw_labels=True);\n",
    "ax.coastlines()\n",
    "ax.gridlines();\n",
    "#plt.savefig('western_atl.png',dpi=300,bbox_inches='tight')"
   ]
  },
  {
   "cell_type": "markdown",
   "id": "71d083c8-772e-4d60-a95e-38414ff50dbb",
   "metadata": {},
   "source": [
    "### Merge the masks"
   ]
  },
  {
   "cell_type": "code",
   "execution_count": null,
   "id": "3f13d92a-a721-4845-9f42-55aaffe1bcb3",
   "metadata": {},
   "outputs": [],
   "source": [
    "ds_south_atl_masks = xr.merge([south_atl.rename('south_atl'),west_south_atl.rename('west_south_atl'),east_south_atl.rename('east_south_atl')])\n",
    "del west_south_atl, south_atl, east_south_atl     "
   ]
  },
  {
   "cell_type": "markdown",
   "id": "7f3e0c4d-841b-473e-ba08-bdb56149067f",
   "metadata": {},
   "source": [
    "### Dask framework"
   ]
  },
  {
   "cell_type": "code",
   "execution_count": null,
   "id": "b5cac754-46fe-4c6c-81ba-4c55c159a198",
   "metadata": {},
   "outputs": [],
   "source": [
    "mem_per_worker = 30 # memory per worker in GB \n",
    "num_workers = 26 # number of workers\n",
    "cluster = NCARCluster(cores=1, processes=1, memory=f'{mem_per_worker} GB',resource_spec=f'select=1:ncpus=1:mem={mem_per_worker}GB', walltime='6:00:00')\n",
    "cluster.scale(num_workers)\n",
    "client = Client(cluster)\n",
    "print(client)\n",
    "client"
   ]
  },
  {
   "cell_type": "code",
   "execution_count": null,
   "id": "c2998633-cc7d-493d-98b6-e0bf9de2699d",
   "metadata": {},
   "outputs": [],
   "source": [
    "catalog = intake.open_esm_datastore(\n",
    "    '/glade/collections/cmip/catalog/intake-esm-datastore/catalogs/glade-cesm2-le.json'\n",
    ")"
   ]
  },
  {
   "cell_type": "code",
   "execution_count": null,
   "id": "d1543128-b7a1-42a9-b024-aa2636ed1ffa",
   "metadata": {},
   "outputs": [],
   "source": [
    "cat_subset = catalog.search(component='ocn',variable=['PV'],frequency='month_1')"
   ]
  },
  {
   "cell_type": "code",
   "execution_count": null,
   "id": "9a6771aa-d3a6-4446-b809-8789df66c0db",
   "metadata": {},
   "outputs": [],
   "source": [
    "%%time\n",
    "# Load catalog entries for subset into a dictionary of xarray datasets\n",
    "dset_dict_raw  = cat_subset.to_dataset_dict(zarr_kwargs={'consolidated': True}, storage_options={'anon': True})\n",
    "print(f'\\nDataset dictionary keys:\\n {dset_dict_raw.keys()}')"
   ]
  },
  {
   "cell_type": "markdown",
   "id": "57789318-0983-4fc0-b452-23f1ec54ecc8",
   "metadata": {},
   "source": [
    "### Concatenation of variables"
   ]
  },
  {
   "cell_type": "code",
   "execution_count": null,
   "id": "4e848ee7-cba5-4210-839b-65511952aa27",
   "metadata": {},
   "outputs": [],
   "source": [
    "pd=('historical','ssp370')                 # Periods (historical and projection)\n",
    "ff=('cmip6','smbb')                        # Forcings\n",
    "fb=(['PV']) # Variable.\n",
    "\n",
    "ds_dict = dict()\n",
    "for var in fb: # We used loops, because we keep the same structure even if other variables are added\n",
    "    # 1- combine historical and ssp370 (concatenate in time)\n",
    "    ds_dict_tmp = dict()\n",
    "    for scenario in ff:\n",
    "        ds_dict_tmp[scenario] = xr.combine_nested([dset_dict_raw[f'ocn.historical.pop.h.{scenario}.{var}'], dset_dict_raw[f'ocn.ssp370.pop.h.{scenario}.{var}']],concat_dim=['time'])\n",
    "        \n",
    "        # 2- combine cmip6 and smbb (concatenate in member_id)\n",
    "    ds_dict[var] = xr.combine_nested([ds_dict_tmp['cmip6'], ds_dict_tmp['smbb']], concat_dim=['member_id'])\n",
    "    #del ds_dict_tmp"
   ]
  },
  {
   "cell_type": "markdown",
   "id": "a9ae280b-297e-4283-834f-656f0cd3d674",
   "metadata": {},
   "source": [
    "### Apply POP grid"
   ]
  },
  {
   "cell_type": "code",
   "execution_count": null,
   "id": "a322e013-6e04-46bc-b78f-be061575d129",
   "metadata": {},
   "outputs": [],
   "source": [
    "ds_dict['TLONG'] = pop_grid.TLONG; ds_dict['TLAT'] = pop_grid.TLAT # coordinate T\n",
    "ds_dict['ULONG'] = pop_grid.ULONG; ds_dict['ULAT'] = pop_grid.ULAT # coordinate U"
   ]
  },
  {
   "cell_type": "markdown",
   "id": "2f6710e0-3890-48ea-82c6-efb9303b7abd",
   "metadata": {},
   "source": [
    "### Built a mask for each variable (continent x ocean)\n",
    "- This mask will be useful to apply to the area after you transform it into 3D"
   ]
  },
  {
   "cell_type": "code",
   "execution_count": null,
   "id": "6cc5c5f6-9b7a-4066-95f0-61313680eea0",
   "metadata": {},
   "outputs": [],
   "source": [
    "mask_array = dict()\n",
    "for var in fb:\n",
    "    #.resample(time='1Y', closed='left').mean('time')\n",
    "    mask_ocean = 2 * np.ones((len(ds_dict[f'{var}'][f'{var}'].coords['nlat']), # 2 is OCEAN\n",
    "                              len(ds_dict[f'{var}'][f'{var}'].coords['nlon']))\n",
    "                            ) * np.isfinite(ds_dict[f'{var}'][f'{var}'].isel(time=0,member_id=0))  \n",
    "    mask_land  = 1 * np.ones((len(ds_dict[f'{var}'][f'{var}'].coords['nlat']), # 1 is CONTINENT\n",
    "                              len(ds_dict[f'{var}'][f'{var}'].coords['nlon']))\n",
    "                            ) * np.isnan(ds_dict[f'{var}'][f'{var}'].isel(time=0,member_id=0))  \n",
    "    mask_array[var] = mask_ocean + mask_land # Indicates the continent and the ocean\n",
    "    #ds_dict[f'{var}']['TAREA']=ds_dict[f'{var}']['TAREA'].where(mask_array[f'{var}'] != 1.)\n",
    "del mask_ocean, mask_land"
   ]
  },
  {
   "cell_type": "markdown",
   "id": "97f4c644-213a-4f3e-8f31-64a9bf493d3d",
   "metadata": {},
   "source": [
    "### Extrapolate the area to 3D and applying the continent x ocean mask\n",
    "- Remember, you don't have to include z_t if you have a 2D variable, for example SHF\n",
    "- We add the member coordinate in the area3D, so that down the road we do not lose this reference when we compute the data"
   ]
  },
  {
   "cell_type": "code",
   "execution_count": null,
   "id": "d15585bc-28b3-4ec3-a30b-f5479abdc6e9",
   "metadata": {},
   "outputs": [],
   "source": [
    "for var in fb:\n",
    "    area3D = pop_grid.TAREA.where(pop_grid.KMT > 0) # area in cm2\n",
    "    area3D = np.array([area3D]*len(ds_dict[f'{var}'][f'{var}'].coords['z_t'])) # 60 depths (z_t)\n",
    "    area3D = np.array([area3D]*len(ds_dict[f'{var}'][f'{var}'].coords['member_id'])) # 100 number of members (member_id)\n",
    "    area3D = xr.DataArray(area3D, dims=['member_id','z_t','nlat','nlon']) # Make a xarray again\n",
    "    area3D.coords['member_id']=ds_dict[f'{var}'][f'{var}'].coords['member_id'] # Import the name of each member\n",
    "    area3D = area3D.where(mask_array[f'{var}'] != 1.) # Apply the mask (Remember: 1 is continent and 2 is ocean)"
   ]
  },
  {
   "cell_type": "markdown",
   "id": "c42e55e1-b596-4534-a4fc-413812d767ac",
   "metadata": {},
   "source": [
    "#### Check the 3D area"
   ]
  },
  {
   "cell_type": "code",
   "execution_count": null,
   "id": "81aca0b9-a126-459b-8e26-2f0aee36a5ab",
   "metadata": {},
   "outputs": [],
   "source": [
    "area3D.isel(member_id=0,z_t=-10).plot() "
   ]
  },
  {
   "cell_type": "markdown",
   "id": "cbf7e687-2953-4d07-b66c-9c6a908a40c8",
   "metadata": {},
   "source": [
    "### Annual Mean\n",
    "- Let's take the annual mean, because we are not interested in seasonality and it is a way to decrease the processing time (array reduction)"
   ]
  },
  {
   "cell_type": "code",
   "execution_count": null,
   "id": "c2c7c310-3257-4c93-a988-caab96f75559",
   "metadata": {},
   "outputs": [],
   "source": [
    "%%time\n",
    "dask.config.set(**{'array.slicing.split_large_chunks': False})\n",
    "for var in fb:\n",
    "    # 1- Annual mean\n",
    "    ds_dict[f'{var}']=ds_dict[f'{var}'].resample(time='1Y', closed='left').mean('time')\n",
    "    # 2- Subtracting from all times minus the initial time the variables\n",
    "    ds_dict[f'{var}'][f'{var}'] = ds_dict[f'{var}'][f'{var}'] - ds_dict[f'{var}'][f'{var}'].isel(time=0) # Anomaly regarding to the beginning of the time series "
   ]
  },
  {
   "cell_type": "markdown",
   "id": "ab6db34e-0841-42a8-b621-6c292b63571b",
   "metadata": {},
   "source": [
    "#### Check the new data\n",
    "- Ckeck it by changing z_t and time"
   ]
  },
  {
   "cell_type": "code",
   "execution_count": null,
   "id": "9ebd2dba-e385-4ba1-b31c-72c5b8966f91",
   "metadata": {},
   "outputs": [],
   "source": [
    "for var in fb:\n",
    "    ds_dict[f'{var}'][f'{var}'].isel(member_id=1,time=0,z_t=0).plot()"
   ]
  },
  {
   "cell_type": "markdown",
   "id": "666227a4-3c2b-431e-ba69-f523b6e1761f",
   "metadata": {},
   "source": [
    "### Apply the masks for each region\n",
    "- Since this process takes time, we recommend doing it per variable"
   ]
  },
  {
   "cell_type": "code",
   "execution_count": null,
   "id": "17164460-1d3b-4ea6-b1dd-90a84045134e",
   "metadata": {},
   "outputs": [],
   "source": [
    "%%time\n",
    "warnings.simplefilter(\"ignore\")\n",
    "masks_sa=(['south_atl','west_south_atl','east_south_atl']) # each mask\n",
    "\n",
    "for var in fb:\n",
    "    for basin in masks_sa:\n",
    "        print(f'Done with region: {basin}') # Each mask\n",
    "        var_array = list() # Build a list\n",
    "        for member_id in range(len(ds_dict[f'{var}'][f'{var}'].coords['member_id'])): # STEP BY STEP per member:\n",
    "            var_small=ds_dict[f'{var}'][f'{var}'].isel(member_id=member_id).where(ds_south_atl_masks[f'{basin}'] != 0.) # 1- Apply the basin mask to the variable\n",
    "            var_small=(var_small.weighted(\n",
    "                (area3D.isel(member_id=member_id).where(ds_south_atl_masks[f'{basin}'] != 0.)).fillna(0)) # 2- Apply the basin mask to the area\n",
    "                       ).mean(dim=['nlon','nlat']) # 3- Make the spatial average\n",
    "            var_small=var_small.load() # 4- Load the data\n",
    "            var_array.append(var_small) # 5- Add items to the end of a given list\n",
    "            print(f'Done with member: {member_id}') # 6- Go to the next member\n",
    "        st=f'{basin}_var_merged = xr.concat(var_array, dim=\\'member_id\\', compat=\\'override\\', join=\\'override\\', coords=\\'minimal\\')' # concat the members\n",
    "        exec(st) # 7- Go to the next basin"
   ]
  },
  {
   "cell_type": "markdown",
   "id": "e731853b-e84a-4533-969b-f506081e1322",
   "metadata": {},
   "source": [
    "### Save data\n",
    "- Don't forget to include the parameters of the defined variable, such as the unit, etc"
   ]
  },
  {
   "cell_type": "code",
   "execution_count": null,
   "id": "148c8b6d-7a95-48f5-a7e3-df3e5e1c4925",
   "metadata": {},
   "outputs": [],
   "source": [
    "ds_out_var = xr.merge([east_south_atl_var_merged.rename('east_south_atl_PV'), # entire basin\n",
    "                       west_south_atl_var_merged.rename('west_south_atl_PV'), # western sie\n",
    "                       south_atl_var_merged.rename('south_atl_PV')]) # eastern side\n",
    "ds_out_var.attrs['description'] = 'Potential Vorticity in each South Atlantic region: the entire basin (south_atlantic), eastern side (east_south_atlantic), western side (west_south_atlantic)'\n",
    "ds_out_var.attrs['units'] = '1/s/cm'\n",
    "ds_out_var.attrs['author'] = 'Mauricio Rocha'\n",
    "ds_out_var.attrs['email'] = 'mauricio.rocha@usp.br'\n",
    "# create a directory on scratch to save the output\n",
    "path = '/glade/scratch/mauricio/Data/LENS2/PV/'.format(getpass.getuser())\n",
    "os.system('mkdir -p '+path)\n",
    "ds_out_var.to_netcdf(path+'PV_south_atl_regions.nc')"
   ]
  }
 ],
 "metadata": {
  "kernelspec": {
   "display_name": "Python [conda env:conda-npl-2022b]",
   "language": "python",
   "name": "conda-env-conda-npl-2022b-py"
  },
  "language_info": {
   "codemirror_mode": {
    "name": "ipython",
    "version": 3
   },
   "file_extension": ".py",
   "mimetype": "text/x-python",
   "name": "python",
   "nbconvert_exporter": "python",
   "pygments_lexer": "ipython3",
   "version": "3.8.13"
  }
 },
 "nbformat": 4,
 "nbformat_minor": 5
}
