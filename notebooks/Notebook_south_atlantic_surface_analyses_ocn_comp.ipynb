{
 "cells": [
  {
   "cell_type": "markdown",
   "id": "80b35905-7510-4a8c-a558-978aa1e07b3c",
   "metadata": {},
   "source": [
    "## CESM2 - LARGE ENSEMBLE (LENS2)\n",
    "\n",
    "- This notebook serves as an example on how to extract surface (or any other 2D spatial field) properties from a selected spacial region accross all LENS2 members for the ocean component."
   ]
  },
  {
   "cell_type": "markdown",
   "id": "24be9cde-8f0a-4c83-988e-89528a758f21",
   "metadata": {},
   "source": [
    "## Imports"
   ]
  },
  {
   "cell_type": "code",
   "execution_count": null,
   "id": "1b0b0093-f110-4cb3-b270-b51f894b3ca2",
   "metadata": {},
   "outputs": [],
   "source": [
    "import intake\n",
    "import intake_esm\n",
    "import xarray as xr\n",
    "import matplotlib.pyplot as plt\n",
    "import cartopy.crs as ccrs\n",
    "import numpy as np\n",
    "import fsspec\n",
    "import cmocean\n",
    "import cartopy\n",
    "import cartopy.feature as cfeature\n",
    "from cartopy.mpl.ticker import LongitudeFormatter, LatitudeFormatter\n",
    "import pop_tools\n",
    "import sys\n",
    "from distributed import Client\n",
    "from ncar_jobqueue import NCARCluster\n",
    "sys.path.append('../functions')\n",
    "import util\n",
    "from cartopy.util import add_cyclic_point\n",
    "from misc import get_ij\n",
    "import warnings, getpass, os"
   ]
  },
  {
   "cell_type": "markdown",
   "id": "29691e0e-56ba-43da-bb20-941c1061f931",
   "metadata": {},
   "source": [
    "<div class=\"alert alert-block alert-info\">\n",
    "<b>Note:</b> comment the following line when debugging\n",
    "</div>"
   ]
  },
  {
   "cell_type": "code",
   "execution_count": null,
   "id": "828694db-f99e-466d-a578-20a8e0bf8690",
   "metadata": {},
   "outputs": [],
   "source": [
    "warnings.filterwarnings(\"ignore\")"
   ]
  },
  {
   "cell_type": "markdown",
   "id": "cc1cffc6-da9c-4783-b699-f658314a7d33",
   "metadata": {},
   "source": [
    "### Local functions"
   ]
  },
  {
   "cell_type": "code",
   "execution_count": null,
   "id": "7ce1ad65-0be7-40b3-8436-c52dcbc2e5b0",
   "metadata": {},
   "outputs": [],
   "source": [
    "def rms_da(da, dims=('nlat', 'nlon'), weights=None,  weights_sum=None):\n",
    "  \"\"\"\n",
    "  Calculates the rms in DataArray da (optional weighted rms).\n",
    "\n",
    "  ----------\n",
    "  da : xarray.DataArray\n",
    "        DataArray for which to compute (weighted) rms.\n",
    "\n",
    "  dims : tuple, str\n",
    "    Dimension(s) over which to apply reduction. Default is ('yh', 'xh').\n",
    "\n",
    "  weights : xarray.DataArray, optional\n",
    "    weights to apply. It can be a masked array.\n",
    "\n",
    "  weights_sum : xarray.DataArray, optional\n",
    "    Total weight (i.e., weights.sum()). Only computed if not provided.\n",
    "\n",
    "  Returns\n",
    "  -------\n",
    "  reduction : DataSet\n",
    "      xarray.Dataset with (optionally weighted) rms for da.\n",
    "  \"\"\"\n",
    "\n",
    "  if weights is not None:\n",
    "    if weights_sum is None: weights_sum = weights.sum(dim=dims)\n",
    "    out = np.sqrt((da**2 * weights).sum(dim=dims)/weights_sum)\n",
    "    # copy attrs\n",
    "    out.attrs = da.attrs\n",
    "    return out\n",
    "  else:\n",
    "    return np.sqrt((da**2).mean(dim=dims, keep_attrs=True))"
   ]
  },
  {
   "cell_type": "markdown",
   "id": "c2eb5cc4-cb2a-4a93-835e-1b50945fcee8",
   "metadata": {},
   "source": [
    "### Dask workers"
   ]
  },
  {
   "cell_type": "code",
   "execution_count": null,
   "id": "30764d6a-8b79-4df8-bef7-c29af81b4d44",
   "metadata": {},
   "outputs": [],
   "source": [
    "mem_per_worker = 300 # in GB \n",
    "num_workers = 80 \n",
    "cluster = NCARCluster(cores=4, processes=3, memory=f'{mem_per_worker} GB',resource_spec=f'select=1:ncpus=6:mem={mem_per_worker}GB')\n",
    "cluster.scale(num_workers)\n",
    "client = Client(cluster)\n",
    "print(client)\n",
    "client"
   ]
  },
  {
   "cell_type": "markdown",
   "id": "d22c9abb-b88c-4b6a-9d34-1a12aceacd56",
   "metadata": {},
   "source": [
    "### Data Ingest"
   ]
  },
  {
   "cell_type": "code",
   "execution_count": null,
   "id": "12b4bdae-8fde-4156-b32e-76d318bbabb1",
   "metadata": {},
   "outputs": [],
   "source": [
    "%%time\n",
    "catalog = intake.open_esm_datastore(\n",
    "    '/glade/collections/cmip/catalog/intake-esm-datastore/catalogs/glade-cesm2-le.json'\n",
    ")"
   ]
  },
  {
   "cell_type": "code",
   "execution_count": null,
   "id": "594b6f10-82b1-4280-8076-5bfbc77b992b",
   "metadata": {},
   "outputs": [],
   "source": [
    "catalog.search(component='ocn').unique('frequency')"
   ]
  },
  {
   "cell_type": "raw",
   "id": "f7424dc9-668f-47e9-a14b-22475950468d",
   "metadata": {},
   "source": [
    "# this prints all ocean variables that have montly frequency\n",
    "catalog.search(component='ocn', frequency='month_1').unique('variable')"
   ]
  },
  {
   "cell_type": "markdown",
   "id": "35bf8b98-519f-49df-be0d-4f2d07146834",
   "metadata": {},
   "source": [
    "### Let's search for variables with montly frequency"
   ]
  },
  {
   "cell_type": "code",
   "execution_count": null,
   "id": "705e20b0-44b4-4618-a90b-a28bb91cfdfb",
   "metadata": {},
   "outputs": [],
   "source": [
    "#choose the variable:\n",
    "var='TEMP' # SHF or XMXL or TEMP (Total Surface Heat Flux or Maximum Mixed Layer Depth or Sea temperature)\n",
    "cat_subset = catalog.search(component='ocn',\n",
    "                            frequency='month_1',\n",
    "                            variable=['TEMP'])  "
   ]
  },
  {
   "cell_type": "code",
   "execution_count": null,
   "id": "d97198ae-ac37-4fb9-95fc-9e11bfdd081f",
   "metadata": {},
   "outputs": [],
   "source": [
    "%%time\n",
    "dset_dict_raw = cat_subset.to_dataset_dict()"
   ]
  },
  {
   "cell_type": "code",
   "execution_count": null,
   "id": "a332aa17-c412-4d43-9a37-5abeee22457a",
   "metadata": {},
   "outputs": [],
   "source": [
    "cat_subset"
   ]
  },
  {
   "cell_type": "code",
   "execution_count": null,
   "id": "8aa41912-02e1-47c7-a267-3e680f7f6be8",
   "metadata": {},
   "outputs": [],
   "source": [
    "# print keys\n",
    "[key for key in dset_dict_raw.keys()]"
   ]
  },
  {
   "cell_type": "code",
   "execution_count": null,
   "id": "c54e28c4-e06b-4964-b968-49d76901d951",
   "metadata": {},
   "outputs": [],
   "source": [
    "pd=('historical','ssp370')\n",
    "ff=('cmip6','smbb')\n",
    "for iff in range(0,len(ff)):\n",
    "    for ipd in range(0,len(pd)):\n",
    "        str=f'ds_{pd[ipd]}_{ff[iff]}_{var} = dset_dict_raw[\\'ocn.{pd[ipd]}.pop.h.{ff[iff]}.{var}\\']'; exec(str)\n",
    "    str=f'ds_{ff[iff]}_{var}=xr.combine_nested([ds_{pd[0]}_{ff[iff]}_{var},ds_{pd[1]}_{ff[iff]}_{var}],concat_dim=[\\'time\\'])'; exec(str)\n",
    "    str=f'del ds_{pd[0]}_{ff[iff]}_{var},ds_{pd[1]}_{ff[iff]}_{var}'; exec(str) \n",
    "str=f'ds_{var}=xr.combine_nested([ds_{ff[0]}_{var},ds_{ff[1]}_{var}],concat_dim=[\\'member_id\\'])'; exec(str)\n",
    "str=f'del ds_{ff[0]}_{var}, ds_{ff[1]}_{var}'; exec(str)\n",
    "print(f'Done!')"
   ]
  },
  {
   "cell_type": "code",
   "execution_count": null,
   "id": "0b4355a8-7bf8-4663-b5b7-0ca61a531449",
   "metadata": {},
   "outputs": [],
   "source": [
    "# Annual Mean\n",
    "str=f'ds_{var}=ds_{var}.{var}.resample(time=\\'1Y\\', closed=\\'left\\').mean(\\'time\\').isel(z_t=50)'; exec(str)"
   ]
  },
  {
   "cell_type": "code",
   "execution_count": null,
   "id": "a3b5713b-19cd-4109-b9f2-cfc269a47496",
   "metadata": {},
   "outputs": [],
   "source": [
    "ds_TEMP"
   ]
  },
  {
   "cell_type": "markdown",
   "id": "0f042e83-dec5-4572-a76d-796c76f4e898",
   "metadata": {},
   "source": [
    "### Import the POP grid"
   ]
  },
  {
   "cell_type": "markdown",
   "id": "fb103bae-6155-4d67-a126-4ffd1de683e4",
   "metadata": {},
   "source": [
    "If you choose the ocean component of LENS2, you will need to import the POP grid. For the other components, you can use the emsemble's own grid. \n",
    "\n",
    "In ds, TLONG and TLAT have missing values (NaNs), so we need to override them with the values from pop_grid, which does not have missing values."
   ]
  },
  {
   "cell_type": "code",
   "execution_count": null,
   "id": "cb0ff314-430b-42bd-b222-f26a8d40cc20",
   "metadata": {},
   "outputs": [],
   "source": [
    "# Read the pop 1 deg grid from pop_tools\n",
    "# We will use variables TLONG and TLAT\n",
    "pop_grid = pop_tools.get_grid('POP_gx1v7')\n",
    "str=f'ds_{var}[\\'TLONG\\'] = pop_grid.TLONG'     # Longitud\n",
    "exec(str)\n",
    "str=f'ds_{var}[\\'TLAT\\'] = pop_grid.TLAT'       # Latitudes\n",
    "exec(str)\n",
    "str=f'ds_{var}[\\'TLONG\\'] = pop_grid.TLONG'     # Longitud\n",
    "exec(str)\n",
    "str=f'ds_{var}[\\'TLAT\\'] = pop_grid.TLAT'       # Latitudes\n",
    "exec(str)"
   ]
  },
  {
   "cell_type": "code",
   "execution_count": null,
   "id": "cc6d1306-99f2-4112-b16d-a7439992e146",
   "metadata": {},
   "outputs": [],
   "source": [
    "str=f'ds_var = ds_{var}.isel(member_id=0,time=0)'; exec(str)\n",
    "plt.figure(figsize=(10,6));\n",
    "ax = plt.axes(projection=ccrs.Robinson());\n",
    "pc = ds_var.plot.pcolormesh(ax=ax,\n",
    "                            transform=ccrs.PlateCarree(),\n",
    "                            cmap=cmocean.cm.balance,\n",
    "                            x='TLONG',\n",
    "                            y='TLAT',\n",
    "                            cbar_kwargs={'orientation': 'horizontal'})                                    \n",
    "ax.gridlines(draw_labels=True);\n",
    "ax.coastlines()\n",
    "ax.gridlines()\n",
    "del ds_var"
   ]
  },
  {
   "cell_type": "markdown",
   "id": "b1a421b9-80de-4516-8a29-8638a12f2869",
   "metadata": {},
   "source": [
    "### Centralize the South Atlantic \n",
    "Need to combine the domain in the east/west direction to centralize the South Atlantic"
   ]
  },
  {
   "cell_type": "code",
   "execution_count": null,
   "id": "24096435-e13e-4244-be96-c8a931d60a84",
   "metadata": {},
   "outputs": [],
   "source": [
    "ilat, flat = 85, 187\n",
    "ilon1, flon1, ilon2, flon2 = 308, 320, 0, 54\n",
    "str=f'sa_ds_{var}=xr.combine_nested([[ds_{var}.isel(nlat = slice(ilat,flat),nlon = slice(ilon1,flon1)),ds_{var}.isel(nlat = slice(ilat,flat),nlon = slice(ilon2,flon2))]],concat_dim=[\\'nlat\\',\\'nlon\\'])'\n",
    "exec(str)\n",
    "str=f'sa_ds_{var}.coords[\\'TLONG\\'] = (sa_ds_{var}.coords[\\'TLONG\\'] + 180) % 360 - 180' # change the longitudes: -180 0 180\n",
    "exec(str)"
   ]
  },
  {
   "cell_type": "code",
   "execution_count": null,
   "id": "ae1c596b-e357-4f01-b46a-772c3fc94d7f",
   "metadata": {},
   "outputs": [],
   "source": [
    "# simple check\n",
    "str=f'sa_ds_{var}.isel(time=2, member_id=0).plot()'\n",
    "exec(str)"
   ]
  },
  {
   "cell_type": "code",
   "execution_count": null,
   "id": "eb5b711f-c0e5-4a84-ac89-85f3b3b6ba5d",
   "metadata": {},
   "outputs": [],
   "source": [
    "%%time\n",
    "str=f'ds_var = sa_ds_{var}.isel(member_id=0,time=0)'; exec(str)\n",
    "plt.figure(figsize=(10,6));\n",
    "ax = plt.axes(projection=ccrs.Robinson());\n",
    "pc = ds_var.plot.pcolormesh(ax=ax,\n",
    "                            transform=ccrs.PlateCarree(),\n",
    "                            cmap=cmocean.cm.balance,\n",
    "                            x='TLONG',\n",
    "                            y='TLAT',\n",
    "                            cbar_kwargs={\"orientation\": \"horizontal\"})                                    \n",
    "ax.gridlines(draw_labels=True);\n",
    "ax.coastlines()\n",
    "ax.gridlines();"
   ]
  },
  {
   "cell_type": "markdown",
   "id": "91f1dd80-6da7-45f6-93b8-efc725b2f252",
   "metadata": {},
   "source": [
    "### Extract correponding area "
   ]
  },
  {
   "cell_type": "code",
   "execution_count": null,
   "id": "a8739226-e910-46a2-9d51-798d43d21ede",
   "metadata": {},
   "outputs": [],
   "source": [
    "area_sa = xr.combine_nested([\n",
    "    [pop_grid.TAREA.isel(nlat = slice(ilat,flat),nlon = slice(ilon1,flon1)),\n",
    "     pop_grid.TAREA.isel(nlat = slice(ilat,flat),nlon = slice(ilon2,flon2))]],\n",
    "    concat_dim=['nlat','nlon']\n",
    ")"
   ]
  },
  {
   "cell_type": "code",
   "execution_count": null,
   "id": "486dca62-a4a4-4533-a578-1148fbb9319f",
   "metadata": {},
   "outputs": [],
   "source": [
    "# simple check\n",
    "area_sa.plot()"
   ]
  },
  {
   "cell_type": "raw",
   "id": "cb53bfc8-3fa5-4ad6-be22-88bccaca3caf",
   "metadata": {},
   "source": [
    "# Temperature in degress Kelvin\n",
    "sa_ds_TEMP_K=sa_ds_TEMP.TEMP+273.15\n",
    "sa_ds_TEMP_K.coords['z_t']=sa_ds_TEMP_K.coords['z_t']*0.01 # cm to m"
   ]
  },
  {
   "cell_type": "raw",
   "id": "ba3cf024-3228-4c37-9a45-e76ba2828db8",
   "metadata": {},
   "source": [
    "sa_ds_TEMP_K_anom=sa_ds_TEMP_K-(sa_ds_TEMP_K.mean('time'))"
   ]
  },
  {
   "cell_type": "raw",
   "id": "64c03214-0f73-4bd7-9dff-4e1e1ce50dc8",
   "metadata": {},
   "source": [
    "#### The formula for this is: $$\\rm{HS = \\uprho_\\uptheta~C_p~\\int_{z_2}^{z_1}\\uptheta_{(z)}'~dz},$$\n",
    "where:\n",
    "* HS is heat storage ($\\rm{J~m^{-2}}$),\n",
    "* $\\uprho$ is the density of sea water, 1026 $\\rm{kg~m^{-3}}$,\n",
    "* $\\rm{C_p}$ is the specific heat of sea water, 3996 $\\rm{J~kg^{-1}~K^{-1}}$, do modelo\n",
    "* $\\rm{z}$ is the depth limit o the calculation in meters,\n",
    "* and $\\uptheta$' is the potential temperature monthly anomaly at each depth in degress Kelvin. "
   ]
  },
  {
   "cell_type": "raw",
   "id": "825aa68a-31ee-455e-b174-c9367bd6d231",
   "metadata": {},
   "source": [
    "sa_ds_dz=sa_ds_TEMP.dz*0.01 # cm to m\n",
    "sa_ds_dz.coords['z_t']=sa_ds_dz.coords['z_t']*0.01 # cm to m"
   ]
  },
  {
   "cell_type": "raw",
   "id": "ab026765-74e4-4249-b79e-2210f2cc1a5a",
   "metadata": {},
   "source": [
    "<div class=\"alert alert-block alert-info\">\n",
    "<b>Note:</b> Although most of the variation in heat storage occurs in the first 1000 meters of depth, we will try to add the depth of the AMOC core to this calculation to integrate the temperature up to 1573 m. Ideally, we would compute the heat content in the upper branch of the AMOC, i.e., not use a fixed depth."
   ]
  },
  {
   "cell_type": "raw",
   "id": "21706721-7ad8-4ce2-8447-12107e408cfc",
   "metadata": {},
   "source": [
    "sa_ds_TEMP_K_anom.coords['z_t'][51]"
   ]
  },
  {
   "cell_type": "raw",
   "id": "ba6fb40e-3a3a-4649-a3d3-423086b161d7",
   "metadata": {},
   "source": [
    "rho = 1026 #kg/m^3\n",
    "c_p = 3996 #J/(kg K) - I used the same amount of specific heat used by the model\n",
    "sa_ds_HS=(sa_ds_TEMP_K_anom*sa_ds_dz).sel(z_t=slice(0,43)).sum(dim='z_t')*rho*c_p\n",
    "sa_ds_HS=sa_ds_HS.where(sa_ds_HS != 0.) # The continents was equal to zero. We replaced zero with NaN, because the ocean heat content will never equal zero. \n",
    "sa_ds_HS.isel(member_id=0,time=0).plot()\n",
    "del sa_ds_TEMP_K; del sa_ds_TEMP_K_anom "
   ]
  },
  {
   "cell_type": "raw",
   "id": "19c26eb2-dafd-4870-bee2-48b140df2c0e",
   "metadata": {},
   "source": [
    "sa_ds_HS= xr.merge([sa_ds_HS.rename('HS')])"
   ]
  },
  {
   "cell_type": "markdown",
   "id": "69a3ae4e-c6c3-4a29-aac4-e23179161342",
   "metadata": {},
   "source": [
    "### Perfom computations\n",
    "Calculate area mean, min, max, and rms for the variables of the selected region"
   ]
  },
  {
   "cell_type": "code",
   "execution_count": null,
   "id": "9980bd73-8139-43ab-af5d-1ee34cd54a8d",
   "metadata": {},
   "outputs": [],
   "source": [
    "sa_ds_TEMP.isel(member_id=0,time=0).plot()"
   ]
  },
  {
   "cell_type": "code",
   "execution_count": null,
   "id": "4c1e3cb5-c47c-4e7e-b04b-9f9a183204ff",
   "metadata": {},
   "outputs": [],
   "source": [
    "%%time\n",
    "# Mean\n",
    "str=f'var_mean_{var} = sa_ds_{var}.weighted(area_sa).mean(dim=(\\'nlon\\',\\'nlat\\')).load()'\n",
    "exec(str)\n",
    "print(f'var_mean_{var}')\n",
    "# Maximum\n",
    "str=f'var_max_{var} = sa_ds_{var}.max(dim=(\\'nlon\\',\\'nlat\\')).load()'\n",
    "exec(str)\n",
    "print(f'var_max_{var}')\n",
    "# Minimum\n",
    "str=f'var_min_{var} = sa_ds_{var}.min(dim=(\\'nlon\\',\\'nlat\\')).load()'\n",
    "exec(str)\n",
    "print(f'var_min_{var}')\n",
    "# RMS\n",
    "str=f'var_rms_{var} = rms_da(sa_ds_{var}, weights=area_sa, weights_sum=area_sa.sum()).load()'\n",
    "exec(str)\n",
    "print(f'var_rms_{var}')"
   ]
  },
  {
   "cell_type": "markdown",
   "id": "66e03bda-270b-4c10-be7b-e4e05b4bd5f9",
   "metadata": {},
   "source": [
    "### TODO\n",
    "Plot some time series to check calculations"
   ]
  },
  {
   "cell_type": "markdown",
   "id": "f79bf420-c092-4cfd-9edb-3f695a7d8e97",
   "metadata": {},
   "source": [
    "### Merge data and save on disk"
   ]
  },
  {
   "cell_type": "code",
   "execution_count": null,
   "id": "27a4fa3d-42ae-40a0-a011-cd2d27846a1b",
   "metadata": {},
   "outputs": [],
   "source": [
    "units=('oC')\n",
    "long_name=('Temperature')\n",
    "str=f'ds_out_{var} = xr.merge([var_rms_{var}.rename(\\'{var}_rms\\'),var_mean_{var}.rename(\\'{var}_mean\\'),var_max_{var}.rename(\\'{var}_max\\'),var_min_{var}.rename(\\'{var}_min\\')])'\n",
    "exec(str)\n",
    "str=f'ds_out_{var}.attrs[\\'description\\'] = \\'{long_name} ({var}) statistics for the South Atlantic (52.93749146W-20.18750056E and 33.81089045S-0.13356644S)\\''\n",
    "exec(str)\n",
    "str=f'ds_out_{var}.attrs[\\'units\\'] = \\'{units}\\''\n",
    "exec(str)\n",
    "str=f'ds_out_{var}.attrs[\\'author\\'] = \\'Mauricio Rocha\\''\n",
    "exec(str)\n",
    "str=f'ds_out_{var}.attrs[\\'email\\'] = \\'mauricio.rocha@usp.br\\''\n",
    "exec(str)"
   ]
  },
  {
   "cell_type": "code",
   "execution_count": null,
   "id": "219f242e-b228-4363-b705-fe469d924463",
   "metadata": {},
   "outputs": [],
   "source": [
    "# Total Surface Heat Fux\n",
    "fig, axes = plt.subplots(1, 4, figsize=(20, 8))\n",
    "\n",
    "# Maximum\n",
    "str=f'ds_out_{var}.{var}_max.resample(time=\\'1Y\\', closed=\\'left\\').mean(\\'time\\').plot.line(ax=axes[0],x=\\'time\\',color=\\'orange\\',alpha=0.01,linewidth=1,add_legend=False)'\n",
    "exec(str)\n",
    "str=f'ds_out_{var}.{var}_max.resample(time=\\'1Y\\', closed=\\'left\\').mean(\\'time\\').mean(\\'member_id\\').plot.line(ax=axes[0],x=\\'time\\',alpha=0.3,color=\\'r\\',linewidth=1,label=\\'Member Mean 1Y\\')'\n",
    "exec(str)\n",
    "str=f'ds_out_{var}.{var}_max.resample(time=\\'5Y\\', closed=\\'left\\').mean(\\'time\\').mean(\\'member_id\\').plot.line(ax=axes[0],x=\\'time\\',color=\\'r\\',linewidth=2,label=\\'Member Mean 5Y\\')'\n",
    "exec(str)\n",
    "axes[0].set_xlabel('Time [Years]')\n",
    "str=f'axes[0].set_ylabel(\\'{var} Max [{units}]\\')'\n",
    "exec(str)\n",
    "axes[0].set_title('Area Max')\n",
    "axes[0].grid(color='k', linestyle='-', linewidth=0.7)\n",
    "axes[0].legend()\n",
    "fig.tight_layout(pad=2.0)\n",
    "\n",
    "# Mean\n",
    "str=f'ds_out_{var}.{var}_mean.resample(time=\\'1Y\\', closed=\\'left\\').mean(\\'time\\').plot.line(ax=axes[1],x=\\'time\\',color=\\'gray\\',alpha=0.01,linewidth=1,add_legend=False)'\n",
    "exec(str)\n",
    "str=f'ds_out_{var}.{var}_mean.resample(time=\\'1Y\\', closed=\\'left\\').mean(\\'time\\').mean(\\'member_id\\').plot.line(ax=axes[1],x=\\'time\\',alpha=0.3,color=\\'k\\',linewidth=1,label=\\'Member Mean 1Y\\')'\n",
    "exec(str)\n",
    "str=f'ds_out_{var}.{var}_mean.resample(time=\\'5Y\\', closed=\\'left\\').mean(\\'time\\').mean(\\'member_id\\').plot.line(ax=axes[1],x=\\'time\\',color=\\'k\\',linewidth=2,label=\\'Member Mean 5Y\\')'\n",
    "exec(str)\n",
    "axes[1].set_xlabel('Time [Years]')\n",
    "str=f'axes[1].set_ylabel(\\'{var} Mean [{units}]\\')'\n",
    "exec(str)\n",
    "axes[1].set_title('Area Mean')\n",
    "axes[1].grid(color='k', linestyle='-', linewidth=0.7)\n",
    "axes[1].legend()\n",
    "\n",
    "# Minimum\n",
    "str=f'ds_out_{var}.{var}_min.resample(time=\\'1Y\\', closed=\\'left\\').mean(\\'time\\').plot.line(ax=axes[2],x=\\'time\\',color=\\'c\\',alpha=0.01,linewidth=1,add_legend=False)'\n",
    "exec(str)\n",
    "str=f'ds_out_{var}.{var}_min.resample(time=\\'1Y\\', closed=\\'left\\').mean(\\'time\\').mean(\\'member_id\\').plot.line(ax=axes[2],x=\\'time\\',alpha=0.3,color=\\'b\\',linewidth=1,label=\\'Member Mean 1Y\\')'\n",
    "exec(str)\n",
    "str=f'ds_out_{var}.{var}_min.resample(time=\\'5Y\\', closed=\\'left\\').mean(\\'time\\').mean(\\'member_id\\').plot.line(ax=axes[2],x=\\'time\\',color=\\'b\\',linewidth=2,label=\\'Member Mean 5Y\\')'\n",
    "exec(str)\n",
    "axes[2].set_xlabel('Time [Years]')\n",
    "str=f'axes[2].set_ylabel(\\'{var} Min [{units}]\\')'\n",
    "exec(str)\n",
    "axes[2].set_title('Area Min')\n",
    "axes[2].grid(color='k', linestyle='-', linewidth=0.7)\n",
    "axes[2].legend()\n",
    "\n",
    "# Minimum\n",
    "str=f'ds_out_{var}.{var}_rms.resample(time=\\'1Y\\', closed=\\'left\\').mean(\\'time\\').plot.line(ax=axes[3],x=\\'time\\',color=\\'y\\',alpha=0.01,linewidth=1,add_legend=False)'\n",
    "exec(str)\n",
    "str=f'ds_out_{var}.{var}_rms.resample(time=\\'1Y\\', closed=\\'left\\').mean(\\'time\\').mean(\\'member_id\\').plot.line(ax=axes[3],x=\\'time\\',alpha=0.3,color=\\'g\\',linewidth=1,label=\\'Member Mean 1Y\\')'\n",
    "exec(str)\n",
    "str=f'ds_out_{var}.{var}_rms.resample(time=\\'5Y\\', closed=\\'left\\').mean(\\'time\\').mean(\\'member_id\\').plot.line(ax=axes[3],x=\\'time\\',color=\\'g\\',linewidth=2,label=\\'Member Mean 5Y\\')'\n",
    "exec(str)\n",
    "axes[3].set_xlabel('Time [Years]')\n",
    "str=f'axes[3].set_ylabel(\\'{var} Error [{units}]\\')'\n",
    "exec(str)\n",
    "axes[3].set_title('Area Error')\n",
    "axes[3].grid(color='k', linestyle='-', linewidth=0.7)\n",
    "axes[3].legend()\n",
    "plt.show()"
   ]
  },
  {
   "cell_type": "markdown",
   "id": "e8fa1b0c-9c86-4a07-8dde-ce165e4cd999",
   "metadata": {},
   "source": [
    "### Let's save the data in netcdf format"
   ]
  },
  {
   "cell_type": "code",
   "execution_count": null,
   "id": "ef7fbf69-80e2-41d7-bfe8-c7a39db762d5",
   "metadata": {},
   "outputs": [],
   "source": [
    "# create a directory on scratch to save the output\n",
    "print(f'Variable: {var}')\n",
    "str=f'path = \\'/glade/scratch/mauricio/Data/LENS2/{var}/\\'.format(getpass.getuser())'\n",
    "exec(str)\n",
    "str=f'os.system(\\'mkdir -p \\'+path)'\n",
    "exec(str)\n",
    "str=f'ds_out_{var}.to_netcdf(path+\\'{var}_stats.nc\\')'\n",
    "exec(str)"
   ]
  },
  {
   "cell_type": "code",
   "execution_count": null,
   "id": "574c608a-5db3-432d-9237-73c9acdd5eb6",
   "metadata": {},
   "outputs": [],
   "source": [
    "cluster.close()\n",
    "client.close()"
   ]
  },
  {
   "cell_type": "code",
   "execution_count": null,
   "id": "77d72d44-b3de-436e-bd8c-9bac9117b6ee",
   "metadata": {},
   "outputs": [],
   "source": []
  },
  {
   "cell_type": "code",
   "execution_count": null,
   "id": "77a899a7-ea1d-41ae-a102-75fb9deebb99",
   "metadata": {},
   "outputs": [],
   "source": []
  },
  {
   "cell_type": "code",
   "execution_count": null,
   "id": "6479be02-1a7f-47ec-b058-543356dcfc46",
   "metadata": {},
   "outputs": [],
   "source": []
  },
  {
   "cell_type": "code",
   "execution_count": null,
   "id": "0b4e76f5-a774-4d12-a4c3-ff7627392e72",
   "metadata": {},
   "outputs": [],
   "source": []
  }
 ],
 "metadata": {
  "kernelspec": {
   "display_name": "NPL 2022b",
   "language": "python",
   "name": "npl-2022b"
  },
  "language_info": {
   "codemirror_mode": {
    "name": "ipython",
    "version": 3
   },
   "file_extension": ".py",
   "mimetype": "text/x-python",
   "name": "python",
   "nbconvert_exporter": "python",
   "pygments_lexer": "ipython3",
   "version": "3.8.13"
  }
 },
 "nbformat": 4,
 "nbformat_minor": 5
}
